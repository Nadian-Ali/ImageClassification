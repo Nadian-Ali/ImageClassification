{
  "nbformat": 4,
  "nbformat_minor": 0,
  "metadata": {
    "colab": {
      "name": "ExperimentingWitXRays.ipynb",
      "provenance": [],
      "authorship_tag": "ABX9TyNjSdIYHD1y2ws3E/nfzozd",
      "include_colab_link": true
    },
    "kernelspec": {
      "name": "python3",
      "display_name": "Python 3"
    },
    "language_info": {
      "name": "python"
    }
  },
  "cells": [
    {
      "cell_type": "markdown",
      "metadata": {
        "id": "view-in-github",
        "colab_type": "text"
      },
      "source": [
        "<a href=\"https://colab.research.google.com/github/Nadian-Ali/ImageClassification/blob/main/ExperimentingWitXRays.ipynb\" target=\"_parent\"><img src=\"https://colab.research.google.com/assets/colab-badge.svg\" alt=\"Open In Colab\"/></a>"
      ]
    },
    {
      "cell_type": "code",
      "execution_count": null,
      "metadata": {
        "id": "drw3wR2AjgfM"
      },
      "outputs": [],
      "source": [
        "\n"
      ]
    },
    {
      "cell_type": "markdown",
      "source": [
        ""
      ],
      "metadata": {
        "id": "mT_3COKoDvY0"
      }
    },
    {
      "cell_type": "code",
      "source": [
        "from google.colab import drive\n",
        "drive.mount('/content/drive')"
      ],
      "metadata": {
        "colab": {
          "base_uri": "https://localhost:8080/"
        },
        "id": "HV8LUjwwEXnm",
        "outputId": "c9fd58d4-d187-4e36-a95d-3d52729905cf"
      },
      "execution_count": 2,
      "outputs": [
        {
          "output_type": "stream",
          "name": "stdout",
          "text": [
            "Mounted at /content/drive\n"
          ]
        }
      ]
    },
    {
      "cell_type": "code",
      "source": [
        "import cv2\n",
        "\n",
        "import numpy as np\n",
        "import tensorflow as tf\n",
        "from PIL import Image\n",
        "import requests\n",
        "from io import StringIO\n",
        "from urllib.request import urlopen\n",
        "from google.colab.patches import cv2_imshow\n",
        "import matplotlib.pyplot as plt"
      ],
      "metadata": {
        "id": "o1p47MMTESO9"
      },
      "execution_count": 7,
      "outputs": []
    },
    {
      "cell_type": "code",
      "source": [
        ""
      ],
      "metadata": {
        "id": "lZejTvwLpnCK"
      },
      "execution_count": 2,
      "outputs": []
    },
    {
      "cell_type": "markdown",
      "source": [
        "<h1>Prepare image</h1>"
      ],
      "metadata": {
        "id": "li3rZOdeppUu"
      }
    },
    {
      "cell_type": "code",
      "source": [
        "path = '/content/drive/MyDrive/ImageClassificationData/Train' \n"
      ],
      "metadata": {
        "id": "-ipt8bENETRJ"
      },
      "execution_count": 3,
      "outputs": []
    },
    {
      "cell_type": "code",
      "source": [
        "import os\n",
        "from os import listdir\n",
        "from os.path import isfile, join\n",
        "filenames = [f for f in listdir(path) if isfile(join(path, f))]"
      ],
      "metadata": {
        "id": "XAkKrtpfETfy"
      },
      "execution_count": 4,
      "outputs": []
    },
    {
      "cell_type": "code",
      "source": [
        "filenames"
      ],
      "metadata": {
        "id": "0PpvjLyCw01w"
      },
      "execution_count": null,
      "outputs": []
    },
    {
      "cell_type": "code",
      "source": [
        "im_path = os.path.join(path,filenames[-20])\n",
        "\n",
        "color= cv2.IMREAD_COLOR\n",
        "\n",
        "img = cv2.imread(im_path, 0)\n",
        "image = cv2.resize(img,(512,512))\n",
        "image.shape\n",
        "plt.imshow(image)"
      ],
      "metadata": {
        "id": "1gjUuD3qEUQH",
        "outputId": "fe740ac3-ca66-4eb3-fa58-fcab3dfbe00b",
        "colab": {
          "base_uri": "https://localhost:8080/",
          "height": 234
        }
      },
      "execution_count": 6,
      "outputs": [
        {
          "output_type": "error",
          "ename": "NameError",
          "evalue": "ignored",
          "traceback": [
            "\u001b[0;31m---------------------------------------------------------------------------\u001b[0m",
            "\u001b[0;31mNameError\u001b[0m                                 Traceback (most recent call last)",
            "\u001b[0;32m<ipython-input-6-f76f4d52cb7f>\u001b[0m in \u001b[0;36m<module>\u001b[0;34m()\u001b[0m\n\u001b[1;32m      1\u001b[0m \u001b[0mim_path\u001b[0m \u001b[0;34m=\u001b[0m \u001b[0mos\u001b[0m\u001b[0;34m.\u001b[0m\u001b[0mpath\u001b[0m\u001b[0;34m.\u001b[0m\u001b[0mjoin\u001b[0m\u001b[0;34m(\u001b[0m\u001b[0mpath\u001b[0m\u001b[0;34m,\u001b[0m\u001b[0mfilenames\u001b[0m\u001b[0;34m[\u001b[0m\u001b[0;34m-\u001b[0m\u001b[0;36m20\u001b[0m\u001b[0;34m]\u001b[0m\u001b[0;34m)\u001b[0m\u001b[0;34m\u001b[0m\u001b[0;34m\u001b[0m\u001b[0m\n\u001b[1;32m      2\u001b[0m \u001b[0;34m\u001b[0m\u001b[0m\n\u001b[0;32m----> 3\u001b[0;31m \u001b[0mcolor\u001b[0m\u001b[0;34m=\u001b[0m \u001b[0mcv2\u001b[0m\u001b[0;34m.\u001b[0m\u001b[0mIMREAD_COLOR\u001b[0m\u001b[0;34m\u001b[0m\u001b[0;34m\u001b[0m\u001b[0m\n\u001b[0m\u001b[1;32m      4\u001b[0m \u001b[0;34m\u001b[0m\u001b[0m\n\u001b[1;32m      5\u001b[0m \u001b[0mimg\u001b[0m \u001b[0;34m=\u001b[0m \u001b[0mcv2\u001b[0m\u001b[0;34m.\u001b[0m\u001b[0mimread\u001b[0m\u001b[0;34m(\u001b[0m\u001b[0mim_path\u001b[0m\u001b[0;34m,\u001b[0m \u001b[0;36m0\u001b[0m\u001b[0;34m)\u001b[0m\u001b[0;34m\u001b[0m\u001b[0;34m\u001b[0m\u001b[0m\n",
            "\u001b[0;31mNameError\u001b[0m: name 'cv2' is not defined"
          ]
        }
      ]
    },
    {
      "cell_type": "markdown",
      "source": [
        "<h1>Explore image slices</h1>"
      ],
      "metadata": {
        "id": "9A-hlmFLpwnC"
      }
    },
    {
      "cell_type": "code",
      "source": [
        "Segs = 50\n",
        "#print(256/Segs)\n",
        "for i in range(round(256/Segs)):\n",
        "    \n",
        " # histr = cv2.calcHist([image[round((i)*256/10):round((1+i)*256/10),:]],[0],None,[256],[0,256])\n",
        " # print(round((i)*Segs),round((1+i)*Segs))\n",
        "  im_block = image[round((i)*Segs):round((1+i)*Segs),:]\n",
        "  S = np.sum(im_block,axis= 0)\n",
        "  \n",
        "  plt.axis('off')\n",
        "  plt.imshow(im_block)\n",
        "  plt.show()\n",
        " \n"
      ],
      "metadata": {
        "id": "RLQXnZkCEUbL"
      },
      "execution_count": null,
      "outputs": []
    },
    {
      "cell_type": "code",
      "source": [
        ""
      ],
      "metadata": {
        "id": "SVT4Z3GpROEk"
      },
      "execution_count": null,
      "outputs": []
    },
    {
      "cell_type": "markdown",
      "source": [
        "<h1>adaptive histogram equalization</h1>"
      ],
      "metadata": {
        "id": "mUH-ZwSupeuE"
      }
    },
    {
      "cell_type": "code",
      "source": [
        "clahe = cv2.createCLAHE(clipLimit=2.0, tileGridSize=(8,8))\n",
        "cl1 = clahe.apply(img)\n",
        "#cl1 = cv2.GaussianBlur(cl1, (3,3), 0)\n",
        "\n",
        "plt.imshow(cl1)"
      ],
      "metadata": {
        "id": "n5uYk-MqQaRE"
      },
      "execution_count": null,
      "outputs": []
    },
    {
      "cell_type": "code",
      "source": [
        "Segs = 50\n",
        "for i in range(round(256/Segs)):\n",
        "  im_block = cl1[round((i)*Segs):round((1+i)*Segs),:]\n",
        "  S = np.sum(im_block,axis= 0)\n",
        "  plt.plot(S)\n",
        "  plt.show()\n"
      ],
      "metadata": {
        "id": "fE17Ae_2RPeY"
      },
      "execution_count": null,
      "outputs": []
    },
    {
      "cell_type": "code",
      "source": [
        ""
      ],
      "metadata": {
        "id": "1xUWdqrftf4y"
      },
      "execution_count": null,
      "outputs": []
    },
    {
      "cell_type": "markdown",
      "source": [
        "<h1>Calculate Somthing to determine symetricness</h1>"
      ],
      "metadata": {
        "id": "q_aNJE9tp7rs"
      }
    },
    {
      "cell_type": "code",
      "source": [
        "a= np.array([1,2,3,4,1])\n",
        "ar= np.flip(a,axis=0)\n",
        "sym = a - ar\n",
        "print(sym)\n",
        "print(np.multiply(sym,sym))\n",
        "sym = np.sqrt(np.sum(np.multiply(sym,sym)))\n",
        "print(sym)"
      ],
      "metadata": {
        "id": "56Oe8m-VYKMK"
      },
      "execution_count": null,
      "outputs": []
    },
    {
      "cell_type": "code",
      "source": [
        ""
      ],
      "metadata": {
        "id": "mFqRPDAGpNC9"
      },
      "execution_count": null,
      "outputs": []
    },
    {
      "cell_type": "markdown",
      "source": [
        "<h1>Apply Sobel mask to Gray image</h1>"
      ],
      "metadata": {
        "id": "uph5dgAnpOE8"
      }
    },
    {
      "cell_type": "code",
      "source": [
        "img_blur = cv2.GaussianBlur(cl1, (3,3), 0)\n"
      ],
      "metadata": {
        "id": "TIJFNi7MpVFh"
      },
      "execution_count": null,
      "outputs": []
    },
    {
      "cell_type": "code",
      "source": [
        "sobelx = cv2.Sobel(src=img_blur, ddepth=cv2.CV_64F, dx=1, dy=0, ksize=5) # Sobel Edge\n",
        "sobely = cv2.Sobel(src=img_blur, ddepth=cv2.CV_64F, dx=0, dy=1, ksize=5) # Sobel Edge\n",
        "sobelxy = cv2.Sobel(src=img_blur, ddepth=cv2.CV_64F, dx=1, dy=1, ksize=5) # Combined X"
      ],
      "metadata": {
        "id": "g5JxYfBmqQvD"
      },
      "execution_count": null,
      "outputs": []
    },
    {
      "cell_type": "code",
      "source": [
        "plt.imshow(sobelxy)"
      ],
      "metadata": {
        "id": "lrUmoUO4qZyX"
      },
      "execution_count": null,
      "outputs": []
    },
    {
      "cell_type": "code",
      "source": [
        "Segs = 50 \n",
        "for i in range(round(256/Segs)):\n",
        "  im_block = sobelxy[round((i)*Segs):round((1+i)*Segs),:]\n",
        "  S = np.sum(im_block,axis= 0)\n",
        "  plt.plot(S)\n",
        "  plt.show()\n"
      ],
      "metadata": {
        "id": "yNmSB7kXtg2d"
      },
      "execution_count": null,
      "outputs": []
    },
    {
      "cell_type": "code",
      "source": [
        "final = cv.normalize(img,  norm, 0, 255, cv.NORM_MINMAX)"
      ],
      "metadata": {
        "id": "uXRuSOYeuLBJ"
      },
      "execution_count": null,
      "outputs": []
    },
    {
      "cell_type": "code",
      "source": [
        ""
      ],
      "metadata": {
        "id": "nx_Tal3m72yv"
      },
      "execution_count": null,
      "outputs": []
    },
    {
      "cell_type": "markdown",
      "source": [
        "#classificaiton using image regions \n",
        "\n",
        "#this is what I want to do \n",
        "\n",
        "break the images into strips and keep them in their for\n",
        "train a network to distinguish these two\n",
        "\n",
        "if you get a get classifcation accuracy (or not!)\n",
        "#run on traning data and save prediction values \n",
        "#now these values should be used to see if \n",
        "\n",
        "each stripe has a predictin value but we dont know wich images are from the same image \n",
        "we dont want to know / \n",
        "\n",
        "may be on the same training set / we take images / segment them and store the prediction value / then for ecah image we have N precition values \n",
        "[.1 .4 .4 .3] and may be othres! we can then use an LSTM \n",
        "\n",
        "\n",
        "run on test samples / break each image down and calculate the prediction value for each stripe \n",
        "\n",
        "\n"
      ],
      "metadata": {
        "id": "qQvHouJl8J-8"
      }
    },
    {
      "cell_type": "markdown",
      "source": [
        ""
      ],
      "metadata": {
        "id": "F-g9gcot8JpF"
      }
    },
    {
      "cell_type": "code",
      "source": [
        ""
      ],
      "metadata": {
        "id": "WHZzdeHA724D"
      },
      "execution_count": null,
      "outputs": []
    },
    {
      "cell_type": "code",
      "source": [
        ""
      ],
      "metadata": {
        "id": "m_of7UL9729E"
      },
      "execution_count": null,
      "outputs": []
    },
    {
      "cell_type": "code",
      "source": [
        ""
      ],
      "metadata": {
        "id": "lpNMN7Wz73BK"
      },
      "execution_count": null,
      "outputs": []
    }
  ]
}