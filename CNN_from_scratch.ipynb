{
  "nbformat": 4,
  "nbformat_minor": 0,
  "metadata": {
    "colab": {
      "name": "CNN_from_scratch.ipynb",
      "provenance": [],
      "collapsed_sections": [],
      "include_colab_link": true
    },
    "kernelspec": {
      "name": "python3",
      "display_name": "Python 3"
    },
    "language_info": {
      "name": "python"
    }
  },
  "cells": [
    {
      "cell_type": "markdown",
      "metadata": {
        "id": "view-in-github",
        "colab_type": "text"
      },
      "source": [
        "<a href=\"https://colab.research.google.com/github/Nadian-Ali/ImageClassification/blob/main/CNN_from_scratch.ipynb\" target=\"_parent\"><img src=\"https://colab.research.google.com/assets/colab-badge.svg\" alt=\"Open In Colab\"/></a>"
      ]
    },
    {
      "cell_type": "markdown",
      "source": [
        "<h1>Train a CNN Classifer from scratch </h1>\n",
        "\n",
        "In this note book we are going to train a simple CNN network for classificaiton of Lateral and PA x-ray images. "
      ],
      "metadata": {
        "id": "uFYfXOkoAUFE"
      }
    },
    {
      "cell_type": "code",
      "execution_count": 1,
      "metadata": {
        "id": "-R6GQ3zt6a53",
        "colab": {
          "base_uri": "https://localhost:8080/"
        },
        "outputId": "62bc28cb-c91d-4531-cf71-1d6a25d38f2e"
      },
      "outputs": [
        {
          "output_type": "stream",
          "name": "stdout",
          "text": [
            "Mounted at /content/drive\n"
          ]
        }
      ],
      "source": [
        "#Import drive\n",
        "from google.colab import drive\n",
        "#Mount Google Drive\n",
        "drive.mount(\"/content/drive\", force_remount =True)"
      ]
    },
    {
      "cell_type": "code",
      "source": [
        "%pwd\n"
      ],
      "metadata": {
        "colab": {
          "base_uri": "https://localhost:8080/",
          "height": 36
        },
        "id": "j1itg5O-7UEF",
        "outputId": "3befdf6b-1b67-46f9-cdfb-06052801ac68"
      },
      "execution_count": null,
      "outputs": [
        {
          "output_type": "execute_result",
          "data": {
            "application/vnd.google.colaboratory.intrinsic+json": {
              "type": "string"
            },
            "text/plain": [
              "'/content'"
            ]
          },
          "metadata": {},
          "execution_count": 2
        }
      ]
    },
    {
      "cell_type": "code",
      "source": [
        "%lsd"
      ],
      "metadata": {
        "id": "dboE2HZ87pGH",
        "outputId": "cd38598c-2d50-4b3d-fcb6-ce302a9ea8cb",
        "colab": {
          "base_uri": "https://localhost:8080/"
        }
      },
      "execution_count": null,
      "outputs": [
        {
          "output_type": "stream",
          "name": "stdout",
          "text": [
            "shell-init: error retrieving current directory: getcwd: cannot access parent directories: Transport endpoint is not connected\n",
            "ls: cannot open directory '.': Transport endpoint is not connected\n"
          ]
        }
      ]
    },
    {
      "cell_type": "code",
      "source": [
        "%cd /content/drive/MyDrive/ImageClassification"
      ],
      "metadata": {
        "colab": {
          "base_uri": "https://localhost:8080/"
        },
        "id": "3Ylcd5gO7mly",
        "outputId": "fbcca651-9860-451b-a37f-301cfda18dc1"
      },
      "execution_count": 2,
      "outputs": [
        {
          "output_type": "stream",
          "name": "stdout",
          "text": [
            "/content/drive/MyDrive/ImageClassification\n"
          ]
        }
      ]
    },
    {
      "cell_type": "markdown",
      "source": [
        "<h1> Improt Packages </h1>"
      ],
      "metadata": {
        "id": "Tticeszh75dw"
      }
    },
    {
      "cell_type": "code",
      "source": [
        "import matplotlib.pyplot as plt\n",
        "import numpy as np\n",
        "import os\n",
        "import PIL\n",
        "import tensorflow as tf\n",
        "\n",
        "from tensorflow import keras\n",
        "from tensorflow.keras import layers\n",
        "from tensorflow.keras.models import Sequential, Model"
      ],
      "metadata": {
        "id": "xlYeQFsq7UNm"
      },
      "execution_count": 3,
      "outputs": []
    },
    {
      "cell_type": "markdown",
      "source": [
        "<h1> Download Dataset </h1>"
      ],
      "metadata": {
        "id": "5JubKM-S7ybV"
      }
    },
    {
      "cell_type": "code",
      "source": [
        "import pathlib\n",
        "dataset_url = \"https://storage.googleapis.com/download.tensorflow.org/example_images/flower_photos.tgz\"\n",
        "data_dir = tf.keras.utils.get_file('/content/drive/MyDrive/ImageClassification/data', origin=dataset_url, untar=True)\n",
        "data_dir = pathlib.Path(data_dir)"
      ],
      "metadata": {
        "id": "OJMwF6Nj7U5y"
      },
      "execution_count": null,
      "outputs": []
    },
    {
      "cell_type": "code",
      "source": [
        "!tar -xzvf \"/content/drive/MyDrive/ImageClassification/data.tar.gz\" # \"/content/drive/My Drive/ImageClassification\""
      ],
      "metadata": {
        "id": "YbzOj1s-_O99"
      },
      "execution_count": null,
      "outputs": []
    },
    {
      "cell_type": "markdown",
      "source": [
        "<h1>Dataset Root</h1>"
      ],
      "metadata": {
        "id": "gR8rMQfd4hoE"
      }
    },
    {
      "cell_type": "code",
      "source": [
        "data_dir = '/content/drive/MyDrive/ImageClassificationData/flower_photos'"
      ],
      "metadata": {
        "id": "deaJmkqf4gIi"
      },
      "execution_count": null,
      "outputs": []
    },
    {
      "cell_type": "code",
      "source": [
        "batch_size = 32\n",
        "img_height = 256\n",
        "img_width = 256"
      ],
      "metadata": {
        "id": "H35CsWRqGYwc"
      },
      "execution_count": null,
      "outputs": []
    },
    {
      "cell_type": "code",
      "source": [
        "train_ds = tf.keras.utils.image_dataset_from_directory(\n",
        "  data_dir,\n",
        "  validation_split=0.2,\n",
        "  color_mode = \"grayscale\",\n",
        "  subset=\"training\",\n",
        "  seed=123,\n",
        "  image_size=(img_height, img_width),\n",
        "  batch_size=batch_size)"
      ],
      "metadata": {
        "colab": {
          "base_uri": "https://localhost:8080/"
        },
        "id": "xLVHUsXFGdVp",
        "outputId": "662e52b1-b896-4808-d38a-0a920e1a63a8"
      },
      "execution_count": null,
      "outputs": [
        {
          "output_type": "stream",
          "name": "stdout",
          "text": [
            "Found 1332 files belonging to 2 classes.\n",
            "Using 1066 files for training.\n"
          ]
        }
      ]
    },
    {
      "cell_type": "code",
      "source": [
        "class_names = train_ds.class_names\n",
        "print(class_names)"
      ],
      "metadata": {
        "id": "s1yLTIW-dN7A",
        "colab": {
          "base_uri": "https://localhost:8080/"
        },
        "outputId": "35ac2623-cf30-4a42-8bcd-8bc7fee71ee1"
      },
      "execution_count": null,
      "outputs": [
        {
          "output_type": "stream",
          "name": "stdout",
          "text": [
            "['daisy', 'sunflowers']\n"
          ]
        }
      ]
    },
    {
      "cell_type": "markdown",
      "source": [
        ""
      ],
      "metadata": {
        "id": "tCfYjubgGda-"
      }
    },
    {
      "cell_type": "code",
      "source": [
        "val_ds = tf.keras.utils.image_dataset_from_directory(\n",
        "  data_dir,\n",
        "  validation_split=0.2,\n",
        "  subset=\"validation\",\n",
        "  color_mode = \"grayscale\",\n",
        "  seed=123,\n",
        "  image_size=(img_height, img_width),\n",
        "  batch_size=batch_size)"
      ],
      "metadata": {
        "colab": {
          "base_uri": "https://localhost:8080/"
        },
        "id": "PJn7Bm98Gdt_",
        "outputId": "447ce545-5f2d-4481-8460-196d36fdae68"
      },
      "execution_count": null,
      "outputs": [
        {
          "output_type": "stream",
          "name": "stdout",
          "text": [
            "Found 1332 files belonging to 2 classes.\n",
            "Using 266 files for validation.\n"
          ]
        }
      ]
    },
    {
      "cell_type": "code",
      "source": [
        "AUTOTUNE = tf.data.AUTOTUNE\n",
        "\n",
        "train_ds = train_ds.cache().shuffle(1000).prefetch(buffer_size=AUTOTUNE)\n",
        "val_ds = val_ds.cache().prefetch(buffer_size=AUTOTUNE)"
      ],
      "metadata": {
        "id": "mDh9DYUwGdza"
      },
      "execution_count": null,
      "outputs": []
    },
    {
      "cell_type": "code",
      "source": [
        "train_ds"
      ],
      "metadata": {
        "colab": {
          "base_uri": "https://localhost:8080/"
        },
        "id": "0t5HcEsQYb7r",
        "outputId": "2131a2a4-e45f-4dd4-c179-940a61ebe28e"
      },
      "execution_count": null,
      "outputs": [
        {
          "output_type": "execute_result",
          "data": {
            "text/plain": [
              "<PrefetchDataset shapes: ((None, 180, 180, 3), (None,)), types: (tf.float32, tf.int32)>"
            ]
          },
          "metadata": {},
          "execution_count": 40
        }
      ]
    },
    {
      "cell_type": "code",
      "source": [
        "normalization_layer = layers.Rescaling(1./255)"
      ],
      "metadata": {
        "id": "j4JHSfYKZCNG"
      },
      "execution_count": null,
      "outputs": []
    },
    {
      "cell_type": "markdown",
      "source": [
        "<h1>dataset transform for normalization</h1>"
      ],
      "metadata": {
        "id": "AesDmso0b4Sr"
      }
    },
    {
      "cell_type": "code",
      "source": [
        "normalized_ds = train_ds.map(lambda x, y: (normalization_layer(x), y))\n",
        "image_batch, labels_batch = next(iter(normalized_ds))\n",
        "first_image = image_batch[0]\n",
        "# Notice the pixel values are now in `[0,1]`.\n",
        "print(np.min(first_image), np.max(first_image))"
      ],
      "metadata": {
        "id": "PoB1sdilZCf1"
      },
      "execution_count": null,
      "outputs": []
    },
    {
      "cell_type": "code",
      "source": [
        "print(len(class_names))\n",
        "num_classes = len(class_names)"
      ],
      "metadata": {
        "id": "4rgPeZ2HcpuR",
        "colab": {
          "base_uri": "https://localhost:8080/"
        },
        "outputId": "3fabd496-c108-4c62-ded5-22d933670cf7"
      },
      "execution_count": null,
      "outputs": [
        {
          "output_type": "stream",
          "name": "stdout",
          "text": [
            "2\n"
          ]
        }
      ]
    },
    {
      "cell_type": "markdown",
      "source": [
        "<h1>Data augmentation </h1>"
      ],
      "metadata": {
        "id": "oEyJRQB2hxiq"
      }
    },
    {
      "cell_type": "code",
      "source": [
        "data_augmentation = keras.Sequential(\n",
        "  [\n",
        "    layers.RandomFlip(\"horizontal\",\n",
        "                      input_shape=(img_height,\n",
        "                                  img_width,\n",
        "                                  1)),\n",
        "    layers.RandomFlip('horizontal'),\n",
        "    layers.RandomZoom(0.1),\n",
        "  ]\n",
        ")"
      ],
      "metadata": {
        "id": "f8S3bWi6hviU"
      },
      "execution_count": null,
      "outputs": []
    },
    {
      "cell_type": "markdown",
      "source": [
        "<h1> visualize augmentation<h1>"
      ],
      "metadata": {
        "id": "xh-vm4Huh_jO"
      }
    },
    {
      "cell_type": "code",
      "source": [
        "plt.figure(figsize=(10, 10))\n",
        "for images, _ in train_ds.take(1):\n",
        "  for i in range(9):\n",
        "    augmented_images = data_augmentation(images)\n",
        "    ax = plt.subplot(3, 3, i + 1)\n",
        "    plt.imshow(augmented_images[0].numpy().astype(\"uint8\"))\n",
        "    plt.axis(\"off\")"
      ],
      "metadata": {
        "id": "q_WME9i0hv1N"
      },
      "execution_count": null,
      "outputs": []
    },
    {
      "cell_type": "code",
      "source": [
        "print(num_classes)"
      ],
      "metadata": {
        "colab": {
          "base_uri": "https://localhost:8080/"
        },
        "id": "_0q0qTOEILyR",
        "outputId": "0cad14e6-86e8-4139-8a75-79cfd571b175"
      },
      "execution_count": null,
      "outputs": [
        {
          "output_type": "stream",
          "name": "stdout",
          "text": [
            "2\n"
          ]
        }
      ]
    },
    {
      "cell_type": "markdown",
      "source": [
        "<h1>My Model</h1>"
      ],
      "metadata": {
        "id": "M-KkPV2mHGYw"
      }
    },
    {
      "cell_type": "code",
      "source": [
        "image_size = (256, 256)\n",
        "def my_model(input_shape, num_classes):\n",
        "    inputs = keras.Input(shape=input_shape)\n",
        "    # Image augmentation block\n",
        "    x = data_augmentation(inputs)\n",
        "\n",
        "    # Entry block\n",
        "    x = layers.Rescaling(1.0 / 255)(x)\n",
        "    x = layers.Conv2D(8, 3, padding='same', activation='relu')(x)\n",
        "    x = layers.MaxPooling2D()(x)  \n",
        "    x = layers.Conv2D(16, 3, padding='same', activation='relu')(x)\n",
        "   # x = layers.MaxPooling2D()(x)\n",
        "   # x = layers.Conv2D(64, 3, padding='same', activation='relu')(x)\n",
        "    x = layers.MaxPooling2D()(x)\n",
        "    x = layers.Flatten()(x)\n",
        "    x = layers.Dense(32, activation='relu')(x)\n",
        "    outputs = layers.Dense(1,activation = 'sigmoid')(x)\n",
        "    \n",
        "    return keras.Model(inputs, outputs)\n"
      ],
      "metadata": {
        "id": "E_ydFmKVE6tz"
      },
      "execution_count": null,
      "outputs": []
    },
    {
      "cell_type": "code",
      "source": [
        "model_mine = my_model(input_shape=image_size + (1,), num_classes=num_classes)\n",
        "#keras.utils.plot_model(model_mine, show_shapes=True)  #draw model if you want"
      ],
      "metadata": {
        "id": "MxxQS0kjHKq2"
      },
      "execution_count": null,
      "outputs": []
    },
    {
      "cell_type": "code",
      "source": [
        "model_mine.compile(optimizer='adam',\n",
        "              loss=tf.keras.losses.BinaryCrossentropy(from_logits=False),\n",
        "              metrics=['accuracy'])"
      ],
      "metadata": {
        "id": "LP_4fb_BIrMo"
      },
      "execution_count": null,
      "outputs": []
    },
    {
      "cell_type": "code",
      "source": [
        "epochs=10\n",
        "\n",
        "\n",
        "\n",
        "history = model_mine.fit(\n",
        "  train_ds, \n",
        "  validation_data=val_ds, \n",
        "  epochs=epochs,\n",
        "  )"
      ],
      "metadata": {
        "colab": {
          "base_uri": "https://localhost:8080/"
        },
        "id": "ZJkJkiuTI7AR",
        "outputId": "650c1eea-c2c5-4a45-e89e-e4d47c3122df"
      },
      "execution_count": null,
      "outputs": [
        {
          "output_type": "stream",
          "name": "stdout",
          "text": [
            "Epoch 1/10\n",
            "34/34 [==============================] - 34s 968ms/step - loss: 0.7778 - accuracy: 0.5844 - val_loss: 0.5617 - val_accuracy: 0.7256\n",
            "Epoch 2/10\n",
            "34/34 [==============================] - 33s 965ms/step - loss: 0.5748 - accuracy: 0.7167 - val_loss: 0.5136 - val_accuracy: 0.7632\n",
            "Epoch 3/10\n",
            "34/34 [==============================] - 32s 938ms/step - loss: 0.5038 - accuracy: 0.7495 - val_loss: 0.6114 - val_accuracy: 0.6992\n",
            "Epoch 4/10\n",
            "34/34 [==============================] - 32s 939ms/step - loss: 0.4810 - accuracy: 0.7589 - val_loss: 0.4972 - val_accuracy: 0.7669\n",
            "Epoch 5/10\n",
            "34/34 [==============================] - 32s 940ms/step - loss: 0.4534 - accuracy: 0.7786 - val_loss: 0.6942 - val_accuracy: 0.6842\n",
            "Epoch 6/10\n",
            "34/34 [==============================] - 32s 940ms/step - loss: 0.4378 - accuracy: 0.7955 - val_loss: 0.5417 - val_accuracy: 0.7481\n",
            "Epoch 7/10\n",
            "34/34 [==============================] - 32s 943ms/step - loss: 0.4060 - accuracy: 0.8152 - val_loss: 0.5654 - val_accuracy: 0.7293\n",
            "Epoch 8/10\n",
            "34/34 [==============================] - 32s 939ms/step - loss: 0.4041 - accuracy: 0.8199 - val_loss: 0.5322 - val_accuracy: 0.7444\n",
            "Epoch 9/10\n",
            "34/34 [==============================] - 32s 943ms/step - loss: 0.3625 - accuracy: 0.8462 - val_loss: 0.5116 - val_accuracy: 0.7744\n",
            "Epoch 10/10\n",
            "34/34 [==============================] - 32s 944ms/step - loss: 0.3173 - accuracy: 0.8687 - val_loss: 0.5220 - val_accuracy: 0.7556\n"
          ]
        }
      ]
    },
    {
      "cell_type": "code",
      "source": [
        "acc = history.history['accuracy']\n",
        "val_acc = history.history['val_accuracy']\n",
        "\n",
        "loss = history.history['loss']\n",
        "val_loss = history.history['val_loss']\n",
        "\n",
        "epochs_range = range(epochs)\n",
        "\n",
        "plt.figure(figsize=(8, 8))\n",
        "plt.subplot(1, 2, 1)\n",
        "plt.plot(epochs_range, acc, label='Training Accuracy')\n",
        "plt.plot(epochs_range, val_acc, label='Validation Accuracy')\n",
        "plt.legend(loc='lower right')\n",
        "plt.title('Training and Validation Accuracy')\n",
        "\n",
        "plt.subplot(1, 2, 2)\n",
        "plt.plot(epochs_range, loss, label='Training Loss')\n",
        "plt.plot(epochs_range, val_loss, label='Validation Loss')\n",
        "plt.legend(loc='upper right')\n",
        "plt.title('Training and Validation Loss')\n",
        "plt.show()"
      ],
      "metadata": {
        "id": "yiByRluSi-7p",
        "colab": {
          "base_uri": "https://localhost:8080/",
          "height": 499
        },
        "outputId": "1ba95192-b20e-4fa1-90d0-5cf2eb7ffe28"
      },
      "execution_count": null,
      "outputs": [
        {
          "output_type": "display_data",
          "data": {
            "image/png": "[encoded data removed]",
            "text/plain": [
              "<Figure size 576x576 with 2 Axes>"
            ]
          },
          "metadata": {
            "needs_background": "light"
          }
        }
      ]
    },
    {
      "cell_type": "markdown",
      "source": [
        "<h1> Conclusions about the results</h1>"
      ],
      "metadata": {
        "id": "JvKo-lEiGEri"
      }
    },
    {
      "cell_type": "markdown",
      "source": [
        "<h1>Predict new Data<h1>"
      ],
      "metadata": {
        "id": "7jYwTkv1gaPu"
      }
    },
    {
      "cell_type": "code",
      "source": [
        "from tensorflow.python.tf2 import enabled\n",
        "#sunflower_url = \"https://storage.googleapis.com/download.tensorflow.org/example_images/592px-Red_sunflower.jpg\"\n",
        "#sunflower_path = tf.keras.utils.get_file('Red_sunflower', origin=sunflower_url)\n",
        "\n",
        "im_pd = '/content/drive/MyDrive/ImageClassification/flower_photos/daisy/286875003_f7c0e1882d.jpg'\n",
        "im_ps = '/content/drive/MyDrive/ImageClassification/flower_photos/sunflowers/200557981_f800fa1af9.jpg'\n",
        "\n",
        "img = tf.keras.utils.load_img(\n",
        "    im_ps,\n",
        "    color_mode = \"grayscale\", \n",
        "    target_size=(img_height, img_width),\n",
        ")\n",
        "img_array = tf.keras.utils.img_to_array(img)\n",
        "img_array = tf.expand_dims(img_array, 0) # Create a batch\n",
        "\n",
        "predictions = model_mine.predict(img_array)\n",
        "#score = tf.nn.softmax(predictions[0])\n",
        "\n",
        "print(predictions)\n",
        "if predictions>0.5:\n",
        "  print('image belongs to class sunflower')\n",
        "else:\n",
        "  print('image belongs to class daisy')  "
      ],
      "metadata": {
        "id": "LMjcR3f4gjLN",
        "colab": {
          "base_uri": "https://localhost:8080/"
        },
        "outputId": "0f78ba84-581e-40a5-944f-3be0981bc92a"
      },
      "execution_count": null,
      "outputs": [
        {
          "output_type": "stream",
          "name": "stdout",
          "text": [
            "[[0.9216224]]\n",
            "image belongs to class sunflower\n"
          ]
        }
      ]
    },
    {
      "cell_type": "code",
      "source": [
        "from PIL import ImageOps"
      ],
      "metadata": {
        "id": "rgMST8oRIb1O"
      },
      "execution_count": null,
      "outputs": []
    },
    {
      "cell_type": "code",
      "source": [
        "\n",
        "img = ImageOps.grayscale(img)\n"
      ],
      "metadata": {
        "colab": {
          "base_uri": "https://localhost:8080/",
          "height": 286
        },
        "id": "dZM7c-8BHqcE",
        "outputId": "7365ffc2-7b10-4bf7-851c-3d9f964efb37"
      },
      "execution_count": null,
      "outputs": [
        {
          "output_type": "execute_result",
          "data": {
            "text/plain": [
              "<matplotlib.image.AxesImage at 0x7f1221c71b90>"
            ]
          },
          "metadata": {},
          "execution_count": 54
        },
        {
          "output_type": "display_data",
          "data": {
            "image/png": "[encoded data removed]",
            "text/plain": [
              "<Figure size 432x288 with 1 Axes>"
            ]
          },
          "metadata": {
            "needs_background": "light"
          }
        }
      ]
    },
    {
      "cell_type": "code",
      "source": [
        ""
      ],
      "metadata": {
        "id": "jUISDwzkOJrc"
      },
      "execution_count": null,
      "outputs": []
    },
    {
      "cell_type": "markdown",
      "source": [
        "<h1> Save Model <h1>"
      ],
      "metadata": {
        "id": "f_4w4xrNOKrH"
      }
    },
    {
      "cell_type": "code",
      "source": [
        "from keras.models import load_model\n",
        "\n",
        "model_mine.save('/content/drive/MyDrive/ImageClassification/cnn_scratch.h5')  # creates a HDF5 file 'my_model.h5'\n",
        "#del model_mine  # deletes the existing model\n",
        "\n",
        "# returns a compiled model\n",
        "# identical to the previous one\n",
        "model_saved = load_model('/content/drive/MyDrive/ImageClassification/cnn_scratch.h5')\n"
      ],
      "metadata": {
        "id": "zu9V-BQhOOWZ"
      },
      "execution_count": null,
      "outputs": []
    },
    {
      "cell_type": "code",
      "source": [
        "from tensorflow.python.tf2 import enabled\n",
        "\n",
        "im_pd = '/content/drive/MyDrive/ImageClassification/flower_photos/daisy/286875003_f7c0e1882d.jpg'\n",
        "im_ps = '/content/drive/MyDrive/ImageClassification/flower_photos/sunflowers/200557981_f800fa1af9.jpg'\n",
        "\n",
        "img = tf.keras.utils.load_img(\n",
        "    im_pd,\n",
        "    color_mode = \"grayscale\", \n",
        "    target_size=(img_height, img_width),\n",
        ")\n",
        "img_array = tf.keras.utils.img_to_array(img)\n",
        "img_array = tf.expand_dims(img_array, 0) # Create a batch\n",
        "\n",
        "predictions = model_saved.predict(img_array)\n",
        "#score = tf.nn.softmax(predictions[0])\n",
        "\n",
        "print(predictions)\n",
        "if predictions>0.5:\n",
        "  print('image belongs to class sunflower')\n",
        "else:\n",
        "  print('image belongs to class daisy')"
      ],
      "metadata": {
        "colab": {
          "base_uri": "https://localhost:8080/"
        },
        "id": "JF8MdUyUTOdm",
        "outputId": "5e3d9c49-3ff5-4bd2-f34e-2218a0760504"
      },
      "execution_count": null,
      "outputs": [
        {
          "output_type": "stream",
          "name": "stdout",
          "text": [
            "[[0.37200314]]\n",
            "image belongs to class daisy\n"
          ]
        }
      ]
    },
    {
      "cell_type": "code",
      "source": [
        "and what if we do a lot here?"
      ],
      "metadata": {
        "id": "0CdrGFSbarTa"
      },
      "execution_count": null,
      "outputs": []
    }
  ]
}