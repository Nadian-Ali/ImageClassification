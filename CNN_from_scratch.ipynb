{
  "nbformat": 4,
  "nbformat_minor": 0,
  "metadata": {
    "colab": {
      "name": "CNN_from_scratch.ipynb",
      "provenance": [],
      "collapsed_sections": [],
      "include_colab_link": true
    },
    "kernelspec": {
      "name": "python3",
      "display_name": "Python 3"
    },
    "language_info": {
      "name": "python"
    }
  },
  "cells": [
    {
      "cell_type": "markdown",
      "metadata": {
        "id": "view-in-github",
        "colab_type": "text"
      },
      "source": [
        "<a href=\"https://colab.research.google.com/github/Nadian-Ali/ImageClassification/blob/main/CNN_from_scratch.ipynb\" target=\"_parent\"><img src=\"https://colab.research.google.com/assets/colab-badge.svg\" alt=\"Open In Colab\"/></a>"
      ]
    },
    {
      "cell_type": "markdown",
      "source": [
        "<h1>Train a CNN Classifer from scratch </h1>\n",
        "\n",
        "In this note book we are going to train a simple CNN network for classificaiton of Lateral and PA x-ray images. "
      ],
      "metadata": {
        "id": "uFYfXOkoAUFE"
      }
    },
    {
      "cell_type": "code",
      "execution_count": 1,
      "metadata": {
        "id": "-R6GQ3zt6a53",
        "colab": {
          "base_uri": "https://localhost:8080/"
        },
        "outputId": "2a5cd40d-4e6c-4b59-954b-5e28b1376bbd"
      },
      "outputs": [
        {
          "output_type": "stream",
          "name": "stdout",
          "text": [
            "Mounted at /content/drive\n"
          ]
        }
      ],
      "source": [
        "#Import drive\n",
        "from google.colab import drive\n",
        "#Mount Google Drive\n",
        "drive.mount(\"/content/drive\", force_remount =True)"
      ]
    },
    {
      "cell_type": "code",
      "source": [
        "%pwd\n"
      ],
      "metadata": {
        "colab": {
          "base_uri": "https://localhost:8080/",
          "height": 36
        },
        "id": "j1itg5O-7UEF",
        "outputId": "3befdf6b-1b67-46f9-cdfb-06052801ac68"
      },
      "execution_count": null,
      "outputs": [
        {
          "output_type": "execute_result",
          "data": {
            "application/vnd.google.colaboratory.intrinsic+json": {
              "type": "string"
            },
            "text/plain": [
              "'/content'"
            ]
          },
          "metadata": {},
          "execution_count": 2
        }
      ]
    },
    {
      "cell_type": "code",
      "source": [
        "%lsd"
      ],
      "metadata": {
        "id": "dboE2HZ87pGH",
        "outputId": "cd38598c-2d50-4b3d-fcb6-ce302a9ea8cb",
        "colab": {
          "base_uri": "https://localhost:8080/"
        }
      },
      "execution_count": null,
      "outputs": [
        {
          "output_type": "stream",
          "name": "stdout",
          "text": [
            "shell-init: error retrieving current directory: getcwd: cannot access parent directories: Transport endpoint is not connected\n",
            "ls: cannot open directory '.': Transport endpoint is not connected\n"
          ]
        }
      ]
    },
    {
      "cell_type": "code",
      "source": [
        "%cd /content/drive/MyDrive/ImageClassification/Data"
      ],
      "metadata": {
        "colab": {
          "base_uri": "https://localhost:8080/"
        },
        "id": "3Ylcd5gO7mly",
        "outputId": "218edf66-a5ae-404f-eb24-e573a684e85a"
      },
      "execution_count": 2,
      "outputs": [
        {
          "output_type": "stream",
          "name": "stdout",
          "text": [
            "[Errno 2] No such file or directory: '/content/drive/MyDrive/ImageClassification/Data'\n",
            "/content\n"
          ]
        }
      ]
    },
    {
      "cell_type": "markdown",
      "source": [
        "<h1> Improt Packages </h1>"
      ],
      "metadata": {
        "id": "Tticeszh75dw"
      }
    },
    {
      "cell_type": "code",
      "source": [
        "import matplotlib.pyplot as plt\n",
        "import numpy as np\n",
        "import os\n",
        "import PIL\n",
        "import tensorflow as tf\n",
        "\n",
        "from tensorflow import keras\n",
        "from tensorflow.keras import layers\n",
        "from tensorflow.keras.models import Sequential, Model"
      ],
      "metadata": {
        "id": "xlYeQFsq7UNm"
      },
      "execution_count": 3,
      "outputs": []
    },
    {
      "cell_type": "markdown",
      "source": [
        "<h1> Download Dataset </h1>"
      ],
      "metadata": {
        "id": "5JubKM-S7ybV"
      }
    },
    {
      "cell_type": "code",
      "source": [
        "import pathlib\n",
        "dataset_url = \"https://storage.googleapis.com/download.tensorflow.org/example_images/flower_photos.tgz\"\n",
        "data_dir = tf.keras.utils.get_file('/content/drive/MyDrive/ImageClassification/data', origin=dataset_url, untar=True)\n",
        "data_dir = pathlib.Path(data_dir)"
      ],
      "metadata": {
        "id": "OJMwF6Nj7U5y"
      },
      "execution_count": null,
      "outputs": []
    },
    {
      "cell_type": "code",
      "source": [
        "!tar -xzvf \"/content/drive/MyDrive/ImageClassification/data.tar.gz\" # \"/content/drive/My Drive/ImageClassification\""
      ],
      "metadata": {
        "id": "YbzOj1s-_O99"
      },
      "execution_count": null,
      "outputs": []
    },
    {
      "cell_type": "markdown",
      "source": [
        "<h1>Dataset Root</h1>"
      ],
      "metadata": {
        "id": "gR8rMQfd4hoE"
      }
    },
    {
      "cell_type": "code",
      "source": [
        "data_dir = '/content/drive/MyDrive/ImageClassificationData/Data'"
      ],
      "metadata": {
        "id": "deaJmkqf4gIi"
      },
      "execution_count": 4,
      "outputs": []
    },
    {
      "cell_type": "code",
      "source": [
        "batch_size = 32\n",
        "img_height = 256\n",
        "img_width = 256"
      ],
      "metadata": {
        "id": "H35CsWRqGYwc"
      },
      "execution_count": 62,
      "outputs": []
    },
    {
      "cell_type": "code",
      "source": [
        "train_ds = tf.keras.utils.image_dataset_from_directory(\n",
        "  data_dir,\n",
        "  validation_split=0.2,\n",
        "  color_mode = \"grayscale\",\n",
        "  subset=\"training\",\n",
        "  seed=123,\n",
        "  image_size=(img_height, img_width),\n",
        "  batch_size=batch_size)"
      ],
      "metadata": {
        "colab": {
          "base_uri": "https://localhost:8080/"
        },
        "id": "xLVHUsXFGdVp",
        "outputId": "da599fbc-f9f6-44ce-9c0c-c1fe9ea11b97"
      },
      "execution_count": 6,
      "outputs": [
        {
          "output_type": "stream",
          "name": "stdout",
          "text": [
            "Found 190 files belonging to 2 classes.\n",
            "Using 152 files for training.\n"
          ]
        }
      ]
    },
    {
      "cell_type": "code",
      "source": [
        "class_names = train_ds.class_names\n",
        "print(class_names)"
      ],
      "metadata": {
        "id": "s1yLTIW-dN7A",
        "colab": {
          "base_uri": "https://localhost:8080/"
        },
        "outputId": "c0530626-c175-4c16-8d93-87474d51bf51"
      },
      "execution_count": 7,
      "outputs": [
        {
          "output_type": "stream",
          "name": "stdout",
          "text": [
            "['AP', 'Lateral']\n"
          ]
        }
      ]
    },
    {
      "cell_type": "markdown",
      "source": [
        ""
      ],
      "metadata": {
        "id": "tCfYjubgGda-"
      }
    },
    {
      "cell_type": "code",
      "source": [
        "val_ds = tf.keras.utils.image_dataset_from_directory(\n",
        "  data_dir,\n",
        "  validation_split=0.2,\n",
        "  subset=\"validation\",\n",
        "  color_mode = \"grayscale\",\n",
        "  seed=123,\n",
        "  image_size=(img_height, img_width),\n",
        "  batch_size=batch_size)"
      ],
      "metadata": {
        "colab": {
          "base_uri": "https://localhost:8080/"
        },
        "id": "PJn7Bm98Gdt_",
        "outputId": "79f7ac03-9f8a-4744-bbd6-99cea4c5950f"
      },
      "execution_count": 8,
      "outputs": [
        {
          "output_type": "stream",
          "name": "stdout",
          "text": [
            "Found 190 files belonging to 2 classes.\n",
            "Using 38 files for validation.\n"
          ]
        }
      ]
    },
    {
      "cell_type": "code",
      "source": [
        "AUTOTUNE = tf.data.AUTOTUNE\n",
        "\n",
        "train_ds = train_ds.cache().shuffle(1000).prefetch(buffer_size=AUTOTUNE)\n",
        "val_ds = val_ds.cache().prefetch(buffer_size=AUTOTUNE)"
      ],
      "metadata": {
        "id": "mDh9DYUwGdza"
      },
      "execution_count": 9,
      "outputs": []
    },
    {
      "cell_type": "code",
      "source": [
        "train_ds"
      ],
      "metadata": {
        "colab": {
          "base_uri": "https://localhost:8080/"
        },
        "id": "0t5HcEsQYb7r",
        "outputId": "2131a2a4-e45f-4dd4-c179-940a61ebe28e"
      },
      "execution_count": null,
      "outputs": [
        {
          "output_type": "execute_result",
          "data": {
            "text/plain": [
              "<PrefetchDataset shapes: ((None, 180, 180, 3), (None,)), types: (tf.float32, tf.int32)>"
            ]
          },
          "metadata": {},
          "execution_count": 40
        }
      ]
    },
    {
      "cell_type": "code",
      "source": [
        "normalization_layer = layers.Rescaling(1./255)"
      ],
      "metadata": {
        "id": "j4JHSfYKZCNG"
      },
      "execution_count": 10,
      "outputs": []
    },
    {
      "cell_type": "markdown",
      "source": [
        "<h1>dataset transform for normalization</h1>"
      ],
      "metadata": {
        "id": "AesDmso0b4Sr"
      }
    },
    {
      "cell_type": "code",
      "source": [
        "normalized_ds = train_ds.map(lambda x, y: (normalization_layer(x), y))\n",
        "image_batch, labels_batch = next(iter(normalized_ds))\n",
        "first_image = image_batch[0]\n",
        "# Notice the pixel values are now in `[0,1]`.\n",
        "print(np.min(first_image), np.max(first_image))"
      ],
      "metadata": {
        "id": "PoB1sdilZCf1"
      },
      "execution_count": null,
      "outputs": []
    },
    {
      "cell_type": "code",
      "source": [
        "print(len(class_names))\n",
        "num_classes = len(class_names)"
      ],
      "metadata": {
        "id": "4rgPeZ2HcpuR",
        "colab": {
          "base_uri": "https://localhost:8080/"
        },
        "outputId": "57c6ad86-811d-44f7-b343-2a043ae06c84"
      },
      "execution_count": 11,
      "outputs": [
        {
          "output_type": "stream",
          "name": "stdout",
          "text": [
            "2\n"
          ]
        }
      ]
    },
    {
      "cell_type": "markdown",
      "source": [
        "<h1>Data augmentation </h1>"
      ],
      "metadata": {
        "id": "oEyJRQB2hxiq"
      }
    },
    {
      "cell_type": "code",
      "source": [
        "data_augmentation = keras.Sequential(\n",
        "  [\n",
        "    layers.RandomFlip(\"horizontal\",\n",
        "                      input_shape=(img_height,\n",
        "                                  img_width,\n",
        "                                  1)),\n",
        "    layers.RandomFlip('horizontal'),\n",
        "    layers.RandomZoom(0.1),\n",
        "  ]\n",
        ")"
      ],
      "metadata": {
        "id": "f8S3bWi6hviU"
      },
      "execution_count": 12,
      "outputs": []
    },
    {
      "cell_type": "markdown",
      "source": [
        "<h1> visualize augmentation<h1>"
      ],
      "metadata": {
        "id": "xh-vm4Huh_jO"
      }
    },
    {
      "cell_type": "code",
      "source": [
        "plt.figure(figsize=(10, 10))\n",
        "for images, _ in train_ds.take(1):\n",
        "  for i in range(9):\n",
        "    augmented_images = data_augmentation(images)\n",
        "    ax = plt.subplot(3, 3, i + 1)\n",
        "    plt.imshow(augmented_images[0].numpy().astype(\"uint8\"))\n",
        "    plt.axis(\"off\")"
      ],
      "metadata": {
        "id": "q_WME9i0hv1N"
      },
      "execution_count": null,
      "outputs": []
    },
    {
      "cell_type": "code",
      "source": [
        "print(num_classes)"
      ],
      "metadata": {
        "colab": {
          "base_uri": "https://localhost:8080/"
        },
        "id": "_0q0qTOEILyR",
        "outputId": "26ecd3bf-79e1-4a0f-a0fe-f72946196272"
      },
      "execution_count": 13,
      "outputs": [
        {
          "output_type": "stream",
          "name": "stdout",
          "text": [
            "2\n"
          ]
        }
      ]
    },
    {
      "cell_type": "markdown",
      "source": [
        "<h1>My Model</h1>"
      ],
      "metadata": {
        "id": "M-KkPV2mHGYw"
      }
    },
    {
      "cell_type": "code",
      "source": [
        "image_size = (256, 256)\n",
        "def my_model(input_shape, num_classes):\n",
        "    inputs = keras.Input(shape=input_shape)\n",
        "    # Image augmentation block\n",
        "    x = data_augmentation(inputs)\n",
        "\n",
        "    # Entry block\n",
        "    x = layers.Rescaling(1.0 / 255)(x)\n",
        "    x = layers.Conv2D(4, 3, padding='same', activation='relu')(x)\n",
        "    x = layers.MaxPooling2D()(x)  \n",
        "    x = layers.Conv2D(8, 3, padding='same', activation='relu')(x)\n",
        "    x = layers.MaxPooling2D()(x)\n",
        "    x = layers.Conv2D(16, 3, padding='same', activation='relu')(x)\n",
        "    x = layers.MaxPooling2D()(x)\n",
        "    x = layers.Flatten()(x)\n",
        "    x = layers.Dense(32, activation='relu')(x)\n",
        "    outputs = layers.Dense(1,activation = 'sigmoid')(x)\n",
        "    \n",
        "    return keras.Model(inputs, outputs)\n"
      ],
      "metadata": {
        "id": "E_ydFmKVE6tz"
      },
      "execution_count": 42,
      "outputs": []
    },
    {
      "cell_type": "code",
      "source": [
        "model_mine = my_model(input_shape=image_size + (1,), num_classes=num_classes)\n",
        "#keras.utils.plot_model(model_mine, show_shapes=True)  #draw model if you want"
      ],
      "metadata": {
        "id": "MxxQS0kjHKq2"
      },
      "execution_count": 78,
      "outputs": []
    },
    {
      "cell_type": "code",
      "source": [
        "model_mine.compile(optimizer=keras.optimizers.Adam(learning_rate = 0.00001),\n",
        "              loss=tf.keras.losses.BinaryCrossentropy(from_logits=False),\n",
        "              metrics=['accuracy'])"
      ],
      "metadata": {
        "id": "LP_4fb_BIrMo"
      },
      "execution_count": 79,
      "outputs": []
    },
    {
      "cell_type": "code",
      "source": [
        "#create class weights\n",
        "\n",
        "#wj is the weight for each class(j signifies the class)\n",
        "#n_samplesis the total number of samples or rows in the dataset\n",
        "#n_classesis the total number of unique classes in the target\n",
        "#n_samplesjis the total number of rows of the respective class\n",
        "# wj=n_samples / (n_classes * n_samplesj)\n",
        "\n",
        "weight_for_0 = 190/(2*107)\n",
        "weight_for_1 = 190/(2*83)\n",
        "print(weight_for_0)\n",
        "print(weight_for_1)\n",
        "class_weight = {0: weight_for_0, 1: weight_for_1}\n"
      ],
      "metadata": {
        "colab": {
          "base_uri": "https://localhost:8080/"
        },
        "id": "oAbjHsozr1NX",
        "outputId": "e3e43442-cc36-427c-f468-9409a8d07be1"
      },
      "execution_count": 71,
      "outputs": [
        {
          "output_type": "stream",
          "name": "stdout",
          "text": [
            "0.8878504672897196\n",
            "1.144578313253012\n"
          ]
        }
      ]
    },
    {
      "cell_type": "code",
      "source": [
        "epochs=180\n",
        "\n",
        "\n",
        "history = model_mine.fit(\n",
        "  train_ds, \n",
        "  validation_data=val_ds, \n",
        "  epochs=epochs,\n",
        "  class_weight = class_weight,\n",
        "  batch_size = 16,\n",
        "  )"
      ],
      "metadata": {
        "colab": {
          "base_uri": "https://localhost:8080/"
        },
        "id": "ZJkJkiuTI7AR",
        "outputId": "ab035826-4b75-45ba-a42c-2c2eda8316a5"
      },
      "execution_count": 80,
      "outputs": [
        {
          "output_type": "stream",
          "name": "stdout",
          "text": [
            "Epoch 1/180\n",
            "19/19 [==============================] - 7s 288ms/step - loss: 0.6931 - accuracy: 0.5592 - val_loss: 0.6886 - val_accuracy: 0.5789\n",
            "Epoch 2/180\n",
            "19/19 [==============================] - 4s 232ms/step - loss: 0.6897 - accuracy: 0.5921 - val_loss: 0.6873 - val_accuracy: 0.5789\n",
            "Epoch 3/180\n",
            "19/19 [==============================] - 4s 231ms/step - loss: 0.6882 - accuracy: 0.6447 - val_loss: 0.6861 - val_accuracy: 0.6316\n",
            "Epoch 4/180\n",
            "19/19 [==============================] - 4s 231ms/step - loss: 0.6853 - accuracy: 0.6974 - val_loss: 0.6840 - val_accuracy: 0.6053\n",
            "Epoch 5/180\n",
            "19/19 [==============================] - 4s 235ms/step - loss: 0.6834 - accuracy: 0.6711 - val_loss: 0.6823 - val_accuracy: 0.6579\n",
            "Epoch 6/180\n",
            "19/19 [==============================] - 4s 232ms/step - loss: 0.6818 - accuracy: 0.6908 - val_loss: 0.6803 - val_accuracy: 0.6842\n",
            "Epoch 7/180\n",
            "19/19 [==============================] - 4s 233ms/step - loss: 0.6782 - accuracy: 0.7237 - val_loss: 0.6781 - val_accuracy: 0.7105\n",
            "Epoch 8/180\n",
            "19/19 [==============================] - 4s 231ms/step - loss: 0.6769 - accuracy: 0.6776 - val_loss: 0.6765 - val_accuracy: 0.7105\n",
            "Epoch 9/180\n",
            "19/19 [==============================] - 4s 234ms/step - loss: 0.6737 - accuracy: 0.7237 - val_loss: 0.6729 - val_accuracy: 0.6579\n",
            "Epoch 10/180\n",
            "19/19 [==============================] - 4s 235ms/step - loss: 0.6691 - accuracy: 0.7171 - val_loss: 0.6712 - val_accuracy: 0.7105\n",
            "Epoch 11/180\n",
            "19/19 [==============================] - 4s 236ms/step - loss: 0.6655 - accuracy: 0.6908 - val_loss: 0.6703 - val_accuracy: 0.6579\n",
            "Epoch 12/180\n",
            "19/19 [==============================] - 4s 233ms/step - loss: 0.6652 - accuracy: 0.7171 - val_loss: 0.6640 - val_accuracy: 0.6579\n",
            "Epoch 13/180\n",
            "19/19 [==============================] - 4s 235ms/step - loss: 0.6581 - accuracy: 0.7434 - val_loss: 0.6633 - val_accuracy: 0.6842\n",
            "Epoch 14/180\n",
            "19/19 [==============================] - 4s 235ms/step - loss: 0.6589 - accuracy: 0.6974 - val_loss: 0.6601 - val_accuracy: 0.7105\n",
            "Epoch 15/180\n",
            "19/19 [==============================] - 4s 235ms/step - loss: 0.6501 - accuracy: 0.7171 - val_loss: 0.6567 - val_accuracy: 0.7105\n",
            "Epoch 16/180\n",
            "19/19 [==============================] - 4s 233ms/step - loss: 0.6538 - accuracy: 0.6908 - val_loss: 0.6542 - val_accuracy: 0.7105\n",
            "Epoch 17/180\n",
            "19/19 [==============================] - 7s 401ms/step - loss: 0.6448 - accuracy: 0.6974 - val_loss: 0.6523 - val_accuracy: 0.7105\n",
            "Epoch 18/180\n",
            "19/19 [==============================] - 9s 467ms/step - loss: 0.6408 - accuracy: 0.7039 - val_loss: 0.6497 - val_accuracy: 0.7105\n",
            "Epoch 19/180\n",
            "19/19 [==============================] - 4s 235ms/step - loss: 0.6368 - accuracy: 0.7368 - val_loss: 0.6478 - val_accuracy: 0.6579\n",
            "Epoch 20/180\n",
            "19/19 [==============================] - 4s 233ms/step - loss: 0.6376 - accuracy: 0.6908 - val_loss: 0.6454 - val_accuracy: 0.6579\n",
            "Epoch 21/180\n",
            "19/19 [==============================] - 9s 470ms/step - loss: 0.6327 - accuracy: 0.7105 - val_loss: 0.6427 - val_accuracy: 0.6579\n",
            "Epoch 22/180\n",
            "19/19 [==============================] - 4s 231ms/step - loss: 0.6238 - accuracy: 0.7697 - val_loss: 0.6376 - val_accuracy: 0.7105\n",
            "Epoch 23/180\n",
            "19/19 [==============================] - 4s 233ms/step - loss: 0.6217 - accuracy: 0.7303 - val_loss: 0.6359 - val_accuracy: 0.6579\n",
            "Epoch 24/180\n",
            "19/19 [==============================] - 4s 232ms/step - loss: 0.6164 - accuracy: 0.7237 - val_loss: 0.6308 - val_accuracy: 0.7105\n",
            "Epoch 25/180\n",
            "19/19 [==============================] - 4s 232ms/step - loss: 0.6199 - accuracy: 0.6974 - val_loss: 0.6292 - val_accuracy: 0.6842\n",
            "Epoch 26/180\n",
            "19/19 [==============================] - 4s 232ms/step - loss: 0.6152 - accuracy: 0.7303 - val_loss: 0.6265 - val_accuracy: 0.6842\n",
            "Epoch 27/180\n",
            "19/19 [==============================] - 9s 512ms/step - loss: 0.6125 - accuracy: 0.7566 - val_loss: 0.6221 - val_accuracy: 0.6842\n",
            "Epoch 28/180\n",
            "19/19 [==============================] - 10s 537ms/step - loss: 0.6060 - accuracy: 0.7171 - val_loss: 0.6173 - val_accuracy: 0.6842\n",
            "Epoch 29/180\n",
            "19/19 [==============================] - 8s 399ms/step - loss: 0.5990 - accuracy: 0.7434 - val_loss: 0.6182 - val_accuracy: 0.7105\n",
            "Epoch 30/180\n",
            "19/19 [==============================] - 4s 233ms/step - loss: 0.5928 - accuracy: 0.7632 - val_loss: 0.6110 - val_accuracy: 0.6842\n",
            "Epoch 31/180\n",
            "19/19 [==============================] - 4s 232ms/step - loss: 0.5794 - accuracy: 0.7697 - val_loss: 0.6039 - val_accuracy: 0.7105\n",
            "Epoch 32/180\n",
            "19/19 [==============================] - 4s 234ms/step - loss: 0.5880 - accuracy: 0.7171 - val_loss: 0.6035 - val_accuracy: 0.6842\n",
            "Epoch 33/180\n",
            "19/19 [==============================] - 4s 234ms/step - loss: 0.5746 - accuracy: 0.7566 - val_loss: 0.5985 - val_accuracy: 0.6842\n",
            "Epoch 34/180\n",
            "19/19 [==============================] - 4s 231ms/step - loss: 0.5810 - accuracy: 0.7171 - val_loss: 0.5958 - val_accuracy: 0.7105\n",
            "Epoch 35/180\n",
            "19/19 [==============================] - 4s 231ms/step - loss: 0.5707 - accuracy: 0.7434 - val_loss: 0.5909 - val_accuracy: 0.6842\n",
            "Epoch 36/180\n",
            "19/19 [==============================] - 4s 232ms/step - loss: 0.5686 - accuracy: 0.7763 - val_loss: 0.5861 - val_accuracy: 0.7105\n",
            "Epoch 37/180\n",
            "19/19 [==============================] - 4s 233ms/step - loss: 0.5661 - accuracy: 0.7237 - val_loss: 0.5842 - val_accuracy: 0.7105\n",
            "Epoch 38/180\n",
            "19/19 [==============================] - 4s 232ms/step - loss: 0.5562 - accuracy: 0.7500 - val_loss: 0.5823 - val_accuracy: 0.7105\n",
            "Epoch 39/180\n",
            "19/19 [==============================] - 4s 233ms/step - loss: 0.5567 - accuracy: 0.7434 - val_loss: 0.5777 - val_accuracy: 0.7105\n",
            "Epoch 40/180\n",
            "19/19 [==============================] - 4s 231ms/step - loss: 0.5635 - accuracy: 0.7632 - val_loss: 0.5758 - val_accuracy: 0.7105\n",
            "Epoch 41/180\n",
            "19/19 [==============================] - 4s 233ms/step - loss: 0.5576 - accuracy: 0.7829 - val_loss: 0.5701 - val_accuracy: 0.7368\n",
            "Epoch 42/180\n",
            "19/19 [==============================] - 4s 232ms/step - loss: 0.5602 - accuracy: 0.7500 - val_loss: 0.5688 - val_accuracy: 0.7368\n",
            "Epoch 43/180\n",
            "19/19 [==============================] - 4s 232ms/step - loss: 0.5534 - accuracy: 0.7368 - val_loss: 0.5650 - val_accuracy: 0.7105\n",
            "Epoch 44/180\n",
            "19/19 [==============================] - 4s 231ms/step - loss: 0.5393 - accuracy: 0.7434 - val_loss: 0.5615 - val_accuracy: 0.7105\n",
            "Epoch 45/180\n",
            "19/19 [==============================] - 4s 232ms/step - loss: 0.5194 - accuracy: 0.8158 - val_loss: 0.5610 - val_accuracy: 0.7632\n",
            "Epoch 46/180\n",
            "19/19 [==============================] - 4s 233ms/step - loss: 0.5323 - accuracy: 0.7829 - val_loss: 0.5571 - val_accuracy: 0.7632\n",
            "Epoch 47/180\n",
            "19/19 [==============================] - 4s 231ms/step - loss: 0.5326 - accuracy: 0.7632 - val_loss: 0.5515 - val_accuracy: 0.7368\n",
            "Epoch 48/180\n",
            "19/19 [==============================] - 4s 233ms/step - loss: 0.5238 - accuracy: 0.7829 - val_loss: 0.5479 - val_accuracy: 0.7368\n",
            "Epoch 49/180\n",
            "19/19 [==============================] - 4s 233ms/step - loss: 0.5290 - accuracy: 0.7632 - val_loss: 0.5447 - val_accuracy: 0.7368\n",
            "Epoch 50/180\n",
            "19/19 [==============================] - 4s 232ms/step - loss: 0.5082 - accuracy: 0.7895 - val_loss: 0.5429 - val_accuracy: 0.7368\n",
            "Epoch 51/180\n",
            "19/19 [==============================] - 4s 231ms/step - loss: 0.5115 - accuracy: 0.7829 - val_loss: 0.5387 - val_accuracy: 0.7632\n",
            "Epoch 52/180\n",
            "19/19 [==============================] - 4s 234ms/step - loss: 0.4981 - accuracy: 0.7895 - val_loss: 0.5376 - val_accuracy: 0.7368\n",
            "Epoch 53/180\n",
            "19/19 [==============================] - 4s 234ms/step - loss: 0.5121 - accuracy: 0.7697 - val_loss: 0.5339 - val_accuracy: 0.7368\n",
            "Epoch 54/180\n",
            "19/19 [==============================] - 4s 233ms/step - loss: 0.5091 - accuracy: 0.7632 - val_loss: 0.5316 - val_accuracy: 0.7368\n",
            "Epoch 55/180\n",
            "19/19 [==============================] - 4s 232ms/step - loss: 0.5052 - accuracy: 0.7895 - val_loss: 0.5289 - val_accuracy: 0.7368\n",
            "Epoch 56/180\n",
            "19/19 [==============================] - 4s 231ms/step - loss: 0.4875 - accuracy: 0.7961 - val_loss: 0.5260 - val_accuracy: 0.7368\n",
            "Epoch 57/180\n",
            "19/19 [==============================] - 4s 232ms/step - loss: 0.4880 - accuracy: 0.8158 - val_loss: 0.5261 - val_accuracy: 0.7895\n",
            "Epoch 58/180\n",
            "19/19 [==============================] - 4s 235ms/step - loss: 0.4984 - accuracy: 0.7961 - val_loss: 0.5207 - val_accuracy: 0.7368\n",
            "Epoch 59/180\n",
            "19/19 [==============================] - 4s 234ms/step - loss: 0.4794 - accuracy: 0.8355 - val_loss: 0.5172 - val_accuracy: 0.7632\n",
            "Epoch 60/180\n",
            "19/19 [==============================] - 4s 233ms/step - loss: 0.4888 - accuracy: 0.8092 - val_loss: 0.5164 - val_accuracy: 0.7368\n",
            "Epoch 61/180\n",
            "19/19 [==============================] - 4s 232ms/step - loss: 0.4953 - accuracy: 0.7961 - val_loss: 0.5140 - val_accuracy: 0.7895\n",
            "Epoch 62/180\n",
            "19/19 [==============================] - 4s 234ms/step - loss: 0.4825 - accuracy: 0.7895 - val_loss: 0.5098 - val_accuracy: 0.7368\n",
            "Epoch 63/180\n",
            "19/19 [==============================] - 4s 234ms/step - loss: 0.4855 - accuracy: 0.7566 - val_loss: 0.5058 - val_accuracy: 0.7632\n",
            "Epoch 64/180\n",
            "19/19 [==============================] - 4s 235ms/step - loss: 0.4810 - accuracy: 0.8224 - val_loss: 0.5050 - val_accuracy: 0.7895\n",
            "Epoch 65/180\n",
            "19/19 [==============================] - 4s 235ms/step - loss: 0.4738 - accuracy: 0.8289 - val_loss: 0.5006 - val_accuracy: 0.7632\n",
            "Epoch 66/180\n",
            "19/19 [==============================] - 4s 235ms/step - loss: 0.4791 - accuracy: 0.8289 - val_loss: 0.4990 - val_accuracy: 0.7632\n",
            "Epoch 67/180\n",
            "19/19 [==============================] - 4s 233ms/step - loss: 0.4625 - accuracy: 0.7961 - val_loss: 0.4986 - val_accuracy: 0.7895\n",
            "Epoch 68/180\n",
            "19/19 [==============================] - 4s 233ms/step - loss: 0.4773 - accuracy: 0.7895 - val_loss: 0.4931 - val_accuracy: 0.7632\n",
            "Epoch 69/180\n",
            "19/19 [==============================] - 4s 232ms/step - loss: 0.4599 - accuracy: 0.8421 - val_loss: 0.4936 - val_accuracy: 0.7895\n",
            "Epoch 70/180\n",
            "19/19 [==============================] - 4s 230ms/step - loss: 0.4544 - accuracy: 0.8092 - val_loss: 0.4866 - val_accuracy: 0.7632\n",
            "Epoch 71/180\n",
            "19/19 [==============================] - 4s 232ms/step - loss: 0.4738 - accuracy: 0.8355 - val_loss: 0.4861 - val_accuracy: 0.8158\n",
            "Epoch 72/180\n",
            "19/19 [==============================] - 4s 233ms/step - loss: 0.4599 - accuracy: 0.8355 - val_loss: 0.4843 - val_accuracy: 0.8158\n",
            "Epoch 73/180\n",
            "19/19 [==============================] - 4s 231ms/step - loss: 0.4516 - accuracy: 0.8487 - val_loss: 0.4802 - val_accuracy: 0.8158\n",
            "Epoch 74/180\n",
            "19/19 [==============================] - 4s 232ms/step - loss: 0.4418 - accuracy: 0.8421 - val_loss: 0.4804 - val_accuracy: 0.8158\n",
            "Epoch 75/180\n",
            "19/19 [==============================] - 4s 231ms/step - loss: 0.4542 - accuracy: 0.8421 - val_loss: 0.4762 - val_accuracy: 0.8158\n",
            "Epoch 76/180\n",
            "19/19 [==============================] - 4s 231ms/step - loss: 0.4260 - accuracy: 0.8618 - val_loss: 0.4752 - val_accuracy: 0.8421\n",
            "Epoch 77/180\n",
            "19/19 [==============================] - 4s 232ms/step - loss: 0.4402 - accuracy: 0.8355 - val_loss: 0.4711 - val_accuracy: 0.7895\n",
            "Epoch 78/180\n",
            "19/19 [==============================] - 4s 232ms/step - loss: 0.4312 - accuracy: 0.8421 - val_loss: 0.4716 - val_accuracy: 0.8421\n",
            "Epoch 79/180\n",
            "19/19 [==============================] - 4s 233ms/step - loss: 0.4376 - accuracy: 0.8684 - val_loss: 0.4704 - val_accuracy: 0.8421\n",
            "Epoch 80/180\n",
            "19/19 [==============================] - 4s 232ms/step - loss: 0.4583 - accuracy: 0.8224 - val_loss: 0.4656 - val_accuracy: 0.8421\n",
            "Epoch 81/180\n",
            "19/19 [==============================] - 4s 232ms/step - loss: 0.4373 - accuracy: 0.8618 - val_loss: 0.4664 - val_accuracy: 0.8158\n",
            "Epoch 82/180\n",
            "19/19 [==============================] - 4s 232ms/step - loss: 0.4264 - accuracy: 0.8487 - val_loss: 0.4617 - val_accuracy: 0.8421\n",
            "Epoch 83/180\n",
            "19/19 [==============================] - 4s 232ms/step - loss: 0.4049 - accuracy: 0.8487 - val_loss: 0.4621 - val_accuracy: 0.8421\n",
            "Epoch 84/180\n",
            "19/19 [==============================] - 4s 231ms/step - loss: 0.4363 - accuracy: 0.8289 - val_loss: 0.4579 - val_accuracy: 0.8421\n",
            "Epoch 85/180\n",
            "19/19 [==============================] - 4s 235ms/step - loss: 0.4403 - accuracy: 0.8289 - val_loss: 0.4608 - val_accuracy: 0.8158\n",
            "Epoch 86/180\n",
            "19/19 [==============================] - 4s 234ms/step - loss: 0.4296 - accuracy: 0.8289 - val_loss: 0.4520 - val_accuracy: 0.8421\n",
            "Epoch 87/180\n",
            "19/19 [==============================] - 4s 235ms/step - loss: 0.4241 - accuracy: 0.8355 - val_loss: 0.4527 - val_accuracy: 0.8421\n",
            "Epoch 88/180\n",
            "19/19 [==============================] - 4s 235ms/step - loss: 0.4210 - accuracy: 0.8355 - val_loss: 0.4519 - val_accuracy: 0.8421\n",
            "Epoch 89/180\n",
            "19/19 [==============================] - 4s 234ms/step - loss: 0.4035 - accuracy: 0.8224 - val_loss: 0.4497 - val_accuracy: 0.8421\n",
            "Epoch 90/180\n",
            "19/19 [==============================] - 4s 235ms/step - loss: 0.3989 - accuracy: 0.8553 - val_loss: 0.4465 - val_accuracy: 0.8421\n",
            "Epoch 91/180\n",
            "19/19 [==============================] - 4s 235ms/step - loss: 0.4112 - accuracy: 0.8553 - val_loss: 0.4473 - val_accuracy: 0.8421\n",
            "Epoch 92/180\n",
            "19/19 [==============================] - 4s 236ms/step - loss: 0.4131 - accuracy: 0.8421 - val_loss: 0.4416 - val_accuracy: 0.8421\n",
            "Epoch 93/180\n",
            "19/19 [==============================] - 4s 233ms/step - loss: 0.3976 - accuracy: 0.8355 - val_loss: 0.4407 - val_accuracy: 0.8421\n",
            "Epoch 94/180\n",
            "19/19 [==============================] - 4s 234ms/step - loss: 0.3920 - accuracy: 0.8816 - val_loss: 0.4401 - val_accuracy: 0.8421\n",
            "Epoch 95/180\n",
            "19/19 [==============================] - 4s 231ms/step - loss: 0.3918 - accuracy: 0.8684 - val_loss: 0.4437 - val_accuracy: 0.8421\n",
            "Epoch 96/180\n",
            "19/19 [==============================] - 4s 232ms/step - loss: 0.3784 - accuracy: 0.8750 - val_loss: 0.4386 - val_accuracy: 0.8421\n",
            "Epoch 97/180\n",
            "19/19 [==============================] - 4s 232ms/step - loss: 0.3789 - accuracy: 0.8684 - val_loss: 0.4331 - val_accuracy: 0.8421\n",
            "Epoch 98/180\n",
            "19/19 [==============================] - 4s 231ms/step - loss: 0.4151 - accuracy: 0.8421 - val_loss: 0.4340 - val_accuracy: 0.8421\n",
            "Epoch 99/180\n",
            "19/19 [==============================] - 4s 230ms/step - loss: 0.3872 - accuracy: 0.8289 - val_loss: 0.4301 - val_accuracy: 0.8421\n",
            "Epoch 100/180\n",
            "19/19 [==============================] - 4s 231ms/step - loss: 0.3868 - accuracy: 0.8618 - val_loss: 0.4289 - val_accuracy: 0.8421\n",
            "Epoch 101/180\n",
            "19/19 [==============================] - 4s 232ms/step - loss: 0.3855 - accuracy: 0.8487 - val_loss: 0.4260 - val_accuracy: 0.8421\n",
            "Epoch 102/180\n",
            "19/19 [==============================] - 4s 233ms/step - loss: 0.3938 - accuracy: 0.8553 - val_loss: 0.4242 - val_accuracy: 0.8421\n",
            "Epoch 103/180\n",
            "19/19 [==============================] - 4s 231ms/step - loss: 0.3827 - accuracy: 0.8618 - val_loss: 0.4260 - val_accuracy: 0.8421\n",
            "Epoch 104/180\n",
            "19/19 [==============================] - 4s 232ms/step - loss: 0.4011 - accuracy: 0.8618 - val_loss: 0.4237 - val_accuracy: 0.8421\n",
            "Epoch 105/180\n",
            "19/19 [==============================] - 4s 232ms/step - loss: 0.3780 - accuracy: 0.8487 - val_loss: 0.4211 - val_accuracy: 0.8421\n",
            "Epoch 106/180\n",
            "19/19 [==============================] - 4s 232ms/step - loss: 0.3816 - accuracy: 0.8289 - val_loss: 0.4167 - val_accuracy: 0.8421\n",
            "Epoch 107/180\n",
            "19/19 [==============================] - 4s 233ms/step - loss: 0.3906 - accuracy: 0.8355 - val_loss: 0.4196 - val_accuracy: 0.8421\n",
            "Epoch 108/180\n",
            "19/19 [==============================] - 4s 232ms/step - loss: 0.3870 - accuracy: 0.8355 - val_loss: 0.4151 - val_accuracy: 0.8421\n",
            "Epoch 109/180\n",
            "19/19 [==============================] - 4s 231ms/step - loss: 0.3855 - accuracy: 0.8487 - val_loss: 0.4132 - val_accuracy: 0.8421\n",
            "Epoch 110/180\n",
            "19/19 [==============================] - 4s 231ms/step - loss: 0.3729 - accuracy: 0.8289 - val_loss: 0.4100 - val_accuracy: 0.8421\n",
            "Epoch 111/180\n",
            "19/19 [==============================] - 4s 232ms/step - loss: 0.3827 - accuracy: 0.8618 - val_loss: 0.4077 - val_accuracy: 0.8421\n",
            "Epoch 112/180\n",
            "19/19 [==============================] - 4s 232ms/step - loss: 0.3818 - accuracy: 0.8421 - val_loss: 0.4077 - val_accuracy: 0.8421\n",
            "Epoch 113/180\n",
            "19/19 [==============================] - 4s 231ms/step - loss: 0.3752 - accuracy: 0.8684 - val_loss: 0.4037 - val_accuracy: 0.8421\n",
            "Epoch 114/180\n",
            "19/19 [==============================] - 4s 234ms/step - loss: 0.3713 - accuracy: 0.8618 - val_loss: 0.4025 - val_accuracy: 0.8421\n",
            "Epoch 115/180\n",
            "19/19 [==============================] - 4s 233ms/step - loss: 0.3748 - accuracy: 0.8487 - val_loss: 0.4033 - val_accuracy: 0.8684\n",
            "Epoch 116/180\n",
            "19/19 [==============================] - 4s 234ms/step - loss: 0.3672 - accuracy: 0.8684 - val_loss: 0.3993 - val_accuracy: 0.8421\n",
            "Epoch 117/180\n",
            "19/19 [==============================] - 4s 234ms/step - loss: 0.3517 - accuracy: 0.8618 - val_loss: 0.4008 - val_accuracy: 0.8684\n",
            "Epoch 118/180\n",
            "19/19 [==============================] - 4s 234ms/step - loss: 0.3534 - accuracy: 0.8750 - val_loss: 0.3971 - val_accuracy: 0.8421\n",
            "Epoch 119/180\n",
            "19/19 [==============================] - 4s 233ms/step - loss: 0.3458 - accuracy: 0.8553 - val_loss: 0.3968 - val_accuracy: 0.8421\n",
            "Epoch 120/180\n",
            "19/19 [==============================] - 4s 232ms/step - loss: 0.3582 - accuracy: 0.8553 - val_loss: 0.3925 - val_accuracy: 0.8421\n",
            "Epoch 121/180\n",
            "19/19 [==============================] - 4s 231ms/step - loss: 0.3664 - accuracy: 0.8553 - val_loss: 0.3927 - val_accuracy: 0.8684\n",
            "Epoch 122/180\n",
            "19/19 [==============================] - 4s 231ms/step - loss: 0.3448 - accuracy: 0.8816 - val_loss: 0.3931 - val_accuracy: 0.8684\n",
            "Epoch 123/180\n",
            "19/19 [==============================] - 4s 232ms/step - loss: 0.3533 - accuracy: 0.8750 - val_loss: 0.3926 - val_accuracy: 0.8684\n",
            "Epoch 124/180\n",
            "19/19 [==============================] - 4s 232ms/step - loss: 0.3428 - accuracy: 0.8487 - val_loss: 0.3920 - val_accuracy: 0.8684\n",
            "Epoch 125/180\n",
            "19/19 [==============================] - 4s 233ms/step - loss: 0.3503 - accuracy: 0.8487 - val_loss: 0.3947 - val_accuracy: 0.8684\n",
            "Epoch 126/180\n",
            "19/19 [==============================] - 4s 235ms/step - loss: 0.3447 - accuracy: 0.8816 - val_loss: 0.3831 - val_accuracy: 0.8684\n",
            "Epoch 127/180\n",
            "19/19 [==============================] - 4s 235ms/step - loss: 0.3376 - accuracy: 0.8750 - val_loss: 0.3866 - val_accuracy: 0.8684\n",
            "Epoch 128/180\n",
            "19/19 [==============================] - 4s 233ms/step - loss: 0.3342 - accuracy: 0.8816 - val_loss: 0.3832 - val_accuracy: 0.8421\n",
            "Epoch 129/180\n",
            "19/19 [==============================] - 4s 234ms/step - loss: 0.3372 - accuracy: 0.8618 - val_loss: 0.3826 - val_accuracy: 0.8421\n",
            "Epoch 130/180\n",
            "19/19 [==============================] - 4s 235ms/step - loss: 0.3544 - accuracy: 0.8618 - val_loss: 0.3801 - val_accuracy: 0.8684\n",
            "Epoch 131/180\n",
            "19/19 [==============================] - 4s 233ms/step - loss: 0.3421 - accuracy: 0.8487 - val_loss: 0.3772 - val_accuracy: 0.8684\n",
            "Epoch 132/180\n",
            "19/19 [==============================] - 4s 233ms/step - loss: 0.3200 - accuracy: 0.8947 - val_loss: 0.3779 - val_accuracy: 0.8684\n",
            "Epoch 133/180\n",
            "19/19 [==============================] - 4s 234ms/step - loss: 0.3402 - accuracy: 0.8750 - val_loss: 0.3743 - val_accuracy: 0.8684\n",
            "Epoch 134/180\n",
            "19/19 [==============================] - 4s 234ms/step - loss: 0.3480 - accuracy: 0.8355 - val_loss: 0.3762 - val_accuracy: 0.8684\n",
            "Epoch 135/180\n",
            "19/19 [==============================] - 4s 233ms/step - loss: 0.3324 - accuracy: 0.8816 - val_loss: 0.3682 - val_accuracy: 0.8684\n",
            "Epoch 136/180\n",
            "19/19 [==============================] - 4s 233ms/step - loss: 0.3230 - accuracy: 0.8750 - val_loss: 0.3720 - val_accuracy: 0.8947\n",
            "Epoch 137/180\n",
            "19/19 [==============================] - 4s 233ms/step - loss: 0.3218 - accuracy: 0.8684 - val_loss: 0.3709 - val_accuracy: 0.8947\n",
            "Epoch 138/180\n",
            "19/19 [==============================] - 4s 233ms/step - loss: 0.3354 - accuracy: 0.8882 - val_loss: 0.3706 - val_accuracy: 0.8947\n",
            "Epoch 139/180\n",
            "19/19 [==============================] - 4s 233ms/step - loss: 0.3280 - accuracy: 0.8487 - val_loss: 0.3683 - val_accuracy: 0.8947\n",
            "Epoch 140/180\n",
            "19/19 [==============================] - 4s 232ms/step - loss: 0.3375 - accuracy: 0.8618 - val_loss: 0.3599 - val_accuracy: 0.8684\n",
            "Epoch 141/180\n",
            "19/19 [==============================] - 4s 235ms/step - loss: 0.3438 - accuracy: 0.8553 - val_loss: 0.3602 - val_accuracy: 0.8947\n",
            "Epoch 142/180\n",
            "19/19 [==============================] - 4s 235ms/step - loss: 0.3100 - accuracy: 0.8816 - val_loss: 0.3580 - val_accuracy: 0.8947\n",
            "Epoch 143/180\n",
            "19/19 [==============================] - 4s 235ms/step - loss: 0.3092 - accuracy: 0.8750 - val_loss: 0.3588 - val_accuracy: 0.8947\n",
            "Epoch 144/180\n",
            "19/19 [==============================] - 4s 233ms/step - loss: 0.3050 - accuracy: 0.8816 - val_loss: 0.3589 - val_accuracy: 0.8947\n",
            "Epoch 145/180\n",
            "19/19 [==============================] - 4s 233ms/step - loss: 0.3347 - accuracy: 0.8553 - val_loss: 0.3578 - val_accuracy: 0.8947\n",
            "Epoch 146/180\n",
            "19/19 [==============================] - 4s 232ms/step - loss: 0.3185 - accuracy: 0.8750 - val_loss: 0.3598 - val_accuracy: 0.8947\n",
            "Epoch 147/180\n",
            "19/19 [==============================] - 4s 234ms/step - loss: 0.2988 - accuracy: 0.8882 - val_loss: 0.3565 - val_accuracy: 0.8947\n",
            "Epoch 148/180\n",
            "19/19 [==============================] - 4s 236ms/step - loss: 0.2972 - accuracy: 0.8750 - val_loss: 0.3531 - val_accuracy: 0.8947\n",
            "Epoch 149/180\n",
            "19/19 [==============================] - 4s 233ms/step - loss: 0.3118 - accuracy: 0.8816 - val_loss: 0.3585 - val_accuracy: 0.8947\n",
            "Epoch 150/180\n",
            "19/19 [==============================] - 4s 233ms/step - loss: 0.3042 - accuracy: 0.8816 - val_loss: 0.3502 - val_accuracy: 0.8947\n",
            "Epoch 151/180\n",
            "19/19 [==============================] - 4s 232ms/step - loss: 0.3135 - accuracy: 0.8618 - val_loss: 0.3545 - val_accuracy: 0.8947\n",
            "Epoch 152/180\n",
            "19/19 [==============================] - 4s 234ms/step - loss: 0.3093 - accuracy: 0.8750 - val_loss: 0.3492 - val_accuracy: 0.8947\n",
            "Epoch 153/180\n",
            "19/19 [==============================] - 4s 231ms/step - loss: 0.2724 - accuracy: 0.8947 - val_loss: 0.3533 - val_accuracy: 0.9211\n",
            "Epoch 154/180\n",
            "19/19 [==============================] - 4s 232ms/step - loss: 0.3041 - accuracy: 0.8553 - val_loss: 0.3461 - val_accuracy: 0.8947\n",
            "Epoch 155/180\n",
            "19/19 [==============================] - 4s 233ms/step - loss: 0.3023 - accuracy: 0.8947 - val_loss: 0.3515 - val_accuracy: 0.9211\n",
            "Epoch 156/180\n",
            "19/19 [==============================] - 4s 233ms/step - loss: 0.3099 - accuracy: 0.8816 - val_loss: 0.3431 - val_accuracy: 0.8684\n",
            "Epoch 157/180\n",
            "19/19 [==============================] - 4s 233ms/step - loss: 0.3105 - accuracy: 0.8750 - val_loss: 0.3501 - val_accuracy: 0.9211\n",
            "Epoch 158/180\n",
            "19/19 [==============================] - 4s 233ms/step - loss: 0.2797 - accuracy: 0.8816 - val_loss: 0.3456 - val_accuracy: 0.9211\n",
            "Epoch 159/180\n",
            "19/19 [==============================] - 4s 234ms/step - loss: 0.3265 - accuracy: 0.8684 - val_loss: 0.3435 - val_accuracy: 0.9211\n",
            "Epoch 160/180\n",
            "19/19 [==============================] - 4s 232ms/step - loss: 0.3150 - accuracy: 0.8816 - val_loss: 0.3368 - val_accuracy: 0.8947\n",
            "Epoch 161/180\n",
            "19/19 [==============================] - 4s 235ms/step - loss: 0.3094 - accuracy: 0.8487 - val_loss: 0.3486 - val_accuracy: 0.9211\n",
            "Epoch 162/180\n",
            "19/19 [==============================] - 4s 233ms/step - loss: 0.3038 - accuracy: 0.8882 - val_loss: 0.3340 - val_accuracy: 0.8947\n",
            "Epoch 163/180\n",
            "19/19 [==============================] - 4s 233ms/step - loss: 0.3131 - accuracy: 0.8684 - val_loss: 0.3446 - val_accuracy: 0.9211\n",
            "Epoch 164/180\n",
            "19/19 [==============================] - 4s 234ms/step - loss: 0.2853 - accuracy: 0.8882 - val_loss: 0.3329 - val_accuracy: 0.9211\n",
            "Epoch 165/180\n",
            "19/19 [==============================] - 4s 232ms/step - loss: 0.2863 - accuracy: 0.8882 - val_loss: 0.3351 - val_accuracy: 0.9211\n",
            "Epoch 166/180\n",
            "19/19 [==============================] - 4s 233ms/step - loss: 0.2840 - accuracy: 0.8750 - val_loss: 0.3343 - val_accuracy: 0.9211\n",
            "Epoch 167/180\n",
            "19/19 [==============================] - 4s 232ms/step - loss: 0.2866 - accuracy: 0.8882 - val_loss: 0.3312 - val_accuracy: 0.9211\n",
            "Epoch 168/180\n",
            "19/19 [==============================] - 4s 233ms/step - loss: 0.2890 - accuracy: 0.8816 - val_loss: 0.3364 - val_accuracy: 0.9211\n",
            "Epoch 169/180\n",
            "19/19 [==============================] - 4s 233ms/step - loss: 0.2980 - accuracy: 0.8750 - val_loss: 0.3298 - val_accuracy: 0.9211\n",
            "Epoch 170/180\n",
            "19/19 [==============================] - 4s 232ms/step - loss: 0.3015 - accuracy: 0.8684 - val_loss: 0.3312 - val_accuracy: 0.9211\n",
            "Epoch 171/180\n",
            "19/19 [==============================] - 4s 233ms/step - loss: 0.2841 - accuracy: 0.8947 - val_loss: 0.3317 - val_accuracy: 0.9211\n",
            "Epoch 172/180\n",
            "19/19 [==============================] - 4s 233ms/step - loss: 0.2893 - accuracy: 0.8816 - val_loss: 0.3291 - val_accuracy: 0.9211\n",
            "Epoch 173/180\n",
            "19/19 [==============================] - 4s 234ms/step - loss: 0.2814 - accuracy: 0.8882 - val_loss: 0.3271 - val_accuracy: 0.9211\n",
            "Epoch 174/180\n",
            "19/19 [==============================] - 4s 234ms/step - loss: 0.2907 - accuracy: 0.8750 - val_loss: 0.3255 - val_accuracy: 0.9211\n",
            "Epoch 175/180\n",
            "19/19 [==============================] - 4s 235ms/step - loss: 0.2646 - accuracy: 0.8947 - val_loss: 0.3264 - val_accuracy: 0.9211\n",
            "Epoch 176/180\n",
            "19/19 [==============================] - 4s 233ms/step - loss: 0.2923 - accuracy: 0.8882 - val_loss: 0.3305 - val_accuracy: 0.9211\n",
            "Epoch 177/180\n",
            "19/19 [==============================] - 4s 234ms/step - loss: 0.2933 - accuracy: 0.8750 - val_loss: 0.3236 - val_accuracy: 0.9211\n",
            "Epoch 178/180\n",
            "19/19 [==============================] - 4s 234ms/step - loss: 0.2870 - accuracy: 0.9013 - val_loss: 0.3239 - val_accuracy: 0.9211\n",
            "Epoch 179/180\n",
            "19/19 [==============================] - 4s 235ms/step - loss: 0.2696 - accuracy: 0.8947 - val_loss: 0.3241 - val_accuracy: 0.9211\n",
            "Epoch 180/180\n",
            "19/19 [==============================] - 4s 235ms/step - loss: 0.2552 - accuracy: 0.9013 - val_loss: 0.3257 - val_accuracy: 0.9211\n"
          ]
        }
      ]
    },
    {
      "cell_type": "code",
      "source": [
        "acc = history.history['accuracy']\n",
        "val_acc = history.history['val_accuracy']\n",
        "\n",
        "loss = history.history['loss']\n",
        "val_loss = history.history['val_loss']\n",
        "\n",
        "epochs_range = range(epochs)\n",
        "\n",
        "plt.figure(figsize=(8, 8))\n",
        "plt.subplot(1, 2, 1)\n",
        "plt.plot(epochs_range, acc, label='Training Accuracy')\n",
        "plt.plot(epochs_range, val_acc, label='Validation Accuracy')\n",
        "plt.legend(loc='lower right')\n",
        "plt.title('Training and Validation Accuracy')\n",
        "\n",
        "plt.subplot(1, 2, 2)\n",
        "plt.plot(epochs_range, loss, label='Training Loss')\n",
        "plt.plot(epochs_range, val_loss, label='Validation Loss')\n",
        "plt.legend(loc='upper right')\n",
        "plt.title('Training and Validation Loss')\n",
        "plt.show()"
      ],
      "metadata": {
        "id": "yiByRluSi-7p",
        "colab": {
          "base_uri": "https://localhost:8080/",
          "height": 498
        },
        "outputId": "b3b3cbaa-a6e1-4afd-b25c-c8f0d92bd2fc"
      },
      "execution_count": 81,
      "outputs": [
        {
          "output_type": "display_data",
          "data": {
            "image/png": "[encoded data removed]",
            "text/plain": [
              "<Figure size 576x576 with 2 Axes>"
            ]
          },
          "metadata": {
            "needs_background": "light"
          }
        }
      ]
    },
    {
      "cell_type": "markdown",
      "source": [
        "<h1> Conclusions about the results</h1>"
      ],
      "metadata": {
        "id": "JvKo-lEiGEri"
      }
    },
    {
      "cell_type": "markdown",
      "source": [
        "<h1>Predict new Data<h1>"
      ],
      "metadata": {
        "id": "7jYwTkv1gaPu"
      }
    },
    {
      "cell_type": "code",
      "source": [
        "from tensorflow.python.tf2 import enabled\n",
        "\n",
        "im_pd = '/content/drive/MyDrive/ImageClassification/flower_photos/daisy/286875003_f7c0e1882d.jpg'\n",
        "im_ps = '/content/drive/MyDrive/ImageClassification/flower_photos/sunflowers/200557981_f800fa1af9.jpg'\n",
        "\n",
        "img = tf.keras.utils.load_img(\n",
        "    im_ps,\n",
        "    color_mode = \"grayscale\", \n",
        "    target_size=(img_height, img_width),\n",
        ")\n",
        "img_array = tf.keras.utils.img_to_array(img)\n",
        "img_array = tf.expand_dims(img_array, 0) # Create a batch\n",
        "\n",
        "predictions = model_mine.predict(img_array)\n",
        "#score = tf.nn.softmax(predictions[0])\n",
        "\n",
        "print(predictions)\n",
        "if predictions>0.5:\n",
        "  print('image belongs to class sunflower')\n",
        "else:\n",
        "  print('image belongs to class daisy')  "
      ],
      "metadata": {
        "id": "LMjcR3f4gjLN",
        "colab": {
          "base_uri": "https://localhost:8080/"
        },
        "outputId": "0f78ba84-581e-40a5-944f-3be0981bc92a"
      },
      "execution_count": null,
      "outputs": [
        {
          "output_type": "stream",
          "name": "stdout",
          "text": [
            "[[0.9216224]]\n",
            "image belongs to class sunflower\n"
          ]
        }
      ]
    },
    {
      "cell_type": "code",
      "source": [
        "from PIL import ImageOps"
      ],
      "metadata": {
        "id": "rgMST8oRIb1O"
      },
      "execution_count": null,
      "outputs": []
    },
    {
      "cell_type": "code",
      "source": [
        "\n",
        "img = ImageOps.grayscale(img)\n"
      ],
      "metadata": {
        "colab": {
          "base_uri": "https://localhost:8080/",
          "height": 286
        },
        "id": "dZM7c-8BHqcE",
        "outputId": "7365ffc2-7b10-4bf7-851c-3d9f964efb37"
      },
      "execution_count": null,
      "outputs": [
        {
          "output_type": "execute_result",
          "data": {
            "text/plain": [
              "<matplotlib.image.AxesImage at 0x7f1221c71b90>"
            ]
          },
          "metadata": {},
          "execution_count": 54
        },
        {
          "output_type": "display_data",
          "data": {
            "image/png": "[encoded data removed]",
            "text/plain": [
              "<Figure size 432x288 with 1 Axes>"
            ]
          },
          "metadata": {
            "needs_background": "light"
          }
        }
      ]
    },
    {
      "cell_type": "code",
      "source": [
        ""
      ],
      "metadata": {
        "id": "jUISDwzkOJrc"
      },
      "execution_count": null,
      "outputs": []
    },
    {
      "cell_type": "markdown",
      "source": [
        "<h1> Save Model <h1>"
      ],
      "metadata": {
        "id": "f_4w4xrNOKrH"
      }
    },
    {
      "cell_type": "code",
      "source": [
        "from keras.models import load_model\n",
        "\n",
        "model_mine.save('/content/drive/MyDrive/ImageClassification/cnn_scratch.h5')  # creates a HDF5 file 'my_model.h5'\n",
        "#del model_mine  # deletes the existing model\n",
        "\n",
        "# returns a compiled model\n",
        "# identical to the previous one\n",
        "model_saved = load_model('/content/drive/MyDrive/ImageClassification/cnn_scratch.h5')\n"
      ],
      "metadata": {
        "id": "zu9V-BQhOOWZ"
      },
      "execution_count": null,
      "outputs": []
    },
    {
      "cell_type": "code",
      "source": [
        "from tensorflow.python.tf2 import enabled\n",
        "\n",
        "im_pd = '/content/drive/MyDrive/ImageClassification/flower_photos/daisy/286875003_f7c0e1882d.jpg'\n",
        "im_ps = '/content/drive/MyDrive/ImageClassification/flower_photos/sunflowers/200557981_f800fa1af9.jpg'\n",
        "\n",
        "img = tf.keras.utils.load_img(\n",
        "    im_pd,\n",
        "    color_mode = \"grayscale\", \n",
        "    target_size=(img_height, img_width),\n",
        ")\n",
        "img_array = tf.keras.utils.img_to_array(img)\n",
        "img_array = tf.expand_dims(img_array, 0) # Create a batch\n",
        "\n",
        "predictions = model_saved.predict(img_array)\n",
        "#score = tf.nn.softmax(predictions[0])\n",
        "\n",
        "print(predictions)\n",
        "if predictions>0.5:\n",
        "  print('image belongs to class sunflower')\n",
        "else:\n",
        "  print('image belongs to class daisy')"
      ],
      "metadata": {
        "colab": {
          "base_uri": "https://localhost:8080/"
        },
        "id": "JF8MdUyUTOdm",
        "outputId": "5e3d9c49-3ff5-4bd2-f34e-2218a0760504"
      },
      "execution_count": null,
      "outputs": [
        {
          "output_type": "stream",
          "name": "stdout",
          "text": [
            "[[0.37200314]]\n",
            "image belongs to class daisy\n"
          ]
        }
      ]
    },
    {
      "cell_type": "code",
      "source": [
        "and what if we do a lot here?"
      ],
      "metadata": {
        "id": "0CdrGFSbarTa"
      },
      "execution_count": null,
      "outputs": []
    }
  ]
}