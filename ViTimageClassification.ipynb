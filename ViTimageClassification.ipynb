{
  "cells": [
    {
      "cell_type": "markdown",
      "metadata": {
        "id": "view-in-github",
        "colab_type": "text"
      },
      "source": [
        "<a href=\"https://colab.research.google.com/github/Nadian-Ali/ImageClassification/blob/main/ViTimageClassification.ipynb\" target=\"_parent\"><img src=\"https://colab.research.google.com/assets/colab-badge.svg\" alt=\"Open In Colab\"/></a>"
      ]
    },
    {
      "cell_type": "markdown",
      "metadata": {
        "id": "i1ZPDbq_T1Ys"
      },
      "source": [
        "# Image classification with Vision Transformer\n",
        "\n",
        "The base model is implemetned by Khalid Salma\n",
        " \n",
        "**Author:** [Khalid Salama](https://www.linkedin.com/in/"
      ]
    },
    {
      "cell_type": "code",
      "source": [
        "from google.colab import drive\n",
        "drive.mount('/content/drive')"
      ],
      "metadata": {
        "colab": {
          "base_uri": "https://localhost:8080/"
        },
        "id": "f-hdD9eaZSir",
        "outputId": "f1985599-a0d3-4859-b93c-03c53bdbb301"
      },
      "execution_count": 279,
      "outputs": [
        {
          "output_type": "stream",
          "name": "stdout",
          "text": [
            "Drive already mounted at /content/drive; to attempt to forcibly remount, call drive.mount(\"/content/drive\", force_remount=True).\n"
          ]
        }
      ]
    },
    {
      "cell_type": "code",
      "source": [
        "!pip install -U tensorflow-addons"
      ],
      "metadata": {
        "colab": {
          "base_uri": "https://localhost:8080/"
        },
        "id": "B2yRZBNqUSgd",
        "outputId": "a36b0e40-aadb-4bd8-f979-0fed6fedec46"
      },
      "execution_count": 280,
      "outputs": [
        {
          "output_type": "stream",
          "name": "stdout",
          "text": [
            "Requirement already satisfied: tensorflow-addons in /usr/local/lib/python3.7/dist-packages (0.15.0)\n",
            "Requirement already satisfied: typeguard>=2.7 in /usr/local/lib/python3.7/dist-packages (from tensorflow-addons) (2.7.1)\n"
          ]
        }
      ]
    },
    {
      "cell_type": "markdown",
      "metadata": {
        "id": "30c33e5qT1Yy"
      },
      "source": [
        "## Setup"
      ]
    },
    {
      "cell_type": "code",
      "execution_count": 94,
      "metadata": {
        "id": "Pj2cyuW_T1Yy"
      },
      "outputs": [],
      "source": [
        "import numpy as np\n",
        "import tensorflow as tf\n",
        "from tensorflow import keras\n",
        "from tensorflow.keras import layers\n",
        "import tensorflow_addons as tfa"
      ]
    },
    {
      "cell_type": "markdown",
      "metadata": {
        "id": "dUa8L6R-T1Y0"
      },
      "source": [
        "## Prepare the data"
      ]
    },
    {
      "cell_type": "code",
      "source": [
        "data_dir = '/content/drive/MyDrive/ImageClassificationData/Data'"
      ],
      "metadata": {
        "id": "GRHAyb5AZ8O0"
      },
      "execution_count": 281,
      "outputs": []
    },
    {
      "cell_type": "code",
      "source": [
        "batch_size = 16\n",
        "img_height = 256\n",
        "img_width = 256\n",
        "input_shape = (img_height,img_width,3)"
      ],
      "metadata": {
        "id": "q09UhKw7aRFZ"
      },
      "execution_count": 282,
      "outputs": []
    },
    {
      "cell_type": "code",
      "source": [
        "from keras.preprocessing import image"
      ],
      "metadata": {
        "id": "3lqRJlKN17bU"
      },
      "execution_count": 283,
      "outputs": []
    },
    {
      "cell_type": "code",
      "source": [
        "train_ds = tf.keras.utils.image_dataset_from_directory(\n",
        "  data_dir,\n",
        "  validation_split=0.2,\n",
        "  #color_mode = \"grayscale\",\n",
        "  subset=\"training\",\n",
        "  seed=123,\n",
        "  image_size=(img_height, img_width),\n",
        "  batch_size=batch_size)"
      ],
      "metadata": {
        "colab": {
          "base_uri": "https://localhost:8080/"
        },
        "id": "ucIc6FXTaRLd",
        "outputId": "d679be90-4110-4fd2-a56d-1660a5a82829"
      },
      "execution_count": 284,
      "outputs": [
        {
          "output_type": "stream",
          "name": "stdout",
          "text": [
            "Found 190 files belonging to 2 classes.\n",
            "Using 152 files for training.\n"
          ]
        }
      ]
    },
    {
      "cell_type": "code",
      "source": [
        ""
      ],
      "metadata": {
        "id": "CpUBf2_Uk4cj"
      },
      "execution_count": null,
      "outputs": []
    },
    {
      "cell_type": "code",
      "source": [
        "val_ds = tf.keras.utils.image_dataset_from_directory(\n",
        "  data_dir,\n",
        "  validation_split=0.2,\n",
        "  subset=\"validation\",\n",
        "  #color_mode = \"grayscale\",\n",
        "  seed=123,\n",
        "  image_size=(img_height, img_width),\n",
        "  batch_size=batch_size)"
      ],
      "metadata": {
        "colab": {
          "base_uri": "https://localhost:8080/"
        },
        "id": "3kHnh5Fmk4iN",
        "outputId": "854c2897-a5f0-4b9a-b173-acbf8fc41533"
      },
      "execution_count": 285,
      "outputs": [
        {
          "output_type": "stream",
          "name": "stdout",
          "text": [
            "Found 190 files belonging to 2 classes.\n",
            "Using 38 files for validation.\n"
          ]
        }
      ]
    },
    {
      "cell_type": "code",
      "source": [
        "class_names = train_ds.class_names\n",
        "num_classes = len(class_names)"
      ],
      "metadata": {
        "id": "bBH7Q6c2k72q"
      },
      "execution_count": 286,
      "outputs": []
    },
    {
      "cell_type": "code",
      "source": [
        "print(class_names)"
      ],
      "metadata": {
        "id": "NI6SOgq3k76B",
        "colab": {
          "base_uri": "https://localhost:8080/"
        },
        "outputId": "adb7a6b4-8883-4086-a8a6-27a40ce764b6"
      },
      "execution_count": 287,
      "outputs": [
        {
          "output_type": "stream",
          "name": "stdout",
          "text": [
            "['AP', 'Lateral']\n"
          ]
        }
      ]
    },
    {
      "cell_type": "code",
      "source": [
        ""
      ],
      "metadata": {
        "id": "nnJseamHk79f"
      },
      "execution_count": null,
      "outputs": []
    },
    {
      "cell_type": "code",
      "source": [
        ""
      ],
      "metadata": {
        "id": "Cg7ykXDGk8BD"
      },
      "execution_count": null,
      "outputs": []
    },
    {
      "cell_type": "code",
      "execution_count": null,
      "metadata": {
        "id": "4beZddopT1Y0"
      },
      "outputs": [],
      "source": [
        ""
      ]
    },
    {
      "cell_type": "markdown",
      "metadata": {
        "id": "LmWUtCjoT1Y1"
      },
      "source": [
        "## Configure the hyperparameters"
      ]
    },
    {
      "cell_type": "code",
      "execution_count": 288,
      "metadata": {
        "id": "-9iyUF20T1Y2"
      },
      "outputs": [],
      "source": [
        "learning_rate = 0.001 #was 0.001\n",
        "weight_decay = 0.0001\n",
        "batch_size = 32\n",
        "num_epochs = 150\n",
        "image_size = 128  # We'll resize input images to this size\n",
        "patch_size = 32  # Size of the patches to be extract from the input images\n",
        "num_patches = (image_size // patch_size) ** 2\n",
        "projection_dim = 64\n",
        "num_heads = 2\n",
        "transformer_units = [\n",
        "    projection_dim * 2,\n",
        "    projection_dim,\n",
        "]  # Size of the transformer layers\n",
        "transformer_layers = 8\n",
        "mlp_head_units = [2048, 1024]  # Size of the dense layers of the final classifier\n"
      ]
    },
    {
      "cell_type": "code",
      "source": [
        "num_patches"
      ],
      "metadata": {
        "colab": {
          "base_uri": "https://localhost:8080/"
        },
        "id": "jFmOfa-9jm3s",
        "outputId": "68ac0c77-8284-4e23-bff3-bf29ad316524"
      },
      "execution_count": 289,
      "outputs": [
        {
          "output_type": "execute_result",
          "data": {
            "text/plain": [
              "16"
            ]
          },
          "metadata": {},
          "execution_count": 289
        }
      ]
    },
    {
      "cell_type": "markdown",
      "metadata": {
        "id": "Nj1NnqYET1Y3"
      },
      "source": [
        "## Use data augmentation"
      ]
    },
    {
      "cell_type": "code",
      "execution_count": 292,
      "metadata": {
        "id": "JEp9xbTKT1Y4"
      },
      "outputs": [],
      "source": [
        "data_augmentation = keras.Sequential(\n",
        "    [\n",
        "        layers.Normalization(),\n",
        "        layers.Resizing(image_size, image_size),\n",
        "        layers.RandomFlip(\"horizontal\"),\n",
        "        #layers.RandomRotation(factor=0.02),\n",
        "        layers.RandomZoom(\n",
        "            height_factor=0.2, width_factor=0.2\n",
        "        ),\n",
        "    ],\n",
        "    name=\"data_augmentation\",\n",
        ")\n",
        "\n"
      ]
    },
    {
      "cell_type": "markdown",
      "metadata": {
        "id": "GKCDVSiGT1Y5"
      },
      "source": [
        "## Implement multilayer perceptron (MLP)"
      ]
    },
    {
      "cell_type": "code",
      "execution_count": 293,
      "metadata": {
        "id": "0zpN3t6cT1Y5"
      },
      "outputs": [],
      "source": [
        "\n",
        "def mlp(x, hidden_units, dropout_rate):\n",
        "    for units in hidden_units:\n",
        "        x = layers.Dense(units, activation=tf.nn.gelu)(x)\n",
        "        x = layers.Dropout(dropout_rate)(x)\n",
        "    return x\n"
      ]
    },
    {
      "cell_type": "markdown",
      "metadata": {
        "id": "cPwd0GhQT1Y5"
      },
      "source": [
        "## Implement patch creation as a layer"
      ]
    },
    {
      "cell_type": "code",
      "execution_count": 295,
      "metadata": {
        "id": "ipg__SPWT1Y6"
      },
      "outputs": [],
      "source": [
        "\n",
        "class Patches(layers.Layer):\n",
        "    def __init__(self, patch_size):\n",
        "        super(Patches, self).__init__()\n",
        "        self.patch_size = patch_size\n",
        "\n",
        "    def call(self, images):\n",
        "        batch_size = tf.shape(images)[0]\n",
        "        patches = tf.image.extract_patches(\n",
        "            images=images,\n",
        "            sizes=[1, self.patch_size, self.patch_size, 1],\n",
        "            strides=[1, self.patch_size, self.patch_size, 1],\n",
        "            rates=[1, 1, 1, 1],\n",
        "            padding=\"VALID\",\n",
        "        )\n",
        "        patch_dims = patches.shape[-1]\n",
        "        patches = tf.reshape(patches, [batch_size, -1, patch_dims])\n",
        "        return patches\n"
      ]
    },
    {
      "cell_type": "markdown",
      "metadata": {
        "id": "AzoVtBA6T1Y9"
      },
      "source": [
        "Let's display patches for a sample image"
      ]
    },
    {
      "cell_type": "code",
      "execution_count": null,
      "metadata": {
        "id": "qJC2yvJBT1Y_",
        "cellView": "form"
      },
      "outputs": [],
      "source": [
        "#@title visualize patches \n",
        "import matplotlib.pyplot as plt\n",
        "\n",
        "plt.figure(figsize=(4, 4))\n",
        "image = x_train[np.random.choice(range(x_train.shape[0]))]\n",
        "plt.imshow(image.astype(\"uint8\"))\n",
        "plt.axis(\"off\")\n",
        "\n",
        "resized_image = tf.image.resize(\n",
        "    tf.convert_to_tensor([image]), size=(image_size, image_size)\n",
        ")\n",
        "patches = Patches(patch_size)(resized_image)\n",
        "print(f\"Image size: {image_size} X {image_size}\")\n",
        "print(f\"Patch size: {patch_size} X {patch_size}\")\n",
        "print(f\"Patches per image: {patches.shape[1]}\")\n",
        "print(f\"Elements per patch: {patches.shape[-1]}\")\n",
        "\n",
        "n = int(np.sqrt(patches.shape[1]))\n",
        "plt.figure(figsize=(4, 4))\n",
        "for i, patch in enumerate(patches[0]):\n",
        "    ax = plt.subplot(n, n, i + 1)\n",
        "    patch_img = tf.reshape(patch, (patch_size, patch_size, 3))\n",
        "    plt.imshow(patch_img.numpy().astype(\"uint8\"))\n",
        "    plt.axis(\"off\")"
      ]
    },
    {
      "cell_type": "markdown",
      "metadata": {
        "id": "qGJ-FZ1bT1ZB"
      },
      "source": [
        "## Implement the patch encoding layer\n",
        "\n"
      ]
    },
    {
      "cell_type": "code",
      "execution_count": 296,
      "metadata": {
        "id": "adui-zEbT1ZC"
      },
      "outputs": [],
      "source": [
        "\n",
        "class PatchEncoder(layers.Layer):\n",
        "    def __init__(self, num_patches, projection_dim):\n",
        "        super(PatchEncoder, self).__init__()\n",
        "        self.num_patches = num_patches\n",
        "        self.projection = layers.Dense(units=projection_dim)\n",
        "        self.position_embedding = layers.Embedding(\n",
        "            input_dim=num_patches, output_dim=projection_dim\n",
        "        )\n",
        "\n",
        "    def call(self, patch):\n",
        "        positions = tf.range(start=0, limit=self.num_patches, delta=1)\n",
        "        encoded = self.projection(patch) + self.position_embedding(positions)\n",
        "        return encoded\n"
      ]
    },
    {
      "cell_type": "markdown",
      "metadata": {
        "id": "sSU9e_VFT1ZD"
      },
      "source": [
        "## Build the ViT model\n",
        "\n"
      ]
    },
    {
      "cell_type": "code",
      "execution_count": 298,
      "metadata": {
        "id": "V8VCy_gDT1ZD"
      },
      "outputs": [],
      "source": [
        "\n",
        "def create_vit_classifier():\n",
        "    inputs = layers.Input(shape=input_shape)\n",
        "    # Augment data.\n",
        "    augmented = data_augmentation(inputs)\n",
        "    # Create patches.\n",
        "    patches = Patches(patch_size)(augmented)\n",
        "    # Encode patches.\n",
        "    encoded_patches = PatchEncoder(num_patches, projection_dim)(patches)\n",
        "\n",
        "    # Create multiple layers of the Transformer block.\n",
        "    for _ in range(transformer_layers):\n",
        "        # Layer normalization 1.\n",
        "        x1 = layers.LayerNormalization(epsilon=1e-6)(encoded_patches)\n",
        "        # Create a multi-head attention layer.\n",
        "        attention_output = layers.MultiHeadAttention(\n",
        "            num_heads=num_heads, key_dim=projection_dim, dropout=0.1\n",
        "        )(x1, x1)\n",
        "        # Skip connection 1.\n",
        "        x2 = layers.Add()([attention_output, encoded_patches])\n",
        "        # Layer normalization 2.\n",
        "        x3 = layers.LayerNormalization(epsilon=1e-6)(x2)\n",
        "        # MLP.\n",
        "        x3 = mlp(x3, hidden_units=transformer_units, dropout_rate=0.1)\n",
        "        # Skip connection 2.\n",
        "        encoded_patches = layers.Add()([x3, x2])\n",
        "\n",
        "    # Create a [batch_size, projection_dim] tensor.\n",
        "    representation = layers.LayerNormalization(epsilon=1e-6)(encoded_patches)\n",
        "    representation = layers.Flatten()(representation)\n",
        "    representation = layers.Dropout(0.5)(representation)\n",
        "    # Add MLP.\n",
        "    features = mlp(representation, hidden_units=mlp_head_units, dropout_rate=0.5)\n",
        "    # Classify outputs.\n",
        "    logits = layers.Dense(1,activation = 'sigmoid')(features)\n",
        "    # Create the Keras model.\n",
        "    model = keras.Model(inputs=inputs, outputs=logits)\n",
        "    return model\n"
      ]
    },
    {
      "cell_type": "markdown",
      "metadata": {
        "id": "2kCbtuokT1ZE"
      },
      "source": [
        "## Compile, train, and evaluate the mode"
      ]
    },
    {
      "cell_type": "code",
      "source": [
        "optimizer = tfa.optimizers.AdamW(\n",
        "        learning_rate=learning_rate, weight_decay=weight_decay\n",
        "    )\n",
        "\n"
      ],
      "metadata": {
        "id": "ccu2ewvsWNJl"
      },
      "execution_count": 316,
      "outputs": []
    },
    {
      "cell_type": "code",
      "source": [
        "vit_classifier = create_vit_classifier()\n",
        "\n",
        "vit_classifier.compile(\n",
        "        optimizer=optimizer,\n",
        "        loss=keras.losses.BinaryCrossentropy(from_logits=False),\n",
        "        metrics=['accuracy']\n",
        "            #keras.metrics.BinaryCrossentropy(name=\"accuracy\"),\n",
        "#            keras.metrics.SparseTopKCategoricalAccuracy(5, name=\"top-5-accuracy\"),\n",
        "        #],\n",
        "    )"
      ],
      "metadata": {
        "id": "Zhn0Pl3tWOhJ"
      },
      "execution_count": 317,
      "outputs": []
    },
    {
      "cell_type": "code",
      "source": [
        "%cd drive/My Drive/ImageClassificationData"
      ],
      "metadata": {
        "id": "JuPNpiYKP6Kb",
        "outputId": "69e6a3f0-72da-4570-869e-e8d10026725f",
        "colab": {
          "base_uri": "https://localhost:8080/"
        }
      },
      "execution_count": 318,
      "outputs": [
        {
          "output_type": "stream",
          "name": "stdout",
          "text": [
            "[Errno 2] No such file or directory: 'drive/My Drive/ImageClassificationData'\n",
            "/content/drive/My Drive/ImageClassificationData\n"
          ]
        }
      ]
    },
    {
      "cell_type": "code",
      "source": [
        ""
      ],
      "metadata": {
        "id": "l2RZrujePGFR"
      },
      "execution_count": 144,
      "outputs": []
    },
    {
      "cell_type": "code",
      "source": [
        ""
      ],
      "metadata": {
        "id": "NdmmyvuhP5Xi"
      },
      "execution_count": null,
      "outputs": []
    },
    {
      "cell_type": "code",
      "source": [
        "checkpoint_filepath = '/content/drive/MyDrive/ImageClassificationData/checkpoint/checkpoint2'\n",
        "checkpoint_callback = tf.keras.callbacks.ModelCheckpoint(\n",
        "    filepath=checkpoint_filepath,\n",
        "    save_weights_only=True,\n",
        "    monitor='val_loss',\n",
        "    mode='min',\n",
        "    save_best_only=True)\n",
        "\n"
      ],
      "metadata": {
        "id": "QhJAJZoUoTLx"
      },
      "execution_count": 319,
      "outputs": []
    },
    {
      "cell_type": "code",
      "source": [
        "weight_for_0 = 190/(2*107)\n",
        "weight_for_1 = 190/(2*83)\n",
        "print(weight_for_0)\n",
        "print(weight_for_1)\n",
        "class_weight = {0: weight_for_0, 1: weight_for_1}"
      ],
      "metadata": {
        "id": "dGG7Z3UEWWNi",
        "outputId": "df69bbbf-ee72-4b4b-a706-d17dda96e20f",
        "colab": {
          "base_uri": "https://localhost:8080/"
        }
      },
      "execution_count": 305,
      "outputs": [
        {
          "output_type": "stream",
          "name": "stdout",
          "text": [
            "0.8878504672897196\n",
            "1.144578313253012\n"
          ]
        }
      ]
    },
    {
      "cell_type": "code",
      "source": [
        "\n",
        "\n",
        "\n",
        "history = vit_classifier.fit(\n",
        "        x=train_ds,\n",
        "        #y=val_ds,\n",
        "        #batch_size=batch_size,\n",
        "        validation_data=val_ds,\n",
        "        epochs=num_epochs,\n",
        "      #  validation_split=0.1,\n",
        "        callbacks=[checkpoint_callback],\n",
        "        class_weight = class_weight,\n",
        "        #batch_size = 16,\n",
        "    )"
      ],
      "metadata": {
        "colab": {
          "base_uri": "https://localhost:8080/"
        },
        "id": "0zYfvovhWOoW",
        "outputId": "26788c92-59f3-42b3-a719-ddcbb9993b7c"
      },
      "execution_count": 320,
      "outputs": [
        {
          "output_type": "stream",
          "name": "stdout",
          "text": [
            "Epoch 1/150\n",
            "10/10 [==============================] - 19s 497ms/step - loss: 1.7532 - accuracy: 0.5855 - val_loss: 2.6027 - val_accuracy: 0.4474\n",
            "Epoch 2/150\n",
            "10/10 [==============================] - 4s 404ms/step - loss: 1.7849 - accuracy: 0.5789 - val_loss: 0.6182 - val_accuracy: 0.6842\n",
            "Epoch 3/150\n",
            "10/10 [==============================] - 5s 460ms/step - loss: 1.2243 - accuracy: 0.6053 - val_loss: 0.6105 - val_accuracy: 0.5789\n",
            "Epoch 4/150\n",
            "10/10 [==============================] - 4s 347ms/step - loss: 1.0742 - accuracy: 0.5789 - val_loss: 0.6115 - val_accuracy: 0.6842\n",
            "Epoch 5/150\n",
            "10/10 [==============================] - 3s 276ms/step - loss: 0.8207 - accuracy: 0.6513 - val_loss: 0.7321 - val_accuracy: 0.6316\n",
            "Epoch 6/150\n",
            "10/10 [==============================] - 4s 383ms/step - loss: 0.9354 - accuracy: 0.6053 - val_loss: 0.5444 - val_accuracy: 0.7105\n",
            "Epoch 7/150\n",
            "10/10 [==============================] - 5s 441ms/step - loss: 1.0525 - accuracy: 0.5592 - val_loss: 0.4597 - val_accuracy: 0.8158\n",
            "Epoch 8/150\n",
            "10/10 [==============================] - 3s 318ms/step - loss: 0.8071 - accuracy: 0.6645 - val_loss: 0.8205 - val_accuracy: 0.4737\n",
            "Epoch 9/150\n",
            "10/10 [==============================] - 3s 262ms/step - loss: 0.7945 - accuracy: 0.7039 - val_loss: 1.2343 - val_accuracy: 0.4474\n",
            "Epoch 10/150\n",
            "10/10 [==============================] - 4s 369ms/step - loss: 0.9076 - accuracy: 0.6382 - val_loss: 0.6065 - val_accuracy: 0.5526\n",
            "Epoch 11/150\n",
            "10/10 [==============================] - 4s 342ms/step - loss: 0.7367 - accuracy: 0.6513 - val_loss: 0.5511 - val_accuracy: 0.7105\n",
            "Epoch 12/150\n",
            "10/10 [==============================] - 4s 370ms/step - loss: 0.5617 - accuracy: 0.7105 - val_loss: 0.4649 - val_accuracy: 0.8421\n",
            "Epoch 13/150\n",
            "10/10 [==============================] - 4s 431ms/step - loss: 0.5405 - accuracy: 0.6908 - val_loss: 0.4121 - val_accuracy: 0.8158\n",
            "Epoch 14/150\n",
            "10/10 [==============================] - 5s 515ms/step - loss: 0.5840 - accuracy: 0.6974 - val_loss: 0.4695 - val_accuracy: 0.8158\n",
            "Epoch 15/150\n",
            "10/10 [==============================] - 3s 322ms/step - loss: 0.5374 - accuracy: 0.7237 - val_loss: 0.4152 - val_accuracy: 0.8158\n",
            "Epoch 16/150\n",
            "10/10 [==============================] - 3s 271ms/step - loss: 0.5316 - accuracy: 0.7434 - val_loss: 0.5283 - val_accuracy: 0.7368\n",
            "Epoch 17/150\n",
            "10/10 [==============================] - 3s 263ms/step - loss: 0.5027 - accuracy: 0.7434 - val_loss: 0.4548 - val_accuracy: 0.8421\n",
            "Epoch 18/150\n",
            "10/10 [==============================] - 4s 357ms/step - loss: 0.4828 - accuracy: 0.7895 - val_loss: 0.3681 - val_accuracy: 0.8158\n",
            "Epoch 19/150\n",
            "10/10 [==============================] - 3s 267ms/step - loss: 0.5416 - accuracy: 0.7368 - val_loss: 0.4485 - val_accuracy: 0.7105\n",
            "Epoch 20/150\n",
            "10/10 [==============================] - 5s 436ms/step - loss: 0.5115 - accuracy: 0.8026 - val_loss: 0.3884 - val_accuracy: 0.8684\n",
            "Epoch 21/150\n",
            "10/10 [==============================] - 4s 325ms/step - loss: 0.5131 - accuracy: 0.7829 - val_loss: 0.4025 - val_accuracy: 0.8684\n",
            "Epoch 22/150\n",
            "10/10 [==============================] - 2s 213ms/step - loss: 0.5114 - accuracy: 0.7895 - val_loss: 0.4296 - val_accuracy: 0.7895\n",
            "Epoch 23/150\n",
            "10/10 [==============================] - 4s 337ms/step - loss: 0.4683 - accuracy: 0.8158 - val_loss: 0.3575 - val_accuracy: 0.9211\n",
            "Epoch 24/150\n",
            "10/10 [==============================] - 4s 356ms/step - loss: 0.4085 - accuracy: 0.7763 - val_loss: 0.3330 - val_accuracy: 0.9211\n",
            "Epoch 25/150\n",
            "10/10 [==============================] - 5s 441ms/step - loss: 0.5080 - accuracy: 0.7829 - val_loss: 0.3182 - val_accuracy: 0.8421\n",
            "Epoch 26/150\n",
            "10/10 [==============================] - 4s 390ms/step - loss: 0.4249 - accuracy: 0.8026 - val_loss: 0.3360 - val_accuracy: 0.9474\n",
            "Epoch 27/150\n",
            "10/10 [==============================] - 3s 277ms/step - loss: 0.4621 - accuracy: 0.7895 - val_loss: 0.3169 - val_accuracy: 0.9474\n",
            "Epoch 28/150\n",
            "10/10 [==============================] - 4s 371ms/step - loss: 0.5791 - accuracy: 0.7039 - val_loss: 0.6397 - val_accuracy: 0.6842\n",
            "Epoch 29/150\n",
            "10/10 [==============================] - 3s 237ms/step - loss: 0.5415 - accuracy: 0.7237 - val_loss: 0.3819 - val_accuracy: 0.8158\n",
            "Epoch 30/150\n",
            "10/10 [==============================] - 3s 305ms/step - loss: 0.4972 - accuracy: 0.8092 - val_loss: 0.5597 - val_accuracy: 0.6579\n",
            "Epoch 31/150\n",
            "10/10 [==============================] - 3s 260ms/step - loss: 0.4772 - accuracy: 0.7237 - val_loss: 0.4059 - val_accuracy: 0.7632\n",
            "Epoch 32/150\n",
            "10/10 [==============================] - 3s 268ms/step - loss: 0.4234 - accuracy: 0.8421 - val_loss: 0.2704 - val_accuracy: 0.9211\n",
            "Epoch 33/150\n",
            "10/10 [==============================] - 3s 313ms/step - loss: 0.5154 - accuracy: 0.7763 - val_loss: 0.3265 - val_accuracy: 0.9211\n",
            "Epoch 34/150\n",
            "10/10 [==============================] - 4s 440ms/step - loss: 0.4278 - accuracy: 0.8289 - val_loss: 0.3354 - val_accuracy: 0.9474\n",
            "Epoch 35/150\n",
            "10/10 [==============================] - 4s 407ms/step - loss: 0.4286 - accuracy: 0.7961 - val_loss: 0.3121 - val_accuracy: 0.7895\n",
            "Epoch 36/150\n",
            "10/10 [==============================] - 4s 333ms/step - loss: 0.3791 - accuracy: 0.8158 - val_loss: 0.2588 - val_accuracy: 0.8421\n",
            "Epoch 37/150\n",
            "10/10 [==============================] - 4s 412ms/step - loss: 0.3837 - accuracy: 0.8224 - val_loss: 0.2443 - val_accuracy: 0.9211\n",
            "Epoch 38/150\n",
            "10/10 [==============================] - 4s 367ms/step - loss: 0.4298 - accuracy: 0.8092 - val_loss: 0.2773 - val_accuracy: 0.9211\n",
            "Epoch 39/150\n",
            "10/10 [==============================] - 4s 365ms/step - loss: 0.3814 - accuracy: 0.8092 - val_loss: 0.3220 - val_accuracy: 0.8158\n",
            "Epoch 40/150\n",
            "10/10 [==============================] - 4s 327ms/step - loss: 0.5055 - accuracy: 0.8026 - val_loss: 0.3154 - val_accuracy: 0.8947\n",
            "Epoch 41/150\n",
            "10/10 [==============================] - 4s 373ms/step - loss: 0.4168 - accuracy: 0.8224 - val_loss: 0.3361 - val_accuracy: 0.8421\n",
            "Epoch 42/150\n",
            "10/10 [==============================] - 4s 378ms/step - loss: 0.4260 - accuracy: 0.7763 - val_loss: 0.3609 - val_accuracy: 0.8158\n",
            "Epoch 43/150\n",
            "10/10 [==============================] - 4s 420ms/step - loss: 0.4056 - accuracy: 0.8026 - val_loss: 0.3129 - val_accuracy: 0.8158\n",
            "Epoch 44/150\n",
            "10/10 [==============================] - 4s 407ms/step - loss: 0.3785 - accuracy: 0.8224 - val_loss: 0.3798 - val_accuracy: 0.8158\n",
            "Epoch 45/150\n",
            "10/10 [==============================] - 3s 283ms/step - loss: 0.3808 - accuracy: 0.8224 - val_loss: 0.2529 - val_accuracy: 0.8421\n",
            "Epoch 46/150\n",
            "10/10 [==============================] - 3s 228ms/step - loss: 0.3947 - accuracy: 0.8289 - val_loss: 0.3279 - val_accuracy: 0.8158\n",
            "Epoch 47/150\n",
            "10/10 [==============================] - 4s 365ms/step - loss: 0.3211 - accuracy: 0.8487 - val_loss: 0.3195 - val_accuracy: 0.8684\n",
            "Epoch 48/150\n",
            "10/10 [==============================] - 4s 424ms/step - loss: 0.3573 - accuracy: 0.7895 - val_loss: 0.2344 - val_accuracy: 0.8947\n",
            "Epoch 49/150\n",
            "10/10 [==============================] - 3s 265ms/step - loss: 0.3903 - accuracy: 0.8224 - val_loss: 0.2435 - val_accuracy: 0.9211\n",
            "Epoch 50/150\n",
            "10/10 [==============================] - 5s 452ms/step - loss: 0.3538 - accuracy: 0.8421 - val_loss: 0.2519 - val_accuracy: 0.9737\n",
            "Epoch 51/150\n",
            "10/10 [==============================] - 3s 296ms/step - loss: 0.3246 - accuracy: 0.8750 - val_loss: 0.3112 - val_accuracy: 0.8947\n",
            "Epoch 52/150\n",
            "10/10 [==============================] - 4s 418ms/step - loss: 0.3540 - accuracy: 0.8487 - val_loss: 0.2684 - val_accuracy: 0.8158\n",
            "Epoch 53/150\n",
            "10/10 [==============================] - 3s 311ms/step - loss: 0.3828 - accuracy: 0.7961 - val_loss: 0.2429 - val_accuracy: 0.8684\n",
            "Epoch 54/150\n",
            "10/10 [==============================] - 3s 256ms/step - loss: 0.3815 - accuracy: 0.8092 - val_loss: 0.3030 - val_accuracy: 0.8684\n",
            "Epoch 55/150\n",
            "10/10 [==============================] - 3s 282ms/step - loss: 0.4076 - accuracy: 0.7763 - val_loss: 0.2671 - val_accuracy: 0.8684\n",
            "Epoch 56/150\n",
            "10/10 [==============================] - 3s 273ms/step - loss: 0.3967 - accuracy: 0.8026 - val_loss: 0.2590 - val_accuracy: 0.9737\n",
            "Epoch 57/150\n",
            "10/10 [==============================] - 4s 362ms/step - loss: 0.3906 - accuracy: 0.8487 - val_loss: 0.2473 - val_accuracy: 0.8684\n",
            "Epoch 58/150\n",
            "10/10 [==============================] - 4s 398ms/step - loss: 0.2952 - accuracy: 0.8618 - val_loss: 0.2152 - val_accuracy: 0.9737\n",
            "Epoch 59/150\n",
            "10/10 [==============================] - 4s 416ms/step - loss: 0.3631 - accuracy: 0.8421 - val_loss: 0.2283 - val_accuracy: 0.9474\n",
            "Epoch 60/150\n",
            "10/10 [==============================] - 3s 288ms/step - loss: 0.4463 - accuracy: 0.8092 - val_loss: 0.2471 - val_accuracy: 0.8947\n",
            "Epoch 61/150\n",
            "10/10 [==============================] - 3s 262ms/step - loss: 0.3340 - accuracy: 0.8355 - val_loss: 0.2400 - val_accuracy: 0.9211\n",
            "Epoch 62/150\n",
            "10/10 [==============================] - 3s 288ms/step - loss: 0.3327 - accuracy: 0.8487 - val_loss: 0.5361 - val_accuracy: 0.7368\n",
            "Epoch 63/150\n",
            "10/10 [==============================] - 3s 312ms/step - loss: 0.4120 - accuracy: 0.7961 - val_loss: 0.3020 - val_accuracy: 0.8684\n",
            "Epoch 64/150\n",
            "10/10 [==============================] - 4s 362ms/step - loss: 0.2629 - accuracy: 0.8947 - val_loss: 0.2524 - val_accuracy: 0.9211\n",
            "Epoch 65/150\n",
            "10/10 [==============================] - 3s 251ms/step - loss: 0.3057 - accuracy: 0.8355 - val_loss: 0.2060 - val_accuracy: 0.9211\n",
            "Epoch 66/150\n",
            "10/10 [==============================] - 2s 202ms/step - loss: 0.3026 - accuracy: 0.8750 - val_loss: 0.2320 - val_accuracy: 0.8947\n",
            "Epoch 67/150\n",
            "10/10 [==============================] - 4s 336ms/step - loss: 0.3783 - accuracy: 0.8618 - val_loss: 0.2586 - val_accuracy: 0.8947\n",
            "Epoch 68/150\n",
            "10/10 [==============================] - 4s 384ms/step - loss: 0.3012 - accuracy: 0.8816 - val_loss: 0.2718 - val_accuracy: 0.8684\n",
            "Epoch 69/150\n",
            "10/10 [==============================] - 4s 388ms/step - loss: 0.3199 - accuracy: 0.8618 - val_loss: 0.2013 - val_accuracy: 0.9211\n",
            "Epoch 70/150\n",
            "10/10 [==============================] - 4s 401ms/step - loss: 0.2873 - accuracy: 0.8618 - val_loss: 0.2380 - val_accuracy: 0.8947\n",
            "Epoch 71/150\n",
            "10/10 [==============================] - 4s 402ms/step - loss: 0.2874 - accuracy: 0.8750 - val_loss: 0.2378 - val_accuracy: 0.9211\n",
            "Epoch 72/150\n",
            "10/10 [==============================] - 3s 287ms/step - loss: 0.3029 - accuracy: 0.8618 - val_loss: 0.2211 - val_accuracy: 0.8947\n",
            "Epoch 73/150\n",
            "10/10 [==============================] - 3s 304ms/step - loss: 0.2767 - accuracy: 0.8816 - val_loss: 0.3996 - val_accuracy: 0.8684\n",
            "Epoch 74/150\n",
            "10/10 [==============================] - 3s 273ms/step - loss: 0.3522 - accuracy: 0.8553 - val_loss: 0.2264 - val_accuracy: 0.8947\n",
            "Epoch 75/150\n",
            "10/10 [==============================] - 4s 329ms/step - loss: 0.3854 - accuracy: 0.8684 - val_loss: 0.3174 - val_accuracy: 0.8158\n",
            "Epoch 76/150\n",
            "10/10 [==============================] - 4s 386ms/step - loss: 0.3552 - accuracy: 0.8355 - val_loss: 0.2672 - val_accuracy: 0.8947\n",
            "Epoch 77/150\n",
            "10/10 [==============================] - 4s 372ms/step - loss: 0.2662 - accuracy: 0.8882 - val_loss: 0.1996 - val_accuracy: 0.8947\n",
            "Epoch 78/150\n",
            "10/10 [==============================] - 4s 373ms/step - loss: 0.2838 - accuracy: 0.8947 - val_loss: 0.2042 - val_accuracy: 0.8947\n",
            "Epoch 79/150\n",
            "10/10 [==============================] - 3s 265ms/step - loss: 0.2686 - accuracy: 0.8882 - val_loss: 0.2100 - val_accuracy: 0.8684\n",
            "Epoch 80/150\n",
            "10/10 [==============================] - 3s 247ms/step - loss: 0.2397 - accuracy: 0.8618 - val_loss: 0.2224 - val_accuracy: 0.8947\n",
            "Epoch 81/150\n",
            "10/10 [==============================] - 3s 261ms/step - loss: 0.2946 - accuracy: 0.9079 - val_loss: 0.2546 - val_accuracy: 0.9211\n",
            "Epoch 82/150\n",
            "10/10 [==============================] - 3s 284ms/step - loss: 0.2303 - accuracy: 0.9276 - val_loss: 0.2680 - val_accuracy: 0.8421\n",
            "Epoch 83/150\n",
            "10/10 [==============================] - 3s 261ms/step - loss: 0.2921 - accuracy: 0.8882 - val_loss: 0.2477 - val_accuracy: 0.8684\n",
            "Epoch 84/150\n",
            "10/10 [==============================] - 4s 326ms/step - loss: 0.2939 - accuracy: 0.9145 - val_loss: 0.2650 - val_accuracy: 0.8947\n",
            "Epoch 85/150\n",
            "10/10 [==============================] - 4s 329ms/step - loss: 0.2199 - accuracy: 0.9211 - val_loss: 0.2601 - val_accuracy: 0.8684\n",
            "Epoch 86/150\n",
            "10/10 [==============================] - 4s 398ms/step - loss: 0.2740 - accuracy: 0.9145 - val_loss: 0.2238 - val_accuracy: 0.9211\n",
            "Epoch 87/150\n",
            "10/10 [==============================] - 3s 271ms/step - loss: 0.2187 - accuracy: 0.9276 - val_loss: 0.2405 - val_accuracy: 0.8684\n",
            "Epoch 88/150\n",
            "10/10 [==============================] - 2s 207ms/step - loss: 0.1890 - accuracy: 0.9276 - val_loss: 0.2511 - val_accuracy: 0.8421\n",
            "Epoch 89/150\n",
            "10/10 [==============================] - 4s 402ms/step - loss: 0.2649 - accuracy: 0.8816 - val_loss: 0.2400 - val_accuracy: 0.8947\n",
            "Epoch 90/150\n",
            "10/10 [==============================] - 3s 301ms/step - loss: 0.1737 - accuracy: 0.9342 - val_loss: 0.2689 - val_accuracy: 0.8947\n",
            "Epoch 91/150\n",
            "10/10 [==============================] - 3s 226ms/step - loss: 0.1886 - accuracy: 0.9342 - val_loss: 0.2893 - val_accuracy: 0.9211\n",
            "Epoch 92/150\n",
            "10/10 [==============================] - 3s 314ms/step - loss: 0.2210 - accuracy: 0.8882 - val_loss: 0.3411 - val_accuracy: 0.8684\n",
            "Epoch 93/150\n",
            "10/10 [==============================] - 3s 299ms/step - loss: 0.2595 - accuracy: 0.9145 - val_loss: 0.3111 - val_accuracy: 0.8684\n",
            "Epoch 94/150\n",
            "10/10 [==============================] - 4s 348ms/step - loss: 0.2828 - accuracy: 0.8750 - val_loss: 0.2761 - val_accuracy: 0.8158\n",
            "Epoch 95/150\n",
            "10/10 [==============================] - 4s 369ms/step - loss: 0.1828 - accuracy: 0.9408 - val_loss: 0.2729 - val_accuracy: 0.8421\n",
            "Epoch 96/150\n",
            "10/10 [==============================] - 4s 429ms/step - loss: 0.2811 - accuracy: 0.8947 - val_loss: 0.2953 - val_accuracy: 0.8684\n",
            "Epoch 97/150\n",
            "10/10 [==============================] - 3s 308ms/step - loss: 0.2714 - accuracy: 0.8684 - val_loss: 0.1734 - val_accuracy: 0.9474\n",
            "Epoch 98/150\n",
            "10/10 [==============================] - 4s 375ms/step - loss: 0.3377 - accuracy: 0.8816 - val_loss: 0.1860 - val_accuracy: 0.9474\n",
            "Epoch 99/150\n",
            "10/10 [==============================] - 3s 246ms/step - loss: 0.3215 - accuracy: 0.8947 - val_loss: 0.1953 - val_accuracy: 0.9474\n",
            "Epoch 100/150\n",
            "10/10 [==============================] - 4s 391ms/step - loss: 0.1798 - accuracy: 0.9408 - val_loss: 0.2228 - val_accuracy: 0.9211\n",
            "Epoch 101/150\n",
            "10/10 [==============================] - 4s 412ms/step - loss: 0.2391 - accuracy: 0.9211 - val_loss: 0.2823 - val_accuracy: 0.9211\n",
            "Epoch 102/150\n",
            "10/10 [==============================] - 4s 373ms/step - loss: 0.1618 - accuracy: 0.9474 - val_loss: 0.3319 - val_accuracy: 0.8684\n",
            "Epoch 103/150\n",
            "10/10 [==============================] - 3s 271ms/step - loss: 0.2413 - accuracy: 0.9079 - val_loss: 0.3291 - val_accuracy: 0.8947\n",
            "Epoch 104/150\n",
            "10/10 [==============================] - 4s 352ms/step - loss: 0.3184 - accuracy: 0.8553 - val_loss: 0.3420 - val_accuracy: 0.9211\n",
            "Epoch 105/150\n",
            "10/10 [==============================] - 2s 204ms/step - loss: 0.1729 - accuracy: 0.9342 - val_loss: 0.3480 - val_accuracy: 0.9474\n",
            "Epoch 106/150\n",
            "10/10 [==============================] - 4s 329ms/step - loss: 0.2865 - accuracy: 0.8882 - val_loss: 0.3644 - val_accuracy: 0.9211\n",
            "Epoch 107/150\n",
            "10/10 [==============================] - 4s 376ms/step - loss: 0.3334 - accuracy: 0.8684 - val_loss: 0.4400 - val_accuracy: 0.7632\n",
            "Epoch 108/150\n",
            "10/10 [==============================] - 3s 262ms/step - loss: 0.3906 - accuracy: 0.8158 - val_loss: 0.2824 - val_accuracy: 0.9211\n",
            "Epoch 109/150\n",
            "10/10 [==============================] - 4s 384ms/step - loss: 0.2954 - accuracy: 0.8355 - val_loss: 0.2688 - val_accuracy: 0.8684\n",
            "Epoch 110/150\n",
            "10/10 [==============================] - 4s 366ms/step - loss: 0.2168 - accuracy: 0.8947 - val_loss: 0.2885 - val_accuracy: 0.9211\n",
            "Epoch 111/150\n",
            "10/10 [==============================] - 4s 416ms/step - loss: 0.1770 - accuracy: 0.9408 - val_loss: 0.3234 - val_accuracy: 0.8421\n",
            "Epoch 112/150\n",
            "10/10 [==============================] - 3s 223ms/step - loss: 0.2035 - accuracy: 0.9079 - val_loss: 0.3026 - val_accuracy: 0.9211\n",
            "Epoch 113/150\n",
            "10/10 [==============================] - 3s 300ms/step - loss: 0.2351 - accuracy: 0.9013 - val_loss: 0.3503 - val_accuracy: 0.9211\n",
            "Epoch 114/150\n",
            "10/10 [==============================] - 4s 359ms/step - loss: 0.2059 - accuracy: 0.9079 - val_loss: 0.4124 - val_accuracy: 0.8421\n",
            "Epoch 115/150\n",
            "10/10 [==============================] - 5s 450ms/step - loss: 0.2880 - accuracy: 0.8816 - val_loss: 0.3382 - val_accuracy: 0.9474\n",
            "Epoch 116/150\n",
            "10/10 [==============================] - 4s 353ms/step - loss: 0.2898 - accuracy: 0.8816 - val_loss: 0.3123 - val_accuracy: 0.8947\n",
            "Epoch 117/150\n",
            "10/10 [==============================] - 4s 328ms/step - loss: 0.1806 - accuracy: 0.9211 - val_loss: 0.2975 - val_accuracy: 0.9474\n",
            "Epoch 118/150\n",
            "10/10 [==============================] - 4s 339ms/step - loss: 0.2057 - accuracy: 0.9474 - val_loss: 0.3001 - val_accuracy: 0.8947\n",
            "Epoch 119/150\n",
            "10/10 [==============================] - 3s 313ms/step - loss: 0.1811 - accuracy: 0.9408 - val_loss: 0.3273 - val_accuracy: 0.8684\n",
            "Epoch 120/150\n",
            "10/10 [==============================] - 4s 400ms/step - loss: 0.1893 - accuracy: 0.9276 - val_loss: 0.4008 - val_accuracy: 0.8684\n",
            "Epoch 121/150\n",
            "10/10 [==============================] - 4s 386ms/step - loss: 0.2501 - accuracy: 0.9079 - val_loss: 0.3977 - val_accuracy: 0.8421\n",
            "Epoch 122/150\n",
            "10/10 [==============================] - 3s 297ms/step - loss: 0.2152 - accuracy: 0.9276 - val_loss: 0.3521 - val_accuracy: 0.8947\n",
            "Epoch 123/150\n",
            "10/10 [==============================] - 4s 370ms/step - loss: 0.2183 - accuracy: 0.9079 - val_loss: 0.2937 - val_accuracy: 0.8947\n",
            "Epoch 124/150\n",
            "10/10 [==============================] - 3s 268ms/step - loss: 0.1890 - accuracy: 0.9211 - val_loss: 0.2956 - val_accuracy: 0.9474\n",
            "Epoch 125/150\n",
            "10/10 [==============================] - 4s 352ms/step - loss: 0.2107 - accuracy: 0.9013 - val_loss: 0.3100 - val_accuracy: 0.8421\n",
            "Epoch 126/150\n",
            "10/10 [==============================] - 4s 425ms/step - loss: 0.1959 - accuracy: 0.9408 - val_loss: 0.3330 - val_accuracy: 0.8684\n",
            "Epoch 127/150\n",
            "10/10 [==============================] - 3s 275ms/step - loss: 0.2153 - accuracy: 0.9211 - val_loss: 0.3208 - val_accuracy: 0.9211\n",
            "Epoch 128/150\n",
            "10/10 [==============================] - 3s 273ms/step - loss: 0.2068 - accuracy: 0.9276 - val_loss: 0.3335 - val_accuracy: 0.8684\n",
            "Epoch 129/150\n",
            "10/10 [==============================] - 4s 372ms/step - loss: 0.2479 - accuracy: 0.9079 - val_loss: 0.3219 - val_accuracy: 0.9211\n",
            "Epoch 130/150\n",
            "10/10 [==============================] - 3s 263ms/step - loss: 0.2134 - accuracy: 0.9145 - val_loss: 0.3153 - val_accuracy: 0.8684\n",
            "Epoch 131/150\n",
            "10/10 [==============================] - 3s 303ms/step - loss: 0.1328 - accuracy: 0.9408 - val_loss: 0.3427 - val_accuracy: 0.8684\n",
            "Epoch 132/150\n",
            "10/10 [==============================] - 3s 303ms/step - loss: 0.1868 - accuracy: 0.9211 - val_loss: 0.2985 - val_accuracy: 0.9211\n",
            "Epoch 133/150\n",
            "10/10 [==============================] - 3s 320ms/step - loss: 0.1892 - accuracy: 0.9145 - val_loss: 0.3694 - val_accuracy: 0.8421\n",
            "Epoch 134/150\n",
            "10/10 [==============================] - 4s 342ms/step - loss: 0.2172 - accuracy: 0.9145 - val_loss: 0.2934 - val_accuracy: 0.9211\n",
            "Epoch 135/150\n",
            "10/10 [==============================] - 3s 256ms/step - loss: 0.1760 - accuracy: 0.9145 - val_loss: 0.3252 - val_accuracy: 0.8684\n",
            "Epoch 136/150\n",
            "10/10 [==============================] - 4s 434ms/step - loss: 0.1690 - accuracy: 0.9211 - val_loss: 0.3392 - val_accuracy: 0.8947\n",
            "Epoch 137/150\n",
            "10/10 [==============================] - 4s 350ms/step - loss: 0.1547 - accuracy: 0.9474 - val_loss: 0.3031 - val_accuracy: 0.8947\n",
            "Epoch 138/150\n",
            "10/10 [==============================] - 3s 236ms/step - loss: 0.1718 - accuracy: 0.9342 - val_loss: 0.5296 - val_accuracy: 0.8421\n",
            "Epoch 139/150\n",
            "10/10 [==============================] - 3s 326ms/step - loss: 0.2216 - accuracy: 0.9211 - val_loss: 0.3254 - val_accuracy: 0.8947\n",
            "Epoch 140/150\n",
            "10/10 [==============================] - 3s 251ms/step - loss: 0.2639 - accuracy: 0.8882 - val_loss: 0.3380 - val_accuracy: 0.8421\n",
            "Epoch 141/150\n",
            "10/10 [==============================] - 3s 302ms/step - loss: 0.3164 - accuracy: 0.8553 - val_loss: 0.3449 - val_accuracy: 0.8947\n",
            "Epoch 142/150\n",
            "10/10 [==============================] - 4s 376ms/step - loss: 0.2953 - accuracy: 0.8553 - val_loss: 0.2694 - val_accuracy: 0.8421\n",
            "Epoch 143/150\n",
            "10/10 [==============================] - 3s 306ms/step - loss: 0.1966 - accuracy: 0.9145 - val_loss: 0.2579 - val_accuracy: 0.8684\n",
            "Epoch 144/150\n",
            "10/10 [==============================] - 3s 275ms/step - loss: 0.2504 - accuracy: 0.9145 - val_loss: 0.1926 - val_accuracy: 0.8947\n",
            "Epoch 145/150\n",
            "10/10 [==============================] - 4s 415ms/step - loss: 0.1525 - accuracy: 0.9145 - val_loss: 0.1650 - val_accuracy: 0.9474\n",
            "Epoch 146/150\n",
            "10/10 [==============================] - 3s 265ms/step - loss: 0.2193 - accuracy: 0.9145 - val_loss: 0.1972 - val_accuracy: 0.9474\n",
            "Epoch 147/150\n",
            "10/10 [==============================] - 3s 266ms/step - loss: 0.1669 - accuracy: 0.9342 - val_loss: 0.2757 - val_accuracy: 0.8684\n",
            "Epoch 148/150\n",
            "10/10 [==============================] - 4s 410ms/step - loss: 0.2032 - accuracy: 0.9342 - val_loss: 0.2749 - val_accuracy: 0.8947\n",
            "Epoch 149/150\n",
            "10/10 [==============================] - 4s 404ms/step - loss: 0.1863 - accuracy: 0.9408 - val_loss: 0.2494 - val_accuracy: 0.8684\n",
            "Epoch 150/150\n",
            "10/10 [==============================] - 4s 406ms/step - loss: 0.1968 - accuracy: 0.9079 - val_loss: 0.2530 - val_accuracy: 0.8684\n"
          ]
        }
      ]
    },
    {
      "cell_type": "code",
      "source": [
        "#vit_classifier.save()"
      ],
      "metadata": {
        "id": "PD-6tlPHlQTd"
      },
      "execution_count": null,
      "outputs": []
    },
    {
      "cell_type": "code",
      "source": [
        "acc = history.history['accuracy']\n",
        "val_acc = history.history['val_accuracy']\n",
        "\n",
        "loss = history.history['loss']\n",
        "val_loss = history.history['val_loss']\n",
        "\n",
        "epochs_range = range(num_epochs)\n",
        "\n",
        "plt.figure(figsize=(8, 8))\n",
        "plt.subplot(1, 2, 1)\n",
        "plt.plot(epochs_range, acc, label='Training Accuracy')\n",
        "plt.plot(epochs_range, val_acc, label='Validation Accuracy')\n",
        "plt.legend(loc='lower right')\n",
        "plt.title('Training and Validation Accuracy')\n",
        "\n",
        "plt.subplot(1, 2, 2)\n",
        "plt.plot(epochs_range, loss, label='Training Loss')\n",
        "plt.plot(epochs_range, val_loss, label='Validation Loss')\n",
        "plt.legend(loc='upper right')\n",
        "plt.title('Training and Validation Loss')\n",
        "plt.show()"
      ],
      "metadata": {
        "colab": {
          "base_uri": "https://localhost:8080/",
          "height": 499
        },
        "id": "Mh1tLCrje86r",
        "outputId": "6c72dbae-9563-4533-87b4-c33e7ead9fa4"
      },
      "execution_count": 321,
      "outputs": [
        {
          "output_type": "display_data",
          "data": {
            "image/png": "[encoded data removed]",
            "text/plain": [
              "<Figure size 576x576 with 2 Axes>"
            ]
          },
          "metadata": {
            "needs_background": "light"
          }
        }
      ]
    },
    {
      "cell_type": "code",
      "source": [
        "import os\n",
        "from os import listdir\n",
        "from os.path import isfile, join\n",
        "import shutil\n",
        "import random"
      ],
      "metadata": {
        "id": "hbvnt_31waJM"
      },
      "execution_count": 309,
      "outputs": []
    },
    {
      "cell_type": "markdown",
      "source": [
        "<h1>Load best model and do prediction</h1>"
      ],
      "metadata": {
        "id": "WqXdaSu8elXx"
      }
    },
    {
      "cell_type": "code",
      "source": [
        "checkpoint_filepath = '/content/drive/MyDrive/ImageClassificationData/checkpoint/checkpoint'\n",
        "inference_model = create_vit_classifier()\n",
        "inference_model.load_weights(checkpoint_filepath)\n"
      ],
      "metadata": {
        "id": "2mAg7ukJ3Yf0",
        "outputId": "ae3a76c0-bfe3-4185-903f-43c234c20c78",
        "colab": {
          "base_uri": "https://localhost:8080/"
        }
      },
      "execution_count": 241,
      "outputs": [
        {
          "output_type": "execute_result",
          "data": {
            "text/plain": [
              "<tensorflow.python.training.tracking.util.CheckpointLoadStatus at 0x7f4f2dc56750>"
            ]
          },
          "metadata": {},
          "execution_count": 241
        }
      ]
    },
    {
      "cell_type": "code",
      "source": [
        "data_path =  '/content/drive/My Drive/ImageClassificationData/'\n",
        "train_data_path = os.path.join(data_path,'Test')\n",
        "image_names = [f for f in listdir(train_data_path) if isfile(join(train_data_path, f))]\n",
        "#image_names"
      ],
      "metadata": {
        "id": "MhjVKHSV1VPT"
      },
      "execution_count": 310,
      "outputs": []
    },
    {
      "cell_type": "code",
      "source": [
        "labels=[]\n",
        "for name in image_names:\n",
        "  if 'AP' in name:\n",
        "    labels.append(0)\n",
        "  else:\n",
        "    labels.append(1)\n",
        "labels = np.asarray(labels)"
      ],
      "metadata": {
        "id": "MGyfUqqqErfV"
      },
      "execution_count": 311,
      "outputs": []
    },
    {
      "cell_type": "code",
      "source": [
        "labels[0]"
      ],
      "metadata": {
        "id": "cr26sFiwFN94",
        "outputId": "125a98f4-cee3-4a30-89d6-53498302b236",
        "colab": {
          "base_uri": "https://localhost:8080/"
        }
      },
      "execution_count": 238,
      "outputs": [
        {
          "output_type": "execute_result",
          "data": {
            "text/plain": [
              "0"
            ]
          },
          "metadata": {},
          "execution_count": 238
        }
      ]
    },
    {
      "cell_type": "code",
      "source": [
        "i = 0 \n",
        "test_image = os.path.join(data_path,'Test',image_names[i])\n",
        "#print(test_image)\n",
        "y = labels[i]\n",
        "img = tf.keras.utils.load_img(\n",
        "    test_image,\n",
        "    #color_mode = \"grayscale\", \n",
        "    target_size=(img_height, img_width),\n",
        "    )\n",
        "img_array = tf.keras.utils.img_to_array(img)\n",
        "img_array = tf.expand_dims(img_array, 0) # Create a batch\n",
        "\n",
        "predictions = inference_model.predict(img_array)"
      ],
      "metadata": {
        "id": "CdZ_Tgtg-53T"
      },
      "execution_count": 312,
      "outputs": []
    },
    {
      "cell_type": "code",
      "source": [
        "predictions"
      ],
      "metadata": {
        "id": "nED17WTS-5_j",
        "outputId": "7213351e-5a78-48ec-a7ba-910a03a874ea",
        "colab": {
          "base_uri": "https://localhost:8080/"
        }
      },
      "execution_count": 230,
      "outputs": [
        {
          "output_type": "execute_result",
          "data": {
            "text/plain": [
              "array([[0.47103396]], dtype=float32)"
            ]
          },
          "metadata": {},
          "execution_count": 230
        }
      ]
    },
    {
      "cell_type": "code",
      "source": [
        "\n",
        "def select_image(image_names,data_path,random_image):\n",
        "  random_image = random.choice(image_names)\n",
        "  test_image = os.path.join(data_path,'Test',random_image)\n",
        "  if 'AP' in test_image:\n",
        "    class_name = 'AP'\n",
        "  else:\n",
        "    class_name = 'Lateral'\n",
        "  return(test_image)\n",
        "\n",
        "\n",
        "#for _ in range(10):\n"
      ],
      "metadata": {
        "id": "k7m2dtUl1YWV"
      },
      "execution_count": 196,
      "outputs": []
    },
    {
      "cell_type": "code",
      "source": [
        "tp = 0\n",
        "fp = 0\n",
        "for name in image_names:\n",
        "  test_image = os.path.join(data_path,'Test',name)\n",
        "  #print(test_image)\n",
        "  #test_image = select_image(image_names,data_path,name)\n",
        "  img = tf.keras.utils.load_img(\n",
        "      test_image,\n",
        "      #color_mode = \"grayscale\", \n",
        "      target_size=(img_height, img_width),\n",
        "      )\n",
        "  img_array = tf.keras.utils.img_to_array(img)\n",
        "  img_array = tf.expand_dims(img_array, 0) # Create a batch\n",
        "\n",
        "  predictions = vit_classifier.predict(img_array)\n",
        " # acc,loss = inference_model.evaluate(img_array)\n",
        "  \n",
        "  if 'AP' in test_image:\n",
        "    class_name = 'AP'\n",
        "  else:\n",
        "    class_name = 'Lateral'\n",
        "  #print('\\n','True image class:',class_name)\n",
        "\n",
        "  #print(test_image)\n",
        "  #print(predictions)\n",
        "  if predictions<0.4:\n",
        "    print('\\n',name,'    True image class:',class_name,'             predicted class is Lateral   ', predictions)\n",
        "  else:\n",
        "    print('\\n',name,'   True image class:',class_name,'              predicted class is AP      ',predictions)  \n",
        "\n",
        "  total_num_test_images = len(image_names)\n",
        "\n",
        "  if (class_name == 'Lateral' and predictions <0.5)  or (class_name == 'AP' and predictions >0.5):\n",
        "    tp = tp + 1 \n",
        "  else:\n",
        "    fp = fp + 1\n",
        "\n",
        "print(tp)\n",
        "print(fp)"
      ],
      "metadata": {
        "id": "hwCnD66239pH",
        "outputId": "1e3314e0-6e58-483a-bd13-6963df34ea7e",
        "colab": {
          "base_uri": "https://localhost:8080/"
        }
      },
      "execution_count": 313,
      "outputs": [
        {
          "output_type": "stream",
          "name": "stdout",
          "text": [
            "\n",
            " 211_AP.png    True image class: AP               predicted class is AP       [[0.89929914]]\n",
            "\n",
            " 198_Lateral.png     True image class: Lateral              predicted class is Lateral    [[0.14524236]]\n",
            "\n",
            " 196_Lateral.png    True image class: Lateral               predicted class is AP       [[0.9975871]]\n",
            "\n",
            " 195_Lateral.png     True image class: Lateral              predicted class is Lateral    [[0.00471953]]\n",
            "\n",
            " 210_AP.png     True image class: AP              predicted class is Lateral    [[0.25082082]]\n",
            "\n",
            " 209_AP.png    True image class: AP               predicted class is AP       [[0.9304694]]\n",
            "\n",
            " 201_Lateral.png     True image class: Lateral              predicted class is Lateral    [[0.2248249]]\n",
            "\n",
            " 194_Lateral.png    True image class: Lateral               predicted class is AP       [[0.902537]]\n",
            "\n",
            " 199_Lateral.png     True image class: Lateral              predicted class is Lateral    [[0.01030815]]\n",
            "\n",
            " 217_AP.png     True image class: AP              predicted class is Lateral    [[0.03031659]]\n",
            "\n",
            " 214_AP.png    True image class: AP               predicted class is AP       [[0.64529]]\n",
            "\n",
            " 200_Lateral.png    True image class: Lateral               predicted class is AP       [[0.9020906]]\n",
            "\n",
            " 197_Lateral.png     True image class: Lateral              predicted class is Lateral    [[0.00316823]]\n",
            "\n",
            " 206_AP.png     True image class: AP              predicted class is Lateral    [[0.00178087]]\n",
            "\n",
            " 191_Lateral.png    True image class: Lateral               predicted class is AP       [[1.]]\n",
            "\n",
            " 208_AP.png     True image class: AP              predicted class is Lateral    [[0.24182314]]\n",
            "\n",
            " 203_Lateral.png     True image class: Lateral              predicted class is Lateral    [[0.3210004]]\n",
            "\n",
            " 205_AP.png    True image class: AP               predicted class is AP       [[0.9999831]]\n",
            "\n",
            " 216_AP.png    True image class: AP               predicted class is AP       [[0.79272574]]\n",
            "\n",
            " 215_AP.png     True image class: AP              predicted class is Lateral    [[9.615781e-06]]\n",
            "\n",
            " 193_Lateral.png     True image class: Lateral              predicted class is Lateral    [[0.23002055]]\n",
            "\n",
            " 212_AP.png     True image class: AP              predicted class is Lateral    [[0.00057298]]\n",
            "\n",
            " 207_AP.png     True image class: AP              predicted class is Lateral    [[0.00250214]]\n",
            "\n",
            " 202_Lateral.png    True image class: Lateral               predicted class is AP       [[0.9831122]]\n",
            "\n",
            " 192_Lateral.png    True image class: Lateral               predicted class is AP       [[1.]]\n",
            "\n",
            " 213_AP.png     True image class: AP              predicted class is Lateral    [[0.00177202]]\n",
            "\n",
            " 204_AP.png     True image class: AP              predicted class is Lateral    [[1.2437991e-05]]\n",
            "12\n",
            "15\n"
          ]
        }
      ]
    },
    {
      "cell_type": "code",
      "source": [
        "total_num_test_images"
      ],
      "metadata": {
        "id": "AGPQCyJV5gtj",
        "outputId": "7966827a-cb31-46c5-94ab-ca2d1200bbea",
        "colab": {
          "base_uri": "https://localhost:8080/"
        }
      },
      "execution_count": 255,
      "outputs": [
        {
          "output_type": "execute_result",
          "data": {
            "text/plain": [
              "27"
            ]
          },
          "metadata": {},
          "execution_count": 255
        }
      ]
    },
    {
      "cell_type": "code",
      "source": [
        "tp"
      ],
      "metadata": {
        "id": "sWKWrG1_HroM",
        "outputId": "d8710b21-f508-41e5-d59a-7aaf3ede3096",
        "colab": {
          "base_uri": "https://localhost:8080/"
        }
      },
      "execution_count": 314,
      "outputs": [
        {
          "output_type": "execute_result",
          "data": {
            "text/plain": [
              "12"
            ]
          },
          "metadata": {},
          "execution_count": 314
        }
      ]
    },
    {
      "cell_type": "code",
      "source": [
        "fp"
      ],
      "metadata": {
        "id": "FqbO8bE3Hs66",
        "outputId": "760e5082-7d72-4335-8adb-c8215fcb9b72",
        "colab": {
          "base_uri": "https://localhost:8080/"
        }
      },
      "execution_count": 315,
      "outputs": [
        {
          "output_type": "execute_result",
          "data": {
            "text/plain": [
              "15"
            ]
          },
          "metadata": {},
          "execution_count": 315
        }
      ]
    }
  ],
  "metadata": {
    "colab": {
      "collapsed_sections": [],
      "name": "ViTimageClassification",
      "provenance": [],
      "include_colab_link": true
    },
    "environment": {
      "name": "tf2-gpu.2-4.m61",
      "type": "gcloud",
      "uri": "gcr.io/deeplearning-platform-release/tf2-gpu.2-4:m61"
    },
    "kernelspec": {
      "display_name": "Python 3",
      "language": "python",
      "name": "python3"
    },
    "language_info": {
      "codemirror_mode": {
        "name": "ipython",
        "version": 3
      },
      "file_extension": ".py",
      "mimetype": "text/x-python",
      "name": "python",
      "nbconvert_exporter": "python",
      "pygments_lexer": "ipython3",
      "version": "3.7.9"
    }
  },
  "nbformat": 4,
  "nbformat_minor": 0
}