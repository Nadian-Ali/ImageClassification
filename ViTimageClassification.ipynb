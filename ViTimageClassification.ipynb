{
  "cells": [
    {
      "cell_type": "markdown",
      "metadata": {
        "id": "view-in-github",
        "colab_type": "text"
      },
      "source": [
        "<a href=\"https://colab.research.google.com/github/Nadian-Ali/ImageClassification/blob/main/ViTimageClassification.ipynb\" target=\"_parent\"><img src=\"https://colab.research.google.com/assets/colab-badge.svg\" alt=\"Open In Colab\"/></a>"
      ]
    },
    {
      "cell_type": "markdown",
      "metadata": {
        "id": "i1ZPDbq_T1Ys"
      },
      "source": [
        "# Image classification with Vision Transformer\n",
        "\n",
        "The base model is implemetned by Khalid Salma\n",
        " \n",
        "**Author:** [Khalid Salama](https://www.linkedin.com/in/"
      ]
    },
    {
      "cell_type": "code",
      "source": [
        "from google.colab import drive\n",
        "drive.mount('/content/drive')"
      ],
      "metadata": {
        "colab": {
          "base_uri": "https://localhost:8080/"
        },
        "id": "f-hdD9eaZSir",
        "outputId": "3380703b-73dc-459c-a6cc-a5967c208f63"
      },
      "execution_count": 2,
      "outputs": [
        {
          "output_type": "stream",
          "name": "stdout",
          "text": [
            "Drive already mounted at /content/drive; to attempt to forcibly remount, call drive.mount(\"/content/drive\", force_remount=True).\n"
          ]
        }
      ]
    },
    {
      "cell_type": "code",
      "source": [
        "!pip install -U tensorflow-addons"
      ],
      "metadata": {
        "colab": {
          "base_uri": "https://localhost:8080/"
        },
        "id": "B2yRZBNqUSgd",
        "outputId": "59ea6165-6766-4c43-e02c-b66eb01b8b09"
      },
      "execution_count": 3,
      "outputs": [
        {
          "output_type": "stream",
          "name": "stdout",
          "text": [
            "Collecting tensorflow-addons\n",
            "  Downloading tensorflow_addons-0.15.0-cp37-cp37m-manylinux_2_12_x86_64.manylinux2010_x86_64.whl (1.1 MB)\n",
            "\u001b[K     |████████████████████████████████| 1.1 MB 5.3 MB/s \n",
            "\u001b[?25hRequirement already satisfied: typeguard>=2.7 in /usr/local/lib/python3.7/dist-packages (from tensorflow-addons) (2.7.1)\n",
            "Installing collected packages: tensorflow-addons\n",
            "Successfully installed tensorflow-addons-0.15.0\n"
          ]
        }
      ]
    },
    {
      "cell_type": "markdown",
      "metadata": {
        "id": "30c33e5qT1Yy"
      },
      "source": [
        "## Setup"
      ]
    },
    {
      "cell_type": "code",
      "execution_count": 4,
      "metadata": {
        "id": "Pj2cyuW_T1Yy"
      },
      "outputs": [],
      "source": [
        "import numpy as np\n",
        "import tensorflow as tf\n",
        "from tensorflow import keras\n",
        "from tensorflow.keras import layers\n",
        "import tensorflow_addons as tfa"
      ]
    },
    {
      "cell_type": "markdown",
      "metadata": {
        "id": "dUa8L6R-T1Y0"
      },
      "source": [
        "## Prepare the data"
      ]
    },
    {
      "cell_type": "code",
      "source": [
        "data_dir = '/content/drive/MyDrive/ImageClassificationData/Data'"
      ],
      "metadata": {
        "id": "GRHAyb5AZ8O0"
      },
      "execution_count": 5,
      "outputs": []
    },
    {
      "cell_type": "code",
      "source": [
        "batch_size = 16\n",
        "img_height = 256\n",
        "img_width = 256\n",
        "input_shape = (img_height,img_width,3)"
      ],
      "metadata": {
        "id": "q09UhKw7aRFZ"
      },
      "execution_count": 6,
      "outputs": []
    },
    {
      "cell_type": "code",
      "source": [
        "from keras.preprocessing import image"
      ],
      "metadata": {
        "id": "3lqRJlKN17bU"
      },
      "execution_count": 7,
      "outputs": []
    },
    {
      "cell_type": "code",
      "source": [
        "train_ds = tf.keras.utils.image_dataset_from_directory(\n",
        "  data_dir,\n",
        "  validation_split=0.2,\n",
        "  #color_mode = \"grayscale\",\n",
        "  subset=\"training\",\n",
        "  seed=123,\n",
        "  image_size=(img_height, img_width),\n",
        "  batch_size=batch_size)"
      ],
      "metadata": {
        "colab": {
          "base_uri": "https://localhost:8080/"
        },
        "id": "ucIc6FXTaRLd",
        "outputId": "9069bb28-fb95-4d7f-b7e8-13e037d0c73a"
      },
      "execution_count": 8,
      "outputs": [
        {
          "output_type": "stream",
          "name": "stdout",
          "text": [
            "Found 190 files belonging to 2 classes.\n",
            "Using 152 files for training.\n"
          ]
        }
      ]
    },
    {
      "cell_type": "code",
      "source": [
        ""
      ],
      "metadata": {
        "id": "CpUBf2_Uk4cj"
      },
      "execution_count": null,
      "outputs": []
    },
    {
      "cell_type": "code",
      "source": [
        "val_ds = tf.keras.utils.image_dataset_from_directory(\n",
        "  data_dir,\n",
        "  validation_split=0.2,\n",
        "  subset=\"validation\",\n",
        "  #color_mode = \"grayscale\",\n",
        "  seed=123,\n",
        "  image_size=(img_height, img_width),\n",
        "  batch_size=batch_size)"
      ],
      "metadata": {
        "colab": {
          "base_uri": "https://localhost:8080/"
        },
        "id": "3kHnh5Fmk4iN",
        "outputId": "9a627ca4-09d3-4eb8-cc82-82384f99fa62"
      },
      "execution_count": 9,
      "outputs": [
        {
          "output_type": "stream",
          "name": "stdout",
          "text": [
            "Found 190 files belonging to 2 classes.\n",
            "Using 38 files for validation.\n"
          ]
        }
      ]
    },
    {
      "cell_type": "code",
      "source": [
        "class_names = train_ds.class_names\n",
        "num_classes = len(class_names)"
      ],
      "metadata": {
        "id": "bBH7Q6c2k72q"
      },
      "execution_count": 10,
      "outputs": []
    },
    {
      "cell_type": "code",
      "source": [
        "print(class_names)"
      ],
      "metadata": {
        "id": "NI6SOgq3k76B",
        "colab": {
          "base_uri": "https://localhost:8080/"
        },
        "outputId": "877d9286-f5ea-43f3-d7b7-64678c7f7a0b"
      },
      "execution_count": 11,
      "outputs": [
        {
          "output_type": "stream",
          "name": "stdout",
          "text": [
            "['AP', 'Lateral']\n"
          ]
        }
      ]
    },
    {
      "cell_type": "code",
      "source": [
        ""
      ],
      "metadata": {
        "id": "nnJseamHk79f"
      },
      "execution_count": null,
      "outputs": []
    },
    {
      "cell_type": "code",
      "source": [
        ""
      ],
      "metadata": {
        "id": "Cg7ykXDGk8BD"
      },
      "execution_count": null,
      "outputs": []
    },
    {
      "cell_type": "code",
      "execution_count": null,
      "metadata": {
        "id": "4beZddopT1Y0"
      },
      "outputs": [],
      "source": [
        ""
      ]
    },
    {
      "cell_type": "markdown",
      "metadata": {
        "id": "LmWUtCjoT1Y1"
      },
      "source": [
        "## Configure the hyperparameters"
      ]
    },
    {
      "cell_type": "code",
      "execution_count": 12,
      "metadata": {
        "id": "-9iyUF20T1Y2"
      },
      "outputs": [],
      "source": [
        "learning_rate = 0.001 #was 0.001\n",
        "weight_decay = 0.0001\n",
        "batch_size = 32\n",
        "num_epochs = 150\n",
        "image_size = 128  # We'll resize input images to this size\n",
        "patch_size = 32  # Size of the patches to be extract from the input images\n",
        "num_patches = (image_size // patch_size) ** 2\n",
        "projection_dim = 64\n",
        "num_heads = 2\n",
        "transformer_units = [\n",
        "    projection_dim * 2,\n",
        "    projection_dim,\n",
        "]  # Size of the transformer layers\n",
        "transformer_layers = 8\n",
        "mlp_head_units = [2048, 1024]  # Size of the dense layers of the final classifier\n"
      ]
    },
    {
      "cell_type": "code",
      "source": [
        "num_patches"
      ],
      "metadata": {
        "colab": {
          "base_uri": "https://localhost:8080/"
        },
        "id": "jFmOfa-9jm3s",
        "outputId": "86edabbd-b14e-4532-ac2f-735596760464"
      },
      "execution_count": 13,
      "outputs": [
        {
          "output_type": "execute_result",
          "data": {
            "text/plain": [
              "16"
            ]
          },
          "metadata": {},
          "execution_count": 13
        }
      ]
    },
    {
      "cell_type": "markdown",
      "metadata": {
        "id": "Nj1NnqYET1Y3"
      },
      "source": [
        "## Use data augmentation"
      ]
    },
    {
      "cell_type": "code",
      "execution_count": 15,
      "metadata": {
        "id": "JEp9xbTKT1Y4"
      },
      "outputs": [],
      "source": [
        "data_augmentation = keras.Sequential(\n",
        "    [\n",
        "        layers.Normalization(),\n",
        "        layers.Resizing(image_size, image_size),\n",
        "        layers.RandomFlip(\"horizontal\"),\n",
        "        #layers.RandomRotation(factor=0.02),\n",
        "        layers.RandomZoom(\n",
        "            height_factor=0.2, width_factor=0.2\n",
        "        ),\n",
        "    ],\n",
        "    name=\"data_augmentation\",\n",
        ")\n",
        "\n"
      ]
    },
    {
      "cell_type": "markdown",
      "metadata": {
        "id": "GKCDVSiGT1Y5"
      },
      "source": [
        "## Implement multilayer perceptron (MLP)"
      ]
    },
    {
      "cell_type": "code",
      "execution_count": 16,
      "metadata": {
        "id": "0zpN3t6cT1Y5"
      },
      "outputs": [],
      "source": [
        "\n",
        "def mlp(x, hidden_units, dropout_rate):\n",
        "    for units in hidden_units:\n",
        "        x = layers.Dense(units, activation=tf.nn.gelu)(x)\n",
        "        x = layers.Dropout(dropout_rate)(x)\n",
        "    return x\n"
      ]
    },
    {
      "cell_type": "markdown",
      "metadata": {
        "id": "cPwd0GhQT1Y5"
      },
      "source": [
        "## Implement patch creation as a layer"
      ]
    },
    {
      "cell_type": "code",
      "execution_count": 17,
      "metadata": {
        "id": "ipg__SPWT1Y6"
      },
      "outputs": [],
      "source": [
        "\n",
        "class Patches(layers.Layer):\n",
        "    def __init__(self, patch_size):\n",
        "        super(Patches, self).__init__()\n",
        "        self.patch_size = patch_size\n",
        "\n",
        "    def call(self, images):\n",
        "        batch_size = tf.shape(images)[0]\n",
        "        patches = tf.image.extract_patches(\n",
        "            images=images,\n",
        "            sizes=[1, self.patch_size, self.patch_size, 1],\n",
        "            strides=[1, self.patch_size, self.patch_size, 1],\n",
        "            rates=[1, 1, 1, 1],\n",
        "            padding=\"VALID\",\n",
        "        )\n",
        "        patch_dims = patches.shape[-1]\n",
        "        patches = tf.reshape(patches, [batch_size, -1, patch_dims])\n",
        "        return patches\n"
      ]
    },
    {
      "cell_type": "markdown",
      "metadata": {
        "id": "AzoVtBA6T1Y9"
      },
      "source": [
        "Let's display patches for a sample image"
      ]
    },
    {
      "cell_type": "code",
      "execution_count": null,
      "metadata": {
        "id": "qJC2yvJBT1Y_",
        "cellView": "form"
      },
      "outputs": [],
      "source": [
        "\n",
        "#@title visualize patches \n",
        "# import matplotlib.pyplot as plt\n",
        "\n",
        "# plt.figure(figsize=(4, 4))\n",
        "# image = x_train[np.random.choice(range(x_train.shape[0]))]\n",
        "# plt.imshow(image.astype(\"uint8\"))\n",
        "# plt.axis(\"off\")\n",
        "\n",
        "# resized_image = tf.image.resize(\n",
        "#     tf.convert_to_tensor([image]), size=(image_size, image_size)\n",
        "# )\n",
        "# patches = Patches(patch_size)(resized_image)\n",
        "# print(f\"Image size: {image_size} X {image_size}\")\n",
        "# print(f\"Patch size: {patch_size} X {patch_size}\")\n",
        "# print(f\"Patches per image: {patches.shape[1]}\")\n",
        "# print(f\"Elements per patch: {patches.shape[-1]}\")\n",
        "\n",
        "# n = int(np.sqrt(patches.shape[1]))\n",
        "# plt.figure(figsize=(4, 4))\n",
        "# for i, patch in enumerate(patches[0]):\n",
        "#     ax = plt.subplot(n, n, i + 1)\n",
        "#     patch_img = tf.reshape(patch, (patch_size, patch_size, 3))\n",
        "#     plt.imshow(patch_img.numpy().astype(\"uint8\"))\n",
        "#     plt.axis(\"off\")"
      ]
    },
    {
      "cell_type": "markdown",
      "metadata": {
        "id": "qGJ-FZ1bT1ZB"
      },
      "source": [
        "## Implement the patch encoding layer\n",
        "\n"
      ]
    },
    {
      "cell_type": "code",
      "execution_count": 18,
      "metadata": {
        "id": "adui-zEbT1ZC"
      },
      "outputs": [],
      "source": [
        "\n",
        "class PatchEncoder(layers.Layer):\n",
        "    def __init__(self, num_patches, projection_dim):\n",
        "        super(PatchEncoder, self).__init__()\n",
        "        self.num_patches = num_patches\n",
        "        self.projection = layers.Dense(units=projection_dim)\n",
        "        self.position_embedding = layers.Embedding(\n",
        "            input_dim=num_patches, output_dim=projection_dim\n",
        "        )\n",
        "\n",
        "    def call(self, patch):\n",
        "        positions = tf.range(start=0, limit=self.num_patches, delta=1)\n",
        "        encoded = self.projection(patch) + self.position_embedding(positions)\n",
        "        return encoded\n"
      ]
    },
    {
      "cell_type": "markdown",
      "metadata": {
        "id": "sSU9e_VFT1ZD"
      },
      "source": [
        "## Build the ViT model\n",
        "\n"
      ]
    },
    {
      "cell_type": "code",
      "execution_count": 19,
      "metadata": {
        "id": "V8VCy_gDT1ZD"
      },
      "outputs": [],
      "source": [
        "\n",
        "def create_vit_classifier():\n",
        "    inputs = layers.Input(shape=input_shape)\n",
        "    # Augment data.\n",
        "    augmented = data_augmentation(inputs)\n",
        "    # Create patches.\n",
        "    patches = Patches(patch_size)(augmented)\n",
        "    # Encode patches.\n",
        "    encoded_patches = PatchEncoder(num_patches, projection_dim)(patches)\n",
        "\n",
        "    # Create multiple layers of the Transformer block.\n",
        "    for _ in range(transformer_layers):\n",
        "        # Layer normalization 1.\n",
        "        x1 = layers.LayerNormalization(epsilon=1e-6)(encoded_patches)\n",
        "        # Create a multi-head attention layer.\n",
        "        attention_output = layers.MultiHeadAttention(\n",
        "            num_heads=num_heads, key_dim=projection_dim, dropout=0.1\n",
        "        )(x1, x1)\n",
        "        # Skip connection 1.\n",
        "        x2 = layers.Add()([attention_output, encoded_patches])\n",
        "        # Layer normalization 2.\n",
        "        x3 = layers.LayerNormalization(epsilon=1e-6)(x2)\n",
        "        # MLP.\n",
        "        x3 = mlp(x3, hidden_units=transformer_units, dropout_rate=0.1)\n",
        "        # Skip connection 2.\n",
        "        encoded_patches = layers.Add()([x3, x2])\n",
        "\n",
        "    # Create a [batch_size, projection_dim] tensor.\n",
        "    representation = layers.LayerNormalization(epsilon=1e-6)(encoded_patches)\n",
        "    representation = layers.Flatten()(representation)\n",
        "    representation = layers.Dropout(0.5)(representation)\n",
        "    # Add MLP.\n",
        "    features = mlp(representation, hidden_units=mlp_head_units, dropout_rate=0.5)\n",
        "    # Classify outputs.\n",
        "    logits = layers.Dense(1,activation = 'sigmoid')(features)\n",
        "    # Create the Keras model.\n",
        "    model = keras.Model(inputs=inputs, outputs=logits)\n",
        "    return model\n"
      ]
    },
    {
      "cell_type": "markdown",
      "metadata": {
        "id": "2kCbtuokT1ZE"
      },
      "source": [
        "## Compile, train, and evaluate the mode"
      ]
    },
    {
      "cell_type": "code",
      "source": [
        "optimizer = tfa.optimizers.AdamW(\n",
        "        learning_rate=learning_rate, weight_decay=weight_decay\n",
        "    )\n",
        "\n"
      ],
      "metadata": {
        "id": "ccu2ewvsWNJl"
      },
      "execution_count": 20,
      "outputs": []
    },
    {
      "cell_type": "code",
      "source": [
        "vit_classifier = create_vit_classifier()\n",
        "\n",
        "vit_classifier.compile(\n",
        "        optimizer=optimizer,\n",
        "        loss=keras.losses.BinaryCrossentropy(from_logits=False),\n",
        "        metrics=['accuracy']\n",
        "            #keras.metrics.BinaryCrossentropy(name=\"accuracy\"),\n",
        "#            keras.metrics.SparseTopKCategoricalAccuracy(5, name=\"top-5-accuracy\"),\n",
        "        #],\n",
        "    )"
      ],
      "metadata": {
        "id": "Zhn0Pl3tWOhJ"
      },
      "execution_count": 21,
      "outputs": []
    },
    {
      "cell_type": "code",
      "source": [
        "%cd drive/My Drive/ImageClassificationData"
      ],
      "metadata": {
        "id": "JuPNpiYKP6Kb",
        "outputId": "69e6a3f0-72da-4570-869e-e8d10026725f",
        "colab": {
          "base_uri": "https://localhost:8080/"
        }
      },
      "execution_count": null,
      "outputs": [
        {
          "output_type": "stream",
          "name": "stdout",
          "text": [
            "[Errno 2] No such file or directory: 'drive/My Drive/ImageClassificationData'\n",
            "/content/drive/My Drive/ImageClassificationData\n"
          ]
        }
      ]
    },
    {
      "cell_type": "code",
      "source": [
        ""
      ],
      "metadata": {
        "id": "l2RZrujePGFR"
      },
      "execution_count": null,
      "outputs": []
    },
    {
      "cell_type": "code",
      "source": [
        ""
      ],
      "metadata": {
        "id": "NdmmyvuhP5Xi"
      },
      "execution_count": null,
      "outputs": []
    },
    {
      "cell_type": "code",
      "source": [
        "checkpoint_filepath = '/content/drive/MyDrive/ImageClassificationData/checkpoint/checkpoint2'\n",
        "checkpoint_callback = tf.keras.callbacks.ModelCheckpoint(\n",
        "    filepath=checkpoint_filepath,\n",
        "    save_weights_only=True,\n",
        "    monitor='val_loss',\n",
        "    mode='min',\n",
        "    save_best_only=True)\n",
        "\n"
      ],
      "metadata": {
        "id": "QhJAJZoUoTLx"
      },
      "execution_count": 22,
      "outputs": []
    },
    {
      "cell_type": "code",
      "source": [
        "weight_for_0 = 190/(2*107)\n",
        "weight_for_1 = 190/(2*83)\n",
        "print(weight_for_0)\n",
        "print(weight_for_1)\n",
        "class_weight = {0: weight_for_0, 1: weight_for_1}"
      ],
      "metadata": {
        "id": "dGG7Z3UEWWNi",
        "outputId": "5643b1e0-9a46-4b26-bebf-5375c4a358b2",
        "colab": {
          "base_uri": "https://localhost:8080/"
        }
      },
      "execution_count": 23,
      "outputs": [
        {
          "output_type": "stream",
          "name": "stdout",
          "text": [
            "0.8878504672897196\n",
            "1.144578313253012\n"
          ]
        }
      ]
    },
    {
      "cell_type": "code",
      "source": [
        "\n",
        "\n",
        "\n",
        "history = vit_classifier.fit(\n",
        "        x=train_ds,\n",
        "        #y=val_ds,\n",
        "        #batch_size=batch_size,\n",
        "        validation_data=val_ds,\n",
        "        epochs=num_epochs,\n",
        "      #  validation_split=0.1,\n",
        "        callbacks=[checkpoint_callback],\n",
        "        class_weight = class_weight,\n",
        "        #batch_size = 16,\n",
        "    )"
      ],
      "metadata": {
        "colab": {
          "base_uri": "https://localhost:8080/"
        },
        "id": "0zYfvovhWOoW",
        "outputId": "877819f8-27ff-440b-a955-a218006db95c"
      },
      "execution_count": 24,
      "outputs": [
        {
          "output_type": "stream",
          "name": "stdout",
          "text": [
            "Epoch 1/150\n",
            "10/10 [==============================] - 36s 745ms/step - loss: 1.9705 - accuracy: 0.5000 - val_loss: 1.1937 - val_accuracy: 0.5000\n",
            "Epoch 2/150\n",
            "10/10 [==============================] - 3s 227ms/step - loss: 1.4995 - accuracy: 0.5395 - val_loss: 0.6034 - val_accuracy: 0.6842\n",
            "Epoch 3/150\n",
            "10/10 [==============================] - 3s 225ms/step - loss: 1.1575 - accuracy: 0.5855 - val_loss: 0.5952 - val_accuracy: 0.7105\n",
            "Epoch 4/150\n",
            "10/10 [==============================] - 3s 221ms/step - loss: 0.9164 - accuracy: 0.5592 - val_loss: 0.5784 - val_accuracy: 0.6842\n",
            "Epoch 5/150\n",
            "10/10 [==============================] - 2s 184ms/step - loss: 0.7789 - accuracy: 0.5987 - val_loss: 1.2201 - val_accuracy: 0.4474\n",
            "Epoch 6/150\n",
            "10/10 [==============================] - 2s 184ms/step - loss: 0.8370 - accuracy: 0.6382 - val_loss: 0.8682 - val_accuracy: 0.5000\n",
            "Epoch 7/150\n",
            "10/10 [==============================] - 2s 182ms/step - loss: 0.7130 - accuracy: 0.6776 - val_loss: 0.6976 - val_accuracy: 0.5526\n",
            "Epoch 8/150\n",
            "10/10 [==============================] - 2s 208ms/step - loss: 0.6219 - accuracy: 0.7039 - val_loss: 0.5874 - val_accuracy: 0.6842\n",
            "Epoch 9/150\n",
            "10/10 [==============================] - 3s 220ms/step - loss: 0.6745 - accuracy: 0.6118 - val_loss: 0.4769 - val_accuracy: 0.7632\n",
            "Epoch 10/150\n",
            "10/10 [==============================] - 3s 271ms/step - loss: 0.6370 - accuracy: 0.6711 - val_loss: 0.4524 - val_accuracy: 0.7895\n",
            "Epoch 11/150\n",
            "10/10 [==============================] - 2s 183ms/step - loss: 0.5736 - accuracy: 0.7434 - val_loss: 0.4751 - val_accuracy: 0.8158\n",
            "Epoch 12/150\n",
            "10/10 [==============================] - 2s 221ms/step - loss: 0.5753 - accuracy: 0.7237 - val_loss: 0.4520 - val_accuracy: 0.7105\n",
            "Epoch 13/150\n",
            "10/10 [==============================] - 2s 182ms/step - loss: 0.6954 - accuracy: 0.7105 - val_loss: 0.5504 - val_accuracy: 0.6579\n",
            "Epoch 14/150\n",
            "10/10 [==============================] - 2s 185ms/step - loss: 0.6872 - accuracy: 0.6447 - val_loss: 0.4838 - val_accuracy: 0.8684\n",
            "Epoch 15/150\n",
            "10/10 [==============================] - 2s 186ms/step - loss: 0.5761 - accuracy: 0.7368 - val_loss: 0.4555 - val_accuracy: 0.8947\n",
            "Epoch 16/150\n",
            "10/10 [==============================] - 3s 222ms/step - loss: 0.5299 - accuracy: 0.7434 - val_loss: 0.4288 - val_accuracy: 0.9211\n",
            "Epoch 17/150\n",
            "10/10 [==============================] - 2s 182ms/step - loss: 0.5930 - accuracy: 0.7039 - val_loss: 0.4527 - val_accuracy: 0.7632\n",
            "Epoch 18/150\n",
            "10/10 [==============================] - 2s 183ms/step - loss: 0.4648 - accuracy: 0.7829 - val_loss: 0.5835 - val_accuracy: 0.6316\n",
            "Epoch 19/150\n",
            "10/10 [==============================] - 2s 203ms/step - loss: 0.5608 - accuracy: 0.7697 - val_loss: 0.6216 - val_accuracy: 0.6579\n",
            "Epoch 20/150\n",
            "10/10 [==============================] - 3s 229ms/step - loss: 0.5955 - accuracy: 0.7171 - val_loss: 0.3544 - val_accuracy: 0.9211\n",
            "Epoch 21/150\n",
            "10/10 [==============================] - 3s 221ms/step - loss: 0.4561 - accuracy: 0.7632 - val_loss: 0.3360 - val_accuracy: 0.8684\n",
            "Epoch 22/150\n",
            "10/10 [==============================] - 2s 182ms/step - loss: 0.4650 - accuracy: 0.7961 - val_loss: 0.3457 - val_accuracy: 0.8684\n",
            "Epoch 23/150\n",
            "10/10 [==============================] - 3s 242ms/step - loss: 0.4734 - accuracy: 0.7566 - val_loss: 0.5591 - val_accuracy: 0.6579\n",
            "Epoch 24/150\n",
            "10/10 [==============================] - 2s 184ms/step - loss: 0.5406 - accuracy: 0.7368 - val_loss: 0.3542 - val_accuracy: 0.9211\n",
            "Epoch 25/150\n",
            "10/10 [==============================] - 2s 184ms/step - loss: 0.5052 - accuracy: 0.7171 - val_loss: 0.4394 - val_accuracy: 0.7105\n",
            "Epoch 26/150\n",
            "10/10 [==============================] - 2s 180ms/step - loss: 0.4500 - accuracy: 0.7763 - val_loss: 0.3648 - val_accuracy: 0.8947\n",
            "Epoch 27/150\n",
            "10/10 [==============================] - 2s 219ms/step - loss: 0.3703 - accuracy: 0.8092 - val_loss: 0.3070 - val_accuracy: 0.8947\n",
            "Epoch 28/150\n",
            "10/10 [==============================] - 2s 182ms/step - loss: 0.5047 - accuracy: 0.7829 - val_loss: 0.3422 - val_accuracy: 0.8421\n",
            "Epoch 29/150\n",
            "10/10 [==============================] - 2s 182ms/step - loss: 0.5347 - accuracy: 0.7171 - val_loss: 0.3688 - val_accuracy: 0.8947\n",
            "Epoch 30/150\n",
            "10/10 [==============================] - 2s 181ms/step - loss: 0.4816 - accuracy: 0.7566 - val_loss: 0.5459 - val_accuracy: 0.7105\n",
            "Epoch 31/150\n",
            "10/10 [==============================] - 2s 221ms/step - loss: 0.4748 - accuracy: 0.7303 - val_loss: 0.2924 - val_accuracy: 0.9211\n",
            "Epoch 32/150\n",
            "10/10 [==============================] - 2s 222ms/step - loss: 0.3941 - accuracy: 0.8092 - val_loss: 0.2887 - val_accuracy: 0.8421\n",
            "Epoch 33/150\n",
            "10/10 [==============================] - 2s 181ms/step - loss: 0.4317 - accuracy: 0.8289 - val_loss: 0.3584 - val_accuracy: 0.8421\n",
            "Epoch 34/150\n",
            "10/10 [==============================] - 2s 186ms/step - loss: 0.4737 - accuracy: 0.7632 - val_loss: 0.3193 - val_accuracy: 0.8947\n",
            "Epoch 35/150\n",
            "10/10 [==============================] - 3s 220ms/step - loss: 0.4101 - accuracy: 0.7829 - val_loss: 0.2818 - val_accuracy: 0.8684\n",
            "Epoch 36/150\n",
            "10/10 [==============================] - 2s 181ms/step - loss: 0.3668 - accuracy: 0.8421 - val_loss: 0.2894 - val_accuracy: 0.9474\n",
            "Epoch 37/150\n",
            "10/10 [==============================] - 2s 203ms/step - loss: 0.3195 - accuracy: 0.8618 - val_loss: 0.2849 - val_accuracy: 0.8684\n",
            "Epoch 38/150\n",
            "10/10 [==============================] - 3s 220ms/step - loss: 0.4354 - accuracy: 0.7829 - val_loss: 0.2545 - val_accuracy: 0.9474\n",
            "Epoch 39/150\n",
            "10/10 [==============================] - 2s 185ms/step - loss: 0.4282 - accuracy: 0.7895 - val_loss: 0.4921 - val_accuracy: 0.6842\n",
            "Epoch 40/150\n",
            "10/10 [==============================] - 2s 181ms/step - loss: 0.4765 - accuracy: 0.7500 - val_loss: 0.4212 - val_accuracy: 0.7368\n",
            "Epoch 41/150\n",
            "10/10 [==============================] - 2s 182ms/step - loss: 0.4821 - accuracy: 0.7500 - val_loss: 0.4636 - val_accuracy: 0.7632\n",
            "Epoch 42/150\n",
            "10/10 [==============================] - 2s 183ms/step - loss: 0.3878 - accuracy: 0.8026 - val_loss: 0.2963 - val_accuracy: 0.8421\n",
            "Epoch 43/150\n",
            "10/10 [==============================] - 3s 240ms/step - loss: 0.3340 - accuracy: 0.8553 - val_loss: 0.2317 - val_accuracy: 0.8684\n",
            "Epoch 44/150\n",
            "10/10 [==============================] - 2s 182ms/step - loss: 0.3823 - accuracy: 0.8355 - val_loss: 0.2890 - val_accuracy: 0.8158\n",
            "Epoch 45/150\n",
            "10/10 [==============================] - 2s 184ms/step - loss: 0.3810 - accuracy: 0.8618 - val_loss: 0.3211 - val_accuracy: 0.8684\n",
            "Epoch 46/150\n",
            "10/10 [==============================] - 2s 177ms/step - loss: 0.3883 - accuracy: 0.8026 - val_loss: 0.3058 - val_accuracy: 0.8421\n",
            "Epoch 47/150\n",
            "10/10 [==============================] - 2s 202ms/step - loss: 0.3601 - accuracy: 0.8487 - val_loss: 0.2976 - val_accuracy: 0.8684\n",
            "Epoch 48/150\n",
            "10/10 [==============================] - 2s 183ms/step - loss: 0.3702 - accuracy: 0.8882 - val_loss: 0.3184 - val_accuracy: 0.8158\n",
            "Epoch 49/150\n",
            "10/10 [==============================] - 2s 180ms/step - loss: 0.3387 - accuracy: 0.8289 - val_loss: 0.3057 - val_accuracy: 0.8158\n",
            "Epoch 50/150\n",
            "10/10 [==============================] - 2s 186ms/step - loss: 0.3634 - accuracy: 0.8092 - val_loss: 0.3138 - val_accuracy: 0.8421\n",
            "Epoch 51/150\n",
            "10/10 [==============================] - 2s 181ms/step - loss: 0.3747 - accuracy: 0.8553 - val_loss: 0.3009 - val_accuracy: 0.9211\n",
            "Epoch 52/150\n",
            "10/10 [==============================] - 2s 184ms/step - loss: 0.3929 - accuracy: 0.8224 - val_loss: 0.3129 - val_accuracy: 0.8947\n",
            "Epoch 53/150\n",
            "10/10 [==============================] - 2s 180ms/step - loss: 0.3875 - accuracy: 0.8421 - val_loss: 0.2855 - val_accuracy: 0.9211\n",
            "Epoch 54/150\n",
            "10/10 [==============================] - 2s 182ms/step - loss: 0.2889 - accuracy: 0.8882 - val_loss: 0.2809 - val_accuracy: 0.8158\n",
            "Epoch 55/150\n",
            "10/10 [==============================] - 2s 181ms/step - loss: 0.3985 - accuracy: 0.8355 - val_loss: 0.3078 - val_accuracy: 0.9211\n",
            "Epoch 56/150\n",
            "10/10 [==============================] - 2s 180ms/step - loss: 0.3180 - accuracy: 0.8553 - val_loss: 0.2732 - val_accuracy: 0.8947\n",
            "Epoch 57/150\n",
            "10/10 [==============================] - 2s 183ms/step - loss: 0.2672 - accuracy: 0.8553 - val_loss: 0.2532 - val_accuracy: 0.8947\n",
            "Epoch 58/150\n",
            "10/10 [==============================] - 2s 179ms/step - loss: 0.3902 - accuracy: 0.8355 - val_loss: 0.2529 - val_accuracy: 0.8947\n",
            "Epoch 59/150\n",
            "10/10 [==============================] - 2s 182ms/step - loss: 0.3858 - accuracy: 0.8355 - val_loss: 0.2629 - val_accuracy: 0.8684\n",
            "Epoch 60/150\n",
            "10/10 [==============================] - 2s 182ms/step - loss: 0.3170 - accuracy: 0.8092 - val_loss: 0.2831 - val_accuracy: 0.8947\n",
            "Epoch 61/150\n",
            "10/10 [==============================] - 3s 222ms/step - loss: 0.3678 - accuracy: 0.8421 - val_loss: 0.2123 - val_accuracy: 0.8684\n",
            "Epoch 62/150\n",
            "10/10 [==============================] - 2s 183ms/step - loss: 0.3280 - accuracy: 0.8289 - val_loss: 0.2665 - val_accuracy: 0.8684\n",
            "Epoch 63/150\n",
            "10/10 [==============================] - 2s 182ms/step - loss: 0.3867 - accuracy: 0.8355 - val_loss: 0.3059 - val_accuracy: 0.8421\n",
            "Epoch 64/150\n",
            "10/10 [==============================] - 2s 182ms/step - loss: 0.4030 - accuracy: 0.8355 - val_loss: 0.2859 - val_accuracy: 0.8421\n",
            "Epoch 65/150\n",
            "10/10 [==============================] - 2s 182ms/step - loss: 0.3445 - accuracy: 0.8355 - val_loss: 0.2936 - val_accuracy: 0.8421\n",
            "Epoch 66/150\n",
            "10/10 [==============================] - 2s 205ms/step - loss: 0.4045 - accuracy: 0.8355 - val_loss: 0.2813 - val_accuracy: 0.9211\n",
            "Epoch 67/150\n",
            "10/10 [==============================] - 2s 183ms/step - loss: 0.2946 - accuracy: 0.8618 - val_loss: 0.2566 - val_accuracy: 0.8947\n",
            "Epoch 68/150\n",
            "10/10 [==============================] - 2s 181ms/step - loss: 0.2668 - accuracy: 0.8882 - val_loss: 0.2625 - val_accuracy: 0.8158\n",
            "Epoch 69/150\n",
            "10/10 [==============================] - 2s 181ms/step - loss: 0.3079 - accuracy: 0.8618 - val_loss: 0.2684 - val_accuracy: 0.8947\n",
            "Epoch 70/150\n",
            "10/10 [==============================] - 2s 185ms/step - loss: 0.3072 - accuracy: 0.8224 - val_loss: 0.4026 - val_accuracy: 0.8158\n",
            "Epoch 71/150\n",
            "10/10 [==============================] - 2s 182ms/step - loss: 0.3683 - accuracy: 0.8224 - val_loss: 0.4326 - val_accuracy: 0.7368\n",
            "Epoch 72/150\n",
            "10/10 [==============================] - 2s 181ms/step - loss: 0.3228 - accuracy: 0.8158 - val_loss: 0.3915 - val_accuracy: 0.7895\n",
            "Epoch 73/150\n",
            "10/10 [==============================] - 2s 180ms/step - loss: 0.2507 - accuracy: 0.8882 - val_loss: 0.3776 - val_accuracy: 0.8947\n",
            "Epoch 74/150\n",
            "10/10 [==============================] - 2s 181ms/step - loss: 0.2338 - accuracy: 0.8816 - val_loss: 0.4143 - val_accuracy: 0.8421\n",
            "Epoch 75/150\n",
            "10/10 [==============================] - 2s 184ms/step - loss: 0.2391 - accuracy: 0.8882 - val_loss: 0.3304 - val_accuracy: 0.8947\n",
            "Epoch 76/150\n",
            "10/10 [==============================] - 2s 180ms/step - loss: 0.3450 - accuracy: 0.8289 - val_loss: 0.2444 - val_accuracy: 0.8684\n",
            "Epoch 77/150\n",
            "10/10 [==============================] - 2s 181ms/step - loss: 0.2301 - accuracy: 0.8882 - val_loss: 0.2795 - val_accuracy: 0.8421\n",
            "Epoch 78/150\n",
            "10/10 [==============================] - 2s 182ms/step - loss: 0.2509 - accuracy: 0.9013 - val_loss: 0.3458 - val_accuracy: 0.8947\n",
            "Epoch 79/150\n",
            "10/10 [==============================] - 2s 181ms/step - loss: 0.3067 - accuracy: 0.8882 - val_loss: 0.3496 - val_accuracy: 0.8421\n",
            "Epoch 80/150\n",
            "10/10 [==============================] - 2s 184ms/step - loss: 0.2688 - accuracy: 0.8947 - val_loss: 0.3884 - val_accuracy: 0.8684\n",
            "Epoch 81/150\n",
            "10/10 [==============================] - 2s 185ms/step - loss: 0.2957 - accuracy: 0.8816 - val_loss: 0.4029 - val_accuracy: 0.8158\n",
            "Epoch 82/150\n",
            "10/10 [==============================] - 2s 183ms/step - loss: 0.2446 - accuracy: 0.9013 - val_loss: 0.3433 - val_accuracy: 0.9474\n",
            "Epoch 83/150\n",
            "10/10 [==============================] - 2s 182ms/step - loss: 0.2256 - accuracy: 0.9013 - val_loss: 0.3735 - val_accuracy: 0.8947\n",
            "Epoch 84/150\n",
            "10/10 [==============================] - 2s 183ms/step - loss: 0.2264 - accuracy: 0.8947 - val_loss: 0.3731 - val_accuracy: 0.8421\n",
            "Epoch 85/150\n",
            "10/10 [==============================] - 2s 182ms/step - loss: 0.2795 - accuracy: 0.9013 - val_loss: 0.4069 - val_accuracy: 0.8947\n",
            "Epoch 86/150\n",
            "10/10 [==============================] - 2s 182ms/step - loss: 0.2735 - accuracy: 0.9013 - val_loss: 0.4170 - val_accuracy: 0.8947\n",
            "Epoch 87/150\n",
            "10/10 [==============================] - 2s 182ms/step - loss: 0.2152 - accuracy: 0.8947 - val_loss: 0.3573 - val_accuracy: 0.8421\n",
            "Epoch 88/150\n",
            "10/10 [==============================] - 2s 181ms/step - loss: 0.3016 - accuracy: 0.9013 - val_loss: 0.3278 - val_accuracy: 0.9474\n",
            "Epoch 89/150\n",
            "10/10 [==============================] - 2s 180ms/step - loss: 0.1935 - accuracy: 0.9211 - val_loss: 0.3845 - val_accuracy: 0.8421\n",
            "Epoch 90/150\n",
            "10/10 [==============================] - 2s 182ms/step - loss: 0.1561 - accuracy: 0.9605 - val_loss: 0.4545 - val_accuracy: 0.8684\n",
            "Epoch 91/150\n",
            "10/10 [==============================] - 2s 180ms/step - loss: 0.2382 - accuracy: 0.9013 - val_loss: 0.3992 - val_accuracy: 0.9211\n",
            "Epoch 92/150\n",
            "10/10 [==============================] - 2s 183ms/step - loss: 0.1664 - accuracy: 0.9474 - val_loss: 0.4269 - val_accuracy: 0.8421\n",
            "Epoch 93/150\n",
            "10/10 [==============================] - 2s 183ms/step - loss: 0.3297 - accuracy: 0.8947 - val_loss: 0.3379 - val_accuracy: 0.8158\n",
            "Epoch 94/150\n",
            "10/10 [==============================] - 2s 182ms/step - loss: 0.2399 - accuracy: 0.9079 - val_loss: 0.2884 - val_accuracy: 0.8947\n",
            "Epoch 95/150\n",
            "10/10 [==============================] - 2s 183ms/step - loss: 0.2746 - accuracy: 0.8882 - val_loss: 0.3831 - val_accuracy: 0.8421\n",
            "Epoch 96/150\n",
            "10/10 [==============================] - 2s 183ms/step - loss: 0.2204 - accuracy: 0.9079 - val_loss: 0.2882 - val_accuracy: 0.8421\n",
            "Epoch 97/150\n",
            "10/10 [==============================] - 2s 182ms/step - loss: 0.2020 - accuracy: 0.9145 - val_loss: 0.2782 - val_accuracy: 0.9474\n",
            "Epoch 98/150\n",
            "10/10 [==============================] - 2s 181ms/step - loss: 0.2118 - accuracy: 0.9474 - val_loss: 0.2856 - val_accuracy: 0.9474\n",
            "Epoch 99/150\n",
            "10/10 [==============================] - 2s 183ms/step - loss: 0.2231 - accuracy: 0.9145 - val_loss: 0.2962 - val_accuracy: 0.8947\n",
            "Epoch 100/150\n",
            "10/10 [==============================] - 2s 182ms/step - loss: 0.1544 - accuracy: 0.9408 - val_loss: 0.3554 - val_accuracy: 0.8684\n",
            "Epoch 101/150\n",
            "10/10 [==============================] - 2s 183ms/step - loss: 0.2360 - accuracy: 0.8947 - val_loss: 0.3403 - val_accuracy: 0.9211\n",
            "Epoch 102/150\n",
            "10/10 [==============================] - 2s 184ms/step - loss: 0.1654 - accuracy: 0.9408 - val_loss: 0.2989 - val_accuracy: 0.9211\n",
            "Epoch 103/150\n",
            "10/10 [==============================] - 2s 186ms/step - loss: 0.2526 - accuracy: 0.9211 - val_loss: 0.2465 - val_accuracy: 0.9211\n",
            "Epoch 104/150\n",
            "10/10 [==============================] - 2s 180ms/step - loss: 0.3057 - accuracy: 0.8816 - val_loss: 0.2397 - val_accuracy: 0.9211\n",
            "Epoch 105/150\n",
            "10/10 [==============================] - 2s 184ms/step - loss: 0.2824 - accuracy: 0.8882 - val_loss: 0.3125 - val_accuracy: 0.8421\n",
            "Epoch 106/150\n",
            "10/10 [==============================] - 2s 183ms/step - loss: 0.2769 - accuracy: 0.8684 - val_loss: 0.2500 - val_accuracy: 0.8684\n",
            "Epoch 107/150\n",
            "10/10 [==============================] - 2s 185ms/step - loss: 0.2572 - accuracy: 0.8947 - val_loss: 0.2861 - val_accuracy: 0.8158\n",
            "Epoch 108/150\n",
            "10/10 [==============================] - 2s 183ms/step - loss: 0.2636 - accuracy: 0.8947 - val_loss: 0.2452 - val_accuracy: 0.8684\n",
            "Epoch 109/150\n",
            "10/10 [==============================] - 2s 181ms/step - loss: 0.3350 - accuracy: 0.8882 - val_loss: 0.2497 - val_accuracy: 0.8684\n",
            "Epoch 110/150\n",
            "10/10 [==============================] - 2s 179ms/step - loss: 0.2506 - accuracy: 0.8882 - val_loss: 0.4233 - val_accuracy: 0.8158\n",
            "Epoch 111/150\n",
            "10/10 [==============================] - 2s 183ms/step - loss: 0.2558 - accuracy: 0.9079 - val_loss: 0.2570 - val_accuracy: 0.8684\n",
            "Epoch 112/150\n",
            "10/10 [==============================] - 2s 180ms/step - loss: 0.2206 - accuracy: 0.8684 - val_loss: 0.2986 - val_accuracy: 0.8947\n",
            "Epoch 113/150\n",
            "10/10 [==============================] - 2s 180ms/step - loss: 0.2323 - accuracy: 0.9211 - val_loss: 0.2571 - val_accuracy: 0.9211\n",
            "Epoch 114/150\n",
            "10/10 [==============================] - 2s 219ms/step - loss: 0.2325 - accuracy: 0.9079 - val_loss: 0.1756 - val_accuracy: 0.9474\n",
            "Epoch 115/150\n",
            "10/10 [==============================] - 3s 225ms/step - loss: 0.1619 - accuracy: 0.9408 - val_loss: 0.1346 - val_accuracy: 0.9474\n",
            "Epoch 116/150\n",
            "10/10 [==============================] - 2s 183ms/step - loss: 0.2738 - accuracy: 0.9013 - val_loss: 0.2170 - val_accuracy: 0.8947\n",
            "Epoch 117/150\n",
            "10/10 [==============================] - 2s 185ms/step - loss: 0.1822 - accuracy: 0.9211 - val_loss: 0.2697 - val_accuracy: 0.8947\n",
            "Epoch 118/150\n",
            "10/10 [==============================] - 2s 184ms/step - loss: 0.2036 - accuracy: 0.8947 - val_loss: 0.3276 - val_accuracy: 0.8421\n",
            "Epoch 119/150\n",
            "10/10 [==============================] - 2s 204ms/step - loss: 0.1718 - accuracy: 0.9276 - val_loss: 0.2741 - val_accuracy: 0.8947\n",
            "Epoch 120/150\n",
            "10/10 [==============================] - 2s 181ms/step - loss: 0.2069 - accuracy: 0.9211 - val_loss: 0.3257 - val_accuracy: 0.8421\n",
            "Epoch 121/150\n",
            "10/10 [==============================] - 2s 183ms/step - loss: 0.1610 - accuracy: 0.9408 - val_loss: 0.2171 - val_accuracy: 0.9474\n",
            "Epoch 122/150\n",
            "10/10 [==============================] - 2s 181ms/step - loss: 0.2829 - accuracy: 0.8882 - val_loss: 0.2489 - val_accuracy: 0.9211\n",
            "Epoch 123/150\n",
            "10/10 [==============================] - 2s 182ms/step - loss: 0.2009 - accuracy: 0.9342 - val_loss: 0.2456 - val_accuracy: 0.8684\n",
            "Epoch 124/150\n",
            "10/10 [==============================] - 2s 182ms/step - loss: 0.1908 - accuracy: 0.9013 - val_loss: 0.2169 - val_accuracy: 0.8684\n",
            "Epoch 125/150\n",
            "10/10 [==============================] - 2s 183ms/step - loss: 0.2015 - accuracy: 0.9276 - val_loss: 0.1831 - val_accuracy: 0.8947\n",
            "Epoch 126/150\n",
            "10/10 [==============================] - 2s 180ms/step - loss: 0.1965 - accuracy: 0.9211 - val_loss: 0.2410 - val_accuracy: 0.8947\n",
            "Epoch 127/150\n",
            "10/10 [==============================] - 2s 181ms/step - loss: 0.2256 - accuracy: 0.9145 - val_loss: 0.2679 - val_accuracy: 0.8684\n",
            "Epoch 128/150\n",
            "10/10 [==============================] - 2s 185ms/step - loss: 0.1826 - accuracy: 0.9408 - val_loss: 0.3151 - val_accuracy: 0.8684\n",
            "Epoch 129/150\n",
            "10/10 [==============================] - 2s 181ms/step - loss: 0.1687 - accuracy: 0.9145 - val_loss: 0.3038 - val_accuracy: 0.9211\n",
            "Epoch 130/150\n",
            "10/10 [==============================] - 2s 182ms/step - loss: 0.2160 - accuracy: 0.9145 - val_loss: 0.2940 - val_accuracy: 0.8947\n",
            "Epoch 131/150\n",
            "10/10 [==============================] - 2s 180ms/step - loss: 0.1713 - accuracy: 0.9408 - val_loss: 0.3083 - val_accuracy: 0.8684\n",
            "Epoch 132/150\n",
            "10/10 [==============================] - 2s 183ms/step - loss: 0.1443 - accuracy: 0.9539 - val_loss: 0.3173 - val_accuracy: 0.9211\n",
            "Epoch 133/150\n",
            "10/10 [==============================] - 2s 184ms/step - loss: 0.1805 - accuracy: 0.9276 - val_loss: 0.3394 - val_accuracy: 0.9211\n",
            "Epoch 134/150\n",
            "10/10 [==============================] - 2s 183ms/step - loss: 0.1606 - accuracy: 0.9342 - val_loss: 0.3977 - val_accuracy: 0.8421\n",
            "Epoch 135/150\n",
            "10/10 [==============================] - 2s 183ms/step - loss: 0.1463 - accuracy: 0.9408 - val_loss: 0.4151 - val_accuracy: 0.8684\n",
            "Epoch 136/150\n",
            "10/10 [==============================] - 2s 183ms/step - loss: 0.1722 - accuracy: 0.9539 - val_loss: 0.4580 - val_accuracy: 0.8947\n",
            "Epoch 137/150\n",
            "10/10 [==============================] - 2s 179ms/step - loss: 0.1980 - accuracy: 0.9276 - val_loss: 0.4151 - val_accuracy: 0.9211\n",
            "Epoch 138/150\n",
            "10/10 [==============================] - 2s 181ms/step - loss: 0.1574 - accuracy: 0.9342 - val_loss: 0.3954 - val_accuracy: 0.9211\n",
            "Epoch 139/150\n",
            "10/10 [==============================] - 2s 181ms/step - loss: 0.1669 - accuracy: 0.9342 - val_loss: 0.3901 - val_accuracy: 0.9211\n",
            "Epoch 140/150\n",
            "10/10 [==============================] - 2s 184ms/step - loss: 0.1741 - accuracy: 0.9474 - val_loss: 0.3786 - val_accuracy: 0.9211\n",
            "Epoch 141/150\n",
            "10/10 [==============================] - 2s 182ms/step - loss: 0.2136 - accuracy: 0.9013 - val_loss: 0.2837 - val_accuracy: 0.8947\n",
            "Epoch 142/150\n",
            "10/10 [==============================] - 2s 183ms/step - loss: 0.2008 - accuracy: 0.9342 - val_loss: 0.2357 - val_accuracy: 0.9474\n",
            "Epoch 143/150\n",
            "10/10 [==============================] - 2s 183ms/step - loss: 0.2740 - accuracy: 0.8882 - val_loss: 0.2731 - val_accuracy: 0.9211\n",
            "Epoch 144/150\n",
            "10/10 [==============================] - 2s 181ms/step - loss: 0.2313 - accuracy: 0.9013 - val_loss: 0.4255 - val_accuracy: 0.8421\n",
            "Epoch 145/150\n",
            "10/10 [==============================] - 2s 183ms/step - loss: 0.1692 - accuracy: 0.9408 - val_loss: 0.3783 - val_accuracy: 0.8947\n",
            "Epoch 146/150\n",
            "10/10 [==============================] - 2s 184ms/step - loss: 0.1658 - accuracy: 0.9145 - val_loss: 0.4062 - val_accuracy: 0.8421\n",
            "Epoch 147/150\n",
            "10/10 [==============================] - 2s 182ms/step - loss: 0.1557 - accuracy: 0.9539 - val_loss: 0.2735 - val_accuracy: 0.9211\n",
            "Epoch 148/150\n",
            "10/10 [==============================] - 2s 183ms/step - loss: 0.1553 - accuracy: 0.9408 - val_loss: 0.2967 - val_accuracy: 0.8684\n",
            "Epoch 149/150\n",
            "10/10 [==============================] - 2s 183ms/step - loss: 0.1827 - accuracy: 0.9276 - val_loss: 0.3813 - val_accuracy: 0.9211\n",
            "Epoch 150/150\n",
            "10/10 [==============================] - 2s 180ms/step - loss: 0.1248 - accuracy: 0.9474 - val_loss: 0.3851 - val_accuracy: 0.8421\n"
          ]
        }
      ]
    },
    {
      "cell_type": "code",
      "source": [
        "import matplotlib.pyplot as plt"
      ],
      "metadata": {
        "id": "PD-6tlPHlQTd"
      },
      "execution_count": 27,
      "outputs": []
    },
    {
      "cell_type": "code",
      "source": [
        "acc = history.history['accuracy']\n",
        "val_acc = history.history['val_accuracy']\n",
        "\n",
        "loss = history.history['loss']\n",
        "val_loss = history.history['val_loss']\n",
        "\n",
        "epochs_range = range(num_epochs)\n",
        "\n",
        "plt.figure(figsize=(8, 8))\n",
        "plt.subplot(1, 2, 1)\n",
        "plt.plot(epochs_range, acc, label='Training Accuracy')\n",
        "plt.plot(epochs_range, val_acc, label='Validation Accuracy')\n",
        "plt.legend(loc='lower right')\n",
        "plt.title('Training and Validation Accuracy')\n",
        "\n",
        "plt.subplot(1, 2, 2)\n",
        "plt.plot(epochs_range, loss, label='Training Loss')\n",
        "plt.plot(epochs_range, val_loss, label='Validation Loss')\n",
        "plt.legend(loc='upper right')\n",
        "plt.title('Training and Validation Loss')\n",
        "plt.show()"
      ],
      "metadata": {
        "colab": {
          "base_uri": "https://localhost:8080/",
          "height": 499
        },
        "id": "Mh1tLCrje86r",
        "outputId": "b2894cde-09ce-4901-f03b-44bc9636ba58"
      },
      "execution_count": 28,
      "outputs": [
        {
          "output_type": "display_data",
          "data": {
            "image/png": "[encoded data removed]",
            "text/plain": [
              "<Figure size 576x576 with 2 Axes>"
            ]
          },
          "metadata": {
            "needs_background": "light"
          }
        }
      ]
    },
    {
      "cell_type": "code",
      "source": [
        "import os\n",
        "from os import listdir\n",
        "from os.path import isfile, join\n",
        "import shutil\n",
        "import random"
      ],
      "metadata": {
        "id": "hbvnt_31waJM"
      },
      "execution_count": 30,
      "outputs": []
    },
    {
      "cell_type": "markdown",
      "source": [
        "<h1>Load best model and do prediction</h1>"
      ],
      "metadata": {
        "id": "WqXdaSu8elXx"
      }
    },
    {
      "cell_type": "code",
      "source": [
        "# checkpoint_filepath = '/content/drive/MyDrive/ImageClassificationData/checkpoint/checkpoint'\n",
        "# inference_model = create_vit_classifier()\n",
        "# inference_model.load_weights(checkpoint_filepath)\n"
      ],
      "metadata": {
        "id": "2mAg7ukJ3Yf0",
        "outputId": "ae3a76c0-bfe3-4185-903f-43c234c20c78",
        "colab": {
          "base_uri": "https://localhost:8080/"
        }
      },
      "execution_count": null,
      "outputs": [
        {
          "output_type": "execute_result",
          "data": {
            "text/plain": [
              "<tensorflow.python.training.tracking.util.CheckpointLoadStatus at 0x7f4f2dc56750>"
            ]
          },
          "metadata": {},
          "execution_count": 241
        }
      ]
    },
    {
      "cell_type": "code",
      "source": [
        "data_path =  '/content/drive/My Drive/ImageClassificationData/'\n",
        "train_data_path = os.path.join(data_path,'Test')\n",
        "image_names = [f for f in listdir(train_data_path) if isfile(join(train_data_path, f))]\n",
        "#image_names"
      ],
      "metadata": {
        "id": "MhjVKHSV1VPT"
      },
      "execution_count": 31,
      "outputs": []
    },
    {
      "cell_type": "code",
      "source": [
        "labels=[]\n",
        "for name in image_names:\n",
        "  if 'AP' in name:\n",
        "    labels.append(0)\n",
        "  else:\n",
        "    labels.append(1)\n",
        "labels = np.asarray(labels)"
      ],
      "metadata": {
        "id": "MGyfUqqqErfV"
      },
      "execution_count": 32,
      "outputs": []
    },
    {
      "cell_type": "code",
      "source": [
        "labels[0]"
      ],
      "metadata": {
        "id": "cr26sFiwFN94",
        "outputId": "125a98f4-cee3-4a30-89d6-53498302b236",
        "colab": {
          "base_uri": "https://localhost:8080/"
        }
      },
      "execution_count": null,
      "outputs": [
        {
          "output_type": "execute_result",
          "data": {
            "text/plain": [
              "0"
            ]
          },
          "metadata": {},
          "execution_count": 238
        }
      ]
    },
    {
      "cell_type": "code",
      "source": [
        "# i = 0 \n",
        "# test_image = os.path.join(data_path,'Test',image_names[i])\n",
        "# #print(test_image)\n",
        "# y = labels[i]\n",
        "# img = tf.keras.utils.load_img(\n",
        "#     test_image,\n",
        "#     #color_mode = \"grayscale\", \n",
        "#     target_size=(img_height, img_width),\n",
        "#     )\n",
        "# img_array = tf.keras.utils.img_to_array(img)\n",
        "# img_array = tf.expand_dims(img_array, 0) # Create a batch\n",
        "\n",
        "# predictions = inference_model.predict(img_array)"
      ],
      "metadata": {
        "id": "CdZ_Tgtg-53T"
      },
      "execution_count": null,
      "outputs": []
    },
    {
      "cell_type": "code",
      "source": [
        "predictions"
      ],
      "metadata": {
        "id": "nED17WTS-5_j",
        "outputId": "7213351e-5a78-48ec-a7ba-910a03a874ea",
        "colab": {
          "base_uri": "https://localhost:8080/"
        }
      },
      "execution_count": null,
      "outputs": [
        {
          "output_type": "execute_result",
          "data": {
            "text/plain": [
              "array([[0.47103396]], dtype=float32)"
            ]
          },
          "metadata": {},
          "execution_count": 230
        }
      ]
    },
    {
      "cell_type": "code",
      "source": [
        "\n",
        "# def select_image(image_names,data_path,random_image):\n",
        "#   random_image = random.choice(image_names)\n",
        "#   test_image = os.path.join(data_path,'Test',random_image)\n",
        "#   if 'AP' in test_image:\n",
        "#     class_name = 'AP'\n",
        "#   else:\n",
        "#     class_name = 'Lateral'\n",
        "#   return(test_image)\n",
        "\n",
        "\n",
        "# #for _ in range(10):\n"
      ],
      "metadata": {
        "id": "k7m2dtUl1YWV"
      },
      "execution_count": null,
      "outputs": []
    },
    {
      "cell_type": "code",
      "source": [
        "tp = 0\n",
        "fp = 0\n",
        "for name in  image_names:\n",
        "  test_image = os.path.join(data_path,'Test',name)\n",
        "  #print(test_image)\n",
        "  #test_image = select_image(image_names,data_path,name)\n",
        "  img = tf.keras.utils.load_img(\n",
        "      test_image,\n",
        "      #color_mode = \"grayscale\", \n",
        "      target_size=(img_height, img_width),\n",
        "      )\n",
        "  img_array = tf.keras.utils.img_to_array(img)\n",
        "  img_array = tf.expand_dims(img_array, 0) # Create a batch\n",
        "\n",
        "  predictions = vit_classifier.predict(img_array)\n",
        "  # acc,loss = vit_classifier.evaluate(img_array,labels[i])\n",
        "  \n",
        "  if 'AP' in test_image:\n",
        "    class_name = 'AP'\n",
        "  else:\n",
        "    class_name = 'Lateral'\n",
        "  #print('\\n','True image class:',class_name)\n",
        "\n",
        "  #print(test_image)\n",
        "  #print(predictions)\n",
        "  if predictions>0.5:\n",
        "    print('\\n',name,'    True image class:',class_name,'             predicted class is Lateral   ', predictions)\n",
        "  else:\n",
        "    print('\\n',name,'   True image class:',class_name,'              predicted class is AP      ',predictions)  \n",
        "\n",
        "  total_num_test_images = len(image_names)\n",
        "\n",
        "  if (class_name == 'Lateral' and predictions >.5)  or (class_name == 'AP' and predictions <0.5):\n",
        "    tp = tp + 1 \n",
        "  else:\n",
        "    fp = fp + 1\n",
        "\n",
        "print(tp)\n",
        "print(fp)"
      ],
      "metadata": {
        "id": "hwCnD66239pH",
        "outputId": "16ad8d07-558c-454a-d458-d9c6ce0928e2",
        "colab": {
          "base_uri": "https://localhost:8080/"
        }
      },
      "execution_count": 33,
      "outputs": [
        {
          "output_type": "stream",
          "name": "stdout",
          "text": [
            "\n",
            " 211_AP.png    True image class: AP               predicted class is AP       [[0.24309546]]\n",
            "\n",
            " 198_Lateral.png    True image class: Lateral               predicted class is AP       [[0.0655266]]\n",
            "\n",
            " 196_Lateral.png     True image class: Lateral              predicted class is Lateral    [[0.82780945]]\n",
            "\n",
            " 195_Lateral.png    True image class: Lateral               predicted class is AP       [[0.06312099]]\n",
            "\n",
            " 210_AP.png     True image class: AP              predicted class is Lateral    [[0.86524034]]\n",
            "\n",
            " 209_AP.png    True image class: AP               predicted class is AP       [[0.17010379]]\n",
            "\n",
            " 201_Lateral.png     True image class: Lateral              predicted class is Lateral    [[0.5515748]]\n",
            "\n",
            " 194_Lateral.png    True image class: Lateral               predicted class is AP       [[0.41765082]]\n",
            "\n",
            " 199_Lateral.png    True image class: Lateral               predicted class is AP       [[0.20099661]]\n",
            "\n",
            " 217_AP.png    True image class: AP               predicted class is AP       [[0.21340337]]\n",
            "\n",
            " 214_AP.png    True image class: AP               predicted class is AP       [[0.03171784]]\n",
            "\n",
            " 200_Lateral.png    True image class: Lateral               predicted class is AP       [[0.36453718]]\n",
            "\n",
            " 197_Lateral.png    True image class: Lateral               predicted class is AP       [[0.03653294]]\n",
            "\n",
            " 206_AP.png    True image class: AP               predicted class is AP       [[0.01203042]]\n",
            "\n",
            " 191_Lateral.png     True image class: Lateral              predicted class is Lateral    [[1.]]\n",
            "\n",
            " 208_AP.png     True image class: AP              predicted class is Lateral    [[0.9484307]]\n",
            "\n",
            " 203_Lateral.png    True image class: Lateral               predicted class is AP       [[0.24193996]]\n",
            "\n",
            " 205_AP.png     True image class: AP              predicted class is Lateral    [[0.91170526]]\n",
            "\n",
            " 216_AP.png    True image class: AP               predicted class is AP       [[0.39061958]]\n",
            "\n",
            " 215_AP.png    True image class: AP               predicted class is AP       [[0.00010414]]\n",
            "\n",
            " 193_Lateral.png    True image class: Lateral               predicted class is AP       [[0.22156617]]\n",
            "\n",
            " 212_AP.png    True image class: AP               predicted class is AP       [[0.00808761]]\n",
            "\n",
            " 207_AP.png    True image class: AP               predicted class is AP       [[0.0223453]]\n",
            "\n",
            " 202_Lateral.png     True image class: Lateral              predicted class is Lateral    [[0.8945074]]\n",
            "\n",
            " 192_Lateral.png     True image class: Lateral              predicted class is Lateral    [[0.9999685]]\n",
            "\n",
            " 213_AP.png    True image class: AP               predicted class is AP       [[0.05776003]]\n",
            "\n",
            " 204_AP.png    True image class: AP               predicted class is AP       [[0.00045666]]\n",
            "16\n",
            "11\n"
          ]
        }
      ]
    },
    {
      "cell_type": "code",
      "source": [
        "total_num_test_images"
      ],
      "metadata": {
        "id": "AGPQCyJV5gtj",
        "outputId": "7966827a-cb31-46c5-94ab-ca2d1200bbea",
        "colab": {
          "base_uri": "https://localhost:8080/"
        }
      },
      "execution_count": null,
      "outputs": [
        {
          "output_type": "execute_result",
          "data": {
            "text/plain": [
              "27"
            ]
          },
          "metadata": {},
          "execution_count": 255
        }
      ]
    },
    {
      "cell_type": "code",
      "source": [
        "tp"
      ],
      "metadata": {
        "id": "sWKWrG1_HroM",
        "outputId": "d8710b21-f508-41e5-d59a-7aaf3ede3096",
        "colab": {
          "base_uri": "https://localhost:8080/"
        }
      },
      "execution_count": null,
      "outputs": [
        {
          "output_type": "execute_result",
          "data": {
            "text/plain": [
              "12"
            ]
          },
          "metadata": {},
          "execution_count": 314
        }
      ]
    },
    {
      "cell_type": "code",
      "source": [
        "fp"
      ],
      "metadata": {
        "id": "FqbO8bE3Hs66",
        "outputId": "760e5082-7d72-4335-8adb-c8215fcb9b72",
        "colab": {
          "base_uri": "https://localhost:8080/"
        }
      },
      "execution_count": null,
      "outputs": [
        {
          "output_type": "execute_result",
          "data": {
            "text/plain": [
              "15"
            ]
          },
          "metadata": {},
          "execution_count": 315
        }
      ]
    }
  ],
  "metadata": {
    "colab": {
      "collapsed_sections": [],
      "name": "ViTimageClassification",
      "provenance": [],
      "include_colab_link": true
    },
    "environment": {
      "name": "tf2-gpu.2-4.m61",
      "type": "gcloud",
      "uri": "gcr.io/deeplearning-platform-release/tf2-gpu.2-4:m61"
    },
    "kernelspec": {
      "display_name": "Python 3",
      "language": "python",
      "name": "python3"
    },
    "language_info": {
      "codemirror_mode": {
        "name": "ipython",
        "version": 3
      },
      "file_extension": ".py",
      "mimetype": "text/x-python",
      "name": "python",
      "nbconvert_exporter": "python",
      "pygments_lexer": "ipython3",
      "version": "3.7.9"
    }
  },
  "nbformat": 4,
  "nbformat_minor": 0
}