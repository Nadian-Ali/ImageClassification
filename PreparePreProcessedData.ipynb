{
  "nbformat": 4,
  "nbformat_minor": 0,
  "metadata": {
    "colab": {
      "name": "PreparePreProcessedData.ipynb",
      "provenance": [],
      "authorship_tag": "ABX9TyMefiEEYgEfkQYRxZdVaIli",
      "include_colab_link": true
    },
    "kernelspec": {
      "name": "python3",
      "display_name": "Python 3"
    },
    "language_info": {
      "name": "python"
    }
  },
  "cells": [
    {
      "cell_type": "markdown",
      "metadata": {
        "id": "view-in-github",
        "colab_type": "text"
      },
      "source": [
        "<a href=\"https://colab.research.google.com/github/Nadian-Ali/ImageClassification/blob/main/PreparePreProcessedData.ipynb\" target=\"_parent\"><img src=\"https://colab.research.google.com/assets/colab-badge.svg\" alt=\"Open In Colab\"/></a>"
      ]
    },
    {
      "cell_type": "markdown",
      "source": [
        "<h1>Create datasets with pre-processed images</h1>\n",
        "\n",
        "<p> data exlporation revealed that pre-processed data data might help the classificaiton results</p>\n",
        "See: <a href=\"url\">https://github.com/Nadian-Ali/ImageClassification/blob/113ccb7924477cedfeb160eeac5599259b981b12/ExperimentingWitXRays.ipynb</a>\n",
        "<p><b>Here we use two pre processing steps</b><p>\n",
        "<ul>\n",
        "<li>Adaptive contrast enhancement</li>\n",
        "<li>Extract edge map using Sobel mask</li>\n",
        "</ul>\n",
        "<p>for this reason, read all images are loaded / pre-processing steps is applied to them and then saved for later use </p>"
      ],
      "metadata": {
        "id": "1yNmG6UODrZb"
      }
    },
    {
      "cell_type": "code",
      "source": [
        ""
      ],
      "metadata": {
        "id": "gm4ErBeTsNBN"
      },
      "execution_count": null,
      "outputs": []
    },
    {
      "cell_type": "code",
      "execution_count": null,
      "metadata": {
        "colab": {
          "base_uri": "https://localhost:8080/"
        },
        "id": "IcOeLqJbDqYz",
        "outputId": "17cadec9-efe1-433c-db4c-872ede81dced"
      },
      "outputs": [
        {
          "output_type": "stream",
          "name": "stdout",
          "text": [
            "Mounted at /content/drive\n"
          ]
        }
      ],
      "source": [
        "#Import drive\n",
        "from google.colab import drive\n",
        "#Mount Google Drive\n",
        "drive.mount(\"/content/drive\", force_remount =True)"
      ]
    },
    {
      "cell_type": "code",
      "source": [
        "import cv2\n",
        "\n",
        "import numpy as np\n",
        "import tensorflow as tf\n",
        "from PIL import Image\n",
        "import requests\n",
        "from io import StringIO\n",
        "from urllib.request import urlopen\n",
        "from google.colab.patches import cv2_imshow\n",
        "import matplotlib.pyplot as plt\n"
      ],
      "metadata": {
        "id": "2u6H3uQlVjg6"
      },
      "execution_count": null,
      "outputs": []
    },
    {
      "cell_type": "code",
      "source": [
        "#cd into training images. \n",
        "%cd /content/drive/My Drive/ImageClassificationData/Train"
      ],
      "metadata": {
        "colab": {
          "base_uri": "https://localhost:8080/"
        },
        "id": "sc7RUHqzD-Vh",
        "outputId": "95b660af-f97c-4cd0-b298-090c5124319e"
      },
      "execution_count": null,
      "outputs": [
        {
          "output_type": "stream",
          "name": "stdout",
          "text": [
            "/content/drive/My Drive/ImageClassificationData/Train\n"
          ]
        }
      ]
    },
    {
      "cell_type": "code",
      "source": [
        "%ls"
      ],
      "metadata": {
        "id": "M_tuqH5hEWHQ"
      },
      "execution_count": null,
      "outputs": []
    },
    {
      "cell_type": "markdown",
      "source": [
        "<h1>Imports</h1>"
      ],
      "metadata": {
        "id": "Wk7z5tGuEgJX"
      }
    },
    {
      "cell_type": "code",
      "source": [
        "import os\n",
        "from os import listdir\n",
        "from os.path import isfile, join\n",
        "import shutil"
      ],
      "metadata": {
        "id": "khzGWpbJEe9X"
      },
      "execution_count": null,
      "outputs": []
    },
    {
      "cell_type": "markdown",
      "source": [
        "**Create folder list**\n",
        "\n",
        "The structure of data: \n",
        "\n",
        "<p>Contrast enhancement =<font color ='green'>  {data folder with AP and Lateral subfolders, Test folder}</font></p>\n",
        "\n",
        "Edge maps = <font color = 'green'>{data folder with AP and Lateral subfolders, Test folder}</font>"
      ],
      "metadata": {
        "id": "_siJgsVaE0Kh"
      }
    },
    {
      "cell_type": "code",
      "source": [
        "#base path\n",
        "data_path =  '/content/drive/My Drive/ImageClassificationData/'\n",
        "train_data_path    = os.path.join(data_path,'Train')\n",
        "test_data_path     = os.path.join(data_path,'Test')\n",
        "\n",
        "#to write into HE\n",
        "trainHE_ap_path      = os.path.join(data_path,'DataHE','AP')\n",
        "trainHE_lateral_path = os.path.join(data_path,'DataHE','Lateral')\n",
        "\n",
        "#to write into Edge\n",
        "trainEdge_ap_path      = os.path.join(data_path,'DataEdge','AP')\n",
        "trainEdge_lateral_path = os.path.join(data_path,'DataEdge','Lateral')\n",
        "\n",
        "#to write test images\n",
        "testEdge      = os.path.join(data_path,'TestEdge')\n",
        "testHE        = os.path.join(data_path,'TestHE')"
      ],
      "metadata": {
        "id": "eJQ87kZSE-RP"
      },
      "execution_count": null,
      "outputs": []
    },
    {
      "cell_type": "code",
      "source": [
        "testEdge"
      ],
      "metadata": {
        "colab": {
          "base_uri": "https://localhost:8080/",
          "height": 35
        },
        "id": "_ceCgANe9WEk",
        "outputId": "04bf6ac6-ed59-4178-fd18-33a3c4176b03"
      },
      "execution_count": null,
      "outputs": [
        {
          "output_type": "execute_result",
          "data": {
            "application/vnd.google.colaboratory.intrinsic+json": {
              "type": "string"
            },
            "text/plain": [
              "'/content/drive/My Drive/ImageClassificationData/TestEdge'"
            ]
          },
          "metadata": {},
          "execution_count": 16
        }
      ]
    },
    {
      "cell_type": "markdown",
      "source": [
        "**Read file names**"
      ],
      "metadata": {
        "id": "fDqnBcU40awH"
      }
    },
    {
      "cell_type": "code",
      "source": [
        "\n",
        "image_names = [f for f in listdir(train_data_path) if isfile(join(train_data_path, f))]\n"
      ],
      "metadata": {
        "id": "hLvEeZqaEbAZ"
      },
      "execution_count": null,
      "outputs": []
    },
    {
      "cell_type": "code",
      "source": [
        "print(len(image_names))"
      ],
      "metadata": {
        "colab": {
          "base_uri": "https://localhost:8080/"
        },
        "id": "Cc4-kJhlKRYp",
        "outputId": "395fc0df-53d9-41b0-e77d-a3cf3eb0b328"
      },
      "execution_count": null,
      "outputs": [
        {
          "output_type": "stream",
          "name": "stdout",
          "text": [
            "190\n"
          ]
        }
      ]
    },
    {
      "cell_type": "markdown",
      "source": [
        "**create training data and prepare them into <font color = 'red'>AP</font> and <font color = 'red'>Lateral</font> Lateral subfolders**"
      ],
      "metadata": {
        "id": "skpxKxq00zsv"
      }
    },
    {
      "cell_type": "code",
      "source": [
        "ap = 0\n",
        "lateral = 0\n",
        "\n",
        "for name in image_names:\n",
        "  src_path = os.path.join(train_data_path,name)\n",
        "  #process image \n",
        "  color = cv2.IMREAD_COLOR\n",
        "  img   = cv2.imread(src_path, 0)\n",
        "  clahe = cv2.createCLAHE(clipLimit=2.0, tileGridSize=(8,8))\n",
        "  cl1   = clahe.apply(img)\n",
        "  img_blur = cv2.GaussianBlur(cl1, (3,3), 0)\n",
        "  sobelx   = cv2.Sobel(src=img_blur, ddepth=cv2.CV_64F, dx=1, dy=0, ksize=3) # Sobel Edge\n",
        "  sobely   = cv2.Sobel(src=img_blur, ddepth=cv2.CV_64F, dx=0, dy=1, ksize=3) # Sobel Edge\n",
        "  sobelxy  = cv2.Sobel(src=img_blur, ddepth=cv2.CV_64F, dx=1, dy=1, ksize=3) # Combined X\n",
        "\n",
        "  \n",
        "  if \"Lateral\" in name:\n",
        "\n",
        "    lateral = lateral + 1\n",
        "    dst_path_HE     = os.path.join(trainHE_lateral_path,name)\n",
        "    dst_path_Edge   = os.path.join(trainEdge_lateral_path,name)\n",
        "    cv2.imwrite(dst_path_HE,cl1)\n",
        "    cv2.imwrite(dst_path_Edge,sobelxy)\n",
        "    \n",
        "    #dst_path_Edge = os.path.join(train_lateral_path,name)\n",
        "    #read image - pre process\n",
        "    #shutil.copy(src_path, dst_path)\n",
        "  else:\n",
        "    ap = ap+1\n",
        "    dst_path_HE     = os.path.join(trainHE_ap_path,name)\n",
        "    dst_path_Edge   = os.path.join(trainEdge_ap_path,name)\n",
        "    cv2.imwrite(dst_path_HE,cl1)\n",
        "    cv2.imwrite(dst_path_Edge,sobelxy)\n",
        "\n",
        "\n",
        "    #dst_path = os.path.join(train_ap_path,name)\n",
        "    #shutil.copy(src_path,dst_path)\n",
        "    #cv2.imwrite()"
      ],
      "metadata": {
        "id": "EhN10KhIFTu3"
      },
      "execution_count": null,
      "outputs": []
    },
    {
      "cell_type": "code",
      "source": [
        "%cd /content/drive/My Drive/ImageClassificationData/Test"
      ],
      "metadata": {
        "colab": {
          "base_uri": "https://localhost:8080/"
        },
        "id": "AQsIRXfa6bes",
        "outputId": "7baff2a8-506e-4a58-81ac-d7d0f2440f43"
      },
      "execution_count": null,
      "outputs": [
        {
          "output_type": "stream",
          "name": "stdout",
          "text": [
            "/content/drive/My Drive/ImageClassificationData/Test\n"
          ]
        }
      ]
    },
    {
      "cell_type": "markdown",
      "source": [
        "**Read test images and create new test folders**"
      ],
      "metadata": {
        "id": "wUJ8CmC41PyA"
      }
    },
    {
      "cell_type": "code",
      "source": [
        "test_names = [f for f in listdir(test_data_path) if isfile(join(test_data_path, f))]"
      ],
      "metadata": {
        "id": "qnpjlHyX6fy9"
      },
      "execution_count": null,
      "outputs": []
    },
    {
      "cell_type": "code",
      "source": [
        "test_names"
      ],
      "metadata": {
        "id": "fydXqXja9qvj"
      },
      "execution_count": null,
      "outputs": []
    },
    {
      "cell_type": "code",
      "source": [
        "for name in test_names:\n",
        "  src_path = os.path.join(test_data_path,name)\n",
        "  #process image \n",
        "  color = cv2.IMREAD_COLOR\n",
        "  img   = cv2.imread(src_path, 0)\n",
        "  clahe = cv2.createCLAHE(clipLimit=2.0, tileGridSize=(8,8))\n",
        "  cl1   = clahe.apply(img)\n",
        "  img_blur = cv2.GaussianBlur(cl1, (3,3), 0)\n",
        "  sobelxy  = cv2.Sobel(src=img_blur, ddepth=cv2.CV_64F, dx=1, dy=1, ksize=3) # Combined X\n",
        "  \n",
        "  \n",
        "  dst_path_HE     = os.path.join(testHE,name)\n",
        "  dst_path_Edge   = os.path.join(testEdge,name)\n",
        "  cv2.imwrite(dst_path_HE,cl1)\n",
        "  #cv2.imwrite(dst_path_Edge,sobelxy)\n"
      ],
      "metadata": {
        "id": "cXVIWyN36qf4"
      },
      "execution_count": null,
      "outputs": []
    },
    {
      "cell_type": "markdown",
      "source": [
        "<font color = 'blue'>*test code* </font>"
      ],
      "metadata": {
        "id": "nbvMLW531X5L"
      }
    },
    {
      "cell_type": "code",
      "source": [
        "dst_path_HE"
      ],
      "metadata": {
        "colab": {
          "base_uri": "https://localhost:8080/",
          "height": 35
        },
        "id": "7kNySyCJ-a_Q",
        "outputId": "ff416e52-8c91-4f51-930d-d5992410cb01"
      },
      "execution_count": null,
      "outputs": [
        {
          "output_type": "execute_result",
          "data": {
            "application/vnd.google.colaboratory.intrinsic+json": {
              "type": "string"
            },
            "text/plain": [
              "'/content/drive/My Drive/ImageClassificationData/TestEdge/204_AP.png'"
            ]
          },
          "metadata": {},
          "execution_count": 22
        }
      ]
    },
    {
      "cell_type": "code",
      "source": [
        "src_path = os.path.join(train_data_path,image_names[-4])\n",
        "#process image \n",
        "\n",
        "color= cv2.IMREAD_COLOR\n",
        "img = cv2.imread(src_path, 0)\n",
        "cv2.imwrite('/content/drive/My Drive/ImageClassificationData/imorg.png', img)\n",
        "clahe = cv2.createCLAHE(clipLimit=2.0, tileGridSize=(8,8))\n",
        "cl1 = clahe.apply(img)\n",
        "cv2.imwrite('/content/drive/My Drive/ImageClassificationData/imcl1.png', cl1)\n",
        "img_blur = cv2.GaussianBlur(cl1, (3,3), 0)\n",
        "sobelx = cv2.Sobel(src=img_blur, ddepth=cv2.CV_64F, dx=1, dy=0, ksize=3)  # Sobel Edge\n",
        "sobely = cv2.Sobel(src=img_blur, ddepth=cv2.CV_64F, dx=0, dy=1, ksize=3)  # Sobel Edge\n",
        "sobelxy = cv2.Sobel(src=img_blur, ddepth=cv2.CV_64F, dx=1, dy=1, ksize=3) # Combined X\n",
        "\n",
        "cv2.imwrite('/content/drive/My Drive/ImageClassificationData/im.png', sobelxy)\n",
        "plt.imshow(sobelxy)"
      ],
      "metadata": {
        "colab": {
          "base_uri": "https://localhost:8080/",
          "height": 286
        },
        "id": "7TR-rXJSYrKG",
        "outputId": "723b5129-adb1-400c-93f6-a910ceb6348e"
      },
      "execution_count": null,
      "outputs": [
        {
          "output_type": "execute_result",
          "data": {
            "text/plain": [
              "<matplotlib.image.AxesImage at 0x7fcd4a6ef690>"
            ]
          },
          "metadata": {},
          "execution_count": 23
        },
        {
          "output_type": "display_data",
          "data": {
            "image/png": "[encoded data removed]",
            "text/plain": [
              "<Figure size 432x288 with 1 Axes>"
            ]
          },
          "metadata": {
            "needs_background": "light"
          }
        }
      ]
    },
    {
      "cell_type": "code",
      "source": [
        "np.shape(img)"
      ],
      "metadata": {
        "colab": {
          "base_uri": "https://localhost:8080/"
        },
        "id": "qjRyR_kmLUiU",
        "outputId": "fe9f73e0-3af5-486c-9ab5-3d1f6ea49209"
      },
      "execution_count": null,
      "outputs": [
        {
          "output_type": "execute_result",
          "data": {
            "text/plain": [
              "(256, 256, 3)"
            ]
          },
          "metadata": {},
          "execution_count": 14
        }
      ]
    }
  ]
}