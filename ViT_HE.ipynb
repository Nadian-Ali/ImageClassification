{
  "cells": [
    {
      "cell_type": "markdown",
      "metadata": {
        "id": "view-in-github",
        "colab_type": "text"
      },
      "source": [
        "<a href=\"https://colab.research.google.com/github/Nadian-Ali/ImageClassification/blob/main/ViT_HE.ipynb\" target=\"_parent\"><img src=\"https://colab.research.google.com/assets/colab-badge.svg\" alt=\"Open In Colab\"/></a>"
      ]
    },
    {
      "cell_type": "markdown",
      "metadata": {
        "id": "i1ZPDbq_T1Ys"
      },
      "source": [
        "# Image classification with Vision Transformer\n",
        "\n",
        "The base model is implemetned by Khalid Salma\n",
        " \n",
        "**Author:** [Khalid Salama](https://www.linkedin.com/in/"
      ]
    },
    {
      "cell_type": "code",
      "source": [
        "from google.colab import drive\n",
        "drive.mount('/content/drive')"
      ],
      "metadata": {
        "colab": {
          "base_uri": "https://localhost:8080/"
        },
        "id": "f-hdD9eaZSir",
        "outputId": "dc01746b-b674-43e2-8d9a-7b5ff9512d0e"
      },
      "execution_count": 4,
      "outputs": [
        {
          "output_type": "stream",
          "name": "stdout",
          "text": [
            "Drive already mounted at /content/drive; to attempt to forcibly remount, call drive.mount(\"/content/drive\", force_remount=True).\n"
          ]
        }
      ]
    },
    {
      "cell_type": "code",
      "source": [
        "!pip install -U tensorflow-addons"
      ],
      "metadata": {
        "colab": {
          "base_uri": "https://localhost:8080/"
        },
        "id": "B2yRZBNqUSgd",
        "outputId": "72c0728f-9268-4e84-bd8f-e2c2677e5fc8"
      },
      "execution_count": 5,
      "outputs": [
        {
          "output_type": "stream",
          "name": "stdout",
          "text": [
            "Requirement already satisfied: tensorflow-addons in /usr/local/lib/python3.7/dist-packages (0.15.0)\n",
            "Requirement already satisfied: typeguard>=2.7 in /usr/local/lib/python3.7/dist-packages (from tensorflow-addons) (2.7.1)\n"
          ]
        }
      ]
    },
    {
      "cell_type": "markdown",
      "metadata": {
        "id": "30c33e5qT1Yy"
      },
      "source": [
        "## Setup"
      ]
    },
    {
      "cell_type": "code",
      "execution_count": 6,
      "metadata": {
        "id": "Pj2cyuW_T1Yy"
      },
      "outputs": [],
      "source": [
        "import numpy as np\n",
        "import tensorflow as tf\n",
        "from tensorflow import keras\n",
        "from tensorflow.keras import layers\n",
        "import tensorflow_addons as tfa"
      ]
    },
    {
      "cell_type": "markdown",
      "metadata": {
        "id": "dUa8L6R-T1Y0"
      },
      "source": [
        "## Prepare the data"
      ]
    },
    {
      "cell_type": "code",
      "source": [
        "data_dir = '/content/drive/MyDrive/ImageClassificationData/DataHE'"
      ],
      "metadata": {
        "id": "GRHAyb5AZ8O0"
      },
      "execution_count": 7,
      "outputs": []
    },
    {
      "cell_type": "code",
      "source": [
        "batch_size = 16\n",
        "img_height = 256\n",
        "img_width = 256\n",
        "input_shape = (img_height,img_width,3)"
      ],
      "metadata": {
        "id": "q09UhKw7aRFZ"
      },
      "execution_count": 8,
      "outputs": []
    },
    {
      "cell_type": "code",
      "source": [
        "from keras.preprocessing import image"
      ],
      "metadata": {
        "id": "3lqRJlKN17bU"
      },
      "execution_count": 9,
      "outputs": []
    },
    {
      "cell_type": "code",
      "source": [
        "train_ds = tf.keras.utils.image_dataset_from_directory(\n",
        "  data_dir,\n",
        "  validation_split=0.2,\n",
        "  #color_mode = \"grayscale\",\n",
        "  subset=\"training\",\n",
        "  seed=123,\n",
        "  image_size=(img_height, img_width),\n",
        "  batch_size=batch_size)"
      ],
      "metadata": {
        "colab": {
          "base_uri": "https://localhost:8080/"
        },
        "id": "ucIc6FXTaRLd",
        "outputId": "d9d0dccb-2fc0-47ac-e028-5e33820c2102"
      },
      "execution_count": 10,
      "outputs": [
        {
          "output_type": "stream",
          "name": "stdout",
          "text": [
            "Found 190 files belonging to 2 classes.\n",
            "Using 152 files for training.\n"
          ]
        }
      ]
    },
    {
      "cell_type": "code",
      "source": [
        ""
      ],
      "metadata": {
        "id": "CpUBf2_Uk4cj"
      },
      "execution_count": null,
      "outputs": []
    },
    {
      "cell_type": "code",
      "source": [
        "val_ds = tf.keras.utils.image_dataset_from_directory(\n",
        "  data_dir,\n",
        "  validation_split=0.2,\n",
        "  subset=\"validation\",\n",
        "  #color_mode = \"grayscale\",\n",
        "  seed=123,\n",
        "  image_size=(img_height, img_width),\n",
        "  batch_size=batch_size)"
      ],
      "metadata": {
        "colab": {
          "base_uri": "https://localhost:8080/"
        },
        "id": "3kHnh5Fmk4iN",
        "outputId": "f800e87b-43da-4a72-9bb0-b5f9f3a2d33f"
      },
      "execution_count": 11,
      "outputs": [
        {
          "output_type": "stream",
          "name": "stdout",
          "text": [
            "Found 190 files belonging to 2 classes.\n",
            "Using 38 files for validation.\n"
          ]
        }
      ]
    },
    {
      "cell_type": "code",
      "source": [
        "class_names = train_ds.class_names\n",
        "num_classes = len(class_names)"
      ],
      "metadata": {
        "id": "bBH7Q6c2k72q"
      },
      "execution_count": 12,
      "outputs": []
    },
    {
      "cell_type": "code",
      "source": [
        "print(class_names)"
      ],
      "metadata": {
        "id": "NI6SOgq3k76B",
        "colab": {
          "base_uri": "https://localhost:8080/"
        },
        "outputId": "ccb4a081-9c50-4f25-faa8-7c1aeac71ad9"
      },
      "execution_count": 13,
      "outputs": [
        {
          "output_type": "stream",
          "name": "stdout",
          "text": [
            "['AP', 'Lateral']\n"
          ]
        }
      ]
    },
    {
      "cell_type": "code",
      "source": [
        ""
      ],
      "metadata": {
        "id": "nnJseamHk79f"
      },
      "execution_count": null,
      "outputs": []
    },
    {
      "cell_type": "code",
      "source": [
        ""
      ],
      "metadata": {
        "id": "Cg7ykXDGk8BD"
      },
      "execution_count": null,
      "outputs": []
    },
    {
      "cell_type": "code",
      "execution_count": null,
      "metadata": {
        "id": "4beZddopT1Y0"
      },
      "outputs": [],
      "source": [
        ""
      ]
    },
    {
      "cell_type": "markdown",
      "metadata": {
        "id": "LmWUtCjoT1Y1"
      },
      "source": [
        "## Configure the hyperparameters"
      ]
    },
    {
      "cell_type": "code",
      "execution_count": 14,
      "metadata": {
        "id": "-9iyUF20T1Y2"
      },
      "outputs": [],
      "source": [
        "learning_rate = 0.001 #was 0.001\n",
        "weight_decay = 0.0001\n",
        "batch_size = 32\n",
        "num_epochs = 150\n",
        "image_size = 128  # We'll resize input images to this size\n",
        "patch_size = 32  # Size of the patches to be extract from the input images\n",
        "num_patches = (image_size // patch_size) ** 2\n",
        "projection_dim = 64\n",
        "num_heads = 2\n",
        "transformer_units = [\n",
        "    projection_dim * 2,\n",
        "    projection_dim,\n",
        "]  # Size of the transformer layers\n",
        "transformer_layers = 8\n",
        "mlp_head_units = [2048, 1024]  # Size of the dense layers of the final classifier\n"
      ]
    },
    {
      "cell_type": "code",
      "source": [
        "num_patches"
      ],
      "metadata": {
        "colab": {
          "base_uri": "https://localhost:8080/"
        },
        "id": "jFmOfa-9jm3s",
        "outputId": "016893db-c108-4259-f1e3-fec0704bad78"
      },
      "execution_count": 15,
      "outputs": [
        {
          "output_type": "execute_result",
          "data": {
            "text/plain": [
              "16"
            ]
          },
          "metadata": {},
          "execution_count": 15
        }
      ]
    },
    {
      "cell_type": "markdown",
      "metadata": {
        "id": "Nj1NnqYET1Y3"
      },
      "source": [
        "## Use data augmentation"
      ]
    },
    {
      "cell_type": "code",
      "execution_count": 16,
      "metadata": {
        "id": "JEp9xbTKT1Y4"
      },
      "outputs": [],
      "source": [
        "data_augmentation = keras.Sequential(\n",
        "    [\n",
        "        layers.Normalization(),\n",
        "        layers.Resizing(image_size, image_size),\n",
        "        layers.RandomFlip(\"horizontal\"),\n",
        "        #layers.RandomRotation(factor=0.02),\n",
        "        layers.RandomZoom(\n",
        "            height_factor=0.2, width_factor=0.2\n",
        "        ),\n",
        "    ],\n",
        "    name=\"data_augmentation\",\n",
        ")\n",
        "\n"
      ]
    },
    {
      "cell_type": "markdown",
      "metadata": {
        "id": "GKCDVSiGT1Y5"
      },
      "source": [
        "## Implement multilayer perceptron (MLP)"
      ]
    },
    {
      "cell_type": "code",
      "execution_count": 17,
      "metadata": {
        "id": "0zpN3t6cT1Y5"
      },
      "outputs": [],
      "source": [
        "\n",
        "def mlp(x, hidden_units, dropout_rate):\n",
        "    for units in hidden_units:\n",
        "        x = layers.Dense(units, activation=tf.nn.gelu)(x)\n",
        "        x = layers.Dropout(dropout_rate)(x)\n",
        "    return x\n"
      ]
    },
    {
      "cell_type": "markdown",
      "metadata": {
        "id": "cPwd0GhQT1Y5"
      },
      "source": [
        "## Implement patch creation as a layer"
      ]
    },
    {
      "cell_type": "code",
      "execution_count": 19,
      "metadata": {
        "id": "ipg__SPWT1Y6"
      },
      "outputs": [],
      "source": [
        "\n",
        "class Patches(layers.Layer):\n",
        "    def __init__(self, patch_size):\n",
        "        super(Patches, self).__init__()\n",
        "        self.patch_size = patch_size\n",
        "\n",
        "    def call(self, images):\n",
        "        batch_size = tf.shape(images)[0]\n",
        "        patches = tf.image.extract_patches(\n",
        "            images=images,\n",
        "            sizes=[1, self.patch_size, self.patch_size, 1],\n",
        "            strides=[1, self.patch_size, self.patch_size, 1],\n",
        "            rates=[1, 1, 1, 1],\n",
        "            padding=\"VALID\",\n",
        "        )\n",
        "        patch_dims = patches.shape[-1]\n",
        "        patches = tf.reshape(patches, [batch_size, -1, patch_dims])\n",
        "        return patches\n"
      ]
    },
    {
      "cell_type": "markdown",
      "metadata": {
        "id": "AzoVtBA6T1Y9"
      },
      "source": [
        "Let's display patches for a sample image"
      ]
    },
    {
      "cell_type": "code",
      "execution_count": null,
      "metadata": {
        "id": "qJC2yvJBT1Y_",
        "cellView": "form"
      },
      "outputs": [],
      "source": [
        "#@title visualize patches \n",
        "import matplotlib.pyplot as plt\n",
        "\n",
        "plt.figure(figsize=(4, 4))\n",
        "image = x_train[np.random.choice(range(x_train.shape[0]))]\n",
        "plt.imshow(image.astype(\"uint8\"))\n",
        "plt.axis(\"off\")\n",
        "\n",
        "resized_image = tf.image.resize(\n",
        "    tf.convert_to_tensor([image]), size=(image_size, image_size)\n",
        ")\n",
        "patches = Patches(patch_size)(resized_image)\n",
        "print(f\"Image size: {image_size} X {image_size}\")\n",
        "print(f\"Patch size: {patch_size} X {patch_size}\")\n",
        "print(f\"Patches per image: {patches.shape[1]}\")\n",
        "print(f\"Elements per patch: {patches.shape[-1]}\")\n",
        "\n",
        "n = int(np.sqrt(patches.shape[1]))\n",
        "plt.figure(figsize=(4, 4))\n",
        "for i, patch in enumerate(patches[0]):\n",
        "    ax = plt.subplot(n, n, i + 1)\n",
        "    patch_img = tf.reshape(patch, (patch_size, patch_size, 3))\n",
        "    plt.imshow(patch_img.numpy().astype(\"uint8\"))\n",
        "    plt.axis(\"off\")"
      ]
    },
    {
      "cell_type": "markdown",
      "metadata": {
        "id": "qGJ-FZ1bT1ZB"
      },
      "source": [
        "## Implement the patch encoding layer\n",
        "\n"
      ]
    },
    {
      "cell_type": "code",
      "execution_count": 20,
      "metadata": {
        "id": "adui-zEbT1ZC"
      },
      "outputs": [],
      "source": [
        "\n",
        "class PatchEncoder(layers.Layer):\n",
        "    def __init__(self, num_patches, projection_dim):\n",
        "        super(PatchEncoder, self).__init__()\n",
        "        self.num_patches = num_patches\n",
        "        self.projection = layers.Dense(units=projection_dim)\n",
        "        self.position_embedding = layers.Embedding(\n",
        "            input_dim=num_patches, output_dim=projection_dim\n",
        "        )\n",
        "\n",
        "    def call(self, patch):\n",
        "        positions = tf.range(start=0, limit=self.num_patches, delta=1)\n",
        "        encoded = self.projection(patch) + self.position_embedding(positions)\n",
        "        return encoded\n"
      ]
    },
    {
      "cell_type": "markdown",
      "metadata": {
        "id": "sSU9e_VFT1ZD"
      },
      "source": [
        "## Build the ViT model\n",
        "\n"
      ]
    },
    {
      "cell_type": "code",
      "execution_count": 21,
      "metadata": {
        "id": "V8VCy_gDT1ZD"
      },
      "outputs": [],
      "source": [
        "\n",
        "def create_vit_classifier():\n",
        "    inputs = layers.Input(shape=input_shape)\n",
        "    # Augment data.\n",
        "    augmented = data_augmentation(inputs)\n",
        "    # Create patches.\n",
        "    patches = Patches(patch_size)(augmented)\n",
        "    # Encode patches.\n",
        "    encoded_patches = PatchEncoder(num_patches, projection_dim)(patches)\n",
        "\n",
        "    # Create multiple layers of the Transformer block.\n",
        "    for _ in range(transformer_layers):\n",
        "        # Layer normalization 1.\n",
        "        x1 = layers.LayerNormalization(epsilon=1e-6)(encoded_patches)\n",
        "        # Create a multi-head attention layer.\n",
        "        attention_output = layers.MultiHeadAttention(\n",
        "            num_heads=num_heads, key_dim=projection_dim, dropout=0.1\n",
        "        )(x1, x1)\n",
        "        # Skip connection 1.\n",
        "        x2 = layers.Add()([attention_output, encoded_patches])\n",
        "        # Layer normalization 2.\n",
        "        x3 = layers.LayerNormalization(epsilon=1e-6)(x2)\n",
        "        # MLP.\n",
        "        x3 = mlp(x3, hidden_units=transformer_units, dropout_rate=0.1)\n",
        "        # Skip connection 2.\n",
        "        encoded_patches = layers.Add()([x3, x2])\n",
        "\n",
        "    # Create a [batch_size, projection_dim] tensor.\n",
        "    representation = layers.LayerNormalization(epsilon=1e-6)(encoded_patches)\n",
        "    representation = layers.Flatten()(representation)\n",
        "    representation = layers.Dropout(0.5)(representation)\n",
        "    # Add MLP.\n",
        "    features = mlp(representation, hidden_units=mlp_head_units, dropout_rate=0.5)\n",
        "    # Classify outputs.\n",
        "    logits = layers.Dense(1,activation = 'sigmoid')(features)\n",
        "    # Create the Keras model.\n",
        "    model = keras.Model(inputs=inputs, outputs=logits)\n",
        "    return model\n"
      ]
    },
    {
      "cell_type": "markdown",
      "metadata": {
        "id": "2kCbtuokT1ZE"
      },
      "source": [
        "## Compile, train, and evaluate the mode"
      ]
    },
    {
      "cell_type": "code",
      "source": [
        "optimizer = tfa.optimizers.AdamW(\n",
        "        learning_rate=learning_rate, weight_decay=weight_decay\n",
        "    )\n",
        "\n"
      ],
      "metadata": {
        "id": "ccu2ewvsWNJl"
      },
      "execution_count": 22,
      "outputs": []
    },
    {
      "cell_type": "code",
      "source": [
        "vit_classifier = create_vit_classifier()\n",
        "\n",
        "vit_classifier.compile(\n",
        "        optimizer=optimizer,\n",
        "        loss=keras.losses.BinaryCrossentropy(from_logits=False),\n",
        "        metrics=['accuracy']\n",
        "            #keras.metrics.BinaryCrossentropy(name=\"accuracy\"),\n",
        "#            keras.metrics.SparseTopKCategoricalAccuracy(5, name=\"top-5-accuracy\"),\n",
        "        #],\n",
        "    )"
      ],
      "metadata": {
        "id": "Zhn0Pl3tWOhJ"
      },
      "execution_count": 23,
      "outputs": []
    },
    {
      "cell_type": "code",
      "source": [
        "%cd drive/My Drive/ImageClassificationData"
      ],
      "metadata": {
        "id": "JuPNpiYKP6Kb",
        "outputId": "135b4fc9-68b9-4ca8-ffec-c723d6da9d34",
        "colab": {
          "base_uri": "https://localhost:8080/"
        }
      },
      "execution_count": 24,
      "outputs": [
        {
          "output_type": "stream",
          "name": "stdout",
          "text": [
            "/content/drive/My Drive/ImageClassificationData\n"
          ]
        }
      ]
    },
    {
      "cell_type": "code",
      "source": [
        ""
      ],
      "metadata": {
        "id": "l2RZrujePGFR"
      },
      "execution_count": null,
      "outputs": []
    },
    {
      "cell_type": "code",
      "source": [
        ""
      ],
      "metadata": {
        "id": "NdmmyvuhP5Xi"
      },
      "execution_count": null,
      "outputs": []
    },
    {
      "cell_type": "code",
      "source": [
        "checkpoint_filepath = '/content/drive/MyDrive/ImageClassificationData/HECheckpoint/checkpoint'\n",
        "checkpoint_callback = tf.keras.callbacks.ModelCheckpoint(\n",
        "    filepath=checkpoint_filepath,\n",
        "    save_weights_only=True,\n",
        "    monitor='val_loss',\n",
        "    mode='min',\n",
        "    save_best_only=True)\n",
        "\n"
      ],
      "metadata": {
        "id": "QhJAJZoUoTLx"
      },
      "execution_count": 25,
      "outputs": []
    },
    {
      "cell_type": "code",
      "source": [
        "weight_for_0 = 190/(2*107)\n",
        "weight_for_1 = 190/(2*83)\n",
        "print(weight_for_0)\n",
        "print(weight_for_1)\n",
        "class_weight = {0: weight_for_0, 1: weight_for_1}"
      ],
      "metadata": {
        "id": "dGG7Z3UEWWNi",
        "outputId": "6f8aaa82-2f8e-4a19-88c6-26d74a5a0fbc",
        "colab": {
          "base_uri": "https://localhost:8080/"
        }
      },
      "execution_count": 26,
      "outputs": [
        {
          "output_type": "stream",
          "name": "stdout",
          "text": [
            "0.8878504672897196\n",
            "1.144578313253012\n"
          ]
        }
      ]
    },
    {
      "cell_type": "code",
      "source": [
        "\n",
        "\n",
        "\n",
        "history = vit_classifier.fit(\n",
        "        x=train_ds,\n",
        "        #y=val_ds,\n",
        "        #batch_size=batch_size,\n",
        "        validation_data=val_ds,\n",
        "        epochs=num_epochs,\n",
        "      #  validation_split=0.1,\n",
        "        callbacks=[checkpoint_callback],\n",
        "        class_weight = class_weight,\n",
        "        #batch_size = 16,\n",
        "    )"
      ],
      "metadata": {
        "colab": {
          "base_uri": "https://localhost:8080/"
        },
        "id": "0zYfvovhWOoW",
        "outputId": "1d4f2973-cfd9-417f-ace5-655e96f2dd10"
      },
      "execution_count": 27,
      "outputs": [
        {
          "output_type": "stream",
          "name": "stdout",
          "text": [
            "Epoch 1/150\n",
            "10/10 [==============================] - 31s 741ms/step - loss: 1.6543 - accuracy: 0.4803 - val_loss: 0.8835 - val_accuracy: 0.5789\n",
            "Epoch 2/150\n",
            "10/10 [==============================] - 2s 196ms/step - loss: 1.4912 - accuracy: 0.4868 - val_loss: 1.0963 - val_accuracy: 0.5789\n",
            "Epoch 3/150\n",
            "10/10 [==============================] - 2s 195ms/step - loss: 1.3301 - accuracy: 0.5263 - val_loss: 1.8636 - val_accuracy: 0.4211\n",
            "Epoch 4/150\n",
            "10/10 [==============================] - 3s 261ms/step - loss: 1.5083 - accuracy: 0.5000 - val_loss: 0.5774 - val_accuracy: 0.6842\n",
            "Epoch 5/150\n",
            "10/10 [==============================] - 2s 196ms/step - loss: 1.0950 - accuracy: 0.6118 - val_loss: 0.7920 - val_accuracy: 0.5000\n",
            "Epoch 6/150\n",
            "10/10 [==============================] - 3s 243ms/step - loss: 1.2248 - accuracy: 0.5461 - val_loss: 0.5710 - val_accuracy: 0.6579\n",
            "Epoch 7/150\n",
            "10/10 [==============================] - 3s 242ms/step - loss: 0.8207 - accuracy: 0.6250 - val_loss: 0.5673 - val_accuracy: 0.7105\n",
            "Epoch 8/150\n",
            "10/10 [==============================] - 3s 245ms/step - loss: 0.7626 - accuracy: 0.5658 - val_loss: 0.5283 - val_accuracy: 0.7895\n",
            "Epoch 9/150\n",
            "10/10 [==============================] - 3s 247ms/step - loss: 0.6723 - accuracy: 0.6250 - val_loss: 0.4885 - val_accuracy: 0.7105\n",
            "Epoch 10/150\n",
            "10/10 [==============================] - 2s 198ms/step - loss: 0.7666 - accuracy: 0.6711 - val_loss: 0.9302 - val_accuracy: 0.5000\n",
            "Epoch 11/150\n",
            "10/10 [==============================] - 2s 202ms/step - loss: 0.9549 - accuracy: 0.5921 - val_loss: 0.9960 - val_accuracy: 0.4211\n",
            "Epoch 12/150\n",
            "10/10 [==============================] - 3s 244ms/step - loss: 0.6506 - accuracy: 0.6776 - val_loss: 0.4694 - val_accuracy: 0.7368\n",
            "Epoch 13/150\n",
            "10/10 [==============================] - 2s 199ms/step - loss: 0.5784 - accuracy: 0.7303 - val_loss: 0.5741 - val_accuracy: 0.6842\n",
            "Epoch 14/150\n",
            "10/10 [==============================] - 2s 203ms/step - loss: 0.7911 - accuracy: 0.6447 - val_loss: 0.4888 - val_accuracy: 0.8421\n",
            "Epoch 15/150\n",
            "10/10 [==============================] - 2s 204ms/step - loss: 0.6421 - accuracy: 0.6645 - val_loss: 0.5395 - val_accuracy: 0.7105\n",
            "Epoch 16/150\n",
            "10/10 [==============================] - 3s 240ms/step - loss: 0.5130 - accuracy: 0.7303 - val_loss: 0.4285 - val_accuracy: 0.8421\n",
            "Epoch 17/150\n",
            "10/10 [==============================] - 3s 263ms/step - loss: 0.5181 - accuracy: 0.7171 - val_loss: 0.3857 - val_accuracy: 0.8947\n",
            "Epoch 18/150\n",
            "10/10 [==============================] - 2s 193ms/step - loss: 0.4922 - accuracy: 0.7303 - val_loss: 0.4195 - val_accuracy: 0.8421\n",
            "Epoch 19/150\n",
            "10/10 [==============================] - 2s 193ms/step - loss: 0.6252 - accuracy: 0.7105 - val_loss: 0.7081 - val_accuracy: 0.5263\n",
            "Epoch 20/150\n",
            "10/10 [==============================] - 3s 232ms/step - loss: 0.5588 - accuracy: 0.7105 - val_loss: 0.3676 - val_accuracy: 0.8421\n",
            "Epoch 21/150\n",
            "10/10 [==============================] - 3s 259ms/step - loss: 0.4567 - accuracy: 0.8026 - val_loss: 0.3152 - val_accuracy: 0.8947\n",
            "Epoch 22/150\n",
            "10/10 [==============================] - 2s 193ms/step - loss: 0.6082 - accuracy: 0.7171 - val_loss: 0.3387 - val_accuracy: 0.9474\n",
            "Epoch 23/150\n",
            "10/10 [==============================] - 2s 195ms/step - loss: 0.5329 - accuracy: 0.7500 - val_loss: 0.5324 - val_accuracy: 0.6579\n",
            "Epoch 24/150\n",
            "10/10 [==============================] - 3s 221ms/step - loss: 0.5986 - accuracy: 0.7237 - val_loss: 0.3876 - val_accuracy: 0.8421\n",
            "Epoch 25/150\n",
            "10/10 [==============================] - 2s 190ms/step - loss: 0.5088 - accuracy: 0.7368 - val_loss: 0.4035 - val_accuracy: 0.8158\n",
            "Epoch 26/150\n",
            "10/10 [==============================] - 2s 188ms/step - loss: 0.5427 - accuracy: 0.7303 - val_loss: 0.3743 - val_accuracy: 0.9211\n",
            "Epoch 27/150\n",
            "10/10 [==============================] - 3s 236ms/step - loss: 0.4069 - accuracy: 0.8092 - val_loss: 0.2894 - val_accuracy: 0.9474\n",
            "Epoch 28/150\n",
            "10/10 [==============================] - 3s 257ms/step - loss: 0.3532 - accuracy: 0.8487 - val_loss: 0.2560 - val_accuracy: 0.9474\n",
            "Epoch 29/150\n",
            "10/10 [==============================] - 2s 196ms/step - loss: 0.5954 - accuracy: 0.7566 - val_loss: 0.3137 - val_accuracy: 0.9474\n",
            "Epoch 30/150\n",
            "10/10 [==============================] - 2s 191ms/step - loss: 0.5414 - accuracy: 0.7303 - val_loss: 0.4818 - val_accuracy: 0.7105\n",
            "Epoch 31/150\n",
            "10/10 [==============================] - 2s 192ms/step - loss: 0.4911 - accuracy: 0.7763 - val_loss: 0.3507 - val_accuracy: 0.9474\n",
            "Epoch 32/150\n",
            "10/10 [==============================] - 2s 191ms/step - loss: 0.3967 - accuracy: 0.8026 - val_loss: 0.3084 - val_accuracy: 0.9211\n",
            "Epoch 33/150\n",
            "10/10 [==============================] - 2s 192ms/step - loss: 0.4021 - accuracy: 0.8026 - val_loss: 0.3141 - val_accuracy: 0.8158\n",
            "Epoch 34/150\n",
            "10/10 [==============================] - 3s 240ms/step - loss: 0.4359 - accuracy: 0.8026 - val_loss: 0.2454 - val_accuracy: 0.9737\n",
            "Epoch 35/150\n",
            "10/10 [==============================] - 2s 195ms/step - loss: 0.3452 - accuracy: 0.8421 - val_loss: 0.2936 - val_accuracy: 0.9211\n",
            "Epoch 36/150\n",
            "10/10 [==============================] - 2s 188ms/step - loss: 0.4908 - accuracy: 0.7961 - val_loss: 0.2929 - val_accuracy: 0.9474\n",
            "Epoch 37/150\n",
            "10/10 [==============================] - 2s 192ms/step - loss: 0.4604 - accuracy: 0.7895 - val_loss: 0.3698 - val_accuracy: 0.8947\n",
            "Epoch 38/150\n",
            "10/10 [==============================] - 2s 193ms/step - loss: 0.4754 - accuracy: 0.8158 - val_loss: 0.3584 - val_accuracy: 0.8684\n",
            "Epoch 39/150\n",
            "10/10 [==============================] - 3s 221ms/step - loss: 0.4890 - accuracy: 0.7895 - val_loss: 0.3097 - val_accuracy: 0.9211\n",
            "Epoch 40/150\n",
            "10/10 [==============================] - 2s 189ms/step - loss: 0.3996 - accuracy: 0.8026 - val_loss: 0.3375 - val_accuracy: 0.8684\n",
            "Epoch 41/150\n",
            "10/10 [==============================] - 2s 190ms/step - loss: 0.4723 - accuracy: 0.7697 - val_loss: 0.3266 - val_accuracy: 0.8421\n",
            "Epoch 42/150\n",
            "10/10 [==============================] - 2s 188ms/step - loss: 0.4259 - accuracy: 0.7961 - val_loss: 0.3107 - val_accuracy: 0.9211\n",
            "Epoch 43/150\n",
            "10/10 [==============================] - 2s 190ms/step - loss: 0.3658 - accuracy: 0.8618 - val_loss: 0.2731 - val_accuracy: 0.9474\n",
            "Epoch 44/150\n",
            "10/10 [==============================] - 2s 190ms/step - loss: 0.4313 - accuracy: 0.8158 - val_loss: 0.3476 - val_accuracy: 0.7895\n",
            "Epoch 45/150\n",
            "10/10 [==============================] - 2s 191ms/step - loss: 0.4050 - accuracy: 0.8026 - val_loss: 0.3375 - val_accuracy: 0.9737\n",
            "Epoch 46/150\n",
            "10/10 [==============================] - 2s 195ms/step - loss: 0.4441 - accuracy: 0.7829 - val_loss: 0.3037 - val_accuracy: 0.8947\n",
            "Epoch 47/150\n",
            "10/10 [==============================] - 2s 200ms/step - loss: 0.3551 - accuracy: 0.8618 - val_loss: 0.3148 - val_accuracy: 0.7895\n",
            "Epoch 48/150\n",
            "10/10 [==============================] - 2s 190ms/step - loss: 0.4264 - accuracy: 0.8158 - val_loss: 0.2966 - val_accuracy: 0.9211\n",
            "Epoch 49/150\n",
            "10/10 [==============================] - 2s 189ms/step - loss: 0.3745 - accuracy: 0.8355 - val_loss: 0.3556 - val_accuracy: 0.8421\n",
            "Epoch 50/150\n",
            "10/10 [==============================] - 2s 198ms/step - loss: 0.3392 - accuracy: 0.8487 - val_loss: 0.2865 - val_accuracy: 0.9211\n",
            "Epoch 51/150\n",
            "10/10 [==============================] - 2s 203ms/step - loss: 0.3519 - accuracy: 0.8618 - val_loss: 0.2577 - val_accuracy: 0.9211\n",
            "Epoch 52/150\n",
            "10/10 [==============================] - 2s 194ms/step - loss: 0.3645 - accuracy: 0.8421 - val_loss: 0.3776 - val_accuracy: 0.8684\n",
            "Epoch 53/150\n",
            "10/10 [==============================] - 2s 194ms/step - loss: 0.4124 - accuracy: 0.8092 - val_loss: 0.3150 - val_accuracy: 0.8158\n",
            "Epoch 54/150\n",
            "10/10 [==============================] - 2s 192ms/step - loss: 0.3378 - accuracy: 0.8553 - val_loss: 0.2728 - val_accuracy: 0.9474\n",
            "Epoch 55/150\n",
            "10/10 [==============================] - 3s 232ms/step - loss: 0.3821 - accuracy: 0.8487 - val_loss: 0.2422 - val_accuracy: 0.9211\n",
            "Epoch 56/150\n",
            "10/10 [==============================] - 2s 194ms/step - loss: 0.4053 - accuracy: 0.8355 - val_loss: 0.3167 - val_accuracy: 0.8947\n",
            "Epoch 57/150\n",
            "10/10 [==============================] - 3s 235ms/step - loss: 0.3622 - accuracy: 0.8289 - val_loss: 0.1939 - val_accuracy: 0.9737\n",
            "Epoch 58/150\n",
            "10/10 [==============================] - 2s 194ms/step - loss: 0.3805 - accuracy: 0.8618 - val_loss: 0.2452 - val_accuracy: 0.9737\n",
            "Epoch 59/150\n",
            "10/10 [==============================] - 2s 197ms/step - loss: 0.3229 - accuracy: 0.8816 - val_loss: 0.2298 - val_accuracy: 0.9737\n",
            "Epoch 60/150\n",
            "10/10 [==============================] - 3s 201ms/step - loss: 0.2806 - accuracy: 0.8618 - val_loss: 0.2219 - val_accuracy: 0.9211\n",
            "Epoch 61/150\n",
            "10/10 [==============================] - 3s 241ms/step - loss: 0.3710 - accuracy: 0.8487 - val_loss: 0.1914 - val_accuracy: 0.9737\n",
            "Epoch 62/150\n",
            "10/10 [==============================] - 2s 191ms/step - loss: 0.2956 - accuracy: 0.8487 - val_loss: 0.2651 - val_accuracy: 0.8684\n",
            "Epoch 63/150\n",
            "10/10 [==============================] - 2s 195ms/step - loss: 0.2634 - accuracy: 0.8882 - val_loss: 0.2267 - val_accuracy: 0.9474\n",
            "Epoch 64/150\n",
            "10/10 [==============================] - 3s 220ms/step - loss: 0.3809 - accuracy: 0.8421 - val_loss: 0.3102 - val_accuracy: 0.8421\n",
            "Epoch 65/150\n",
            "10/10 [==============================] - 2s 193ms/step - loss: 0.4466 - accuracy: 0.8224 - val_loss: 0.2539 - val_accuracy: 0.9737\n",
            "Epoch 66/150\n",
            "10/10 [==============================] - 2s 191ms/step - loss: 0.3638 - accuracy: 0.8618 - val_loss: 0.2334 - val_accuracy: 0.9474\n",
            "Epoch 67/150\n",
            "10/10 [==============================] - 3s 231ms/step - loss: 0.3244 - accuracy: 0.8684 - val_loss: 0.1818 - val_accuracy: 0.9737\n",
            "Epoch 68/150\n",
            "10/10 [==============================] - 2s 197ms/step - loss: 0.3171 - accuracy: 0.8750 - val_loss: 0.2018 - val_accuracy: 0.9737\n",
            "Epoch 69/150\n",
            "10/10 [==============================] - 2s 195ms/step - loss: 0.3134 - accuracy: 0.8750 - val_loss: 0.2654 - val_accuracy: 0.9211\n",
            "Epoch 70/150\n",
            "10/10 [==============================] - 2s 195ms/step - loss: 0.3218 - accuracy: 0.8092 - val_loss: 0.5309 - val_accuracy: 0.7632\n",
            "Epoch 71/150\n",
            "10/10 [==============================] - 2s 215ms/step - loss: 0.2342 - accuracy: 0.9211 - val_loss: 0.2158 - val_accuracy: 0.9211\n",
            "Epoch 72/150\n",
            "10/10 [==============================] - 2s 190ms/step - loss: 0.3102 - accuracy: 0.8816 - val_loss: 0.2152 - val_accuracy: 0.9211\n",
            "Epoch 73/150\n",
            "10/10 [==============================] - 2s 191ms/step - loss: 0.3660 - accuracy: 0.8355 - val_loss: 0.3736 - val_accuracy: 0.7632\n",
            "Epoch 74/150\n",
            "10/10 [==============================] - 2s 198ms/step - loss: 0.3909 - accuracy: 0.7829 - val_loss: 0.3649 - val_accuracy: 0.8158\n",
            "Epoch 75/150\n",
            "10/10 [==============================] - 2s 192ms/step - loss: 0.3498 - accuracy: 0.8355 - val_loss: 0.2505 - val_accuracy: 0.9474\n",
            "Epoch 76/150\n",
            "10/10 [==============================] - 2s 192ms/step - loss: 0.2568 - accuracy: 0.8750 - val_loss: 0.1863 - val_accuracy: 0.9211\n",
            "Epoch 77/150\n",
            "10/10 [==============================] - 2s 194ms/step - loss: 0.2889 - accuracy: 0.9079 - val_loss: 0.1880 - val_accuracy: 0.8947\n",
            "Epoch 78/150\n",
            "10/10 [==============================] - 2s 194ms/step - loss: 0.2683 - accuracy: 0.9276 - val_loss: 0.2101 - val_accuracy: 0.8684\n",
            "Epoch 79/150\n",
            "10/10 [==============================] - 2s 193ms/step - loss: 0.2828 - accuracy: 0.8816 - val_loss: 0.2785 - val_accuracy: 0.9211\n",
            "Epoch 80/150\n",
            "10/10 [==============================] - 2s 189ms/step - loss: 0.2497 - accuracy: 0.8947 - val_loss: 0.2792 - val_accuracy: 0.8158\n",
            "Epoch 81/150\n",
            "10/10 [==============================] - 2s 190ms/step - loss: 0.2938 - accuracy: 0.8618 - val_loss: 0.2615 - val_accuracy: 0.8947\n",
            "Epoch 82/150\n",
            "10/10 [==============================] - 2s 189ms/step - loss: 0.2195 - accuracy: 0.9079 - val_loss: 0.2189 - val_accuracy: 0.9737\n",
            "Epoch 83/150\n",
            "10/10 [==============================] - 2s 190ms/step - loss: 0.3323 - accuracy: 0.8882 - val_loss: 0.1832 - val_accuracy: 0.8947\n",
            "Epoch 84/150\n",
            "10/10 [==============================] - 2s 191ms/step - loss: 0.2565 - accuracy: 0.9145 - val_loss: 0.2042 - val_accuracy: 0.9211\n",
            "Epoch 85/150\n",
            "10/10 [==============================] - 2s 190ms/step - loss: 0.2426 - accuracy: 0.9013 - val_loss: 0.2922 - val_accuracy: 0.8158\n",
            "Epoch 86/150\n",
            "10/10 [==============================] - 2s 191ms/step - loss: 0.2619 - accuracy: 0.9079 - val_loss: 0.3073 - val_accuracy: 0.8158\n",
            "Epoch 87/150\n",
            "10/10 [==============================] - 2s 198ms/step - loss: 0.3234 - accuracy: 0.8684 - val_loss: 0.2473 - val_accuracy: 0.9211\n",
            "Epoch 88/150\n",
            "10/10 [==============================] - 3s 236ms/step - loss: 0.2172 - accuracy: 0.9013 - val_loss: 0.1555 - val_accuracy: 0.9737\n",
            "Epoch 89/150\n",
            "10/10 [==============================] - 2s 199ms/step - loss: 0.2199 - accuracy: 0.9145 - val_loss: 0.2048 - val_accuracy: 0.9211\n",
            "Epoch 90/150\n",
            "10/10 [==============================] - 2s 194ms/step - loss: 0.2140 - accuracy: 0.8816 - val_loss: 0.1700 - val_accuracy: 0.9211\n",
            "Epoch 91/150\n",
            "10/10 [==============================] - 2s 202ms/step - loss: 0.2710 - accuracy: 0.8816 - val_loss: 0.2365 - val_accuracy: 0.8947\n",
            "Epoch 92/150\n",
            "10/10 [==============================] - 2s 206ms/step - loss: 0.2370 - accuracy: 0.9013 - val_loss: 0.1953 - val_accuracy: 0.9474\n",
            "Epoch 93/150\n",
            "10/10 [==============================] - 3s 216ms/step - loss: 0.2519 - accuracy: 0.9079 - val_loss: 0.2128 - val_accuracy: 0.8684\n",
            "Epoch 94/150\n",
            "10/10 [==============================] - 2s 199ms/step - loss: 0.2254 - accuracy: 0.8750 - val_loss: 0.1607 - val_accuracy: 0.9211\n",
            "Epoch 95/150\n",
            "10/10 [==============================] - 3s 234ms/step - loss: 0.1785 - accuracy: 0.9474 - val_loss: 0.1281 - val_accuracy: 0.9211\n",
            "Epoch 96/150\n",
            "10/10 [==============================] - 2s 196ms/step - loss: 0.2973 - accuracy: 0.8684 - val_loss: 0.2228 - val_accuracy: 0.8684\n",
            "Epoch 97/150\n",
            "10/10 [==============================] - 2s 195ms/step - loss: 0.2561 - accuracy: 0.9145 - val_loss: 0.2862 - val_accuracy: 0.9211\n",
            "Epoch 98/150\n",
            "10/10 [==============================] - 2s 194ms/step - loss: 0.2684 - accuracy: 0.8750 - val_loss: 0.2195 - val_accuracy: 0.9211\n",
            "Epoch 99/150\n",
            "10/10 [==============================] - 3s 216ms/step - loss: 0.1924 - accuracy: 0.8947 - val_loss: 0.2316 - val_accuracy: 0.8947\n",
            "Epoch 100/150\n",
            "10/10 [==============================] - 2s 192ms/step - loss: 0.2404 - accuracy: 0.9211 - val_loss: 0.1866 - val_accuracy: 0.9211\n",
            "Epoch 101/150\n",
            "10/10 [==============================] - 2s 194ms/step - loss: 0.3052 - accuracy: 0.9145 - val_loss: 0.2258 - val_accuracy: 0.8947\n",
            "Epoch 102/150\n",
            "10/10 [==============================] - 2s 193ms/step - loss: 0.2933 - accuracy: 0.8816 - val_loss: 0.2285 - val_accuracy: 0.8947\n",
            "Epoch 103/150\n",
            "10/10 [==============================] - 2s 192ms/step - loss: 0.1835 - accuracy: 0.9474 - val_loss: 0.2189 - val_accuracy: 0.8947\n",
            "Epoch 104/150\n",
            "10/10 [==============================] - 2s 193ms/step - loss: 0.2746 - accuracy: 0.9013 - val_loss: 0.1758 - val_accuracy: 0.9211\n",
            "Epoch 105/150\n",
            "10/10 [==============================] - 2s 197ms/step - loss: 0.2194 - accuracy: 0.9211 - val_loss: 0.1441 - val_accuracy: 0.9737\n",
            "Epoch 106/150\n",
            "10/10 [==============================] - 2s 190ms/step - loss: 0.1724 - accuracy: 0.9211 - val_loss: 0.1678 - val_accuracy: 0.9474\n",
            "Epoch 107/150\n",
            "10/10 [==============================] - 2s 192ms/step - loss: 0.2550 - accuracy: 0.9211 - val_loss: 0.1300 - val_accuracy: 0.9737\n",
            "Epoch 108/150\n",
            "10/10 [==============================] - 2s 191ms/step - loss: 0.2214 - accuracy: 0.8816 - val_loss: 0.1677 - val_accuracy: 0.9211\n",
            "Epoch 109/150\n",
            "10/10 [==============================] - 2s 194ms/step - loss: 0.2190 - accuracy: 0.9145 - val_loss: 0.1675 - val_accuracy: 0.8947\n",
            "Epoch 110/150\n",
            "10/10 [==============================] - 2s 200ms/step - loss: 0.2693 - accuracy: 0.8947 - val_loss: 0.2258 - val_accuracy: 0.9211\n",
            "Epoch 111/150\n",
            "10/10 [==============================] - 2s 196ms/step - loss: 0.1965 - accuracy: 0.9013 - val_loss: 0.2113 - val_accuracy: 0.8947\n",
            "Epoch 112/150\n",
            "10/10 [==============================] - 2s 193ms/step - loss: 0.1366 - accuracy: 0.9474 - val_loss: 0.1874 - val_accuracy: 0.9211\n",
            "Epoch 113/150\n",
            "10/10 [==============================] - 2s 193ms/step - loss: 0.1878 - accuracy: 0.9145 - val_loss: 0.1721 - val_accuracy: 0.9474\n",
            "Epoch 114/150\n",
            "10/10 [==============================] - 2s 206ms/step - loss: 0.2293 - accuracy: 0.9079 - val_loss: 0.1521 - val_accuracy: 0.9211\n",
            "Epoch 115/150\n",
            "10/10 [==============================] - 2s 210ms/step - loss: 0.2361 - accuracy: 0.9276 - val_loss: 0.2190 - val_accuracy: 0.9211\n",
            "Epoch 116/150\n",
            "10/10 [==============================] - 2s 200ms/step - loss: 0.2246 - accuracy: 0.9276 - val_loss: 0.2329 - val_accuracy: 0.8421\n",
            "Epoch 117/150\n",
            "10/10 [==============================] - 2s 193ms/step - loss: 0.1946 - accuracy: 0.9211 - val_loss: 0.2109 - val_accuracy: 0.9211\n",
            "Epoch 118/150\n",
            "10/10 [==============================] - 2s 196ms/step - loss: 0.2505 - accuracy: 0.9079 - val_loss: 0.2157 - val_accuracy: 0.8947\n",
            "Epoch 119/150\n",
            "10/10 [==============================] - 2s 194ms/step - loss: 0.1867 - accuracy: 0.9211 - val_loss: 0.2171 - val_accuracy: 0.8947\n",
            "Epoch 120/150\n",
            "10/10 [==============================] - 2s 198ms/step - loss: 0.2330 - accuracy: 0.9276 - val_loss: 0.1872 - val_accuracy: 0.9211\n",
            "Epoch 121/150\n",
            "10/10 [==============================] - 2s 197ms/step - loss: 0.2078 - accuracy: 0.9211 - val_loss: 0.2062 - val_accuracy: 0.9211\n",
            "Epoch 122/150\n",
            "10/10 [==============================] - 2s 198ms/step - loss: 0.1630 - accuracy: 0.9342 - val_loss: 0.2383 - val_accuracy: 0.8947\n",
            "Epoch 123/150\n",
            "10/10 [==============================] - 2s 203ms/step - loss: 0.1376 - accuracy: 0.9342 - val_loss: 0.2441 - val_accuracy: 0.8947\n",
            "Epoch 124/150\n",
            "10/10 [==============================] - 2s 202ms/step - loss: 0.2270 - accuracy: 0.9276 - val_loss: 0.2909 - val_accuracy: 0.9211\n",
            "Epoch 125/150\n",
            "10/10 [==============================] - 2s 198ms/step - loss: 0.1829 - accuracy: 0.9276 - val_loss: 0.3214 - val_accuracy: 0.8421\n",
            "Epoch 126/150\n",
            "10/10 [==============================] - 2s 194ms/step - loss: 0.2275 - accuracy: 0.8816 - val_loss: 0.3464 - val_accuracy: 0.9211\n",
            "Epoch 127/150\n",
            "10/10 [==============================] - 2s 195ms/step - loss: 0.2451 - accuracy: 0.8947 - val_loss: 0.1865 - val_accuracy: 0.9211\n",
            "Epoch 128/150\n",
            "10/10 [==============================] - 2s 193ms/step - loss: 0.2248 - accuracy: 0.9145 - val_loss: 0.1799 - val_accuracy: 0.9211\n",
            "Epoch 129/150\n",
            "10/10 [==============================] - 2s 192ms/step - loss: 0.1809 - accuracy: 0.9408 - val_loss: 0.2504 - val_accuracy: 0.9211\n",
            "Epoch 130/150\n",
            "10/10 [==============================] - 2s 198ms/step - loss: 0.2069 - accuracy: 0.9013 - val_loss: 0.1869 - val_accuracy: 0.9211\n",
            "Epoch 131/150\n",
            "10/10 [==============================] - 2s 194ms/step - loss: 0.1858 - accuracy: 0.9211 - val_loss: 0.2698 - val_accuracy: 0.8947\n",
            "Epoch 132/150\n",
            "10/10 [==============================] - 2s 193ms/step - loss: 0.2675 - accuracy: 0.9211 - val_loss: 0.2355 - val_accuracy: 0.8947\n",
            "Epoch 133/150\n",
            "10/10 [==============================] - 2s 192ms/step - loss: 0.1956 - accuracy: 0.9145 - val_loss: 0.2321 - val_accuracy: 0.8947\n",
            "Epoch 134/150\n",
            "10/10 [==============================] - 2s 192ms/step - loss: 0.1412 - accuracy: 0.9408 - val_loss: 0.1630 - val_accuracy: 0.9211\n",
            "Epoch 135/150\n",
            "10/10 [==============================] - 2s 195ms/step - loss: 0.2520 - accuracy: 0.9013 - val_loss: 0.2704 - val_accuracy: 0.9211\n",
            "Epoch 136/150\n",
            "10/10 [==============================] - 2s 195ms/step - loss: 0.1735 - accuracy: 0.9408 - val_loss: 0.1634 - val_accuracy: 0.9211\n",
            "Epoch 137/150\n",
            "10/10 [==============================] - 2s 198ms/step - loss: 0.2267 - accuracy: 0.9079 - val_loss: 0.2038 - val_accuracy: 0.8947\n",
            "Epoch 138/150\n",
            "10/10 [==============================] - 2s 199ms/step - loss: 0.1827 - accuracy: 0.9342 - val_loss: 0.2284 - val_accuracy: 0.9211\n",
            "Epoch 139/150\n",
            "10/10 [==============================] - 3s 207ms/step - loss: 0.1953 - accuracy: 0.9539 - val_loss: 0.2806 - val_accuracy: 0.9211\n",
            "Epoch 140/150\n",
            "10/10 [==============================] - 2s 202ms/step - loss: 0.2233 - accuracy: 0.9211 - val_loss: 0.2307 - val_accuracy: 0.9211\n",
            "Epoch 141/150\n",
            "10/10 [==============================] - 2s 193ms/step - loss: 0.1045 - accuracy: 0.9671 - val_loss: 0.1951 - val_accuracy: 0.9211\n",
            "Epoch 142/150\n",
            "10/10 [==============================] - 2s 193ms/step - loss: 0.2914 - accuracy: 0.9079 - val_loss: 0.2540 - val_accuracy: 0.9211\n",
            "Epoch 143/150\n",
            "10/10 [==============================] - 2s 190ms/step - loss: 0.2306 - accuracy: 0.8882 - val_loss: 0.3038 - val_accuracy: 0.8947\n",
            "Epoch 144/150\n",
            "10/10 [==============================] - 2s 194ms/step - loss: 0.1620 - accuracy: 0.9408 - val_loss: 0.2342 - val_accuracy: 0.9211\n",
            "Epoch 145/150\n",
            "10/10 [==============================] - 2s 193ms/step - loss: 0.1398 - accuracy: 0.9605 - val_loss: 0.2558 - val_accuracy: 0.9211\n",
            "Epoch 146/150\n",
            "10/10 [==============================] - 2s 203ms/step - loss: 0.1016 - accuracy: 0.9671 - val_loss: 0.2647 - val_accuracy: 0.8947\n",
            "Epoch 147/150\n",
            "10/10 [==============================] - 2s 192ms/step - loss: 0.2143 - accuracy: 0.9342 - val_loss: 0.2419 - val_accuracy: 0.8947\n",
            "Epoch 148/150\n",
            "10/10 [==============================] - 2s 199ms/step - loss: 0.2153 - accuracy: 0.9145 - val_loss: 0.1705 - val_accuracy: 0.9211\n",
            "Epoch 149/150\n",
            "10/10 [==============================] - 2s 194ms/step - loss: 0.1681 - accuracy: 0.9211 - val_loss: 0.1637 - val_accuracy: 0.9211\n",
            "Epoch 150/150\n",
            "10/10 [==============================] - 2s 198ms/step - loss: 0.1797 - accuracy: 0.9276 - val_loss: 0.2092 - val_accuracy: 0.9211\n"
          ]
        }
      ]
    },
    {
      "cell_type": "code",
      "source": [
        "import matplotlib.pyplot as plt"
      ],
      "metadata": {
        "id": "PD-6tlPHlQTd"
      },
      "execution_count": 29,
      "outputs": []
    },
    {
      "cell_type": "code",
      "source": [
        "acc = history.history['accuracy']\n",
        "val_acc = history.history['val_accuracy']\n",
        "\n",
        "loss = history.history['loss']\n",
        "val_loss = history.history['val_loss']\n",
        "\n",
        "epochs_range = range(num_epochs)\n",
        "\n",
        "plt.figure(figsize=(8, 8))\n",
        "plt.subplot(1, 2, 1)\n",
        "plt.plot(epochs_range, acc, label='Training Accuracy')\n",
        "plt.plot(epochs_range, val_acc, label='Validation Accuracy')\n",
        "plt.legend(loc='lower right')\n",
        "plt.title('Training and Validation Accuracy')\n",
        "\n",
        "plt.subplot(1, 2, 2)\n",
        "plt.plot(epochs_range, loss, label='Training Loss')\n",
        "plt.plot(epochs_range, val_loss, label='Validation Loss')\n",
        "plt.legend(loc='upper right')\n",
        "plt.title('Training and Validation Loss')\n",
        "plt.show()"
      ],
      "metadata": {
        "colab": {
          "base_uri": "https://localhost:8080/",
          "height": 499
        },
        "id": "Mh1tLCrje86r",
        "outputId": "cd60399c-136d-4d16-ff69-9179a1d391d8"
      },
      "execution_count": 30,
      "outputs": [
        {
          "output_type": "display_data",
          "data": {
            "image/png": "[encoded data removed]",
            "text/plain": [
              "<Figure size 576x576 with 2 Axes>"
            ]
          },
          "metadata": {
            "needs_background": "light"
          }
        }
      ]
    },
    {
      "cell_type": "code",
      "source": [
        "import os\n",
        "from os import listdir\n",
        "from os.path import isfile, join\n",
        "import shutil\n",
        "import random"
      ],
      "metadata": {
        "id": "hbvnt_31waJM"
      },
      "execution_count": 31,
      "outputs": []
    },
    {
      "cell_type": "markdown",
      "source": [
        "<h1>Load best model and do prediction</h1>"
      ],
      "metadata": {
        "id": "WqXdaSu8elXx"
      }
    },
    {
      "cell_type": "code",
      "source": [
        "checkpoint_filepath = '/content/drive/MyDrive/ImageClassificationData/checkpoint/checkpoint'\n",
        "inference_model = create_vit_classifier()\n",
        "inference_model.load_weights(checkpoint_filepath)\n"
      ],
      "metadata": {
        "id": "2mAg7ukJ3Yf0",
        "outputId": "ae3a76c0-bfe3-4185-903f-43c234c20c78",
        "colab": {
          "base_uri": "https://localhost:8080/"
        }
      },
      "execution_count": null,
      "outputs": [
        {
          "output_type": "execute_result",
          "data": {
            "text/plain": [
              "<tensorflow.python.training.tracking.util.CheckpointLoadStatus at 0x7f4f2dc56750>"
            ]
          },
          "metadata": {},
          "execution_count": 241
        }
      ]
    },
    {
      "cell_type": "code",
      "source": [
        "data_path =  '/content/drive/My Drive/ImageClassificationData/'\n",
        "train_data_path = os.path.join(data_path,'TestHE')\n",
        "image_names = [f for f in listdir(train_data_path) if isfile(join(train_data_path, f))]\n",
        "#image_names"
      ],
      "metadata": {
        "id": "MhjVKHSV1VPT"
      },
      "execution_count": 33,
      "outputs": []
    },
    {
      "cell_type": "code",
      "source": [
        "labels=[]\n",
        "for name in image_names:\n",
        "  if 'AP' in name:\n",
        "    labels.append(0)\n",
        "  else:\n",
        "    labels.append(1)\n",
        "labels = np.asarray(labels)"
      ],
      "metadata": {
        "id": "MGyfUqqqErfV"
      },
      "execution_count": 34,
      "outputs": []
    },
    {
      "cell_type": "code",
      "source": [
        "i = 0 \n",
        "test_image = os.path.join(data_path,'TestHE',image_names[i])\n",
        "#print(test_image)\n",
        "y = labels[i]\n",
        "img = tf.keras.utils.load_img(\n",
        "    test_image,\n",
        "    #color_mode = \"grayscale\", \n",
        "    target_size=(img_height, img_width),\n",
        "    )\n",
        "img_array = tf.keras.utils.img_to_array(img)\n",
        "img_array = tf.expand_dims(img_array, 0) # Create a batch\n",
        "\n",
        "predictions = inference_model.predict(img_array)"
      ],
      "metadata": {
        "id": "CdZ_Tgtg-53T"
      },
      "execution_count": null,
      "outputs": []
    },
    {
      "cell_type": "code",
      "source": [
        "predictions"
      ],
      "metadata": {
        "id": "nED17WTS-5_j",
        "outputId": "7213351e-5a78-48ec-a7ba-910a03a874ea",
        "colab": {
          "base_uri": "https://localhost:8080/"
        }
      },
      "execution_count": null,
      "outputs": [
        {
          "output_type": "execute_result",
          "data": {
            "text/plain": [
              "array([[0.47103396]], dtype=float32)"
            ]
          },
          "metadata": {},
          "execution_count": 230
        }
      ]
    },
    {
      "cell_type": "code",
      "source": [
        "\n",
        "def select_image(image_names,data_path,random_image):\n",
        "  random_image = random.choice(image_names)\n",
        "  test_image = os.path.join(data_path,'Test',random_image)\n",
        "  if 'AP' in test_image:\n",
        "    class_name = 'AP'\n",
        "  else:\n",
        "    class_name = 'Lateral'\n",
        "  return(test_image)\n",
        "\n",
        "\n",
        "#for _ in range(10):\n"
      ],
      "metadata": {
        "id": "k7m2dtUl1YWV"
      },
      "execution_count": null,
      "outputs": []
    },
    {
      "cell_type": "code",
      "source": [
        "tp = 0\n",
        "fp = 0\n",
        "for name in image_names:\n",
        "  test_image = os.path.join(data_path,'TestHE',name)\n",
        "  #print(test_image)\n",
        "  #test_image = select_image(image_names,data_path,name)\n",
        "  img = tf.keras.utils.load_img(\n",
        "      test_image,\n",
        "      #color_mode = \"grayscale\", \n",
        "      target_size=(img_height, img_width),\n",
        "      )\n",
        "  img_array = tf.keras.utils.img_to_array(img)\n",
        "  img_array = tf.expand_dims(img_array, 0) # Create a batch\n",
        "\n",
        "  predictions = vit_classifier.predict(img_array)\n",
        " # acc,loss = inference_model.evaluate(img_array)\n",
        "  \n",
        "  if 'AP' in test_image:\n",
        "    class_name = 'AP'\n",
        "  else:\n",
        "    class_name = 'Lateral'\n",
        "  #print('\\n','True image class:',class_name)\n",
        "\n",
        "  #print(test_image)\n",
        "  #print(predictions)\n",
        "  if predictions<0.4:\n",
        "    print('\\n',name,'    True image class:',class_name,'             predicted class is Lateral   ', predictions)\n",
        "  else:\n",
        "    print('\\n',name,'   True image class:',class_name,'              predicted class is AP      ',predictions)  \n",
        "\n",
        "  total_num_test_images = len(image_names)\n",
        "\n",
        "  if (class_name == 'Lateral' and predictions <0.3)  or (class_name == 'AP' and predictions >0.3):\n",
        "    tp = tp + 1 \n",
        "  else:\n",
        "    fp = fp + 1\n",
        "\n",
        "print(tp)\n",
        "print(fp)"
      ],
      "metadata": {
        "id": "hwCnD66239pH",
        "outputId": "cdb24cbd-82fd-4543-82f7-d9a963e29166",
        "colab": {
          "base_uri": "https://localhost:8080/"
        }
      },
      "execution_count": 45,
      "outputs": [
        {
          "output_type": "stream",
          "name": "stdout",
          "text": [
            "\n",
            " 211_AP.png    True image class: AP               predicted class is AP       [[0.5288622]]\n",
            "\n",
            " 198_Lateral.png     True image class: Lateral              predicted class is Lateral    [[0.2011669]]\n",
            "\n",
            " 196_Lateral.png    True image class: Lateral               predicted class is AP       [[0.6996219]]\n",
            "\n",
            " 195_Lateral.png     True image class: Lateral              predicted class is Lateral    [[0.02507585]]\n",
            "\n",
            " 210_AP.png    True image class: AP               predicted class is AP       [[0.7527477]]\n",
            "\n",
            " 209_AP.png     True image class: AP              predicted class is Lateral    [[0.3191436]]\n",
            "\n",
            " 201_Lateral.png     True image class: Lateral              predicted class is Lateral    [[0.20326555]]\n",
            "\n",
            " 194_Lateral.png     True image class: Lateral              predicted class is Lateral    [[0.05020073]]\n",
            "\n",
            " 199_Lateral.png     True image class: Lateral              predicted class is Lateral    [[0.03935301]]\n",
            "\n",
            " 217_AP.png     True image class: AP              predicted class is Lateral    [[0.11660746]]\n",
            "\n",
            " 214_AP.png     True image class: AP              predicted class is Lateral    [[0.02546227]]\n",
            "\n",
            " 200_Lateral.png    True image class: Lateral               predicted class is AP       [[0.64227355]]\n",
            "\n",
            " 197_Lateral.png     True image class: Lateral              predicted class is Lateral    [[0.02573103]]\n",
            "\n",
            " 206_AP.png     True image class: AP              predicted class is Lateral    [[0.0010016]]\n",
            "\n",
            " 191_Lateral.png    True image class: Lateral               predicted class is AP       [[0.9999993]]\n",
            "\n",
            " 208_AP.png    True image class: AP               predicted class is AP       [[0.99298364]]\n",
            "\n",
            " 203_Lateral.png     True image class: Lateral              predicted class is Lateral    [[0.10078764]]\n",
            "\n",
            " 205_AP.png    True image class: AP               predicted class is AP       [[0.89087504]]\n",
            "\n",
            " 216_AP.png     True image class: AP              predicted class is Lateral    [[0.1326617]]\n",
            "\n",
            " 215_AP.png     True image class: AP              predicted class is Lateral    [[0.0004029]]\n",
            "\n",
            " 193_Lateral.png     True image class: Lateral              predicted class is Lateral    [[0.03446954]]\n",
            "\n",
            " 212_AP.png     True image class: AP              predicted class is Lateral    [[0.03936222]]\n",
            "\n",
            " 207_AP.png     True image class: AP              predicted class is Lateral    [[0.06619161]]\n",
            "\n",
            " 202_Lateral.png    True image class: Lateral               predicted class is AP       [[0.90370965]]\n",
            "\n",
            " 192_Lateral.png    True image class: Lateral               predicted class is AP       [[0.99990344]]\n",
            "\n",
            " 213_AP.png     True image class: AP              predicted class is Lateral    [[0.02512524]]\n",
            "\n",
            " 204_AP.png     True image class: AP              predicted class is Lateral    [[0.01093578]]\n",
            "13\n",
            "14\n"
          ]
        }
      ]
    },
    {
      "cell_type": "code",
      "source": [
        "total_num_test_images"
      ],
      "metadata": {
        "id": "AGPQCyJV5gtj",
        "outputId": "7966827a-cb31-46c5-94ab-ca2d1200bbea",
        "colab": {
          "base_uri": "https://localhost:8080/"
        }
      },
      "execution_count": null,
      "outputs": [
        {
          "output_type": "execute_result",
          "data": {
            "text/plain": [
              "27"
            ]
          },
          "metadata": {},
          "execution_count": 255
        }
      ]
    },
    {
      "cell_type": "code",
      "source": [
        "tp"
      ],
      "metadata": {
        "id": "sWKWrG1_HroM",
        "outputId": "d8710b21-f508-41e5-d59a-7aaf3ede3096",
        "colab": {
          "base_uri": "https://localhost:8080/"
        }
      },
      "execution_count": null,
      "outputs": [
        {
          "output_type": "execute_result",
          "data": {
            "text/plain": [
              "12"
            ]
          },
          "metadata": {},
          "execution_count": 314
        }
      ]
    },
    {
      "cell_type": "code",
      "source": [
        "fp"
      ],
      "metadata": {
        "id": "FqbO8bE3Hs66",
        "outputId": "760e5082-7d72-4335-8adb-c8215fcb9b72",
        "colab": {
          "base_uri": "https://localhost:8080/"
        }
      },
      "execution_count": null,
      "outputs": [
        {
          "output_type": "execute_result",
          "data": {
            "text/plain": [
              "15"
            ]
          },
          "metadata": {},
          "execution_count": 315
        }
      ]
    }
  ],
  "metadata": {
    "colab": {
      "collapsed_sections": [],
      "name": "ViT-HE",
      "provenance": [],
      "include_colab_link": true
    },
    "environment": {
      "name": "tf2-gpu.2-4.m61",
      "type": "gcloud",
      "uri": "gcr.io/deeplearning-platform-release/tf2-gpu.2-4:m61"
    },
    "kernelspec": {
      "display_name": "Python 3",
      "language": "python",
      "name": "python3"
    },
    "language_info": {
      "codemirror_mode": {
        "name": "ipython",
        "version": 3
      },
      "file_extension": ".py",
      "mimetype": "text/x-python",
      "name": "python",
      "nbconvert_exporter": "python",
      "pygments_lexer": "ipython3",
      "version": "3.7.9"
    }
  },
  "nbformat": 4,
  "nbformat_minor": 0
}