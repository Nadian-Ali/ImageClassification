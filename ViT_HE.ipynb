{
  "cells": [
    {
      "cell_type": "markdown",
      "metadata": {
        "id": "view-in-github",
        "colab_type": "text"
      },
      "source": [
        "<a href=\"https://colab.research.google.com/github/Nadian-Ali/ImageClassification/blob/main/ViT_HE.ipynb\" target=\"_parent\"><img src=\"https://colab.research.google.com/assets/colab-badge.svg\" alt=\"Open In Colab\"/></a>"
      ]
    },
    {
      "cell_type": "markdown",
      "metadata": {
        "id": "i1ZPDbq_T1Ys"
      },
      "source": [
        "# Image classification with Vision Transformer\n",
        "\n",
        "The base model is implemetned by Khalid Salma\n",
        " \n",
        "**Author:** [Khalid Salama](https://www.linkedin.com/in/"
      ]
    },
    {
      "cell_type": "code",
      "source": [
        "from google.colab import drive\n",
        "drive.mount('/content/drive')"
      ],
      "metadata": {
        "colab": {
          "base_uri": "https://localhost:8080/"
        },
        "id": "f-hdD9eaZSir",
        "outputId": "74f0bbcc-5fa0-4a3a-a9ad-c5cc0bf92739"
      },
      "execution_count": 1,
      "outputs": [
        {
          "output_type": "stream",
          "name": "stdout",
          "text": [
            "Mounted at /content/drive\n"
          ]
        }
      ]
    },
    {
      "cell_type": "code",
      "source": [
        "!pip install -U tensorflow-addons"
      ],
      "metadata": {
        "colab": {
          "base_uri": "https://localhost:8080/"
        },
        "id": "B2yRZBNqUSgd",
        "outputId": "3bb15190-bde8-4f5b-939d-ced16f11715f"
      },
      "execution_count": 3,
      "outputs": [
        {
          "output_type": "stream",
          "name": "stdout",
          "text": [
            "Collecting tensorflow-addons\n",
            "  Downloading tensorflow_addons-0.15.0-cp37-cp37m-manylinux_2_12_x86_64.manylinux2010_x86_64.whl (1.1 MB)\n",
            "\u001b[?25l\r\u001b[K     |▎                               | 10 kB 19.5 MB/s eta 0:00:01\r\u001b[K     |▋                               | 20 kB 26.1 MB/s eta 0:00:01\r\u001b[K     |▉                               | 30 kB 30.6 MB/s eta 0:00:01\r\u001b[K     |█▏                              | 40 kB 31.8 MB/s eta 0:00:01\r\u001b[K     |█▌                              | 51 kB 25.6 MB/s eta 0:00:01\r\u001b[K     |█▊                              | 61 kB 21.0 MB/s eta 0:00:01\r\u001b[K     |██                              | 71 kB 17.9 MB/s eta 0:00:01\r\u001b[K     |██▍                             | 81 kB 19.3 MB/s eta 0:00:01\r\u001b[K     |██▋                             | 92 kB 20.8 MB/s eta 0:00:01\r\u001b[K     |███                             | 102 kB 20.6 MB/s eta 0:00:01\r\u001b[K     |███▎                            | 112 kB 20.6 MB/s eta 0:00:01\r\u001b[K     |███▌                            | 122 kB 20.6 MB/s eta 0:00:01\r\u001b[K     |███▉                            | 133 kB 20.6 MB/s eta 0:00:01\r\u001b[K     |████▏                           | 143 kB 20.6 MB/s eta 0:00:01\r\u001b[K     |████▍                           | 153 kB 20.6 MB/s eta 0:00:01\r\u001b[K     |████▊                           | 163 kB 20.6 MB/s eta 0:00:01\r\u001b[K     |█████                           | 174 kB 20.6 MB/s eta 0:00:01\r\u001b[K     |█████▎                          | 184 kB 20.6 MB/s eta 0:00:01\r\u001b[K     |█████▋                          | 194 kB 20.6 MB/s eta 0:00:01\r\u001b[K     |█████▉                          | 204 kB 20.6 MB/s eta 0:00:01\r\u001b[K     |██████▏                         | 215 kB 20.6 MB/s eta 0:00:01\r\u001b[K     |██████▌                         | 225 kB 20.6 MB/s eta 0:00:01\r\u001b[K     |██████▊                         | 235 kB 20.6 MB/s eta 0:00:01\r\u001b[K     |███████                         | 245 kB 20.6 MB/s eta 0:00:01\r\u001b[K     |███████▍                        | 256 kB 20.6 MB/s eta 0:00:01\r\u001b[K     |███████▋                        | 266 kB 20.6 MB/s eta 0:00:01\r\u001b[K     |████████                        | 276 kB 20.6 MB/s eta 0:00:01\r\u001b[K     |████████▎                       | 286 kB 20.6 MB/s eta 0:00:01\r\u001b[K     |████████▌                       | 296 kB 20.6 MB/s eta 0:00:01\r\u001b[K     |████████▉                       | 307 kB 20.6 MB/s eta 0:00:01\r\u001b[K     |█████████                       | 317 kB 20.6 MB/s eta 0:00:01\r\u001b[K     |█████████▍                      | 327 kB 20.6 MB/s eta 0:00:01\r\u001b[K     |█████████▊                      | 337 kB 20.6 MB/s eta 0:00:01\r\u001b[K     |██████████                      | 348 kB 20.6 MB/s eta 0:00:01\r\u001b[K     |██████████▎                     | 358 kB 20.6 MB/s eta 0:00:01\r\u001b[K     |██████████▋                     | 368 kB 20.6 MB/s eta 0:00:01\r\u001b[K     |██████████▉                     | 378 kB 20.6 MB/s eta 0:00:01\r\u001b[K     |███████████▏                    | 389 kB 20.6 MB/s eta 0:00:01\r\u001b[K     |███████████▌                    | 399 kB 20.6 MB/s eta 0:00:01\r\u001b[K     |███████████▊                    | 409 kB 20.6 MB/s eta 0:00:01\r\u001b[K     |████████████                    | 419 kB 20.6 MB/s eta 0:00:01\r\u001b[K     |████████████▍                   | 430 kB 20.6 MB/s eta 0:00:01\r\u001b[K     |████████████▋                   | 440 kB 20.6 MB/s eta 0:00:01\r\u001b[K     |█████████████                   | 450 kB 20.6 MB/s eta 0:00:01\r\u001b[K     |█████████████▎                  | 460 kB 20.6 MB/s eta 0:00:01\r\u001b[K     |█████████████▌                  | 471 kB 20.6 MB/s eta 0:00:01\r\u001b[K     |█████████████▉                  | 481 kB 20.6 MB/s eta 0:00:01\r\u001b[K     |██████████████                  | 491 kB 20.6 MB/s eta 0:00:01\r\u001b[K     |██████████████▍                 | 501 kB 20.6 MB/s eta 0:00:01\r\u001b[K     |██████████████▊                 | 512 kB 20.6 MB/s eta 0:00:01\r\u001b[K     |███████████████                 | 522 kB 20.6 MB/s eta 0:00:01\r\u001b[K     |███████████████▎                | 532 kB 20.6 MB/s eta 0:00:01\r\u001b[K     |███████████████▋                | 542 kB 20.6 MB/s eta 0:00:01\r\u001b[K     |███████████████▉                | 552 kB 20.6 MB/s eta 0:00:01\r\u001b[K     |████████████████▏               | 563 kB 20.6 MB/s eta 0:00:01\r\u001b[K     |████████████████▌               | 573 kB 20.6 MB/s eta 0:00:01\r\u001b[K     |████████████████▊               | 583 kB 20.6 MB/s eta 0:00:01\r\u001b[K     |█████████████████               | 593 kB 20.6 MB/s eta 0:00:01\r\u001b[K     |█████████████████▍              | 604 kB 20.6 MB/s eta 0:00:01\r\u001b[K     |█████████████████▋              | 614 kB 20.6 MB/s eta 0:00:01\r\u001b[K     |██████████████████              | 624 kB 20.6 MB/s eta 0:00:01\r\u001b[K     |██████████████████▏             | 634 kB 20.6 MB/s eta 0:00:01\r\u001b[K     |██████████████████▌             | 645 kB 20.6 MB/s eta 0:00:01\r\u001b[K     |██████████████████▉             | 655 kB 20.6 MB/s eta 0:00:01\r\u001b[K     |███████████████████             | 665 kB 20.6 MB/s eta 0:00:01\r\u001b[K     |███████████████████▍            | 675 kB 20.6 MB/s eta 0:00:01\r\u001b[K     |███████████████████▊            | 686 kB 20.6 MB/s eta 0:00:01\r\u001b[K     |████████████████████            | 696 kB 20.6 MB/s eta 0:00:01\r\u001b[K     |████████████████████▎           | 706 kB 20.6 MB/s eta 0:00:01\r\u001b[K     |████████████████████▋           | 716 kB 20.6 MB/s eta 0:00:01\r\u001b[K     |████████████████████▉           | 727 kB 20.6 MB/s eta 0:00:01\r\u001b[K     |█████████████████████▏          | 737 kB 20.6 MB/s eta 0:00:01\r\u001b[K     |█████████████████████▌          | 747 kB 20.6 MB/s eta 0:00:01\r\u001b[K     |█████████████████████▊          | 757 kB 20.6 MB/s eta 0:00:01\r\u001b[K     |██████████████████████          | 768 kB 20.6 MB/s eta 0:00:01\r\u001b[K     |██████████████████████▎         | 778 kB 20.6 MB/s eta 0:00:01\r\u001b[K     |██████████████████████▋         | 788 kB 20.6 MB/s eta 0:00:01\r\u001b[K     |███████████████████████         | 798 kB 20.6 MB/s eta 0:00:01\r\u001b[K     |███████████████████████▏        | 808 kB 20.6 MB/s eta 0:00:01\r\u001b[K     |███████████████████████▌        | 819 kB 20.6 MB/s eta 0:00:01\r\u001b[K     |███████████████████████▉        | 829 kB 20.6 MB/s eta 0:00:01\r\u001b[K     |████████████████████████        | 839 kB 20.6 MB/s eta 0:00:01\r\u001b[K     |████████████████████████▍       | 849 kB 20.6 MB/s eta 0:00:01\r\u001b[K     |████████████████████████▊       | 860 kB 20.6 MB/s eta 0:00:01\r\u001b[K     |█████████████████████████       | 870 kB 20.6 MB/s eta 0:00:01\r\u001b[K     |█████████████████████████▎      | 880 kB 20.6 MB/s eta 0:00:01\r\u001b[K     |█████████████████████████▋      | 890 kB 20.6 MB/s eta 0:00:01\r\u001b[K     |█████████████████████████▉      | 901 kB 20.6 MB/s eta 0:00:01\r\u001b[K     |██████████████████████████▏     | 911 kB 20.6 MB/s eta 0:00:01\r\u001b[K     |██████████████████████████▌     | 921 kB 20.6 MB/s eta 0:00:01\r\u001b[K     |██████████████████████████▊     | 931 kB 20.6 MB/s eta 0:00:01\r\u001b[K     |███████████████████████████     | 942 kB 20.6 MB/s eta 0:00:01\r\u001b[K     |███████████████████████████▎    | 952 kB 20.6 MB/s eta 0:00:01\r\u001b[K     |███████████████████████████▋    | 962 kB 20.6 MB/s eta 0:00:01\r\u001b[K     |████████████████████████████    | 972 kB 20.6 MB/s eta 0:00:01\r\u001b[K     |████████████████████████████▏   | 983 kB 20.6 MB/s eta 0:00:01\r\u001b[K     |████████████████████████████▌   | 993 kB 20.6 MB/s eta 0:00:01\r\u001b[K     |████████████████████████████▉   | 1.0 MB 20.6 MB/s eta 0:00:01\r\u001b[K     |█████████████████████████████   | 1.0 MB 20.6 MB/s eta 0:00:01\r\u001b[K     |█████████████████████████████▍  | 1.0 MB 20.6 MB/s eta 0:00:01\r\u001b[K     |█████████████████████████████▊  | 1.0 MB 20.6 MB/s eta 0:00:01\r\u001b[K     |██████████████████████████████  | 1.0 MB 20.6 MB/s eta 0:00:01\r\u001b[K     |██████████████████████████████▎ | 1.1 MB 20.6 MB/s eta 0:00:01\r\u001b[K     |██████████████████████████████▋ | 1.1 MB 20.6 MB/s eta 0:00:01\r\u001b[K     |██████████████████████████████▉ | 1.1 MB 20.6 MB/s eta 0:00:01\r\u001b[K     |███████████████████████████████▏| 1.1 MB 20.6 MB/s eta 0:00:01\r\u001b[K     |███████████████████████████████▍| 1.1 MB 20.6 MB/s eta 0:00:01\r\u001b[K     |███████████████████████████████▊| 1.1 MB 20.6 MB/s eta 0:00:01\r\u001b[K     |████████████████████████████████| 1.1 MB 20.6 MB/s \n",
            "\u001b[?25hRequirement already satisfied: typeguard>=2.7 in /usr/local/lib/python3.7/dist-packages (from tensorflow-addons) (2.7.1)\n",
            "Installing collected packages: tensorflow-addons\n",
            "Successfully installed tensorflow-addons-0.15.0\n"
          ]
        }
      ]
    },
    {
      "cell_type": "markdown",
      "metadata": {
        "id": "30c33e5qT1Yy"
      },
      "source": [
        "## Setup"
      ]
    },
    {
      "cell_type": "code",
      "execution_count": 4,
      "metadata": {
        "id": "Pj2cyuW_T1Yy"
      },
      "outputs": [],
      "source": [
        "import numpy as np\n",
        "import tensorflow as tf\n",
        "from tensorflow import keras\n",
        "from tensorflow.keras import layers\n",
        "import tensorflow_addons as tfa"
      ]
    },
    {
      "cell_type": "markdown",
      "metadata": {
        "id": "dUa8L6R-T1Y0"
      },
      "source": [
        "## Prepare the data"
      ]
    },
    {
      "cell_type": "code",
      "source": [
        "data_dir = '/content/drive/MyDrive/ImageClassificationData/DataHE'"
      ],
      "metadata": {
        "id": "GRHAyb5AZ8O0"
      },
      "execution_count": 5,
      "outputs": []
    },
    {
      "cell_type": "code",
      "source": [
        "batch_size = 16\n",
        "img_height = 256\n",
        "img_width = 256\n",
        "input_shape = (img_height,img_width,3)"
      ],
      "metadata": {
        "id": "q09UhKw7aRFZ"
      },
      "execution_count": 6,
      "outputs": []
    },
    {
      "cell_type": "code",
      "source": [
        "from keras.preprocessing import image"
      ],
      "metadata": {
        "id": "3lqRJlKN17bU"
      },
      "execution_count": 7,
      "outputs": []
    },
    {
      "cell_type": "code",
      "source": [
        "train_ds = tf.keras.utils.image_dataset_from_directory(\n",
        "  data_dir,\n",
        "  validation_split=0.2,\n",
        "  #color_mode = \"grayscale\",\n",
        "  subset=\"training\",\n",
        "  seed=123,\n",
        "  image_size=(img_height, img_width),\n",
        "  batch_size=batch_size)"
      ],
      "metadata": {
        "colab": {
          "base_uri": "https://localhost:8080/"
        },
        "id": "ucIc6FXTaRLd",
        "outputId": "3bbf6455-c927-4bdb-86b0-ac19266c2d74"
      },
      "execution_count": 8,
      "outputs": [
        {
          "output_type": "stream",
          "name": "stdout",
          "text": [
            "Found 190 files belonging to 2 classes.\n",
            "Using 152 files for training.\n"
          ]
        }
      ]
    },
    {
      "cell_type": "code",
      "source": [
        ""
      ],
      "metadata": {
        "id": "CpUBf2_Uk4cj"
      },
      "execution_count": null,
      "outputs": []
    },
    {
      "cell_type": "code",
      "source": [
        "val_ds = tf.keras.utils.image_dataset_from_directory(\n",
        "  data_dir,\n",
        "  validation_split=0.2,\n",
        "  subset=\"validation\",\n",
        "  #color_mode = \"grayscale\",\n",
        "  seed=123,\n",
        "  image_size=(img_height, img_width),\n",
        "  batch_size=batch_size)"
      ],
      "metadata": {
        "colab": {
          "base_uri": "https://localhost:8080/"
        },
        "id": "3kHnh5Fmk4iN",
        "outputId": "cdf34b8e-1ec9-4c07-aaba-2258ff07886c"
      },
      "execution_count": 9,
      "outputs": [
        {
          "output_type": "stream",
          "name": "stdout",
          "text": [
            "Found 190 files belonging to 2 classes.\n",
            "Using 38 files for validation.\n"
          ]
        }
      ]
    },
    {
      "cell_type": "code",
      "source": [
        "class_names = train_ds.class_names\n",
        "num_classes = len(class_names)"
      ],
      "metadata": {
        "id": "bBH7Q6c2k72q"
      },
      "execution_count": 11,
      "outputs": []
    },
    {
      "cell_type": "code",
      "source": [
        "print(class_names)"
      ],
      "metadata": {
        "id": "NI6SOgq3k76B",
        "colab": {
          "base_uri": "https://localhost:8080/"
        },
        "outputId": "e4eda41a-e149-4839-c93b-cc8757d9dec4"
      },
      "execution_count": 12,
      "outputs": [
        {
          "output_type": "stream",
          "name": "stdout",
          "text": [
            "['AP', 'Lateral']\n"
          ]
        }
      ]
    },
    {
      "cell_type": "code",
      "source": [
        ""
      ],
      "metadata": {
        "id": "nnJseamHk79f"
      },
      "execution_count": null,
      "outputs": []
    },
    {
      "cell_type": "code",
      "source": [
        ""
      ],
      "metadata": {
        "id": "Cg7ykXDGk8BD"
      },
      "execution_count": null,
      "outputs": []
    },
    {
      "cell_type": "code",
      "execution_count": null,
      "metadata": {
        "id": "4beZddopT1Y0"
      },
      "outputs": [],
      "source": [
        ""
      ]
    },
    {
      "cell_type": "markdown",
      "metadata": {
        "id": "LmWUtCjoT1Y1"
      },
      "source": [
        "## Configure the hyperparameters"
      ]
    },
    {
      "cell_type": "code",
      "execution_count": 13,
      "metadata": {
        "id": "-9iyUF20T1Y2"
      },
      "outputs": [],
      "source": [
        "learning_rate = 0.001 #was 0.001\n",
        "weight_decay = 0.0001\n",
        "batch_size = 32\n",
        "num_epochs = 150\n",
        "image_size = 128  # We'll resize input images to this size\n",
        "patch_size = 32  # Size of the patches to be extract from the input images\n",
        "num_patches = (image_size // patch_size) ** 2\n",
        "projection_dim = 64\n",
        "num_heads = 2\n",
        "transformer_units = [\n",
        "    projection_dim * 2,\n",
        "    projection_dim,\n",
        "]  # Size of the transformer layers\n",
        "transformer_layers = 8\n",
        "mlp_head_units = [2048, 1024]  # Size of the dense layers of the final classifier\n"
      ]
    },
    {
      "cell_type": "code",
      "source": [
        "num_patches"
      ],
      "metadata": {
        "colab": {
          "base_uri": "https://localhost:8080/"
        },
        "id": "jFmOfa-9jm3s",
        "outputId": "341d2b51-d634-460a-dc60-60e157c02905"
      },
      "execution_count": 14,
      "outputs": [
        {
          "output_type": "execute_result",
          "data": {
            "text/plain": [
              "16"
            ]
          },
          "metadata": {},
          "execution_count": 14
        }
      ]
    },
    {
      "cell_type": "markdown",
      "metadata": {
        "id": "Nj1NnqYET1Y3"
      },
      "source": [
        "## Use data augmentation"
      ]
    },
    {
      "cell_type": "code",
      "execution_count": 15,
      "metadata": {
        "id": "JEp9xbTKT1Y4"
      },
      "outputs": [],
      "source": [
        "data_augmentation = keras.Sequential(\n",
        "    [\n",
        "        layers.Normalization(),\n",
        "        layers.Resizing(image_size, image_size),\n",
        "        layers.RandomFlip(\"horizontal\"),\n",
        "        #layers.RandomRotation(factor=0.02),\n",
        "        layers.RandomZoom(\n",
        "            height_factor=0.2, width_factor=0.2\n",
        "        ),\n",
        "    ],\n",
        "    name=\"data_augmentation\",\n",
        ")\n",
        "\n"
      ]
    },
    {
      "cell_type": "markdown",
      "metadata": {
        "id": "GKCDVSiGT1Y5"
      },
      "source": [
        "## Implement multilayer perceptron (MLP)"
      ]
    },
    {
      "cell_type": "code",
      "execution_count": 16,
      "metadata": {
        "id": "0zpN3t6cT1Y5"
      },
      "outputs": [],
      "source": [
        "\n",
        "def mlp(x, hidden_units, dropout_rate):\n",
        "    for units in hidden_units:\n",
        "        x = layers.Dense(units, activation=tf.nn.gelu)(x)\n",
        "        x = layers.Dropout(dropout_rate)(x)\n",
        "    return x\n"
      ]
    },
    {
      "cell_type": "markdown",
      "metadata": {
        "id": "cPwd0GhQT1Y5"
      },
      "source": [
        "## Implement patch creation as a layer"
      ]
    },
    {
      "cell_type": "code",
      "execution_count": 17,
      "metadata": {
        "id": "ipg__SPWT1Y6"
      },
      "outputs": [],
      "source": [
        "\n",
        "class Patches(layers.Layer):\n",
        "    def __init__(self, patch_size):\n",
        "        super(Patches, self).__init__()\n",
        "        self.patch_size = patch_size\n",
        "\n",
        "    def call(self, images):\n",
        "        batch_size = tf.shape(images)[0]\n",
        "        patches = tf.image.extract_patches(\n",
        "            images=images,\n",
        "            sizes=[1, self.patch_size, self.patch_size, 1],\n",
        "            strides=[1, self.patch_size, self.patch_size, 1],\n",
        "            rates=[1, 1, 1, 1],\n",
        "            padding=\"VALID\",\n",
        "        )\n",
        "        patch_dims = patches.shape[-1]\n",
        "        patches = tf.reshape(patches, [batch_size, -1, patch_dims])\n",
        "        return patches\n"
      ]
    },
    {
      "cell_type": "markdown",
      "metadata": {
        "id": "AzoVtBA6T1Y9"
      },
      "source": [
        "Let's display patches for a sample image"
      ]
    },
    {
      "cell_type": "code",
      "execution_count": null,
      "metadata": {
        "id": "qJC2yvJBT1Y_",
        "cellView": "form"
      },
      "outputs": [],
      "source": [
        "#@title visualize patches \n",
        "# import matplotlib.pyplot as plt\n",
        "\n",
        "# plt.figure(figsize=(4, 4))\n",
        "# image = x_train[np.random.choice(range(x_train.shape[0]))]\n",
        "# plt.imshow(image.astype(\"uint8\"))\n",
        "# plt.axis(\"off\")\n",
        "\n",
        "# resized_image = tf.image.resize(\n",
        "#     tf.convert_to_tensor([image]), size=(image_size, image_size)\n",
        "# )\n",
        "# patches = Patches(patch_size)(resized_image)\n",
        "# print(f\"Image size: {image_size} X {image_size}\")\n",
        "# print(f\"Patch size: {patch_size} X {patch_size}\")\n",
        "# print(f\"Patches per image: {patches.shape[1]}\")\n",
        "# print(f\"Elements per patch: {patches.shape[-1]}\")\n",
        "\n",
        "# n = int(np.sqrt(patches.shape[1]))\n",
        "# plt.figure(figsize=(4, 4))\n",
        "# for i, patch in enumerate(patches[0]):\n",
        "#     ax = plt.subplot(n, n, i + 1)\n",
        "#     patch_img = tf.reshape(patch, (patch_size, patch_size, 3))\n",
        "#     plt.imshow(patch_img.numpy().astype(\"uint8\"))\n",
        "#     plt.axis(\"off\")"
      ]
    },
    {
      "cell_type": "markdown",
      "metadata": {
        "id": "qGJ-FZ1bT1ZB"
      },
      "source": [
        "## Implement the patch encoding layer\n",
        "\n"
      ]
    },
    {
      "cell_type": "code",
      "execution_count": 18,
      "metadata": {
        "id": "adui-zEbT1ZC"
      },
      "outputs": [],
      "source": [
        "\n",
        "class PatchEncoder(layers.Layer):\n",
        "    def __init__(self, num_patches, projection_dim):\n",
        "        super(PatchEncoder, self).__init__()\n",
        "        self.num_patches = num_patches\n",
        "        self.projection = layers.Dense(units=projection_dim)\n",
        "        self.position_embedding = layers.Embedding(\n",
        "            input_dim=num_patches, output_dim=projection_dim\n",
        "        )\n",
        "\n",
        "    def call(self, patch):\n",
        "        positions = tf.range(start=0, limit=self.num_patches, delta=1)\n",
        "        encoded = self.projection(patch) + self.position_embedding(positions)\n",
        "        return encoded\n"
      ]
    },
    {
      "cell_type": "markdown",
      "metadata": {
        "id": "sSU9e_VFT1ZD"
      },
      "source": [
        "## Build the ViT model\n",
        "\n"
      ]
    },
    {
      "cell_type": "code",
      "execution_count": 22,
      "metadata": {
        "id": "V8VCy_gDT1ZD"
      },
      "outputs": [],
      "source": [
        "\n",
        "def create_vit_classifier():\n",
        "    inputs = layers.Input(shape=input_shape)\n",
        "    # Augment data.\n",
        "    augmented = data_augmentation(inputs)\n",
        "    # Create patches.\n",
        "    patches = Patches(patch_size)(augmented)\n",
        "    # Encode patches.\n",
        "    encoded_patches = PatchEncoder(num_patches, projection_dim)(patches)\n",
        "\n",
        "    # Create multiple layers of the Transformer block.\n",
        "    for _ in range(transformer_layers):\n",
        "        # Layer normalization 1.\n",
        "        x1 = layers.LayerNormalization(epsilon=1e-6)(encoded_patches)\n",
        "        # Create a multi-head attention layer.\n",
        "        attention_output = layers.MultiHeadAttention(\n",
        "            num_heads=num_heads, key_dim=projection_dim, dropout=0.1\n",
        "        )(x1, x1)\n",
        "        # Skip connection 1.\n",
        "        x2 = layers.Add()([attention_output, encoded_patches])\n",
        "        # Layer normalization 2.\n",
        "        x3 = layers.LayerNormalization(epsilon=1e-6)(x2)\n",
        "        # MLP.\n",
        "        x3 = mlp(x3, hidden_units=transformer_units, dropout_rate=0.1)\n",
        "        # Skip connection 2.\n",
        "        encoded_patches = layers.Add()([x3, x2])\n",
        "\n",
        "    # Create a [batch_size, projection_dim] tensor.\n",
        "    representation = layers.LayerNormalization(epsilon=1e-6)(encoded_patches)\n",
        "    representation = layers.Flatten()(representation)\n",
        "    representation = layers.Dropout(0.5)(representation)\n",
        "    # Add MLP.\n",
        "    features = mlp(representation, hidden_units=mlp_head_units, dropout_rate=0.5)\n",
        "    # Classify outputs.\n",
        "    logits = layers.Dense(1,activation = 'sigmoid')(features)\n",
        "    # Create the Keras model.\n",
        "    model = keras.Model(inputs=inputs, outputs=logits)\n",
        "    return model\n"
      ]
    },
    {
      "cell_type": "markdown",
      "metadata": {
        "id": "2kCbtuokT1ZE"
      },
      "source": [
        "## Compile, train, and evaluate the mode"
      ]
    },
    {
      "cell_type": "code",
      "source": [
        "optimizer = tfa.optimizers.AdamW(\n",
        "        learning_rate=learning_rate, weight_decay=weight_decay\n",
        "    )\n",
        "\n"
      ],
      "metadata": {
        "id": "ccu2ewvsWNJl"
      },
      "execution_count": 20,
      "outputs": []
    },
    {
      "cell_type": "code",
      "source": [
        "vit_classifier = create_vit_classifier()\n",
        "\n",
        "vit_classifier.compile(\n",
        "        optimizer=optimizer,\n",
        "        loss=keras.losses.BinaryCrossentropy(from_logits=False),\n",
        "        metrics=['accuracy']\n",
        "            #keras.metrics.BinaryCrossentropy(name=\"accuracy\"),\n",
        "#            keras.metrics.SparseTopKCategoricalAccuracy(5, name=\"top-5-accuracy\"),\n",
        "        #],\n",
        "    )"
      ],
      "metadata": {
        "id": "Zhn0Pl3tWOhJ"
      },
      "execution_count": 23,
      "outputs": []
    },
    {
      "cell_type": "code",
      "source": [
        "%cd drive/My Drive/ImageClassificationData"
      ],
      "metadata": {
        "id": "JuPNpiYKP6Kb",
        "outputId": "c808498a-5b3f-4501-b23a-243baa4275eb",
        "colab": {
          "base_uri": "https://localhost:8080/"
        }
      },
      "execution_count": 24,
      "outputs": [
        {
          "output_type": "stream",
          "name": "stdout",
          "text": [
            "/content/drive/My Drive/ImageClassificationData\n"
          ]
        }
      ]
    },
    {
      "cell_type": "code",
      "source": [
        ""
      ],
      "metadata": {
        "id": "l2RZrujePGFR"
      },
      "execution_count": null,
      "outputs": []
    },
    {
      "cell_type": "code",
      "source": [
        ""
      ],
      "metadata": {
        "id": "NdmmyvuhP5Xi"
      },
      "execution_count": null,
      "outputs": []
    },
    {
      "cell_type": "code",
      "source": [
        "checkpoint_filepath = '/content/drive/MyDrive/ImageClassificationData/HECheckpoint/checkpoint'\n",
        "checkpoint_callback = tf.keras.callbacks.ModelCheckpoint(\n",
        "    filepath=checkpoint_filepath,\n",
        "    save_weights_only=True,\n",
        "    monitor='val_loss',\n",
        "    mode='min',\n",
        "    save_best_only=True)\n",
        "\n"
      ],
      "metadata": {
        "id": "QhJAJZoUoTLx"
      },
      "execution_count": 25,
      "outputs": []
    },
    {
      "cell_type": "code",
      "source": [
        "weight_for_0 = 190/(2*107)\n",
        "weight_for_1 = 190/(2*83)\n",
        "print(weight_for_0)\n",
        "print(weight_for_1)\n",
        "class_weight = {0: weight_for_0, 1: weight_for_1}"
      ],
      "metadata": {
        "id": "dGG7Z3UEWWNi",
        "outputId": "953e305d-178a-45e8-c113-f7933de9c6de",
        "colab": {
          "base_uri": "https://localhost:8080/"
        }
      },
      "execution_count": 26,
      "outputs": [
        {
          "output_type": "stream",
          "name": "stdout",
          "text": [
            "0.8878504672897196\n",
            "1.144578313253012\n"
          ]
        }
      ]
    },
    {
      "cell_type": "code",
      "source": [
        "history = vit_classifier.fit(\n",
        "        x=train_ds,\n",
        "        #y=val_ds,\n",
        "        #batch_size=batch_size,\n",
        "        validation_data=val_ds,\n",
        "        epochs=num_epochs,\n",
        "      #  validation_split=0.1,\n",
        "        callbacks=[checkpoint_callback],\n",
        "        class_weight = class_weight,\n",
        "        #batch_size = 16,\n",
        "    )"
      ],
      "metadata": {
        "colab": {
          "base_uri": "https://localhost:8080/"
        },
        "id": "0zYfvovhWOoW",
        "outputId": "c5b6439d-8b3b-478f-a737-221bdf68eafb"
      },
      "execution_count": 30,
      "outputs": [
        {
          "output_type": "stream",
          "name": "stdout",
          "text": [
            "Epoch 1/150\n",
            "10/10 [==============================] - 37s 880ms/step - loss: 1.8018 - accuracy: 0.5197 - val_loss: 1.2201 - val_accuracy: 0.4474\n",
            "Epoch 2/150\n",
            "10/10 [==============================] - 2s 171ms/step - loss: 1.2774 - accuracy: 0.5526 - val_loss: 1.3229 - val_accuracy: 0.5789\n",
            "Epoch 3/150\n",
            "10/10 [==============================] - 2s 187ms/step - loss: 1.2764 - accuracy: 0.5658 - val_loss: 1.9757 - val_accuracy: 0.4211\n",
            "Epoch 4/150\n",
            "10/10 [==============================] - 2s 207ms/step - loss: 1.3698 - accuracy: 0.4934 - val_loss: 0.7519 - val_accuracy: 0.5000\n",
            "Epoch 5/150\n",
            "10/10 [==============================] - 2s 173ms/step - loss: 1.0501 - accuracy: 0.5921 - val_loss: 1.2820 - val_accuracy: 0.4211\n",
            "Epoch 6/150\n",
            "10/10 [==============================] - 2s 170ms/step - loss: 0.9864 - accuracy: 0.5526 - val_loss: 0.7722 - val_accuracy: 0.5000\n",
            "Epoch 7/150\n",
            "10/10 [==============================] - 2s 174ms/step - loss: 0.8516 - accuracy: 0.5789 - val_loss: 0.8706 - val_accuracy: 0.4474\n",
            "Epoch 8/150\n",
            "10/10 [==============================] - 2s 218ms/step - loss: 0.7420 - accuracy: 0.5855 - val_loss: 0.6336 - val_accuracy: 0.5789\n",
            "Epoch 9/150\n",
            "10/10 [==============================] - 2s 213ms/step - loss: 0.7109 - accuracy: 0.5855 - val_loss: 0.5535 - val_accuracy: 0.6842\n",
            "Epoch 10/150\n",
            "10/10 [==============================] - 2s 173ms/step - loss: 0.6980 - accuracy: 0.6250 - val_loss: 0.6694 - val_accuracy: 0.6053\n",
            "Epoch 11/150\n",
            "10/10 [==============================] - 2s 171ms/step - loss: 0.8259 - accuracy: 0.5395 - val_loss: 0.8879 - val_accuracy: 0.4474\n",
            "Epoch 12/150\n",
            "10/10 [==============================] - 3s 246ms/step - loss: 0.6386 - accuracy: 0.6513 - val_loss: 0.5752 - val_accuracy: 0.7105\n",
            "Epoch 13/150\n",
            "10/10 [==============================] - 2s 172ms/step - loss: 0.6067 - accuracy: 0.6645 - val_loss: 0.5546 - val_accuracy: 0.6842\n",
            "Epoch 14/150\n",
            "10/10 [==============================] - 2s 168ms/step - loss: 0.6358 - accuracy: 0.6908 - val_loss: 0.7217 - val_accuracy: 0.5526\n",
            "Epoch 15/150\n",
            "10/10 [==============================] - 2s 208ms/step - loss: 0.6412 - accuracy: 0.7105 - val_loss: 0.5021 - val_accuracy: 0.7632\n",
            "Epoch 16/150\n",
            "10/10 [==============================] - 3s 243ms/step - loss: 0.6225 - accuracy: 0.6579 - val_loss: 0.4757 - val_accuracy: 0.8421\n",
            "Epoch 17/150\n",
            "10/10 [==============================] - 2s 204ms/step - loss: 0.5645 - accuracy: 0.7039 - val_loss: 0.4345 - val_accuracy: 0.8158\n",
            "Epoch 18/150\n",
            "10/10 [==============================] - 2s 214ms/step - loss: 0.6286 - accuracy: 0.7368 - val_loss: 0.3967 - val_accuracy: 0.9211\n",
            "Epoch 19/150\n",
            "10/10 [==============================] - 2s 170ms/step - loss: 0.5747 - accuracy: 0.7500 - val_loss: 0.5617 - val_accuracy: 0.6316\n",
            "Epoch 20/150\n",
            "10/10 [==============================] - 2s 172ms/step - loss: 0.6113 - accuracy: 0.7303 - val_loss: 0.4385 - val_accuracy: 0.8421\n",
            "Epoch 21/150\n",
            "10/10 [==============================] - 2s 192ms/step - loss: 0.5659 - accuracy: 0.7171 - val_loss: 0.4843 - val_accuracy: 0.8158\n",
            "Epoch 22/150\n",
            "10/10 [==============================] - 2s 214ms/step - loss: 0.4674 - accuracy: 0.7763 - val_loss: 0.3598 - val_accuracy: 0.8947\n",
            "Epoch 23/150\n",
            "10/10 [==============================] - 2s 211ms/step - loss: 0.5050 - accuracy: 0.7895 - val_loss: 0.2996 - val_accuracy: 0.9211\n",
            "Epoch 24/150\n",
            "10/10 [==============================] - 2s 170ms/step - loss: 0.5974 - accuracy: 0.7237 - val_loss: 0.4933 - val_accuracy: 0.7368\n",
            "Epoch 25/150\n",
            "10/10 [==============================] - 2s 172ms/step - loss: 0.5973 - accuracy: 0.6645 - val_loss: 0.5122 - val_accuracy: 0.7368\n",
            "Epoch 26/150\n",
            "10/10 [==============================] - 2s 170ms/step - loss: 0.4475 - accuracy: 0.7895 - val_loss: 0.3559 - val_accuracy: 0.8684\n",
            "Epoch 27/150\n",
            "10/10 [==============================] - 2s 169ms/step - loss: 0.5262 - accuracy: 0.7237 - val_loss: 0.4421 - val_accuracy: 0.7895\n",
            "Epoch 28/150\n",
            "10/10 [==============================] - 2s 172ms/step - loss: 0.4807 - accuracy: 0.7697 - val_loss: 0.3129 - val_accuracy: 0.8684\n",
            "Epoch 29/150\n",
            "10/10 [==============================] - 2s 170ms/step - loss: 0.4270 - accuracy: 0.8224 - val_loss: 0.3594 - val_accuracy: 0.7895\n",
            "Epoch 30/150\n",
            "10/10 [==============================] - 2s 172ms/step - loss: 0.5713 - accuracy: 0.7237 - val_loss: 0.4363 - val_accuracy: 0.7105\n",
            "Epoch 31/150\n",
            "10/10 [==============================] - 2s 171ms/step - loss: 0.4469 - accuracy: 0.7895 - val_loss: 0.4014 - val_accuracy: 0.7632\n",
            "Epoch 32/150\n",
            "10/10 [==============================] - 3s 218ms/step - loss: 0.3925 - accuracy: 0.8224 - val_loss: 0.2805 - val_accuracy: 0.9474\n",
            "Epoch 33/150\n",
            "10/10 [==============================] - 2s 173ms/step - loss: 0.4591 - accuracy: 0.7961 - val_loss: 0.3378 - val_accuracy: 0.7632\n",
            "Epoch 34/150\n",
            "10/10 [==============================] - 2s 170ms/step - loss: 0.4801 - accuracy: 0.7961 - val_loss: 0.3774 - val_accuracy: 0.8684\n",
            "Epoch 35/150\n",
            "10/10 [==============================] - 2s 169ms/step - loss: 0.4280 - accuracy: 0.8224 - val_loss: 0.2912 - val_accuracy: 0.8684\n",
            "Epoch 36/150\n",
            "10/10 [==============================] - 3s 221ms/step - loss: 0.3628 - accuracy: 0.8355 - val_loss: 0.2755 - val_accuracy: 0.9211\n",
            "Epoch 37/150\n",
            "10/10 [==============================] - 2s 169ms/step - loss: 0.4565 - accuracy: 0.7961 - val_loss: 0.2814 - val_accuracy: 0.9737\n",
            "Epoch 38/150\n",
            "10/10 [==============================] - 2s 221ms/step - loss: 0.5098 - accuracy: 0.8158 - val_loss: 0.4557 - val_accuracy: 0.7368\n",
            "Epoch 39/150\n",
            "10/10 [==============================] - 2s 171ms/step - loss: 0.4481 - accuracy: 0.7961 - val_loss: 0.2939 - val_accuracy: 0.8421\n",
            "Epoch 40/150\n",
            "10/10 [==============================] - 2s 192ms/step - loss: 0.3893 - accuracy: 0.7895 - val_loss: 0.3030 - val_accuracy: 0.8947\n",
            "Epoch 41/150\n",
            "10/10 [==============================] - 2s 173ms/step - loss: 0.3795 - accuracy: 0.8355 - val_loss: 0.4118 - val_accuracy: 0.7632\n",
            "Epoch 42/150\n",
            "10/10 [==============================] - 2s 208ms/step - loss: 0.4709 - accuracy: 0.7829 - val_loss: 0.2581 - val_accuracy: 0.9737\n",
            "Epoch 43/150\n",
            "10/10 [==============================] - 2s 173ms/step - loss: 0.4150 - accuracy: 0.8026 - val_loss: 0.2703 - val_accuracy: 0.9737\n",
            "Epoch 44/150\n",
            "10/10 [==============================] - 2s 210ms/step - loss: 0.3975 - accuracy: 0.8289 - val_loss: 0.2247 - val_accuracy: 0.9211\n",
            "Epoch 45/150\n",
            "10/10 [==============================] - 2s 175ms/step - loss: 0.4017 - accuracy: 0.8355 - val_loss: 0.2570 - val_accuracy: 0.9474\n",
            "Epoch 46/150\n",
            "10/10 [==============================] - 2s 169ms/step - loss: 0.3688 - accuracy: 0.8618 - val_loss: 0.3682 - val_accuracy: 0.7895\n",
            "Epoch 47/150\n",
            "10/10 [==============================] - 2s 180ms/step - loss: 0.3843 - accuracy: 0.8224 - val_loss: 0.2419 - val_accuracy: 0.8684\n",
            "Epoch 48/150\n",
            "10/10 [==============================] - 2s 171ms/step - loss: 0.4395 - accuracy: 0.7697 - val_loss: 0.2432 - val_accuracy: 0.9211\n",
            "Epoch 49/150\n",
            "10/10 [==============================] - 2s 170ms/step - loss: 0.5268 - accuracy: 0.7763 - val_loss: 0.3579 - val_accuracy: 0.8421\n",
            "Epoch 50/150\n",
            "10/10 [==============================] - 2s 168ms/step - loss: 0.4015 - accuracy: 0.8092 - val_loss: 0.2910 - val_accuracy: 0.9211\n",
            "Epoch 51/150\n",
            "10/10 [==============================] - 2s 170ms/step - loss: 0.3792 - accuracy: 0.7961 - val_loss: 0.2984 - val_accuracy: 0.8421\n",
            "Epoch 52/150\n",
            "10/10 [==============================] - 2s 168ms/step - loss: 0.3137 - accuracy: 0.8553 - val_loss: 0.3093 - val_accuracy: 0.8421\n",
            "Epoch 53/150\n",
            "10/10 [==============================] - 2s 170ms/step - loss: 0.3773 - accuracy: 0.8421 - val_loss: 0.2571 - val_accuracy: 0.9737\n",
            "Epoch 54/150\n",
            "10/10 [==============================] - 2s 208ms/step - loss: 0.2942 - accuracy: 0.8816 - val_loss: 0.2071 - val_accuracy: 0.9474\n",
            "Epoch 55/150\n",
            "10/10 [==============================] - 2s 209ms/step - loss: 0.4397 - accuracy: 0.8158 - val_loss: 0.1916 - val_accuracy: 0.9737\n",
            "Epoch 56/150\n",
            "10/10 [==============================] - 2s 172ms/step - loss: 0.3599 - accuracy: 0.8355 - val_loss: 0.2815 - val_accuracy: 0.8947\n",
            "Epoch 57/150\n",
            "10/10 [==============================] - 2s 170ms/step - loss: 0.3504 - accuracy: 0.8421 - val_loss: 0.2750 - val_accuracy: 0.8947\n",
            "Epoch 58/150\n",
            "10/10 [==============================] - 2s 206ms/step - loss: 0.3842 - accuracy: 0.8487 - val_loss: 0.1879 - val_accuracy: 0.9474\n",
            "Epoch 59/150\n",
            "10/10 [==============================] - 2s 177ms/step - loss: 0.2866 - accuracy: 0.8487 - val_loss: 0.2459 - val_accuracy: 0.8947\n",
            "Epoch 60/150\n",
            "10/10 [==============================] - 2s 171ms/step - loss: 0.3535 - accuracy: 0.8487 - val_loss: 0.2576 - val_accuracy: 0.8947\n",
            "Epoch 61/150\n",
            "10/10 [==============================] - 2s 189ms/step - loss: 0.5311 - accuracy: 0.7566 - val_loss: 0.2848 - val_accuracy: 0.9474\n",
            "Epoch 62/150\n",
            "10/10 [==============================] - 2s 172ms/step - loss: 0.3382 - accuracy: 0.8618 - val_loss: 0.3191 - val_accuracy: 0.9737\n",
            "Epoch 63/150\n",
            "10/10 [==============================] - 2s 170ms/step - loss: 0.3434 - accuracy: 0.8553 - val_loss: 0.2157 - val_accuracy: 0.9211\n",
            "Epoch 64/150\n",
            "10/10 [==============================] - 2s 181ms/step - loss: 0.3340 - accuracy: 0.8618 - val_loss: 0.1886 - val_accuracy: 0.9737\n",
            "Epoch 65/150\n",
            "10/10 [==============================] - 2s 215ms/step - loss: 0.3383 - accuracy: 0.8684 - val_loss: 0.1872 - val_accuracy: 0.9474\n",
            "Epoch 66/150\n",
            "10/10 [==============================] - 2s 179ms/step - loss: 0.4473 - accuracy: 0.8026 - val_loss: 0.2334 - val_accuracy: 0.9474\n",
            "Epoch 67/150\n",
            "10/10 [==============================] - 2s 175ms/step - loss: 0.3904 - accuracy: 0.8421 - val_loss: 0.2136 - val_accuracy: 0.9211\n",
            "Epoch 68/150\n",
            "10/10 [==============================] - 2s 196ms/step - loss: 0.3134 - accuracy: 0.8684 - val_loss: 0.2894 - val_accuracy: 0.8684\n",
            "Epoch 69/150\n",
            "10/10 [==============================] - 2s 175ms/step - loss: 0.3740 - accuracy: 0.8224 - val_loss: 0.2449 - val_accuracy: 0.8947\n",
            "Epoch 70/150\n",
            "10/10 [==============================] - 2s 173ms/step - loss: 0.3510 - accuracy: 0.8224 - val_loss: 0.1934 - val_accuracy: 0.9211\n",
            "Epoch 71/150\n",
            "10/10 [==============================] - 2s 172ms/step - loss: 0.2666 - accuracy: 0.8618 - val_loss: 0.2078 - val_accuracy: 0.9737\n",
            "Epoch 72/150\n",
            "10/10 [==============================] - 2s 172ms/step - loss: 0.2842 - accuracy: 0.8684 - val_loss: 0.2316 - val_accuracy: 0.9737\n",
            "Epoch 73/150\n",
            "10/10 [==============================] - 2s 174ms/step - loss: 0.3862 - accuracy: 0.8355 - val_loss: 0.2595 - val_accuracy: 0.8947\n",
            "Epoch 74/150\n",
            "10/10 [==============================] - 2s 174ms/step - loss: 0.3627 - accuracy: 0.8158 - val_loss: 0.2950 - val_accuracy: 0.8421\n",
            "Epoch 75/150\n",
            "10/10 [==============================] - 2s 170ms/step - loss: 0.3615 - accuracy: 0.8224 - val_loss: 0.2739 - val_accuracy: 0.8947\n",
            "Epoch 76/150\n",
            "10/10 [==============================] - 2s 170ms/step - loss: 0.2915 - accuracy: 0.8553 - val_loss: 0.3413 - val_accuracy: 0.8158\n",
            "Epoch 77/150\n",
            "10/10 [==============================] - 2s 170ms/step - loss: 0.2598 - accuracy: 0.8882 - val_loss: 0.2184 - val_accuracy: 0.9211\n",
            "Epoch 78/150\n",
            "10/10 [==============================] - 2s 170ms/step - loss: 0.2821 - accuracy: 0.8882 - val_loss: 0.1997 - val_accuracy: 0.9211\n",
            "Epoch 79/150\n",
            "10/10 [==============================] - 2s 207ms/step - loss: 0.2419 - accuracy: 0.9276 - val_loss: 0.1554 - val_accuracy: 0.9211\n",
            "Epoch 80/150\n",
            "10/10 [==============================] - 2s 171ms/step - loss: 0.2594 - accuracy: 0.8882 - val_loss: 0.1747 - val_accuracy: 0.9737\n",
            "Epoch 81/150\n",
            "10/10 [==============================] - 2s 170ms/step - loss: 0.3033 - accuracy: 0.8618 - val_loss: 0.1949 - val_accuracy: 0.9474\n",
            "Epoch 82/150\n",
            "10/10 [==============================] - 2s 173ms/step - loss: 0.2839 - accuracy: 0.8553 - val_loss: 0.1844 - val_accuracy: 0.9737\n",
            "Epoch 83/150\n",
            "10/10 [==============================] - 2s 171ms/step - loss: 0.2563 - accuracy: 0.9276 - val_loss: 0.1614 - val_accuracy: 0.9737\n",
            "Epoch 84/150\n",
            "10/10 [==============================] - 2s 193ms/step - loss: 0.2807 - accuracy: 0.8816 - val_loss: 0.1664 - val_accuracy: 0.8947\n",
            "Epoch 85/150\n",
            "10/10 [==============================] - 2s 173ms/step - loss: 0.2249 - accuracy: 0.9079 - val_loss: 0.2218 - val_accuracy: 0.9211\n",
            "Epoch 86/150\n",
            "10/10 [==============================] - 2s 170ms/step - loss: 0.3063 - accuracy: 0.8684 - val_loss: 0.2676 - val_accuracy: 0.8158\n",
            "Epoch 87/150\n",
            "10/10 [==============================] - 2s 170ms/step - loss: 0.3224 - accuracy: 0.8289 - val_loss: 0.3009 - val_accuracy: 0.8947\n",
            "Epoch 88/150\n",
            "10/10 [==============================] - 2s 170ms/step - loss: 0.2951 - accuracy: 0.8750 - val_loss: 0.2413 - val_accuracy: 0.9211\n",
            "Epoch 89/150\n",
            "10/10 [==============================] - 2s 171ms/step - loss: 0.2797 - accuracy: 0.8355 - val_loss: 0.1888 - val_accuracy: 0.9211\n",
            "Epoch 90/150\n",
            "10/10 [==============================] - 2s 173ms/step - loss: 0.2584 - accuracy: 0.9079 - val_loss: 0.2006 - val_accuracy: 0.8947\n",
            "Epoch 91/150\n",
            "10/10 [==============================] - 2s 173ms/step - loss: 0.3373 - accuracy: 0.8947 - val_loss: 0.2657 - val_accuracy: 0.8947\n",
            "Epoch 92/150\n",
            "10/10 [==============================] - 2s 169ms/step - loss: 0.2720 - accuracy: 0.8947 - val_loss: 0.2407 - val_accuracy: 0.8421\n",
            "Epoch 93/150\n",
            "10/10 [==============================] - 2s 169ms/step - loss: 0.3014 - accuracy: 0.8487 - val_loss: 0.2197 - val_accuracy: 0.9474\n",
            "Epoch 94/150\n",
            "10/10 [==============================] - 2s 169ms/step - loss: 0.2823 - accuracy: 0.8553 - val_loss: 0.1989 - val_accuracy: 0.9211\n",
            "Epoch 95/150\n",
            "10/10 [==============================] - 2s 169ms/step - loss: 0.2786 - accuracy: 0.8750 - val_loss: 0.1709 - val_accuracy: 0.9474\n",
            "Epoch 96/150\n",
            "10/10 [==============================] - 2s 169ms/step - loss: 0.1772 - accuracy: 0.9408 - val_loss: 0.1677 - val_accuracy: 0.9211\n",
            "Epoch 97/150\n",
            "10/10 [==============================] - 2s 172ms/step - loss: 0.2206 - accuracy: 0.9013 - val_loss: 0.1795 - val_accuracy: 0.9211\n",
            "Epoch 98/150\n",
            "10/10 [==============================] - 2s 174ms/step - loss: 0.1903 - accuracy: 0.9211 - val_loss: 0.1661 - val_accuracy: 0.8947\n",
            "Epoch 99/150\n",
            "10/10 [==============================] - 2s 168ms/step - loss: 0.2501 - accuracy: 0.9013 - val_loss: 0.2059 - val_accuracy: 0.9211\n",
            "Epoch 100/150\n",
            "10/10 [==============================] - 2s 175ms/step - loss: 0.2152 - accuracy: 0.8816 - val_loss: 0.2265 - val_accuracy: 0.8947\n",
            "Epoch 101/150\n",
            "10/10 [==============================] - 2s 170ms/step - loss: 0.2308 - accuracy: 0.9013 - val_loss: 0.2198 - val_accuracy: 0.8684\n",
            "Epoch 102/150\n",
            "10/10 [==============================] - 2s 170ms/step - loss: 0.3110 - accuracy: 0.8882 - val_loss: 0.1656 - val_accuracy: 0.9474\n",
            "Epoch 103/150\n",
            "10/10 [==============================] - 2s 169ms/step - loss: 0.2353 - accuracy: 0.9013 - val_loss: 0.1827 - val_accuracy: 0.9211\n",
            "Epoch 104/150\n",
            "10/10 [==============================] - 2s 172ms/step - loss: 0.2343 - accuracy: 0.9211 - val_loss: 0.2088 - val_accuracy: 0.8947\n",
            "Epoch 105/150\n",
            "10/10 [==============================] - 2s 172ms/step - loss: 0.2769 - accuracy: 0.8947 - val_loss: 0.1670 - val_accuracy: 0.9211\n",
            "Epoch 106/150\n",
            "10/10 [==============================] - 2s 191ms/step - loss: 0.2075 - accuracy: 0.9013 - val_loss: 0.3203 - val_accuracy: 0.8684\n",
            "Epoch 107/150\n",
            "10/10 [==============================] - 2s 185ms/step - loss: 0.3305 - accuracy: 0.8553 - val_loss: 0.2126 - val_accuracy: 0.9211\n",
            "Epoch 108/150\n",
            "10/10 [==============================] - 2s 169ms/step - loss: 0.3105 - accuracy: 0.8289 - val_loss: 0.2255 - val_accuracy: 0.8947\n",
            "Epoch 109/150\n",
            "10/10 [==============================] - 2s 173ms/step - loss: 0.1995 - accuracy: 0.9474 - val_loss: 0.2917 - val_accuracy: 0.8684\n",
            "Epoch 110/150\n",
            "10/10 [==============================] - 2s 173ms/step - loss: 0.2359 - accuracy: 0.8947 - val_loss: 0.2887 - val_accuracy: 0.8684\n",
            "Epoch 111/150\n",
            "10/10 [==============================] - 2s 180ms/step - loss: 0.2528 - accuracy: 0.9013 - val_loss: 0.2767 - val_accuracy: 0.9211\n",
            "Epoch 112/150\n",
            "10/10 [==============================] - 2s 183ms/step - loss: 0.2062 - accuracy: 0.9079 - val_loss: 0.2192 - val_accuracy: 0.9211\n",
            "Epoch 113/150\n",
            "10/10 [==============================] - 2s 168ms/step - loss: 0.2164 - accuracy: 0.9276 - val_loss: 0.2032 - val_accuracy: 0.8947\n",
            "Epoch 114/150\n",
            "10/10 [==============================] - 2s 172ms/step - loss: 0.2156 - accuracy: 0.8947 - val_loss: 0.2002 - val_accuracy: 0.8947\n",
            "Epoch 115/150\n",
            "10/10 [==============================] - 2s 168ms/step - loss: 0.2819 - accuracy: 0.8684 - val_loss: 0.2189 - val_accuracy: 0.8684\n",
            "Epoch 116/150\n",
            "10/10 [==============================] - 2s 187ms/step - loss: 0.2199 - accuracy: 0.8947 - val_loss: 0.3461 - val_accuracy: 0.8421\n",
            "Epoch 117/150\n",
            "10/10 [==============================] - 2s 179ms/step - loss: 0.1931 - accuracy: 0.9145 - val_loss: 0.3075 - val_accuracy: 0.9211\n",
            "Epoch 118/150\n",
            "10/10 [==============================] - 2s 171ms/step - loss: 0.1626 - accuracy: 0.9605 - val_loss: 0.1747 - val_accuracy: 0.9211\n",
            "Epoch 119/150\n",
            "10/10 [==============================] - 2s 172ms/step - loss: 0.2842 - accuracy: 0.8816 - val_loss: 0.1891 - val_accuracy: 0.9211\n",
            "Epoch 120/150\n",
            "10/10 [==============================] - 2s 179ms/step - loss: 0.1886 - accuracy: 0.9342 - val_loss: 0.2009 - val_accuracy: 0.8947\n",
            "Epoch 121/150\n",
            "10/10 [==============================] - 2s 184ms/step - loss: 0.2351 - accuracy: 0.9013 - val_loss: 0.1627 - val_accuracy: 0.9211\n",
            "Epoch 122/150\n",
            "10/10 [==============================] - 2s 170ms/step - loss: 0.2320 - accuracy: 0.8947 - val_loss: 0.2046 - val_accuracy: 0.9211\n",
            "Epoch 123/150\n",
            "10/10 [==============================] - 2s 173ms/step - loss: 0.2015 - accuracy: 0.9145 - val_loss: 0.2384 - val_accuracy: 0.8947\n",
            "Epoch 124/150\n",
            "10/10 [==============================] - 2s 172ms/step - loss: 0.2138 - accuracy: 0.9211 - val_loss: 0.2659 - val_accuracy: 0.9474\n",
            "Epoch 125/150\n",
            "10/10 [==============================] - 2s 184ms/step - loss: 0.2039 - accuracy: 0.9276 - val_loss: 0.1935 - val_accuracy: 0.9211\n",
            "Epoch 126/150\n",
            "10/10 [==============================] - 2s 173ms/step - loss: 0.2029 - accuracy: 0.9276 - val_loss: 0.2197 - val_accuracy: 0.9211\n",
            "Epoch 127/150\n",
            "10/10 [==============================] - 2s 170ms/step - loss: 0.2165 - accuracy: 0.9013 - val_loss: 0.2325 - val_accuracy: 0.8421\n",
            "Epoch 128/150\n",
            "10/10 [==============================] - 2s 170ms/step - loss: 0.2320 - accuracy: 0.8816 - val_loss: 0.2488 - val_accuracy: 0.8947\n",
            "Epoch 129/150\n",
            "10/10 [==============================] - 2s 175ms/step - loss: 0.2010 - accuracy: 0.9276 - val_loss: 0.1938 - val_accuracy: 0.9211\n",
            "Epoch 130/150\n",
            "10/10 [==============================] - 2s 183ms/step - loss: 0.2155 - accuracy: 0.9079 - val_loss: 0.1796 - val_accuracy: 0.9211\n",
            "Epoch 131/150\n",
            "10/10 [==============================] - 2s 169ms/step - loss: 0.1929 - accuracy: 0.9605 - val_loss: 0.2061 - val_accuracy: 0.8947\n",
            "Epoch 132/150\n",
            "10/10 [==============================] - 2s 171ms/step - loss: 0.2545 - accuracy: 0.8816 - val_loss: 0.2405 - val_accuracy: 0.9474\n",
            "Epoch 133/150\n",
            "10/10 [==============================] - 2s 170ms/step - loss: 0.1731 - accuracy: 0.9408 - val_loss: 0.1840 - val_accuracy: 0.8947\n",
            "Epoch 134/150\n",
            "10/10 [==============================] - 2s 178ms/step - loss: 0.1767 - accuracy: 0.9276 - val_loss: 0.2137 - val_accuracy: 0.9474\n",
            "Epoch 135/150\n",
            "10/10 [==============================] - 2s 179ms/step - loss: 0.1506 - accuracy: 0.9408 - val_loss: 0.1932 - val_accuracy: 0.8947\n",
            "Epoch 136/150\n",
            "10/10 [==============================] - 2s 169ms/step - loss: 0.3008 - accuracy: 0.9079 - val_loss: 0.3089 - val_accuracy: 0.9211\n",
            "Epoch 137/150\n",
            "10/10 [==============================] - 2s 170ms/step - loss: 0.2615 - accuracy: 0.8816 - val_loss: 0.2011 - val_accuracy: 0.8947\n",
            "Epoch 138/150\n",
            "10/10 [==============================] - 2s 177ms/step - loss: 0.1863 - accuracy: 0.9276 - val_loss: 0.2127 - val_accuracy: 0.9211\n",
            "Epoch 139/150\n",
            "10/10 [==============================] - 2s 185ms/step - loss: 0.1346 - accuracy: 0.9539 - val_loss: 0.2568 - val_accuracy: 0.9211\n",
            "Epoch 140/150\n",
            "10/10 [==============================] - 2s 172ms/step - loss: 0.1668 - accuracy: 0.9342 - val_loss: 0.2609 - val_accuracy: 0.9211\n",
            "Epoch 141/150\n",
            "10/10 [==============================] - 2s 212ms/step - loss: 0.1671 - accuracy: 0.9408 - val_loss: 0.1229 - val_accuracy: 0.9211\n",
            "Epoch 142/150\n",
            "10/10 [==============================] - 2s 170ms/step - loss: 0.2486 - accuracy: 0.9211 - val_loss: 0.1342 - val_accuracy: 0.9474\n",
            "Epoch 143/150\n",
            "10/10 [==============================] - 2s 182ms/step - loss: 0.2198 - accuracy: 0.9408 - val_loss: 0.1387 - val_accuracy: 0.9474\n",
            "Epoch 144/150\n",
            "10/10 [==============================] - 2s 178ms/step - loss: 0.1834 - accuracy: 0.9408 - val_loss: 0.1476 - val_accuracy: 0.9474\n",
            "Epoch 145/150\n",
            "10/10 [==============================] - 2s 197ms/step - loss: 0.1975 - accuracy: 0.9211 - val_loss: 0.1915 - val_accuracy: 0.9474\n",
            "Epoch 146/150\n",
            "10/10 [==============================] - 2s 176ms/step - loss: 0.1480 - accuracy: 0.9211 - val_loss: 0.1710 - val_accuracy: 0.9474\n",
            "Epoch 147/150\n",
            "10/10 [==============================] - 2s 169ms/step - loss: 0.1534 - accuracy: 0.9342 - val_loss: 0.2323 - val_accuracy: 0.8947\n",
            "Epoch 148/150\n",
            "10/10 [==============================] - 2s 180ms/step - loss: 0.1615 - accuracy: 0.9342 - val_loss: 0.3407 - val_accuracy: 0.9211\n",
            "Epoch 149/150\n",
            "10/10 [==============================] - 2s 173ms/step - loss: 0.1776 - accuracy: 0.9539 - val_loss: 0.2110 - val_accuracy: 0.8947\n",
            "Epoch 150/150\n",
            "10/10 [==============================] - 2s 170ms/step - loss: 0.2168 - accuracy: 0.9079 - val_loss: 0.2605 - val_accuracy: 0.8421\n"
          ]
        }
      ]
    },
    {
      "cell_type": "code",
      "source": [
        "import matplotlib.pyplot as plt"
      ],
      "metadata": {
        "id": "PD-6tlPHlQTd"
      },
      "execution_count": 31,
      "outputs": []
    },
    {
      "cell_type": "code",
      "source": [
        "acc = history.history['accuracy']\n",
        "val_acc = history.history['val_accuracy']\n",
        "\n",
        "loss = history.history['loss']\n",
        "val_loss = history.history['val_loss']\n",
        "\n",
        "epochs_range = range(num_epochs)\n",
        "\n",
        "plt.figure(figsize=(8, 8))\n",
        "plt.subplot(1, 2, 1)\n",
        "plt.plot(epochs_range, acc, label='Training Accuracy')\n",
        "plt.plot(epochs_range, val_acc, label='Validation Accuracy')\n",
        "plt.legend(loc='lower right')\n",
        "plt.title('Training and Validation Accuracy')\n",
        "\n",
        "plt.subplot(1, 2, 2)\n",
        "plt.plot(epochs_range, loss, label='Training Loss')\n",
        "plt.plot(epochs_range, val_loss, label='Validation Loss')\n",
        "plt.legend(loc='upper right')\n",
        "plt.title('Training and Validation Loss')\n",
        "plt.show()"
      ],
      "metadata": {
        "colab": {
          "base_uri": "https://localhost:8080/",
          "height": 499
        },
        "id": "Mh1tLCrje86r",
        "outputId": "5474c898-ff5e-4719-cd02-6633c95f2edf"
      },
      "execution_count": 32,
      "outputs": [
        {
          "output_type": "display_data",
          "data": {
            "image/png": "[encoded data removed]",
            "text/plain": [
              "<Figure size 576x576 with 2 Axes>"
            ]
          },
          "metadata": {
            "needs_background": "light"
          }
        }
      ]
    },
    {
      "cell_type": "code",
      "source": [
        "import os\n",
        "from os import listdir\n",
        "from os.path import isfile, join\n",
        "import shutil\n",
        "import random"
      ],
      "metadata": {
        "id": "hbvnt_31waJM"
      },
      "execution_count": 33,
      "outputs": []
    },
    {
      "cell_type": "markdown",
      "source": [
        "<h1>Test Model</h1>"
      ],
      "metadata": {
        "id": "WqXdaSu8elXx"
      }
    },
    {
      "cell_type": "code",
      "source": [
        "# checkpoint_filepath = '/content/drive/MyDrive/ImageClassificationData/checkpoint/checkpoint'\n",
        "# inference_model = create_vit_classifier()\n",
        "# inference_model.load_weights(checkpoint_filepath)\n"
      ],
      "metadata": {
        "id": "2mAg7ukJ3Yf0",
        "outputId": "ae3a76c0-bfe3-4185-903f-43c234c20c78",
        "colab": {
          "base_uri": "https://localhost:8080/"
        }
      },
      "execution_count": null,
      "outputs": [
        {
          "output_type": "execute_result",
          "data": {
            "text/plain": [
              "<tensorflow.python.training.tracking.util.CheckpointLoadStatus at 0x7f4f2dc56750>"
            ]
          },
          "metadata": {},
          "execution_count": 241
        }
      ]
    },
    {
      "cell_type": "code",
      "source": [
        "data_path =  '/content/drive/My Drive/ImageClassificationData/'\n",
        "train_data_path = os.path.join(data_path,'TestHE')\n",
        "image_names = [f for f in listdir(train_data_path) if isfile(join(train_data_path, f))]\n",
        "#image_names"
      ],
      "metadata": {
        "id": "MhjVKHSV1VPT"
      },
      "execution_count": 34,
      "outputs": []
    },
    {
      "cell_type": "code",
      "source": [
        "labels=[]\n",
        "for name in image_names:\n",
        "  if 'AP' in name:\n",
        "    labels.append(0)\n",
        "  else:\n",
        "    labels.append(1)\n",
        "labels = np.asarray(labels)"
      ],
      "metadata": {
        "id": "MGyfUqqqErfV"
      },
      "execution_count": 35,
      "outputs": []
    },
    {
      "cell_type": "code",
      "source": [
        "i = 0 \n",
        "test_image = os.path.join(data_path,'TestHE',image_names[i])\n",
        "#print(test_image)\n",
        "y = labels[i]\n",
        "img = tf.keras.utils.load_img(\n",
        "    test_image,\n",
        "    #color_mode = \"grayscale\", \n",
        "    target_size=(img_height, img_width),\n",
        "    )\n",
        "img_array = tf.keras.utils.img_to_array(img)\n",
        "img_array = tf.expand_dims(img_array, 0) # Create a batch\n",
        "\n",
        "predictions = inference_model.predict(img_array)"
      ],
      "metadata": {
        "id": "CdZ_Tgtg-53T"
      },
      "execution_count": null,
      "outputs": []
    },
    {
      "cell_type": "code",
      "source": [
        "predictions"
      ],
      "metadata": {
        "id": "nED17WTS-5_j",
        "outputId": "7213351e-5a78-48ec-a7ba-910a03a874ea",
        "colab": {
          "base_uri": "https://localhost:8080/"
        }
      },
      "execution_count": null,
      "outputs": [
        {
          "output_type": "execute_result",
          "data": {
            "text/plain": [
              "array([[0.47103396]], dtype=float32)"
            ]
          },
          "metadata": {},
          "execution_count": 230
        }
      ]
    },
    {
      "cell_type": "code",
      "source": [
        "\n",
        "def select_image(image_names,data_path,random_image):\n",
        "  random_image = random.choice(image_names)\n",
        "  test_image = os.path.join(data_path,'Test',random_image)\n",
        "  if 'AP' in test_image:\n",
        "    class_name = 'AP'\n",
        "  else:\n",
        "    class_name = 'Lateral'\n",
        "  return(test_image)\n",
        "\n",
        "\n",
        "#for _ in range(10):\n"
      ],
      "metadata": {
        "id": "k7m2dtUl1YWV"
      },
      "execution_count": null,
      "outputs": []
    },
    {
      "cell_type": "code",
      "source": [
        "tp = 0\n",
        "fp = 0\n",
        "for name in  image_names:\n",
        "  test_image = os.path.join(data_path,'TestHE',name)\n",
        "  #print(test_image)\n",
        "  #test_image = select_image(image_names,data_path,name)\n",
        "  img = tf.keras.utils.load_img(\n",
        "      test_image,\n",
        "      #color_mode = \"grayscale\", \n",
        "      target_size=(img_height, img_width),\n",
        "      )\n",
        "  img_array = tf.keras.utils.img_to_array(img)\n",
        "  img_array = tf.expand_dims(img_array, 0) # Create a batch\n",
        "\n",
        "  predictions = vit_classifier.predict(img_array)\n",
        "  # acc,loss = vit_classifier.evaluate(img_array,labels[i])\n",
        "  \n",
        "  if 'AP' in test_image:\n",
        "    class_name = 'AP'\n",
        "  else:\n",
        "    class_name = 'Lateral'\n",
        "  #print('\\n','True image class:',class_name)\n",
        "\n",
        "  #print(test_image)\n",
        "  #print(predictions)\n",
        "  if predictions>0.5:\n",
        "    print('\\n',name,'    True image class:',class_name,'             predicted class is Lateral   ', predictions)\n",
        "  else:\n",
        "    print('\\n',name,'   True image class:',class_name,'              predicted class is AP      ',predictions)  \n",
        "\n",
        "  total_num_test_images = len(image_names)\n",
        "\n",
        "  if (class_name == 'Lateral' and predictions >.5)  or (class_name == 'AP' and predictions <0.5):\n",
        "    tp = tp + 1 \n",
        "  else:\n",
        "    fp = fp + 1\n",
        "\n",
        "print(tp)\n",
        "print(fp)"
      ],
      "metadata": {
        "id": "hwCnD66239pH",
        "outputId": "bbd2f5be-c384-4d4a-d06e-9cbae50ba907",
        "colab": {
          "base_uri": "https://localhost:8080/"
        }
      },
      "execution_count": 36,
      "outputs": [
        {
          "output_type": "stream",
          "name": "stdout",
          "text": [
            "\n",
            " 211_AP.png    True image class: AP               predicted class is AP       [[0.22915643]]\n",
            "\n",
            " 198_Lateral.png    True image class: Lateral               predicted class is AP       [[0.24982649]]\n",
            "\n",
            " 196_Lateral.png    True image class: Lateral               predicted class is AP       [[0.30468193]]\n",
            "\n",
            " 195_Lateral.png    True image class: Lateral               predicted class is AP       [[0.20745543]]\n",
            "\n",
            " 210_AP.png     True image class: AP              predicted class is Lateral    [[0.6545961]]\n",
            "\n",
            " 209_AP.png    True image class: AP               predicted class is AP       [[0.26237082]]\n",
            "\n",
            " 201_Lateral.png    True image class: Lateral               predicted class is AP       [[0.39247796]]\n",
            "\n",
            " 194_Lateral.png    True image class: Lateral               predicted class is AP       [[0.37455443]]\n",
            "\n",
            " 199_Lateral.png    True image class: Lateral               predicted class is AP       [[0.09041205]]\n",
            "\n",
            " 217_AP.png    True image class: AP               predicted class is AP       [[0.17684022]]\n",
            "\n",
            " 214_AP.png    True image class: AP               predicted class is AP       [[0.03513736]]\n",
            "\n",
            " 200_Lateral.png    True image class: Lateral               predicted class is AP       [[0.23514867]]\n",
            "\n",
            " 197_Lateral.png    True image class: Lateral               predicted class is AP       [[0.07298529]]\n",
            "\n",
            " 206_AP.png    True image class: AP               predicted class is AP       [[0.01448971]]\n",
            "\n",
            " 191_Lateral.png     True image class: Lateral              predicted class is Lateral    [[0.99998945]]\n",
            "\n",
            " 208_AP.png     True image class: AP              predicted class is Lateral    [[0.9780795]]\n",
            "\n",
            " 203_Lateral.png    True image class: Lateral               predicted class is AP       [[0.22799683]]\n",
            "\n",
            " 205_AP.png     True image class: AP              predicted class is Lateral    [[0.7527083]]\n",
            "\n",
            " 216_AP.png    True image class: AP               predicted class is AP       [[0.21150327]]\n",
            "\n",
            " 215_AP.png    True image class: AP               predicted class is AP       [[0.00226927]]\n",
            "\n",
            " 193_Lateral.png    True image class: Lateral               predicted class is AP       [[0.19520798]]\n",
            "\n",
            " 212_AP.png    True image class: AP               predicted class is AP       [[0.18281192]]\n",
            "\n",
            " 207_AP.png    True image class: AP               predicted class is AP       [[0.03494218]]\n",
            "\n",
            " 202_Lateral.png    True image class: Lateral               predicted class is AP       [[0.4175656]]\n",
            "\n",
            " 192_Lateral.png     True image class: Lateral              predicted class is Lateral    [[0.9994744]]\n",
            "\n",
            " 213_AP.png    True image class: AP               predicted class is AP       [[0.08419403]]\n",
            "\n",
            " 204_AP.png    True image class: AP               predicted class is AP       [[0.00762743]]\n",
            "13\n",
            "14\n"
          ]
        }
      ]
    }
  ],
  "metadata": {
    "colab": {
      "collapsed_sections": [],
      "name": "ViT-HE",
      "provenance": [],
      "include_colab_link": true
    },
    "environment": {
      "name": "tf2-gpu.2-4.m61",
      "type": "gcloud",
      "uri": "gcr.io/deeplearning-platform-release/tf2-gpu.2-4:m61"
    },
    "kernelspec": {
      "display_name": "Python 3",
      "language": "python",
      "name": "python3"
    },
    "language_info": {
      "codemirror_mode": {
        "name": "ipython",
        "version": 3
      },
      "file_extension": ".py",
      "mimetype": "text/x-python",
      "name": "python",
      "nbconvert_exporter": "python",
      "pygments_lexer": "ipython3",
      "version": "3.7.9"
    }
  },
  "nbformat": 4,
  "nbformat_minor": 0
}