{
  "nbformat": 4,
  "nbformat_minor": 0,
  "metadata": {
    "colab": {
      "name": "FineTunedCNN.ipynb",
      "provenance": [],
      "authorship_tag": "ABX9TyM6QdVexGOx1+K5OyUEpMJ7",
      "include_colab_link": true
    },
    "kernelspec": {
      "name": "python3",
      "display_name": "Python 3"
    },
    "language_info": {
      "name": "python"
    }
  },
  "cells": [
    {
      "cell_type": "markdown",
      "metadata": {
        "id": "view-in-github",
        "colab_type": "text"
      },
      "source": [
        "<a href=\"https://colab.research.google.com/github/Nadian-Ali/ImageClassification/blob/main/CNN_fine-Tuned.ipynb\" target=\"_parent\"><img src=\"https://colab.research.google.com/assets/colab-badge.svg\" alt=\"Open In Colab\"/></a>"
      ]
    },
    {
      "cell_type": "markdown",
      "source": [
        "<h1> Using a Pre-trained inception-v3 classifier </h1>"
      ],
      "metadata": {
        "id": "S31toLzNquuS"
      }
    },
    {
      "cell_type": "code",
      "execution_count": null,
      "metadata": {
        "id": "-R6GQ3zt6a53",
        "colab": {
          "base_uri": "https://localhost:8080/"
        },
        "outputId": "61ae0bf8-c571-4243-b109-ca3a3b672a47"
      },
      "outputs": [
        {
          "output_type": "stream",
          "name": "stdout",
          "text": [
            "Mounted at /content/drive\n"
          ]
        }
      ],
      "source": [
        "#Import drive\n",
        "from google.colab import drive\n",
        "#Mount Google Drive\n",
        "drive.mount(\"/content/drive\", force_remount =True)"
      ]
    },
    {
      "cell_type": "code",
      "source": [
        "%pwd\n"
      ],
      "metadata": {
        "colab": {
          "base_uri": "https://localhost:8080/",
          "height": 35
        },
        "id": "j1itg5O-7UEF",
        "outputId": "5b99da8c-9607-4bb1-c310-f6f19707f53e"
      },
      "execution_count": null,
      "outputs": [
        {
          "output_type": "execute_result",
          "data": {
            "application/vnd.google.colaboratory.intrinsic+json": {
              "type": "string"
            },
            "text/plain": [
              "'/content/drive/MyDrive/ImageClassification'"
            ]
          },
          "metadata": {},
          "execution_count": 36
        }
      ]
    },
    {
      "cell_type": "code",
      "source": [
        "%lsd"
      ],
      "metadata": {
        "id": "dboE2HZ87pGH",
        "outputId": "cd38598c-2d50-4b3d-fcb6-ce302a9ea8cb",
        "colab": {
          "base_uri": "https://localhost:8080/"
        }
      },
      "execution_count": null,
      "outputs": [
        {
          "output_type": "stream",
          "name": "stdout",
          "text": [
            "shell-init: error retrieving current directory: getcwd: cannot access parent directories: Transport endpoint is not connected\n",
            "ls: cannot open directory '.': Transport endpoint is not connected\n"
          ]
        }
      ]
    },
    {
      "cell_type": "code",
      "source": [
        "%cd /content/drive/MyDrive/ImageClassification"
      ],
      "metadata": {
        "colab": {
          "base_uri": "https://localhost:8080/"
        },
        "id": "3Ylcd5gO7mly",
        "outputId": "fd50ec94-d900-4f63-cbbb-5d4a5571e280"
      },
      "execution_count": null,
      "outputs": [
        {
          "output_type": "stream",
          "name": "stdout",
          "text": [
            "/content/drive/MyDrive/ImageClassification\n"
          ]
        }
      ]
    },
    {
      "cell_type": "markdown",
      "source": [
        "<h1> Import Packages </h1>"
      ],
      "metadata": {
        "id": "Tticeszh75dw"
      }
    },
    {
      "cell_type": "code",
      "source": [
        "import matplotlib.pyplot as plt\n",
        "import numpy as np\n",
        "import os\n",
        "import PIL\n",
        "import tensorflow as tf\n",
        "\n",
        "from tensorflow import keras\n",
        "from tensorflow.keras import layers\n",
        "from tensorflow.keras.models import Sequential, Model"
      ],
      "metadata": {
        "id": "xlYeQFsq7UNm"
      },
      "execution_count": null,
      "outputs": []
    },
    {
      "cell_type": "markdown",
      "source": [
        "<h1>Data prepration </h1>"
      ],
      "metadata": {
        "id": "H0I8XzOfrCD7"
      }
    },
    {
      "cell_type": "code",
      "source": [
        "data_dir = '/content/drive/MyDrive/ImageClassification/flower_photos'"
      ],
      "metadata": {
        "id": "deaJmkqf4gIi"
      },
      "execution_count": null,
      "outputs": []
    },
    {
      "cell_type": "code",
      "source": [
        ""
      ],
      "metadata": {
        "id": "-dgogHCkrEGC"
      },
      "execution_count": null,
      "outputs": []
    },
    {
      "cell_type": "code",
      "source": [
        "batch_size = 32\n",
        "img_height = 256\n",
        "img_width = 256"
      ],
      "metadata": {
        "id": "H35CsWRqGYwc"
      },
      "execution_count": null,
      "outputs": []
    },
    {
      "cell_type": "code",
      "source": [
        "train_ds = tf.keras.utils.image_dataset_from_directory(\n",
        "  data_dir,\n",
        "  validation_split=0.2,\n",
        "  #color_mode = \"grayscale\",\n",
        "  subset=\"training\",\n",
        "  seed=123,\n",
        "  image_size=(img_height, img_width),\n",
        "  batch_size=batch_size)"
      ],
      "metadata": {
        "colab": {
          "base_uri": "https://localhost:8080/"
        },
        "id": "xLVHUsXFGdVp",
        "outputId": "c2444d7a-a104-40f3-ed9f-c59cacbd36f0"
      },
      "execution_count": null,
      "outputs": [
        {
          "output_type": "stream",
          "name": "stdout",
          "text": [
            "Found 1332 files belonging to 2 classes.\n",
            "Using 1066 files for training.\n"
          ]
        }
      ]
    },
    {
      "cell_type": "code",
      "source": [
        "class_names = train_ds.class_names\n",
        "print(class_names)"
      ],
      "metadata": {
        "id": "s1yLTIW-dN7A",
        "colab": {
          "base_uri": "https://localhost:8080/"
        },
        "outputId": "f1b1e9f4-fd4e-4605-bd02-b50d2c9e086c"
      },
      "execution_count": null,
      "outputs": [
        {
          "output_type": "stream",
          "name": "stdout",
          "text": [
            "['daisy', 'sunflowers']\n"
          ]
        }
      ]
    },
    {
      "cell_type": "markdown",
      "source": [
        ""
      ],
      "metadata": {
        "id": "tCfYjubgGda-"
      }
    },
    {
      "cell_type": "code",
      "source": [
        "val_ds = tf.keras.utils.image_dataset_from_directory(\n",
        "  data_dir,\n",
        "  validation_split=0.2,\n",
        "  subset=\"validation\",\n",
        "  #color_mode = \"grayscale\",\n",
        "  seed=123,\n",
        "  image_size=(img_height, img_width),\n",
        "  batch_size=batch_size)"
      ],
      "metadata": {
        "colab": {
          "base_uri": "https://localhost:8080/"
        },
        "id": "PJn7Bm98Gdt_",
        "outputId": "6e8ac83d-5c9d-4fb4-fa2f-c6daa62e26a5"
      },
      "execution_count": null,
      "outputs": [
        {
          "output_type": "stream",
          "name": "stdout",
          "text": [
            "Found 1332 files belonging to 2 classes.\n",
            "Using 266 files for validation.\n"
          ]
        }
      ]
    },
    {
      "cell_type": "code",
      "source": [
        "AUTOTUNE = tf.data.AUTOTUNE\n",
        "\n",
        "train_ds = train_ds.cache().shuffle(1000).prefetch(buffer_size=AUTOTUNE)\n",
        "val_ds = val_ds.cache().prefetch(buffer_size=AUTOTUNE)"
      ],
      "metadata": {
        "id": "mDh9DYUwGdza"
      },
      "execution_count": null,
      "outputs": []
    },
    {
      "cell_type": "code",
      "source": [
        "train_ds"
      ],
      "metadata": {
        "colab": {
          "base_uri": "https://localhost:8080/"
        },
        "id": "0t5HcEsQYb7r",
        "outputId": "2131a2a4-e45f-4dd4-c179-940a61ebe28e"
      },
      "execution_count": null,
      "outputs": [
        {
          "output_type": "execute_result",
          "data": {
            "text/plain": [
              "<PrefetchDataset shapes: ((None, 180, 180, 3), (None,)), types: (tf.float32, tf.int32)>"
            ]
          },
          "metadata": {},
          "execution_count": 40
        }
      ]
    },
    {
      "cell_type": "code",
      "source": [
        "normalization_layer = layers.Rescaling(1./255)"
      ],
      "metadata": {
        "id": "j4JHSfYKZCNG"
      },
      "execution_count": null,
      "outputs": []
    },
    {
      "cell_type": "code",
      "source": [
        "print(len(class_names))\n",
        "num_classes = len(class_names)"
      ],
      "metadata": {
        "id": "4rgPeZ2HcpuR",
        "colab": {
          "base_uri": "https://localhost:8080/"
        },
        "outputId": "bd296b19-805e-408a-e0c8-06512c1f101b"
      },
      "execution_count": null,
      "outputs": [
        {
          "output_type": "stream",
          "name": "stdout",
          "text": [
            "2\n"
          ]
        }
      ]
    },
    {
      "cell_type": "markdown",
      "source": [
        "<h1>Data augmentation </h1>"
      ],
      "metadata": {
        "id": "oEyJRQB2hxiq"
      }
    },
    {
      "cell_type": "code",
      "source": [
        "data_augmentation = keras.Sequential(\n",
        "  [\n",
        "    layers.RandomFlip(\"horizontal\",\n",
        "                      input_shape=(img_height,\n",
        "                                  img_width,\n",
        "                                  3)),\n",
        "    layers.RandomFlip('horizontal'),\n",
        "    layers.RandomZoom(0.1),\n",
        "  ]\n",
        ")"
      ],
      "metadata": {
        "id": "f8S3bWi6hviU"
      },
      "execution_count": null,
      "outputs": []
    },
    {
      "cell_type": "markdown",
      "source": [
        "<h1>Define Model</h1>"
      ],
      "metadata": {
        "id": "O3_nNHUPQDZI"
      }
    },
    {
      "cell_type": "code",
      "source": [
        "from tensorflow.keras.applications.inception_v3 import InceptionV3\n",
        "from tensorflow.keras.preprocessing import image\n",
        "from tensorflow.keras.models import Model\n",
        "from tensorflow.keras.layers import Dense, GlobalAveragePooling2D\n",
        "\n",
        "# create the base pre-trained model\n",
        "base_model = InceptionV3(weights='imagenet', include_top=False)\n",
        "\n",
        "# add a global spatial average pooling layer\n",
        "x = base_model.output\n",
        "x = GlobalAveragePooling2D()(x)\n",
        "# let's add a fully-connected layer\n",
        "x = Dense(256, activation='relu')(x)\n",
        "# and a logistic layer -- let's say we have 200 classes\n",
        "predictions = Dense(1, activation='sigmoid')(x)\n",
        "\n",
        "# this is the model we will train\n",
        "model_ft = Model(inputs=base_model.input, outputs=predictions)\n",
        "\n",
        "# first: train only the top layers (which were randomly initialized)\n",
        "# i.e. freeze all convolutional InceptionV3 layers\n",
        "for layer in base_model.layers:\n",
        "    layer.trainable = False\n",
        "\n",
        "# compile the model (should be done *after* setting layers to non-trainable)\n",
        "# model_ft.compile(optimizer='rmsprop', loss='BinaryCrossentropy')\n",
        "model_ft.compile(optimizer='adam',\n",
        "              loss=tf.keras.losses.BinaryCrossentropy(from_logits=False),\n",
        "              metrics=['accuracy'])"
      ],
      "metadata": {
        "id": "tGA7dTaVgqnZ"
      },
      "execution_count": null,
      "outputs": []
    },
    {
      "cell_type": "code",
      "source": [
        "epochs=10\n",
        "history = model_ft.fit(\n",
        "  train_ds, \n",
        "  validation_data=val_ds, \n",
        "  epochs=epochs\n",
        ") "
      ],
      "metadata": {
        "colab": {
          "base_uri": "https://localhost:8080/"
        },
        "id": "ZJkJkiuTI7AR",
        "outputId": "d9b46fa6-afd1-4cb2-ce98-a54cb624be27"
      },
      "execution_count": null,
      "outputs": [
        {
          "output_type": "stream",
          "name": "stdout",
          "text": [
            "Epoch 1/10\n",
            "34/34 [==============================] - 235s 7s/step - loss: 0.1487 - accuracy: 0.9465 - val_loss: 4.3299 - val_accuracy: 0.5451\n",
            "Epoch 2/10\n",
            "34/34 [==============================] - 213s 6s/step - loss: 0.1322 - accuracy: 0.9493 - val_loss: 1.0331 - val_accuracy: 0.8120\n",
            "Epoch 3/10\n",
            "34/34 [==============================] - 214s 6s/step - loss: 0.0623 - accuracy: 0.9756 - val_loss: 2.5795 - val_accuracy: 0.7820\n",
            "Epoch 4/10\n",
            "34/34 [==============================] - 215s 6s/step - loss: 0.0541 - accuracy: 0.9803 - val_loss: 1.5883 - val_accuracy: 0.7556\n",
            "Epoch 5/10\n",
            "34/34 [==============================] - 215s 6s/step - loss: 0.0778 - accuracy: 0.9709 - val_loss: 5.9074 - val_accuracy: 0.6353\n",
            "Epoch 6/10\n",
            "34/34 [==============================] - 214s 6s/step - loss: 0.0465 - accuracy: 0.9822 - val_loss: 0.7756 - val_accuracy: 0.8459\n",
            "Epoch 7/10\n",
            "34/34 [==============================] - 214s 6s/step - loss: 0.0318 - accuracy: 0.9916 - val_loss: 1.3890 - val_accuracy: 0.7669\n",
            "Epoch 8/10\n",
            "34/34 [==============================] - 212s 6s/step - loss: 0.0338 - accuracy: 0.9897 - val_loss: 2.6770 - val_accuracy: 0.7406\n",
            "Epoch 9/10\n",
            "34/34 [==============================] - 214s 6s/step - loss: 0.0615 - accuracy: 0.9812 - val_loss: 0.6254 - val_accuracy: 0.9060\n",
            "Epoch 10/10\n",
            "34/34 [==============================] - 214s 6s/step - loss: 0.0142 - accuracy: 0.9972 - val_loss: 0.7148 - val_accuracy: 0.8759\n"
          ]
        }
      ]
    },
    {
      "cell_type": "code",
      "source": [
        "acc = history.history['accuracy']\n",
        "val_acc = history.history['val_accuracy']\n",
        "\n",
        "loss = history.history['loss']\n",
        "val_loss = history.history['val_loss']\n",
        "\n",
        "epochs_range = range(epochs)\n",
        "\n",
        "plt.figure(figsize=(8, 8))\n",
        "plt.subplot(1, 2, 1)\n",
        "plt.plot(epochs_range, acc, label='Training Accuracy')\n",
        "plt.plot(epochs_range, val_acc, label='Validation Accuracy')\n",
        "plt.legend(loc='lower right')\n",
        "plt.title('Training and Validation Accuracy')\n",
        "\n",
        "plt.subplot(1, 2, 2)\n",
        "plt.plot(epochs_range, loss, label='Training Loss')\n",
        "plt.plot(epochs_range, val_loss, label='Validation Loss')\n",
        "plt.legend(loc='upper right')\n",
        "plt.title('Training and Validation Loss')\n",
        "plt.show()"
      ],
      "metadata": {
        "id": "yiByRluSi-7p",
        "colab": {
          "base_uri": "https://localhost:8080/"
        },
        "outputId": "cfa29fd3-3db3-4a16-882a-39df9d2c40ff"
      },
      "execution_count": null,
      "outputs": [
        {
          "output_type": "display_data",
          "data": {
            "image/png": "[encoded data removed]",
            "text/plain": [
              "<Figure size 576x576 with 2 Axes>"
            ]
          },
          "metadata": {
            "needs_background": "light"
          }
        }
      ]
    },
    {
      "cell_type": "markdown",
      "source": [
        "<h1> Do fine Tuning </h1>"
      ],
      "metadata": {
        "id": "HUYS5MYIQQwk"
      }
    },
    {
      "cell_type": "markdown",
      "source": [
        "**Visualize the layers**"
      ],
      "metadata": {
        "id": "jqxHTbSkQhv0"
      }
    },
    {
      "cell_type": "code",
      "source": [
        "# at this point, the top layers are well trained and we can start fine-tuning\n",
        "# convolutional layers from inception V3. We will freeze the bottom N layers\n",
        "# and train the remaining top layers.\n",
        "\n",
        "# let's visualize layer names and layer indices to see how many layers\n",
        "# we should freeze:\n",
        "for i, layer in enumerate(base_model.layers):\n",
        "   print(i, layer.name)\n",
        "\n"
      ],
      "metadata": {
        "id": "FmTIpZDeQWqN"
      },
      "execution_count": null,
      "outputs": []
    },
    {
      "cell_type": "markdown",
      "source": [
        "**Freez desired layers**"
      ],
      "metadata": {
        "id": "BkH3almLQnF2"
      }
    },
    {
      "cell_type": "code",
      "source": [
        "# we chose to train the top 2 inception blocks, i.e. we will freeze\n",
        "# the first 249 layers and unfreeze the rest:\n",
        "for layer in model_ft.layers[:249]:\n",
        "   layer.trainable = False\n",
        "for layer in model_ft.layers[249:]:\n",
        "   layer.trainable = True\n",
        "\n",
        "\n",
        "model_ft.compile(optimizer=keras.optimizers.Adam(learning_rate=0.001),\n",
        "              loss=tf.keras.losses.BinaryCrossentropy(from_logits=False),\n",
        "              metrics=['accuracy'])"
      ],
      "metadata": {
        "id": "i6vZ7MeiQgSM"
      },
      "execution_count": null,
      "outputs": []
    },
    {
      "cell_type": "code",
      "source": [
        "# we train our model again (this time fine-tuning the top 2 inception blocks\n",
        "# alongside the top Dense layers\n",
        "model_ft.fit(...)"
      ],
      "metadata": {
        "id": "HoWNTfMbqf25"
      },
      "execution_count": null,
      "outputs": []
    },
    {
      "cell_type": "markdown",
      "source": [
        "**Preform Fine Tuning**"
      ],
      "metadata": {
        "id": "cqhj0T_6QvDD"
      }
    },
    {
      "cell_type": "code",
      "source": [
        "# we train our model again (this time fine-tuning the top 2 inception blocks\n",
        "# alongside the top Dense layers\n",
        "epochs=2\n",
        "history = model_ft.fit(\n",
        "  train_ds, \n",
        "  validation_data=val_ds, \n",
        "  epochs=epochs\n",
        ")"
      ],
      "metadata": {
        "colab": {
          "base_uri": "https://localhost:8080/"
        },
        "id": "EiB8kYE9QtOn",
        "outputId": "b10f96ec-f3cd-49c8-ccb4-5cf434230ee3"
      },
      "execution_count": null,
      "outputs": [
        {
          "output_type": "stream",
          "name": "stdout",
          "text": [
            "Epoch 1/2\n",
            "34/34 [==============================] - 223s 6s/step - loss: 0.0482 - accuracy: 0.9841 - val_loss: 1.2837 - val_accuracy: 0.8195\n",
            "Epoch 2/2\n",
            "34/34 [==============================] - 216s 6s/step - loss: 0.0287 - accuracy: 0.9906 - val_loss: 1.2828 - val_accuracy: 0.8383\n"
          ]
        }
      ]
    },
    {
      "cell_type": "markdown",
      "source": [
        "<h1>Predict new Data<h1>"
      ],
      "metadata": {
        "id": "7jYwTkv1gaPu"
      }
    },
    {
      "cell_type": "code",
      "source": [
        "from tensorflow.python.tf2 import enabled\n",
        "\n",
        "im_pd = '/content/drive/MyDrive/ImageClassification/flower_photos/daisy/286875003_f7c0e1882d.jpg'\n",
        "im_ps = '/content/drive/MyDrive/ImageClassification/flower_photos/sunflowers/200557981_f800fa1af9.jpg'\n",
        "\n",
        "img = tf.keras.utils.load_img(\n",
        "    im_ps,\n",
        "    #color_mode = \"grayscale\", \n",
        "    target_size=(img_height, img_width),\n",
        ")\n",
        "img_array = tf.keras.utils.img_to_array(img)\n",
        "img_array = tf.expand_dims(img_array, 0) # Create a batch\n",
        "\n",
        "predictions = model_ft.predict(img_array)\n",
        "#score = tf.nn.softmax(predictions[0])\n",
        "\n",
        "print(predictions)\n",
        "if predictions>0.5:\n",
        "  print('image belongs to class sunflower')\n",
        "else:\n",
        "  print('image belongs to class daisy')"
      ],
      "metadata": {
        "id": "LMjcR3f4gjLN",
        "colab": {
          "base_uri": "https://localhost:8080/"
        },
        "outputId": "68491ebc-2698-468f-dfc8-fea2db8355c9"
      },
      "execution_count": null,
      "outputs": [
        {
          "output_type": "stream",
          "name": "stdout",
          "text": [
            "[[0.99999976]]\n",
            "image belongs to class sunflower\n"
          ]
        }
      ]
    },
    {
      "cell_type": "code",
      "source": [
        ""
      ],
      "metadata": {
        "id": "zW-TIitlgquy"
      },
      "execution_count": null,
      "outputs": []
    },
    {
      "cell_type": "code",
      "source": [
        ""
      ],
      "metadata": {
        "id": "o14AhMlLgqzN"
      },
      "execution_count": null,
      "outputs": []
    },
    {
      "cell_type": "code",
      "source": [
        ""
      ],
      "metadata": {
        "id": "EPSp9bfdgq3F"
      },
      "execution_count": null,
      "outputs": []
    }
  ]
}