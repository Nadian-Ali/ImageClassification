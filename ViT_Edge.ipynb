{
  "cells": [
    {
      "cell_type": "markdown",
      "metadata": {
        "id": "view-in-github",
        "colab_type": "text"
      },
      "source": [
        "<a href=\"https://colab.research.google.com/github/Nadian-Ali/ImageClassification/blob/main/ViT_Edge.ipynb\" target=\"_parent\"><img src=\"https://colab.research.google.com/assets/colab-badge.svg\" alt=\"Open In Colab\"/></a>"
      ]
    },
    {
      "cell_type": "markdown",
      "metadata": {
        "id": "i1ZPDbq_T1Ys"
      },
      "source": [
        "# Image classification with Vision Transformer\n",
        "\n",
        "The base model is implemetned by Khalid Salma\n",
        " \n",
        "**Author:** [Khalid Salama](https://www.linkedin.com/in/"
      ]
    },
    {
      "cell_type": "code",
      "source": [
        "from google.colab import drive\n",
        "drive.mount('/content/drive')"
      ],
      "metadata": {
        "colab": {
          "base_uri": "https://localhost:8080/"
        },
        "id": "f-hdD9eaZSir",
        "outputId": "b078bd07-43c8-4a07-e8f1-447e30e9e494"
      },
      "execution_count": 1,
      "outputs": [
        {
          "output_type": "stream",
          "name": "stdout",
          "text": [
            "Mounted at /content/drive\n"
          ]
        }
      ]
    },
    {
      "cell_type": "code",
      "source": [
        "!pip install -U tensorflow-addons"
      ],
      "metadata": {
        "colab": {
          "base_uri": "https://localhost:8080/"
        },
        "id": "B2yRZBNqUSgd",
        "outputId": "b40873ff-5a9d-490f-bb87-5759e38e1bcd"
      },
      "execution_count": 2,
      "outputs": [
        {
          "output_type": "stream",
          "name": "stdout",
          "text": [
            "Collecting tensorflow-addons\n",
            "  Downloading tensorflow_addons-0.15.0-cp37-cp37m-manylinux_2_12_x86_64.manylinux2010_x86_64.whl (1.1 MB)\n",
            "\u001b[?25l\r\u001b[K     |▎                               | 10 kB 20.3 MB/s eta 0:00:01\r\u001b[K     |▋                               | 20 kB 26.4 MB/s eta 0:00:01\r\u001b[K     |▉                               | 30 kB 31.9 MB/s eta 0:00:01\r\u001b[K     |█▏                              | 40 kB 34.3 MB/s eta 0:00:01\r\u001b[K     |█▌                              | 51 kB 36.6 MB/s eta 0:00:01\r\u001b[K     |█▊                              | 61 kB 27.9 MB/s eta 0:00:01\r\u001b[K     |██                              | 71 kB 22.8 MB/s eta 0:00:01\r\u001b[K     |██▍                             | 81 kB 24.1 MB/s eta 0:00:01\r\u001b[K     |██▋                             | 92 kB 21.8 MB/s eta 0:00:01\r\u001b[K     |███                             | 102 kB 23.0 MB/s eta 0:00:01\r\u001b[K     |███▎                            | 112 kB 23.0 MB/s eta 0:00:01\r\u001b[K     |███▌                            | 122 kB 23.0 MB/s eta 0:00:01\r\u001b[K     |███▉                            | 133 kB 23.0 MB/s eta 0:00:01\r\u001b[K     |████▏                           | 143 kB 23.0 MB/s eta 0:00:01\r\u001b[K     |████▍                           | 153 kB 23.0 MB/s eta 0:00:01\r\u001b[K     |████▊                           | 163 kB 23.0 MB/s eta 0:00:01\r\u001b[K     |█████                           | 174 kB 23.0 MB/s eta 0:00:01\r\u001b[K     |█████▎                          | 184 kB 23.0 MB/s eta 0:00:01\r\u001b[K     |█████▋                          | 194 kB 23.0 MB/s eta 0:00:01\r\u001b[K     |█████▉                          | 204 kB 23.0 MB/s eta 0:00:01\r\u001b[K     |██████▏                         | 215 kB 23.0 MB/s eta 0:00:01\r\u001b[K     |██████▌                         | 225 kB 23.0 MB/s eta 0:00:01\r\u001b[K     |██████▊                         | 235 kB 23.0 MB/s eta 0:00:01\r\u001b[K     |███████                         | 245 kB 23.0 MB/s eta 0:00:01\r\u001b[K     |███████▍                        | 256 kB 23.0 MB/s eta 0:00:01\r\u001b[K     |███████▋                        | 266 kB 23.0 MB/s eta 0:00:01\r\u001b[K     |████████                        | 276 kB 23.0 MB/s eta 0:00:01\r\u001b[K     |████████▎                       | 286 kB 23.0 MB/s eta 0:00:01\r\u001b[K     |████████▌                       | 296 kB 23.0 MB/s eta 0:00:01\r\u001b[K     |████████▉                       | 307 kB 23.0 MB/s eta 0:00:01\r\u001b[K     |█████████                       | 317 kB 23.0 MB/s eta 0:00:01\r\u001b[K     |█████████▍                      | 327 kB 23.0 MB/s eta 0:00:01\r\u001b[K     |█████████▊                      | 337 kB 23.0 MB/s eta 0:00:01\r\u001b[K     |██████████                      | 348 kB 23.0 MB/s eta 0:00:01\r\u001b[K     |██████████▎                     | 358 kB 23.0 MB/s eta 0:00:01\r\u001b[K     |██████████▋                     | 368 kB 23.0 MB/s eta 0:00:01\r\u001b[K     |██████████▉                     | 378 kB 23.0 MB/s eta 0:00:01\r\u001b[K     |███████████▏                    | 389 kB 23.0 MB/s eta 0:00:01\r\u001b[K     |███████████▌                    | 399 kB 23.0 MB/s eta 0:00:01\r\u001b[K     |███████████▊                    | 409 kB 23.0 MB/s eta 0:00:01\r\u001b[K     |████████████                    | 419 kB 23.0 MB/s eta 0:00:01\r\u001b[K     |████████████▍                   | 430 kB 23.0 MB/s eta 0:00:01\r\u001b[K     |████████████▋                   | 440 kB 23.0 MB/s eta 0:00:01\r\u001b[K     |█████████████                   | 450 kB 23.0 MB/s eta 0:00:01\r\u001b[K     |█████████████▎                  | 460 kB 23.0 MB/s eta 0:00:01\r\u001b[K     |█████████████▌                  | 471 kB 23.0 MB/s eta 0:00:01\r\u001b[K     |█████████████▉                  | 481 kB 23.0 MB/s eta 0:00:01\r\u001b[K     |██████████████                  | 491 kB 23.0 MB/s eta 0:00:01\r\u001b[K     |██████████████▍                 | 501 kB 23.0 MB/s eta 0:00:01\r\u001b[K     |██████████████▊                 | 512 kB 23.0 MB/s eta 0:00:01\r\u001b[K     |███████████████                 | 522 kB 23.0 MB/s eta 0:00:01\r\u001b[K     |███████████████▎                | 532 kB 23.0 MB/s eta 0:00:01\r\u001b[K     |███████████████▋                | 542 kB 23.0 MB/s eta 0:00:01\r\u001b[K     |███████████████▉                | 552 kB 23.0 MB/s eta 0:00:01\r\u001b[K     |████████████████▏               | 563 kB 23.0 MB/s eta 0:00:01\r\u001b[K     |████████████████▌               | 573 kB 23.0 MB/s eta 0:00:01\r\u001b[K     |████████████████▊               | 583 kB 23.0 MB/s eta 0:00:01\r\u001b[K     |█████████████████               | 593 kB 23.0 MB/s eta 0:00:01\r\u001b[K     |█████████████████▍              | 604 kB 23.0 MB/s eta 0:00:01\r\u001b[K     |█████████████████▋              | 614 kB 23.0 MB/s eta 0:00:01\r\u001b[K     |██████████████████              | 624 kB 23.0 MB/s eta 0:00:01\r\u001b[K     |██████████████████▏             | 634 kB 23.0 MB/s eta 0:00:01\r\u001b[K     |██████████████████▌             | 645 kB 23.0 MB/s eta 0:00:01\r\u001b[K     |██████████████████▉             | 655 kB 23.0 MB/s eta 0:00:01\r\u001b[K     |███████████████████             | 665 kB 23.0 MB/s eta 0:00:01\r\u001b[K     |███████████████████▍            | 675 kB 23.0 MB/s eta 0:00:01\r\u001b[K     |███████████████████▊            | 686 kB 23.0 MB/s eta 0:00:01\r\u001b[K     |████████████████████            | 696 kB 23.0 MB/s eta 0:00:01\r\u001b[K     |████████████████████▎           | 706 kB 23.0 MB/s eta 0:00:01\r\u001b[K     |████████████████████▋           | 716 kB 23.0 MB/s eta 0:00:01\r\u001b[K     |████████████████████▉           | 727 kB 23.0 MB/s eta 0:00:01\r\u001b[K     |█████████████████████▏          | 737 kB 23.0 MB/s eta 0:00:01\r\u001b[K     |█████████████████████▌          | 747 kB 23.0 MB/s eta 0:00:01\r\u001b[K     |█████████████████████▊          | 757 kB 23.0 MB/s eta 0:00:01\r\u001b[K     |██████████████████████          | 768 kB 23.0 MB/s eta 0:00:01\r\u001b[K     |██████████████████████▎         | 778 kB 23.0 MB/s eta 0:00:01\r\u001b[K     |██████████████████████▋         | 788 kB 23.0 MB/s eta 0:00:01\r\u001b[K     |███████████████████████         | 798 kB 23.0 MB/s eta 0:00:01\r\u001b[K     |███████████████████████▏        | 808 kB 23.0 MB/s eta 0:00:01\r\u001b[K     |███████████████████████▌        | 819 kB 23.0 MB/s eta 0:00:01\r\u001b[K     |███████████████████████▉        | 829 kB 23.0 MB/s eta 0:00:01\r\u001b[K     |████████████████████████        | 839 kB 23.0 MB/s eta 0:00:01\r\u001b[K     |████████████████████████▍       | 849 kB 23.0 MB/s eta 0:00:01\r\u001b[K     |████████████████████████▊       | 860 kB 23.0 MB/s eta 0:00:01\r\u001b[K     |█████████████████████████       | 870 kB 23.0 MB/s eta 0:00:01\r\u001b[K     |█████████████████████████▎      | 880 kB 23.0 MB/s eta 0:00:01\r\u001b[K     |█████████████████████████▋      | 890 kB 23.0 MB/s eta 0:00:01\r\u001b[K     |█████████████████████████▉      | 901 kB 23.0 MB/s eta 0:00:01\r\u001b[K     |██████████████████████████▏     | 911 kB 23.0 MB/s eta 0:00:01\r\u001b[K     |██████████████████████████▌     | 921 kB 23.0 MB/s eta 0:00:01\r\u001b[K     |██████████████████████████▊     | 931 kB 23.0 MB/s eta 0:00:01\r\u001b[K     |███████████████████████████     | 942 kB 23.0 MB/s eta 0:00:01\r\u001b[K     |███████████████████████████▎    | 952 kB 23.0 MB/s eta 0:00:01\r\u001b[K     |███████████████████████████▋    | 962 kB 23.0 MB/s eta 0:00:01\r\u001b[K     |████████████████████████████    | 972 kB 23.0 MB/s eta 0:00:01\r\u001b[K     |████████████████████████████▏   | 983 kB 23.0 MB/s eta 0:00:01\r\u001b[K     |████████████████████████████▌   | 993 kB 23.0 MB/s eta 0:00:01\r\u001b[K     |████████████████████████████▉   | 1.0 MB 23.0 MB/s eta 0:00:01\r\u001b[K     |█████████████████████████████   | 1.0 MB 23.0 MB/s eta 0:00:01\r\u001b[K     |█████████████████████████████▍  | 1.0 MB 23.0 MB/s eta 0:00:01\r\u001b[K     |█████████████████████████████▊  | 1.0 MB 23.0 MB/s eta 0:00:01\r\u001b[K     |██████████████████████████████  | 1.0 MB 23.0 MB/s eta 0:00:01\r\u001b[K     |██████████████████████████████▎ | 1.1 MB 23.0 MB/s eta 0:00:01\r\u001b[K     |██████████████████████████████▋ | 1.1 MB 23.0 MB/s eta 0:00:01\r\u001b[K     |██████████████████████████████▉ | 1.1 MB 23.0 MB/s eta 0:00:01\r\u001b[K     |███████████████████████████████▏| 1.1 MB 23.0 MB/s eta 0:00:01\r\u001b[K     |███████████████████████████████▍| 1.1 MB 23.0 MB/s eta 0:00:01\r\u001b[K     |███████████████████████████████▊| 1.1 MB 23.0 MB/s eta 0:00:01\r\u001b[K     |████████████████████████████████| 1.1 MB 23.0 MB/s \n",
            "\u001b[?25hRequirement already satisfied: typeguard>=2.7 in /usr/local/lib/python3.7/dist-packages (from tensorflow-addons) (2.7.1)\n",
            "Installing collected packages: tensorflow-addons\n",
            "Successfully installed tensorflow-addons-0.15.0\n"
          ]
        }
      ]
    },
    {
      "cell_type": "markdown",
      "metadata": {
        "id": "30c33e5qT1Yy"
      },
      "source": [
        "## Setup"
      ]
    },
    {
      "cell_type": "code",
      "execution_count": 3,
      "metadata": {
        "id": "Pj2cyuW_T1Yy"
      },
      "outputs": [],
      "source": [
        "import numpy as np\n",
        "import tensorflow as tf\n",
        "from tensorflow import keras\n",
        "from tensorflow.keras import layers\n",
        "import tensorflow_addons as tfa"
      ]
    },
    {
      "cell_type": "markdown",
      "metadata": {
        "id": "dUa8L6R-T1Y0"
      },
      "source": [
        "## Prepare the data"
      ]
    },
    {
      "cell_type": "code",
      "source": [
        "data_dir = '/content/drive/MyDrive/ImageClassificationData/DataEdge'"
      ],
      "metadata": {
        "id": "GRHAyb5AZ8O0"
      },
      "execution_count": 4,
      "outputs": []
    },
    {
      "cell_type": "code",
      "source": [
        "batch_size = 16\n",
        "img_height = 256\n",
        "img_width = 256\n",
        "input_shape = (img_height,img_width,3)"
      ],
      "metadata": {
        "id": "q09UhKw7aRFZ"
      },
      "execution_count": 45,
      "outputs": []
    },
    {
      "cell_type": "code",
      "source": [
        "from keras.preprocessing import image"
      ],
      "metadata": {
        "id": "3lqRJlKN17bU"
      },
      "execution_count": 6,
      "outputs": []
    },
    {
      "cell_type": "code",
      "source": [
        "train_ds = tf.keras.utils.image_dataset_from_directory(\n",
        "  data_dir,\n",
        "  validation_split=0.2,\n",
        "  #color_mode = \"grayscale\",\n",
        "  subset=\"training\",\n",
        "  seed=123,\n",
        "  image_size=(img_height, img_width),\n",
        "  batch_size=batch_size)"
      ],
      "metadata": {
        "colab": {
          "base_uri": "https://localhost:8080/"
        },
        "id": "ucIc6FXTaRLd",
        "outputId": "23b48194-be75-4493-f767-9b0723936082"
      },
      "execution_count": 7,
      "outputs": [
        {
          "output_type": "stream",
          "name": "stdout",
          "text": [
            "Found 190 files belonging to 2 classes.\n",
            "Using 152 files for training.\n"
          ]
        }
      ]
    },
    {
      "cell_type": "code",
      "source": [
        ""
      ],
      "metadata": {
        "id": "CpUBf2_Uk4cj"
      },
      "execution_count": null,
      "outputs": []
    },
    {
      "cell_type": "code",
      "source": [
        "val_ds = tf.keras.utils.image_dataset_from_directory(\n",
        "  data_dir,\n",
        "  validation_split=0.2,\n",
        "  subset=\"validation\",\n",
        "  #color_mode = \"grayscale\",\n",
        "  seed=123,\n",
        "  image_size=(img_height, img_width),\n",
        "  batch_size=batch_size)"
      ],
      "metadata": {
        "colab": {
          "base_uri": "https://localhost:8080/"
        },
        "id": "3kHnh5Fmk4iN",
        "outputId": "0354ae4a-23c2-4437-b6ed-aa6e03463d12"
      },
      "execution_count": 8,
      "outputs": [
        {
          "output_type": "stream",
          "name": "stdout",
          "text": [
            "Found 190 files belonging to 2 classes.\n",
            "Using 38 files for validation.\n"
          ]
        }
      ]
    },
    {
      "cell_type": "code",
      "source": [
        "class_names = train_ds.class_names\n",
        "num_classes = len(class_names)"
      ],
      "metadata": {
        "id": "bBH7Q6c2k72q"
      },
      "execution_count": 9,
      "outputs": []
    },
    {
      "cell_type": "code",
      "source": [
        "print(class_names)"
      ],
      "metadata": {
        "id": "NI6SOgq3k76B",
        "colab": {
          "base_uri": "https://localhost:8080/"
        },
        "outputId": "85d4a1fd-e841-4a29-83c6-d133bd2ef040"
      },
      "execution_count": 10,
      "outputs": [
        {
          "output_type": "stream",
          "name": "stdout",
          "text": [
            "['AP', 'Lateral']\n"
          ]
        }
      ]
    },
    {
      "cell_type": "code",
      "source": [
        ""
      ],
      "metadata": {
        "id": "nnJseamHk79f"
      },
      "execution_count": null,
      "outputs": []
    },
    {
      "cell_type": "code",
      "source": [
        ""
      ],
      "metadata": {
        "id": "Cg7ykXDGk8BD"
      },
      "execution_count": null,
      "outputs": []
    },
    {
      "cell_type": "code",
      "execution_count": null,
      "metadata": {
        "id": "4beZddopT1Y0"
      },
      "outputs": [],
      "source": [
        ""
      ]
    },
    {
      "cell_type": "markdown",
      "metadata": {
        "id": "LmWUtCjoT1Y1"
      },
      "source": [
        "## Configure the hyperparameters"
      ]
    },
    {
      "cell_type": "code",
      "execution_count": 11,
      "metadata": {
        "id": "-9iyUF20T1Y2"
      },
      "outputs": [],
      "source": [
        "learning_rate = 0.001 #was 0.001\n",
        "weight_decay = 0.0001\n",
        "batch_size = 32\n",
        "num_epochs = 150\n",
        "image_size = 128  # We'll resize input images to this size\n",
        "patch_size = 32  # Size of the patches to be extract from the input images\n",
        "num_patches = (image_size // patch_size) ** 2\n",
        "projection_dim = 64\n",
        "num_heads = 2\n",
        "transformer_units = [\n",
        "    projection_dim * 2,\n",
        "    projection_dim,\n",
        "]  # Size of the transformer layers\n",
        "transformer_layers = 8\n",
        "mlp_head_units = [2048, 1024]  # Size of the dense layers of the final classifier\n"
      ]
    },
    {
      "cell_type": "code",
      "source": [
        "num_patches"
      ],
      "metadata": {
        "colab": {
          "base_uri": "https://localhost:8080/"
        },
        "id": "jFmOfa-9jm3s",
        "outputId": "016893db-c108-4259-f1e3-fec0704bad78"
      },
      "execution_count": null,
      "outputs": [
        {
          "output_type": "execute_result",
          "data": {
            "text/plain": [
              "16"
            ]
          },
          "metadata": {},
          "execution_count": 15
        }
      ]
    },
    {
      "cell_type": "markdown",
      "metadata": {
        "id": "Nj1NnqYET1Y3"
      },
      "source": [
        "## Use data augmentation"
      ]
    },
    {
      "cell_type": "code",
      "execution_count": 12,
      "metadata": {
        "id": "JEp9xbTKT1Y4"
      },
      "outputs": [],
      "source": [
        "data_augmentation = keras.Sequential(\n",
        "    [\n",
        "        layers.Normalization(),\n",
        "        layers.Resizing(image_size, image_size),\n",
        "        layers.RandomFlip(\"horizontal\"),\n",
        "        #layers.RandomRotation(factor=0.02),\n",
        "        layers.RandomZoom(\n",
        "            height_factor=0.2, width_factor=0.2\n",
        "        ),\n",
        "    ],\n",
        "    name=\"data_augmentation\",\n",
        ")\n",
        "\n"
      ]
    },
    {
      "cell_type": "markdown",
      "metadata": {
        "id": "GKCDVSiGT1Y5"
      },
      "source": [
        "## Implement multilayer perceptron (MLP)"
      ]
    },
    {
      "cell_type": "code",
      "execution_count": 13,
      "metadata": {
        "id": "0zpN3t6cT1Y5"
      },
      "outputs": [],
      "source": [
        "\n",
        "def mlp(x, hidden_units, dropout_rate):\n",
        "    for units in hidden_units:\n",
        "        x = layers.Dense(units, activation=tf.nn.gelu)(x)\n",
        "        x = layers.Dropout(dropout_rate)(x)\n",
        "    return x\n"
      ]
    },
    {
      "cell_type": "markdown",
      "metadata": {
        "id": "cPwd0GhQT1Y5"
      },
      "source": [
        "## Implement patch creation as a layer"
      ]
    },
    {
      "cell_type": "code",
      "execution_count": 14,
      "metadata": {
        "id": "ipg__SPWT1Y6"
      },
      "outputs": [],
      "source": [
        "\n",
        "class Patches(layers.Layer):\n",
        "    def __init__(self, patch_size):\n",
        "        super(Patches, self).__init__()\n",
        "        self.patch_size = patch_size\n",
        "\n",
        "    def call(self, images):\n",
        "        batch_size = tf.shape(images)[0]\n",
        "        patches = tf.image.extract_patches(\n",
        "            images=images,\n",
        "            sizes=[1, self.patch_size, self.patch_size, 1],\n",
        "            strides=[1, self.patch_size, self.patch_size, 1],\n",
        "            rates=[1, 1, 1, 1],\n",
        "            padding=\"VALID\",\n",
        "        )\n",
        "        patch_dims = patches.shape[-1]\n",
        "        patches = tf.reshape(patches, [batch_size, -1, patch_dims])\n",
        "        return patches\n"
      ]
    },
    {
      "cell_type": "markdown",
      "metadata": {
        "id": "AzoVtBA6T1Y9"
      },
      "source": [
        "Let's display patches for a sample image"
      ]
    },
    {
      "cell_type": "code",
      "execution_count": null,
      "metadata": {
        "id": "qJC2yvJBT1Y_",
        "cellView": "form"
      },
      "outputs": [],
      "source": [
        "#@title visualize patches \n",
        "import matplotlib.pyplot as plt\n",
        "\n",
        "plt.figure(figsize=(4, 4))\n",
        "image = x_train[np.random.choice(range(x_train.shape[0]))]\n",
        "plt.imshow(image.astype(\"uint8\"))\n",
        "plt.axis(\"off\")\n",
        "\n",
        "resized_image = tf.image.resize(\n",
        "    tf.convert_to_tensor([image]), size=(image_size, image_size)\n",
        ")\n",
        "patches = Patches(patch_size)(resized_image)\n",
        "print(f\"Image size: {image_size} X {image_size}\")\n",
        "print(f\"Patch size: {patch_size} X {patch_size}\")\n",
        "print(f\"Patches per image: {patches.shape[1]}\")\n",
        "print(f\"Elements per patch: {patches.shape[-1]}\")\n",
        "\n",
        "n = int(np.sqrt(patches.shape[1]))\n",
        "plt.figure(figsize=(4, 4))\n",
        "for i, patch in enumerate(patches[0]):\n",
        "    ax = plt.subplot(n, n, i + 1)\n",
        "    patch_img = tf.reshape(patch, (patch_size, patch_size, 3))\n",
        "    plt.imshow(patch_img.numpy().astype(\"uint8\"))\n",
        "    plt.axis(\"off\")"
      ]
    },
    {
      "cell_type": "markdown",
      "metadata": {
        "id": "qGJ-FZ1bT1ZB"
      },
      "source": [
        "## Implement the patch encoding layer\n",
        "\n"
      ]
    },
    {
      "cell_type": "code",
      "execution_count": 15,
      "metadata": {
        "id": "adui-zEbT1ZC"
      },
      "outputs": [],
      "source": [
        "\n",
        "class PatchEncoder(layers.Layer):\n",
        "    def __init__(self, num_patches, projection_dim):\n",
        "        super(PatchEncoder, self).__init__()\n",
        "        self.num_patches = num_patches\n",
        "        self.projection = layers.Dense(units=projection_dim)\n",
        "        self.position_embedding = layers.Embedding(\n",
        "            input_dim=num_patches, output_dim=projection_dim\n",
        "        )\n",
        "\n",
        "    def call(self, patch):\n",
        "        positions = tf.range(start=0, limit=self.num_patches, delta=1)\n",
        "        encoded = self.projection(patch) + self.position_embedding(positions)\n",
        "        return encoded\n"
      ]
    },
    {
      "cell_type": "markdown",
      "metadata": {
        "id": "sSU9e_VFT1ZD"
      },
      "source": [
        "## Build the ViT model\n",
        "\n"
      ]
    },
    {
      "cell_type": "code",
      "execution_count": 16,
      "metadata": {
        "id": "V8VCy_gDT1ZD"
      },
      "outputs": [],
      "source": [
        "\n",
        "def create_vit_classifier():\n",
        "    inputs = layers.Input(shape=input_shape)\n",
        "    # Augment data.\n",
        "    augmented = data_augmentation(inputs)\n",
        "    # Create patches.\n",
        "    patches = Patches(patch_size)(augmented)\n",
        "    # Encode patches.\n",
        "    encoded_patches = PatchEncoder(num_patches, projection_dim)(patches)\n",
        "\n",
        "    # Create multiple layers of the Transformer block.\n",
        "    for _ in range(transformer_layers):\n",
        "        # Layer normalization 1.\n",
        "        x1 = layers.LayerNormalization(epsilon=1e-6)(encoded_patches)\n",
        "        # Create a multi-head attention layer.\n",
        "        attention_output = layers.MultiHeadAttention(\n",
        "            num_heads=num_heads, key_dim=projection_dim, dropout=0.1\n",
        "        )(x1, x1)\n",
        "        # Skip connection 1.\n",
        "        x2 = layers.Add()([attention_output, encoded_patches])\n",
        "        # Layer normalization 2.\n",
        "        x3 = layers.LayerNormalization(epsilon=1e-6)(x2)\n",
        "        # MLP.\n",
        "        x3 = mlp(x3, hidden_units=transformer_units, dropout_rate=0.1)\n",
        "        # Skip connection 2.\n",
        "        encoded_patches = layers.Add()([x3, x2])\n",
        "\n",
        "    # Create a [batch_size, projection_dim] tensor.\n",
        "    representation = layers.LayerNormalization(epsilon=1e-6)(encoded_patches)\n",
        "    representation = layers.Flatten()(representation)\n",
        "    representation = layers.Dropout(0.5)(representation)\n",
        "    # Add MLP.\n",
        "    features = mlp(representation, hidden_units=mlp_head_units, dropout_rate=0.5)\n",
        "    # Classify outputs.\n",
        "    logits = layers.Dense(1,activation = 'sigmoid')(features)\n",
        "    # Create the Keras model.\n",
        "    model = keras.Model(inputs=inputs, outputs=logits)\n",
        "    return model\n"
      ]
    },
    {
      "cell_type": "markdown",
      "metadata": {
        "id": "2kCbtuokT1ZE"
      },
      "source": [
        "## Compile, train, and evaluate the mode"
      ]
    },
    {
      "cell_type": "code",
      "source": [
        "optimizer = tfa.optimizers.AdamW(\n",
        "        learning_rate=learning_rate, weight_decay=weight_decay\n",
        "    )\n",
        "\n"
      ],
      "metadata": {
        "id": "ccu2ewvsWNJl"
      },
      "execution_count": 17,
      "outputs": []
    },
    {
      "cell_type": "code",
      "source": [
        "vit_classifier = create_vit_classifier()\n",
        "\n",
        "vit_classifier.compile(\n",
        "        optimizer=optimizer,\n",
        "        loss=keras.losses.BinaryCrossentropy(from_logits=False),\n",
        "        metrics=['accuracy']\n",
        "            #keras.metrics.BinaryCrossentropy(name=\"accuracy\"),\n",
        "#            keras.metrics.SparseTopKCategoricalAccuracy(5, name=\"top-5-accuracy\"),\n",
        "        #],\n",
        "    )"
      ],
      "metadata": {
        "id": "Zhn0Pl3tWOhJ"
      },
      "execution_count": 18,
      "outputs": []
    },
    {
      "cell_type": "code",
      "source": [
        "%cd drive/My Drive/ImageClassificationData"
      ],
      "metadata": {
        "id": "JuPNpiYKP6Kb",
        "outputId": "bdc2a460-c653-4c21-f1f1-521cc2a8e034",
        "colab": {
          "base_uri": "https://localhost:8080/"
        }
      },
      "execution_count": 19,
      "outputs": [
        {
          "output_type": "stream",
          "name": "stdout",
          "text": [
            "/content/drive/My Drive/ImageClassificationData\n"
          ]
        }
      ]
    },
    {
      "cell_type": "code",
      "source": [
        ""
      ],
      "metadata": {
        "id": "l2RZrujePGFR"
      },
      "execution_count": null,
      "outputs": []
    },
    {
      "cell_type": "code",
      "source": [
        ""
      ],
      "metadata": {
        "id": "NdmmyvuhP5Xi"
      },
      "execution_count": null,
      "outputs": []
    },
    {
      "cell_type": "code",
      "source": [
        "checkpoint_filepath = '/content/drive/MyDrive/ImageClassificationData/EdgeCheckpoint/checkpoint'\n",
        "checkpoint_callback = tf.keras.callbacks.ModelCheckpoint(\n",
        "    filepath=checkpoint_filepath,\n",
        "    save_weights_only=True,\n",
        "    monitor='val_loss',\n",
        "    mode='min',\n",
        "    save_best_only=True)\n",
        "\n"
      ],
      "metadata": {
        "id": "QhJAJZoUoTLx"
      },
      "execution_count": 20,
      "outputs": []
    },
    {
      "cell_type": "code",
      "source": [
        "weight_for_0 = 190/(2*107)\n",
        "weight_for_1 = 190/(2*83)\n",
        "print(weight_for_0)\n",
        "print(weight_for_1)\n",
        "class_weight = {0: weight_for_0, 1: weight_for_1}"
      ],
      "metadata": {
        "id": "dGG7Z3UEWWNi",
        "outputId": "d997d8fb-1637-466b-f1e2-251982b1115c",
        "colab": {
          "base_uri": "https://localhost:8080/"
        }
      },
      "execution_count": 21,
      "outputs": [
        {
          "output_type": "stream",
          "name": "stdout",
          "text": [
            "0.8878504672897196\n",
            "1.144578313253012\n"
          ]
        }
      ]
    },
    {
      "cell_type": "code",
      "source": [
        "\n",
        "\n",
        "\n",
        "history = vit_classifier.fit(\n",
        "        x=train_ds,\n",
        "        #y=val_ds,\n",
        "        #batch_size=batch_size,\n",
        "        validation_data=val_ds,\n",
        "        epochs=num_epochs,\n",
        "      #  validation_split=0.1,\n",
        "        callbacks=[checkpoint_callback],\n",
        "        class_weight = class_weight,\n",
        "        #batch_size = 16,\n",
        "    )"
      ],
      "metadata": {
        "colab": {
          "base_uri": "https://localhost:8080/"
        },
        "id": "0zYfvovhWOoW",
        "outputId": "0224c8e1-e09c-4c79-8f37-6e4fd8b37f50"
      },
      "execution_count": 22,
      "outputs": [
        {
          "output_type": "stream",
          "name": "stdout",
          "text": [
            "Epoch 1/150\n",
            "10/10 [==============================] - 31s 724ms/step - loss: 1.2074 - accuracy: 0.5263 - val_loss: 2.0139 - val_accuracy: 0.5789\n",
            "Epoch 2/150\n",
            "10/10 [==============================] - 2s 217ms/step - loss: 1.7558 - accuracy: 0.4868 - val_loss: 1.2078 - val_accuracy: 0.5789\n",
            "Epoch 3/150\n",
            "10/10 [==============================] - 3s 266ms/step - loss: 1.8102 - accuracy: 0.5526 - val_loss: 0.9618 - val_accuracy: 0.5789\n",
            "Epoch 4/150\n",
            "10/10 [==============================] - 2s 216ms/step - loss: 0.8992 - accuracy: 0.6250 - val_loss: 0.4022 - val_accuracy: 0.8421\n",
            "Epoch 5/150\n",
            "10/10 [==============================] - 2s 173ms/step - loss: 1.0271 - accuracy: 0.5987 - val_loss: 0.6807 - val_accuracy: 0.6316\n",
            "Epoch 6/150\n",
            "10/10 [==============================] - 2s 175ms/step - loss: 1.0216 - accuracy: 0.6184 - val_loss: 0.5830 - val_accuracy: 0.6316\n",
            "Epoch 7/150\n",
            "10/10 [==============================] - 2s 180ms/step - loss: 0.7115 - accuracy: 0.7171 - val_loss: 0.5780 - val_accuracy: 0.5526\n",
            "Epoch 8/150\n",
            "10/10 [==============================] - 2s 213ms/step - loss: 0.5542 - accuracy: 0.7368 - val_loss: 0.3104 - val_accuracy: 0.8421\n",
            "Epoch 9/150\n",
            "10/10 [==============================] - 3s 261ms/step - loss: 0.5048 - accuracy: 0.7632 - val_loss: 0.2513 - val_accuracy: 1.0000\n",
            "Epoch 10/150\n",
            "10/10 [==============================] - 2s 215ms/step - loss: 0.5120 - accuracy: 0.7763 - val_loss: 0.2085 - val_accuracy: 0.9737\n",
            "Epoch 11/150\n",
            "10/10 [==============================] - 2s 175ms/step - loss: 0.4589 - accuracy: 0.8158 - val_loss: 0.4080 - val_accuracy: 0.7632\n",
            "Epoch 12/150\n",
            "10/10 [==============================] - 2s 176ms/step - loss: 0.3665 - accuracy: 0.8092 - val_loss: 0.2290 - val_accuracy: 0.9211\n",
            "Epoch 13/150\n",
            "10/10 [==============================] - 2s 210ms/step - loss: 0.5080 - accuracy: 0.7895 - val_loss: 0.1751 - val_accuracy: 0.9474\n",
            "Epoch 14/150\n",
            "10/10 [==============================] - 2s 175ms/step - loss: 0.4677 - accuracy: 0.8289 - val_loss: 0.3698 - val_accuracy: 0.8158\n",
            "Epoch 15/150\n",
            "10/10 [==============================] - 2s 173ms/step - loss: 0.4301 - accuracy: 0.8487 - val_loss: 0.1962 - val_accuracy: 0.9474\n",
            "Epoch 16/150\n",
            "10/10 [==============================] - 2s 215ms/step - loss: 0.4333 - accuracy: 0.8158 - val_loss: 0.1750 - val_accuracy: 0.9737\n",
            "Epoch 17/150\n",
            "10/10 [==============================] - 2s 176ms/step - loss: 0.4730 - accuracy: 0.7961 - val_loss: 0.2372 - val_accuracy: 0.9474\n",
            "Epoch 18/150\n",
            "10/10 [==============================] - 2s 172ms/step - loss: 0.3729 - accuracy: 0.8421 - val_loss: 0.1821 - val_accuracy: 1.0000\n",
            "Epoch 19/150\n",
            "10/10 [==============================] - 2s 175ms/step - loss: 0.3950 - accuracy: 0.8750 - val_loss: 0.2381 - val_accuracy: 0.8684\n",
            "Epoch 20/150\n",
            "10/10 [==============================] - 2s 173ms/step - loss: 0.3387 - accuracy: 0.8684 - val_loss: 0.3183 - val_accuracy: 0.8421\n",
            "Epoch 21/150\n",
            "10/10 [==============================] - 2s 181ms/step - loss: 0.4061 - accuracy: 0.8289 - val_loss: 0.1841 - val_accuracy: 0.9737\n",
            "Epoch 22/150\n",
            "10/10 [==============================] - 2s 172ms/step - loss: 0.3995 - accuracy: 0.8026 - val_loss: 0.1762 - val_accuracy: 1.0000\n",
            "Epoch 23/150\n",
            "10/10 [==============================] - 2s 173ms/step - loss: 0.3748 - accuracy: 0.8553 - val_loss: 0.1793 - val_accuracy: 0.9211\n",
            "Epoch 24/150\n",
            "10/10 [==============================] - 2s 175ms/step - loss: 0.3614 - accuracy: 0.8355 - val_loss: 0.2195 - val_accuracy: 0.9474\n",
            "Epoch 25/150\n",
            "10/10 [==============================] - 2s 213ms/step - loss: 0.3769 - accuracy: 0.8487 - val_loss: 0.1625 - val_accuracy: 0.9737\n",
            "Epoch 26/150\n",
            "10/10 [==============================] - 2s 174ms/step - loss: 0.3556 - accuracy: 0.8684 - val_loss: 0.1630 - val_accuracy: 0.9737\n",
            "Epoch 27/150\n",
            "10/10 [==============================] - 2s 173ms/step - loss: 0.3104 - accuracy: 0.8816 - val_loss: 0.2705 - val_accuracy: 0.8684\n",
            "Epoch 28/150\n",
            "10/10 [==============================] - 2s 215ms/step - loss: 0.3278 - accuracy: 0.8816 - val_loss: 0.1323 - val_accuracy: 0.9737\n",
            "Epoch 29/150\n",
            "10/10 [==============================] - 2s 176ms/step - loss: 0.4433 - accuracy: 0.7961 - val_loss: 0.2245 - val_accuracy: 0.8684\n",
            "Epoch 30/150\n",
            "10/10 [==============================] - 2s 178ms/step - loss: 0.3973 - accuracy: 0.8355 - val_loss: 0.1704 - val_accuracy: 0.9737\n",
            "Epoch 31/150\n",
            "10/10 [==============================] - 2s 175ms/step - loss: 0.2648 - accuracy: 0.9079 - val_loss: 0.1799 - val_accuracy: 0.9474\n",
            "Epoch 32/150\n",
            "10/10 [==============================] - 3s 231ms/step - loss: 0.2754 - accuracy: 0.8684 - val_loss: 0.0930 - val_accuracy: 1.0000\n",
            "Epoch 33/150\n",
            "10/10 [==============================] - 2s 218ms/step - loss: 0.2586 - accuracy: 0.9211 - val_loss: 0.0891 - val_accuracy: 1.0000\n",
            "Epoch 34/150\n",
            "10/10 [==============================] - 2s 218ms/step - loss: 0.2649 - accuracy: 0.8947 - val_loss: 0.0643 - val_accuracy: 1.0000\n",
            "Epoch 35/150\n",
            "10/10 [==============================] - 2s 173ms/step - loss: 0.2765 - accuracy: 0.8816 - val_loss: 0.1394 - val_accuracy: 0.9737\n",
            "Epoch 36/150\n",
            "10/10 [==============================] - 2s 179ms/step - loss: 0.2403 - accuracy: 0.9079 - val_loss: 0.0901 - val_accuracy: 1.0000\n",
            "Epoch 37/150\n",
            "10/10 [==============================] - 2s 172ms/step - loss: 0.3466 - accuracy: 0.8750 - val_loss: 0.1202 - val_accuracy: 1.0000\n",
            "Epoch 38/150\n",
            "10/10 [==============================] - 2s 176ms/step - loss: 0.2178 - accuracy: 0.9211 - val_loss: 0.0801 - val_accuracy: 0.9737\n",
            "Epoch 39/150\n",
            "10/10 [==============================] - 3s 211ms/step - loss: 0.2418 - accuracy: 0.9013 - val_loss: 0.0624 - val_accuracy: 1.0000\n",
            "Epoch 40/150\n",
            "10/10 [==============================] - 2s 173ms/step - loss: 0.1806 - accuracy: 0.9276 - val_loss: 0.0824 - val_accuracy: 0.9737\n",
            "Epoch 41/150\n",
            "10/10 [==============================] - 2s 174ms/step - loss: 0.3008 - accuracy: 0.8618 - val_loss: 0.1638 - val_accuracy: 0.9474\n",
            "Epoch 42/150\n",
            "10/10 [==============================] - 2s 172ms/step - loss: 0.2469 - accuracy: 0.9013 - val_loss: 0.1181 - val_accuracy: 0.9737\n",
            "Epoch 43/150\n",
            "10/10 [==============================] - 2s 194ms/step - loss: 0.3313 - accuracy: 0.8750 - val_loss: 0.1242 - val_accuracy: 0.9474\n",
            "Epoch 44/150\n",
            "10/10 [==============================] - 2s 177ms/step - loss: 0.3277 - accuracy: 0.8816 - val_loss: 0.1507 - val_accuracy: 0.9211\n",
            "Epoch 45/150\n",
            "10/10 [==============================] - 2s 173ms/step - loss: 0.2907 - accuracy: 0.8750 - val_loss: 0.1042 - val_accuracy: 1.0000\n",
            "Epoch 46/150\n",
            "10/10 [==============================] - 2s 175ms/step - loss: 0.2247 - accuracy: 0.9211 - val_loss: 0.0793 - val_accuracy: 1.0000\n",
            "Epoch 47/150\n",
            "10/10 [==============================] - 2s 172ms/step - loss: 0.2108 - accuracy: 0.9145 - val_loss: 0.1122 - val_accuracy: 0.9737\n",
            "Epoch 48/150\n",
            "10/10 [==============================] - 2s 174ms/step - loss: 0.2531 - accuracy: 0.9211 - val_loss: 0.1245 - val_accuracy: 0.9737\n",
            "Epoch 49/150\n",
            "10/10 [==============================] - 2s 175ms/step - loss: 0.2409 - accuracy: 0.9013 - val_loss: 0.1039 - val_accuracy: 0.9737\n",
            "Epoch 50/150\n",
            "10/10 [==============================] - 2s 174ms/step - loss: 0.2418 - accuracy: 0.9013 - val_loss: 0.0666 - val_accuracy: 0.9737\n",
            "Epoch 51/150\n",
            "10/10 [==============================] - 2s 176ms/step - loss: 0.2319 - accuracy: 0.9079 - val_loss: 0.0840 - val_accuracy: 0.9737\n",
            "Epoch 52/150\n",
            "10/10 [==============================] - 2s 174ms/step - loss: 0.1840 - accuracy: 0.9474 - val_loss: 0.0721 - val_accuracy: 1.0000\n",
            "Epoch 53/150\n",
            "10/10 [==============================] - 2s 213ms/step - loss: 0.2978 - accuracy: 0.8947 - val_loss: 0.0604 - val_accuracy: 1.0000\n",
            "Epoch 54/150\n",
            "10/10 [==============================] - 2s 176ms/step - loss: 0.2832 - accuracy: 0.9079 - val_loss: 0.1166 - val_accuracy: 1.0000\n",
            "Epoch 55/150\n",
            "10/10 [==============================] - 2s 175ms/step - loss: 0.2963 - accuracy: 0.8684 - val_loss: 0.0934 - val_accuracy: 0.9737\n",
            "Epoch 56/150\n",
            "10/10 [==============================] - 2s 175ms/step - loss: 0.1693 - accuracy: 0.9342 - val_loss: 0.1036 - val_accuracy: 1.0000\n",
            "Epoch 57/150\n",
            "10/10 [==============================] - 2s 176ms/step - loss: 0.2311 - accuracy: 0.9013 - val_loss: 0.0693 - val_accuracy: 1.0000\n",
            "Epoch 58/150\n",
            "10/10 [==============================] - 2s 193ms/step - loss: 0.3027 - accuracy: 0.9145 - val_loss: 0.0761 - val_accuracy: 0.9737\n",
            "Epoch 59/150\n",
            "10/10 [==============================] - 2s 176ms/step - loss: 0.2896 - accuracy: 0.8947 - val_loss: 0.0818 - val_accuracy: 1.0000\n",
            "Epoch 60/150\n",
            "10/10 [==============================] - 2s 176ms/step - loss: 0.2453 - accuracy: 0.8816 - val_loss: 0.0710 - val_accuracy: 1.0000\n",
            "Epoch 61/150\n",
            "10/10 [==============================] - 2s 177ms/step - loss: 0.2078 - accuracy: 0.9211 - val_loss: 0.1314 - val_accuracy: 0.9737\n",
            "Epoch 62/150\n",
            "10/10 [==============================] - 2s 175ms/step - loss: 0.2194 - accuracy: 0.9145 - val_loss: 0.0640 - val_accuracy: 1.0000\n",
            "Epoch 63/150\n",
            "10/10 [==============================] - 2s 172ms/step - loss: 0.1956 - accuracy: 0.9276 - val_loss: 0.0616 - val_accuracy: 1.0000\n",
            "Epoch 64/150\n",
            "10/10 [==============================] - 2s 174ms/step - loss: 0.2123 - accuracy: 0.9342 - val_loss: 0.1040 - val_accuracy: 0.9737\n",
            "Epoch 65/150\n",
            "10/10 [==============================] - 2s 212ms/step - loss: 0.2171 - accuracy: 0.9145 - val_loss: 0.0531 - val_accuracy: 1.0000\n",
            "Epoch 66/150\n",
            "10/10 [==============================] - 2s 176ms/step - loss: 0.2286 - accuracy: 0.9145 - val_loss: 0.0756 - val_accuracy: 0.9737\n",
            "Epoch 67/150\n",
            "10/10 [==============================] - 2s 176ms/step - loss: 0.1652 - accuracy: 0.9474 - val_loss: 0.1201 - val_accuracy: 0.9474\n",
            "Epoch 68/150\n",
            "10/10 [==============================] - 2s 178ms/step - loss: 0.2740 - accuracy: 0.9211 - val_loss: 0.0740 - val_accuracy: 0.9737\n",
            "Epoch 69/150\n",
            "10/10 [==============================] - 2s 177ms/step - loss: 0.1597 - accuracy: 0.9539 - val_loss: 0.0638 - val_accuracy: 0.9737\n",
            "Epoch 70/150\n",
            "10/10 [==============================] - 2s 196ms/step - loss: 0.1257 - accuracy: 0.9211 - val_loss: 0.0643 - val_accuracy: 0.9737\n",
            "Epoch 71/150\n",
            "10/10 [==============================] - 2s 175ms/step - loss: 0.2118 - accuracy: 0.9211 - val_loss: 0.1212 - val_accuracy: 0.9737\n",
            "Epoch 72/150\n",
            "10/10 [==============================] - 2s 173ms/step - loss: 0.2851 - accuracy: 0.9145 - val_loss: 0.1102 - val_accuracy: 0.9737\n",
            "Epoch 73/150\n",
            "10/10 [==============================] - 2s 175ms/step - loss: 0.2574 - accuracy: 0.9013 - val_loss: 0.1869 - val_accuracy: 0.9474\n",
            "Epoch 74/150\n",
            "10/10 [==============================] - 2s 175ms/step - loss: 0.2233 - accuracy: 0.8816 - val_loss: 0.0620 - val_accuracy: 0.9737\n",
            "Epoch 75/150\n",
            "10/10 [==============================] - 2s 176ms/step - loss: 0.1829 - accuracy: 0.9474 - val_loss: 0.1472 - val_accuracy: 0.9737\n",
            "Epoch 76/150\n",
            "10/10 [==============================] - 2s 213ms/step - loss: 0.1761 - accuracy: 0.9013 - val_loss: 0.0416 - val_accuracy: 1.0000\n",
            "Epoch 77/150\n",
            "10/10 [==============================] - 2s 180ms/step - loss: 0.2094 - accuracy: 0.9276 - val_loss: 0.0575 - val_accuracy: 1.0000\n",
            "Epoch 78/150\n",
            "10/10 [==============================] - 2s 173ms/step - loss: 0.1997 - accuracy: 0.9013 - val_loss: 0.1159 - val_accuracy: 0.9737\n",
            "Epoch 79/150\n",
            "10/10 [==============================] - 2s 176ms/step - loss: 0.1754 - accuracy: 0.9474 - val_loss: 0.0539 - val_accuracy: 1.0000\n",
            "Epoch 80/150\n",
            "10/10 [==============================] - 2s 176ms/step - loss: 0.1746 - accuracy: 0.9276 - val_loss: 0.0464 - val_accuracy: 1.0000\n",
            "Epoch 81/150\n",
            "10/10 [==============================] - 2s 194ms/step - loss: 0.1514 - accuracy: 0.9408 - val_loss: 0.0789 - val_accuracy: 1.0000\n",
            "Epoch 82/150\n",
            "10/10 [==============================] - 2s 174ms/step - loss: 0.1106 - accuracy: 0.9539 - val_loss: 0.0937 - val_accuracy: 0.9737\n",
            "Epoch 83/150\n",
            "10/10 [==============================] - 2s 172ms/step - loss: 0.1446 - accuracy: 0.9408 - val_loss: 0.0679 - val_accuracy: 0.9737\n",
            "Epoch 84/150\n",
            "10/10 [==============================] - 2s 175ms/step - loss: 0.2406 - accuracy: 0.9079 - val_loss: 0.0719 - val_accuracy: 1.0000\n",
            "Epoch 85/150\n",
            "10/10 [==============================] - 2s 177ms/step - loss: 0.1564 - accuracy: 0.9211 - val_loss: 0.0781 - val_accuracy: 1.0000\n",
            "Epoch 86/150\n",
            "10/10 [==============================] - 2s 218ms/step - loss: 0.1798 - accuracy: 0.9539 - val_loss: 0.0318 - val_accuracy: 1.0000\n",
            "Epoch 87/150\n",
            "10/10 [==============================] - 2s 175ms/step - loss: 0.1760 - accuracy: 0.9145 - val_loss: 0.0641 - val_accuracy: 1.0000\n",
            "Epoch 88/150\n",
            "10/10 [==============================] - 2s 215ms/step - loss: 0.1224 - accuracy: 0.9342 - val_loss: 0.0278 - val_accuracy: 1.0000\n",
            "Epoch 89/150\n",
            "10/10 [==============================] - 2s 177ms/step - loss: 0.1542 - accuracy: 0.9474 - val_loss: 0.1286 - val_accuracy: 0.9474\n",
            "Epoch 90/150\n",
            "10/10 [==============================] - 2s 176ms/step - loss: 0.1641 - accuracy: 0.9474 - val_loss: 0.0382 - val_accuracy: 0.9737\n",
            "Epoch 91/150\n",
            "10/10 [==============================] - 3s 236ms/step - loss: 0.2083 - accuracy: 0.9408 - val_loss: 0.0110 - val_accuracy: 1.0000\n",
            "Epoch 92/150\n",
            "10/10 [==============================] - 2s 177ms/step - loss: 0.2570 - accuracy: 0.9145 - val_loss: 0.0621 - val_accuracy: 1.0000\n",
            "Epoch 93/150\n",
            "10/10 [==============================] - 2s 173ms/step - loss: 0.1831 - accuracy: 0.9276 - val_loss: 0.0685 - val_accuracy: 1.0000\n",
            "Epoch 94/150\n",
            "10/10 [==============================] - 2s 187ms/step - loss: 0.1714 - accuracy: 0.9342 - val_loss: 0.0330 - val_accuracy: 1.0000\n",
            "Epoch 95/150\n",
            "10/10 [==============================] - 2s 175ms/step - loss: 0.1721 - accuracy: 0.9342 - val_loss: 0.0451 - val_accuracy: 1.0000\n",
            "Epoch 96/150\n",
            "10/10 [==============================] - 2s 175ms/step - loss: 0.1662 - accuracy: 0.9276 - val_loss: 0.0345 - val_accuracy: 1.0000\n",
            "Epoch 97/150\n",
            "10/10 [==============================] - 2s 176ms/step - loss: 0.1976 - accuracy: 0.9211 - val_loss: 0.0438 - val_accuracy: 1.0000\n",
            "Epoch 98/150\n",
            "10/10 [==============================] - 2s 176ms/step - loss: 0.2371 - accuracy: 0.9211 - val_loss: 0.1821 - val_accuracy: 0.9211\n",
            "Epoch 99/150\n",
            "10/10 [==============================] - 2s 176ms/step - loss: 0.1493 - accuracy: 0.9474 - val_loss: 0.1214 - val_accuracy: 0.9474\n",
            "Epoch 100/150\n",
            "10/10 [==============================] - 2s 177ms/step - loss: 0.2063 - accuracy: 0.9079 - val_loss: 0.0988 - val_accuracy: 1.0000\n",
            "Epoch 101/150\n",
            "10/10 [==============================] - 2s 177ms/step - loss: 0.1398 - accuracy: 0.9539 - val_loss: 0.0326 - val_accuracy: 1.0000\n",
            "Epoch 102/150\n",
            "10/10 [==============================] - 2s 173ms/step - loss: 0.1313 - accuracy: 0.9342 - val_loss: 0.0880 - val_accuracy: 0.9737\n",
            "Epoch 103/150\n",
            "10/10 [==============================] - 2s 172ms/step - loss: 0.1330 - accuracy: 0.9474 - val_loss: 0.0328 - val_accuracy: 1.0000\n",
            "Epoch 104/150\n",
            "10/10 [==============================] - 2s 172ms/step - loss: 0.1378 - accuracy: 0.9342 - val_loss: 0.0913 - val_accuracy: 0.9737\n",
            "Epoch 105/150\n",
            "10/10 [==============================] - 2s 173ms/step - loss: 0.1790 - accuracy: 0.9474 - val_loss: 0.0575 - val_accuracy: 0.9737\n",
            "Epoch 106/150\n",
            "10/10 [==============================] - 2s 175ms/step - loss: 0.2357 - accuracy: 0.9276 - val_loss: 0.1458 - val_accuracy: 0.9737\n",
            "Epoch 107/150\n",
            "10/10 [==============================] - 2s 173ms/step - loss: 0.1940 - accuracy: 0.9276 - val_loss: 0.0281 - val_accuracy: 1.0000\n",
            "Epoch 108/150\n",
            "10/10 [==============================] - 2s 174ms/step - loss: 0.2416 - accuracy: 0.9145 - val_loss: 0.1106 - val_accuracy: 0.9737\n",
            "Epoch 109/150\n",
            "10/10 [==============================] - 2s 174ms/step - loss: 0.1498 - accuracy: 0.9539 - val_loss: 0.0150 - val_accuracy: 1.0000\n",
            "Epoch 110/150\n",
            "10/10 [==============================] - 2s 175ms/step - loss: 0.1640 - accuracy: 0.9474 - val_loss: 0.0284 - val_accuracy: 1.0000\n",
            "Epoch 111/150\n",
            "10/10 [==============================] - 2s 173ms/step - loss: 0.1465 - accuracy: 0.9539 - val_loss: 0.0733 - val_accuracy: 1.0000\n",
            "Epoch 112/150\n",
            "10/10 [==============================] - 2s 176ms/step - loss: 0.1317 - accuracy: 0.9671 - val_loss: 0.0857 - val_accuracy: 0.9737\n",
            "Epoch 113/150\n",
            "10/10 [==============================] - 2s 174ms/step - loss: 0.1975 - accuracy: 0.9276 - val_loss: 0.0454 - val_accuracy: 1.0000\n",
            "Epoch 114/150\n",
            "10/10 [==============================] - 2s 171ms/step - loss: 0.1584 - accuracy: 0.9408 - val_loss: 0.0527 - val_accuracy: 1.0000\n",
            "Epoch 115/150\n",
            "10/10 [==============================] - 2s 174ms/step - loss: 0.1231 - accuracy: 0.9474 - val_loss: 0.0493 - val_accuracy: 0.9737\n",
            "Epoch 116/150\n",
            "10/10 [==============================] - 2s 173ms/step - loss: 0.2087 - accuracy: 0.9145 - val_loss: 0.0417 - val_accuracy: 1.0000\n",
            "Epoch 117/150\n",
            "10/10 [==============================] - 2s 172ms/step - loss: 0.1397 - accuracy: 0.9474 - val_loss: 0.2339 - val_accuracy: 0.8947\n",
            "Epoch 118/150\n",
            "10/10 [==============================] - 2s 174ms/step - loss: 0.2379 - accuracy: 0.9145 - val_loss: 0.0280 - val_accuracy: 1.0000\n",
            "Epoch 119/150\n",
            "10/10 [==============================] - 2s 177ms/step - loss: 0.1273 - accuracy: 0.9605 - val_loss: 0.1022 - val_accuracy: 0.9737\n",
            "Epoch 120/150\n",
            "10/10 [==============================] - 2s 176ms/step - loss: 0.1990 - accuracy: 0.9342 - val_loss: 0.0814 - val_accuracy: 0.9737\n",
            "Epoch 121/150\n",
            "10/10 [==============================] - 2s 174ms/step - loss: 0.1061 - accuracy: 0.9474 - val_loss: 0.0362 - val_accuracy: 1.0000\n",
            "Epoch 122/150\n",
            "10/10 [==============================] - 2s 173ms/step - loss: 0.1157 - accuracy: 0.9737 - val_loss: 0.0451 - val_accuracy: 1.0000\n",
            "Epoch 123/150\n",
            "10/10 [==============================] - 2s 173ms/step - loss: 0.1357 - accuracy: 0.9474 - val_loss: 0.0499 - val_accuracy: 1.0000\n",
            "Epoch 124/150\n",
            "10/10 [==============================] - 2s 176ms/step - loss: 0.0864 - accuracy: 0.9671 - val_loss: 0.0218 - val_accuracy: 1.0000\n",
            "Epoch 125/150\n",
            "10/10 [==============================] - 2s 175ms/step - loss: 0.2051 - accuracy: 0.9276 - val_loss: 0.1343 - val_accuracy: 0.9474\n",
            "Epoch 126/150\n",
            "10/10 [==============================] - 2s 175ms/step - loss: 0.1730 - accuracy: 0.9408 - val_loss: 0.0393 - val_accuracy: 1.0000\n",
            "Epoch 127/150\n",
            "10/10 [==============================] - 2s 175ms/step - loss: 0.1408 - accuracy: 0.9605 - val_loss: 0.1297 - val_accuracy: 0.9737\n",
            "Epoch 128/150\n",
            "10/10 [==============================] - 2s 174ms/step - loss: 0.1708 - accuracy: 0.9408 - val_loss: 0.0165 - val_accuracy: 1.0000\n",
            "Epoch 129/150\n",
            "10/10 [==============================] - 2s 174ms/step - loss: 0.1081 - accuracy: 0.9605 - val_loss: 0.1528 - val_accuracy: 0.9737\n",
            "Epoch 130/150\n",
            "10/10 [==============================] - 2s 177ms/step - loss: 0.0902 - accuracy: 0.9605 - val_loss: 0.0340 - val_accuracy: 0.9737\n",
            "Epoch 131/150\n",
            "10/10 [==============================] - 2s 172ms/step - loss: 0.0449 - accuracy: 0.9868 - val_loss: 0.0530 - val_accuracy: 0.9737\n",
            "Epoch 132/150\n",
            "10/10 [==============================] - 2s 175ms/step - loss: 0.0861 - accuracy: 0.9605 - val_loss: 0.0291 - val_accuracy: 1.0000\n",
            "Epoch 133/150\n",
            "10/10 [==============================] - 2s 179ms/step - loss: 0.1375 - accuracy: 0.9605 - val_loss: 0.0222 - val_accuracy: 1.0000\n",
            "Epoch 134/150\n",
            "10/10 [==============================] - 2s 174ms/step - loss: 0.2072 - accuracy: 0.9145 - val_loss: 0.1195 - val_accuracy: 0.9737\n",
            "Epoch 135/150\n",
            "10/10 [==============================] - 2s 176ms/step - loss: 0.1368 - accuracy: 0.9276 - val_loss: 0.0487 - val_accuracy: 0.9737\n",
            "Epoch 136/150\n",
            "10/10 [==============================] - 2s 174ms/step - loss: 0.1316 - accuracy: 0.9408 - val_loss: 0.0674 - val_accuracy: 0.9737\n",
            "Epoch 137/150\n",
            "10/10 [==============================] - 2s 174ms/step - loss: 0.1771 - accuracy: 0.9605 - val_loss: 0.0831 - val_accuracy: 0.9737\n",
            "Epoch 138/150\n",
            "10/10 [==============================] - 2s 174ms/step - loss: 0.0676 - accuracy: 0.9737 - val_loss: 0.0376 - val_accuracy: 0.9737\n",
            "Epoch 139/150\n",
            "10/10 [==============================] - 2s 175ms/step - loss: 0.1701 - accuracy: 0.9408 - val_loss: 0.1586 - val_accuracy: 0.9474\n",
            "Epoch 140/150\n",
            "10/10 [==============================] - 2s 176ms/step - loss: 0.1296 - accuracy: 0.9474 - val_loss: 0.0379 - val_accuracy: 1.0000\n",
            "Epoch 141/150\n",
            "10/10 [==============================] - 2s 176ms/step - loss: 0.1438 - accuracy: 0.9408 - val_loss: 0.1286 - val_accuracy: 0.9737\n",
            "Epoch 142/150\n",
            "10/10 [==============================] - 2s 176ms/step - loss: 0.1932 - accuracy: 0.9145 - val_loss: 0.1631 - val_accuracy: 0.9737\n",
            "Epoch 143/150\n",
            "10/10 [==============================] - 2s 175ms/step - loss: 0.1500 - accuracy: 0.9605 - val_loss: 0.0209 - val_accuracy: 1.0000\n",
            "Epoch 144/150\n",
            "10/10 [==============================] - 2s 175ms/step - loss: 0.1454 - accuracy: 0.9474 - val_loss: 0.1048 - val_accuracy: 0.9737\n",
            "Epoch 145/150\n",
            "10/10 [==============================] - 2s 176ms/step - loss: 0.1794 - accuracy: 0.9408 - val_loss: 0.0426 - val_accuracy: 1.0000\n",
            "Epoch 146/150\n",
            "10/10 [==============================] - 2s 174ms/step - loss: 0.1638 - accuracy: 0.9539 - val_loss: 0.0662 - val_accuracy: 0.9737\n",
            "Epoch 147/150\n",
            "10/10 [==============================] - 2s 175ms/step - loss: 0.1128 - accuracy: 0.9539 - val_loss: 0.0417 - val_accuracy: 0.9737\n",
            "Epoch 148/150\n",
            "10/10 [==============================] - 2s 173ms/step - loss: 0.1074 - accuracy: 0.9605 - val_loss: 0.0632 - val_accuracy: 0.9737\n",
            "Epoch 149/150\n",
            "10/10 [==============================] - 2s 178ms/step - loss: 0.1810 - accuracy: 0.9408 - val_loss: 0.0338 - val_accuracy: 1.0000\n",
            "Epoch 150/150\n",
            "10/10 [==============================] - 2s 174ms/step - loss: 0.1189 - accuracy: 0.9605 - val_loss: 0.0364 - val_accuracy: 1.0000\n"
          ]
        }
      ]
    },
    {
      "cell_type": "code",
      "source": [
        "import matplotlib.pyplot as plt"
      ],
      "metadata": {
        "id": "PD-6tlPHlQTd"
      },
      "execution_count": 23,
      "outputs": []
    },
    {
      "cell_type": "code",
      "source": [
        "acc = history.history['accuracy']\n",
        "val_acc = history.history['val_accuracy']\n",
        "\n",
        "loss = history.history['loss']\n",
        "val_loss = history.history['val_loss']\n",
        "\n",
        "epochs_range = range(num_epochs)\n",
        " \n",
        "plt.figure(figsize=(8, 8))\n",
        "plt.subplot(1, 2, 1)\n",
        "plt.plot(epochs_range, acc, label='Training Accuracy')\n",
        "plt.plot(epochs_range, val_acc, label='Validation Accuracy')\n",
        "plt.legend(loc='lower right')\n",
        "plt.title('Training and Validation Accuracy')\n",
        "\n",
        "plt.subplot(1, 2, 2)\n",
        "plt.plot(epochs_range, loss, label='Training Loss')\n",
        "plt.plot(epochs_range, val_loss, label='Validation Loss')\n",
        "plt.legend(loc='upper right')\n",
        "plt.title('Training and Validation Loss')\n",
        "plt.show()"
      ],
      "metadata": {
        "colab": {
          "base_uri": "https://localhost:8080/",
          "height": 499
        },
        "id": "Mh1tLCrje86r",
        "outputId": "f84ca8d3-e08a-4ac0-d9f4-a93864e265fb"
      },
      "execution_count": 24,
      "outputs": [
        {
          "output_type": "display_data",
          "data": {
            "image/png": "[encoded data removed]",
            "text/plain": [
              "<Figure size 576x576 with 2 Axes>"
            ]
          },
          "metadata": {
            "needs_background": "light"
          }
        }
      ]
    },
    {
      "cell_type": "code",
      "source": [
        "import os\n",
        "from os import listdir\n",
        "from os.path import isfile, join\n",
        "import shutil\n",
        "import random"
      ],
      "metadata": {
        "id": "hbvnt_31waJM"
      },
      "execution_count": 26,
      "outputs": []
    },
    {
      "cell_type": "markdown",
      "source": [
        "<h1>Load best model and do prediction</h1>"
      ],
      "metadata": {
        "id": "WqXdaSu8elXx"
      }
    },
    {
      "cell_type": "code",
      "source": [
        "checkpoint_filepath = '/content/drive/MyDrive/ImageClassificationData/checkpoint/checkpoint'\n",
        "inference_model = create_vit_classifier()\n",
        "inference_model.load_weights(checkpoint_filepath)\n"
      ],
      "metadata": {
        "id": "2mAg7ukJ3Yf0",
        "outputId": "ae3a76c0-bfe3-4185-903f-43c234c20c78",
        "colab": {
          "base_uri": "https://localhost:8080/"
        }
      },
      "execution_count": null,
      "outputs": [
        {
          "output_type": "execute_result",
          "data": {
            "text/plain": [
              "<tensorflow.python.training.tracking.util.CheckpointLoadStatus at 0x7f4f2dc56750>"
            ]
          },
          "metadata": {},
          "execution_count": 241
        }
      ]
    },
    {
      "cell_type": "code",
      "source": [
        "data_path =  '/content/drive/My Drive/ImageClassificationData/'\n",
        "train_data_path = os.path.join(data_path,'TestEdge')\n",
        "image_names = [f for f in listdir(train_data_path) if isfile(join(train_data_path, f))]\n",
        "#image_names"
      ],
      "metadata": {
        "id": "MhjVKHSV1VPT"
      },
      "execution_count": 27,
      "outputs": []
    },
    {
      "cell_type": "code",
      "source": [
        "labels=[]\n",
        "for name in image_names:\n",
        "  if 'AP' in name:\n",
        "    labels.append(0)\n",
        "  else:\n",
        "    labels.append(1)\n",
        "labels = np.asarray(labels)"
      ],
      "metadata": {
        "id": "MGyfUqqqErfV"
      },
      "execution_count": 41,
      "outputs": []
    },
    {
      "cell_type": "code",
      "source": [
        "tp = 0\n",
        "fp = 0\n",
        "for name in  image_names:\n",
        "  test_image = os.path.join(data_path,'TestEdge',name)\n",
        "  #print(test_image)\n",
        "  #test_image = select_image(image_names,data_path,name)\n",
        "  img = tf.keras.utils.load_img(\n",
        "      test_image,\n",
        "      #color_mode = \"grayscale\", \n",
        "      target_size=(img_height, img_width),\n",
        "      )\n",
        "  img_array = tf.keras.utils.img_to_array(img)\n",
        "  img_array = tf.expand_dims(img_array, 0) # Create a batch\n",
        "\n",
        "  predictions = vit_classifier.predict(img_array)\n",
        "  # acc,loss = vit_classifier.evaluate(img_array,labels[i])\n",
        "  \n",
        "  if 'AP' in test_image:\n",
        "    class_name = 'AP'\n",
        "  else:\n",
        "    class_name = 'Lateral'\n",
        "  #print('\\n','True image class:',class_name)\n",
        "\n",
        "  #print(test_image)\n",
        "  #print(predictions)\n",
        "  if predictions>0.5:\n",
        "    print('\\n',name,'    True image class:',class_name,'             predicted class is Lateral   ', predictions)\n",
        "  else:\n",
        "    print('\\n',name,'   True image class:',class_name,'              predicted class is AP      ',predictions)  \n",
        "\n",
        "  total_num_test_images = len(image_names)\n",
        "\n",
        "  if (class_name == 'Lateral' and predictions >.5)  or (class_name == 'AP' and predictions <0.5):\n",
        "    tp = tp + 1 \n",
        "  else:\n",
        "    fp = fp + 1\n",
        "\n",
        "print(tp)\n",
        "print(fp)"
      ],
      "metadata": {
        "id": "hwCnD66239pH",
        "outputId": "c042095c-35b9-4932-d7e2-e4214d8209db",
        "colab": {
          "base_uri": "https://localhost:8080/"
        }
      },
      "execution_count": 54,
      "outputs": [
        {
          "output_type": "stream",
          "name": "stdout",
          "text": [
            "\n",
            " 211_AP.png    True image class: AP               predicted class is AP       [[0.07064638]]\n",
            "\n",
            " 198_Lateral.png     True image class: Lateral              predicted class is Lateral    [[0.9933591]]\n",
            "\n",
            " 196_Lateral.png     True image class: Lateral              predicted class is Lateral    [[0.9999969]]\n",
            "\n",
            " 195_Lateral.png    True image class: Lateral               predicted class is AP       [[0.21240455]]\n",
            "\n",
            " 210_AP.png    True image class: AP               predicted class is AP       [[0.05007729]]\n",
            "\n",
            " 209_AP.png    True image class: AP               predicted class is AP       [[0.13494718]]\n",
            "\n",
            " 201_Lateral.png     True image class: Lateral              predicted class is Lateral    [[0.97543204]]\n",
            "\n",
            " 194_Lateral.png     True image class: Lateral              predicted class is Lateral    [[0.99980986]]\n",
            "\n",
            " 199_Lateral.png    True image class: Lateral               predicted class is AP       [[0.3604939]]\n",
            "\n",
            " 217_AP.png     True image class: AP              predicted class is Lateral    [[0.9989543]]\n",
            "\n",
            " 214_AP.png    True image class: AP               predicted class is AP       [[0.01634067]]\n",
            "\n",
            " 200_Lateral.png     True image class: Lateral              predicted class is Lateral    [[0.9779352]]\n",
            "\n",
            " 197_Lateral.png    True image class: Lateral               predicted class is AP       [[0.01724362]]\n",
            "\n",
            " 206_AP.png    True image class: AP               predicted class is AP       [[0.02733406]]\n",
            "\n",
            " 191_Lateral.png     True image class: Lateral              predicted class is Lateral    [[1.]]\n",
            "\n",
            " 208_AP.png    True image class: AP               predicted class is AP       [[0.0051626]]\n",
            "\n",
            " 203_Lateral.png     True image class: Lateral              predicted class is Lateral    [[0.99994075]]\n",
            "\n",
            " 205_AP.png    True image class: AP               predicted class is AP       [[0.12340048]]\n",
            "\n",
            " 216_AP.png    True image class: AP               predicted class is AP       [[0.02088544]]\n",
            "\n",
            " 215_AP.png    True image class: AP               predicted class is AP       [[0.01826984]]\n",
            "\n",
            " 193_Lateral.png     True image class: Lateral              predicted class is Lateral    [[0.7231227]]\n",
            "\n",
            " 212_AP.png    True image class: AP               predicted class is AP       [[0.08869997]]\n",
            "\n",
            " 207_AP.png    True image class: AP               predicted class is AP       [[0.12314206]]\n",
            "\n",
            " 202_Lateral.png    True image class: Lateral               predicted class is AP       [[0.27225655]]\n",
            "\n",
            " 192_Lateral.png     True image class: Lateral              predicted class is Lateral    [[1.]]\n",
            "\n",
            " 213_AP.png    True image class: AP               predicted class is AP       [[0.05679715]]\n",
            "\n",
            " 204_AP.png    True image class: AP               predicted class is AP       [[0.02375746]]\n",
            "22\n",
            "5\n"
          ]
        }
      ]
    }
  ],
  "metadata": {
    "colab": {
      "collapsed_sections": [],
      "name": "ViT-Edge",
      "provenance": [],
      "include_colab_link": true
    },
    "environment": {
      "name": "tf2-gpu.2-4.m61",
      "type": "gcloud",
      "uri": "gcr.io/deeplearning-platform-release/tf2-gpu.2-4:m61"
    },
    "kernelspec": {
      "display_name": "Python 3",
      "language": "python",
      "name": "python3"
    },
    "language_info": {
      "codemirror_mode": {
        "name": "ipython",
        "version": 3
      },
      "file_extension": ".py",
      "mimetype": "text/x-python",
      "name": "python",
      "nbconvert_exporter": "python",
      "pygments_lexer": "ipython3",
      "version": "3.7.9"
    }
  },
  "nbformat": 4,
  "nbformat_minor": 0
}