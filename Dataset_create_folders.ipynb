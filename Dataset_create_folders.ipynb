{
  "nbformat": 4,
  "nbformat_minor": 0,
  "metadata": {
    "colab": {
      "name": "CreateDatasetFolders.ipynb",
      "provenance": [],
      "authorship_tag": "ABX9TyMZ7TQ5Y+rFQoRSWnGVjlxA",
      "include_colab_link": true
    },
    "kernelspec": {
      "name": "python3",
      "display_name": "Python 3"
    },
    "language_info": {
      "name": "python"
    }
  },
  "cells": [
    {
      "cell_type": "markdown",
      "metadata": {
        "id": "view-in-github",
        "colab_type": "text"
      },
      "source": [
        "<a href=\"https://colab.research.google.com/github/Nadian-Ali/ImageClassification/blob/main/Dataset_create_folders.ipynb\" target=\"_parent\"><img src=\"https://colab.research.google.com/assets/colab-badge.svg\" alt=\"Open In Colab\"/></a>"
      ]
    },
    {
      "cell_type": "markdown",
      "source": [
        "<h1>Create you dataset</h1>"
      ],
      "metadata": {
        "id": "1yNmG6UODrZb"
      }
    },
    {
      "cell_type": "code",
      "execution_count": null,
      "metadata": {
        "colab": {
          "base_uri": "https://localhost:8080/"
        },
        "id": "IcOeLqJbDqYz",
        "outputId": "087185d3-56a5-49ec-f2f5-f64f9e3c54fc"
      },
      "outputs": [
        {
          "output_type": "stream",
          "name": "stdout",
          "text": [
            "Mounted at /content/drive\n"
          ]
        }
      ],
      "source": [
        "#Import drive\n",
        "from google.colab import drive\n",
        "#Mount Google Drive\n",
        "drive.mount(\"/content/drive\", force_remount =True)"
      ]
    },
    {
      "cell_type": "code",
      "source": [
        "#cd into training images. \n",
        "%cd /content/drive/My Drive/ImageClassificationData/Train"
      ],
      "metadata": {
        "colab": {
          "base_uri": "https://localhost:8080/"
        },
        "id": "sc7RUHqzD-Vh",
        "outputId": "87f90b7a-3254-4999-896e-be91cbf509de"
      },
      "execution_count": null,
      "outputs": [
        {
          "output_type": "stream",
          "name": "stdout",
          "text": [
            "/content/drive/My Drive/ImageClassificationData/Train\n"
          ]
        }
      ]
    },
    {
      "cell_type": "code",
      "source": [
        "%ls"
      ],
      "metadata": {
        "id": "M_tuqH5hEWHQ"
      },
      "execution_count": null,
      "outputs": []
    },
    {
      "cell_type": "markdown",
      "source": [
        "<h1>Imports</h1>"
      ],
      "metadata": {
        "id": "Wk7z5tGuEgJX"
      }
    },
    {
      "cell_type": "code",
      "source": [
        "import os\n",
        "from os import listdir\n",
        "from os.path import isfile, join\n",
        "import shutil"
      ],
      "metadata": {
        "id": "khzGWpbJEe9X"
      },
      "execution_count": null,
      "outputs": []
    },
    {
      "cell_type": "markdown",
      "source": [
        "**Get the ist of the files in the training folder**"
      ],
      "metadata": {
        "id": "_siJgsVaE0Kh"
      }
    },
    {
      "cell_type": "code",
      "source": [
        "#base path\n",
        "data_path =  '/content/drive/My Drive/ImageClassificationData/'\n",
        "train_data_path    = os.path.join(data_path,'Train')\n",
        "test_data_path     = os.path.join(data_path,'Test')\n",
        "train_ap_path      = os.path.join(data_path,'Data','AP')\n",
        "train_lateral_path = os.path.join(data_path,'Data','Lateral')"
      ],
      "metadata": {
        "id": "eJQ87kZSE-RP"
      },
      "execution_count": null,
      "outputs": []
    },
    {
      "cell_type": "code",
      "source": [
        "\n",
        "image_names = [f for f in listdir(train_data_path) if isfile(join(train_data_path, f))]\n"
      ],
      "metadata": {
        "id": "hLvEeZqaEbAZ"
      },
      "execution_count": null,
      "outputs": []
    },
    {
      "cell_type": "code",
      "source": [
        "print(len(image_names))"
      ],
      "metadata": {
        "colab": {
          "base_uri": "https://localhost:8080/"
        },
        "id": "Cc4-kJhlKRYp",
        "outputId": "2989d5a4-8ed8-474a-eaa4-4251d7dfc07a"
      },
      "execution_count": null,
      "outputs": [
        {
          "output_type": "stream",
          "name": "stdout",
          "text": [
            "190\n"
          ]
        }
      ]
    },
    {
      "cell_type": "code",
      "source": [
        "ap = 0\n",
        "lateral = 0\n",
        "\n",
        "for name in image_names:\n",
        "  src_path = os.path.join(train_data_path,name)\n",
        "  if \"Lateral\" in name:\n",
        "    lateral = lateral + 1\n",
        "    dst_path = os.path.join(train_lateral_path,name)\n",
        "    shutil.copy(src_path, dst_path)\n",
        "  else:\n",
        "    ap = ap+1\n",
        "    dst_path = os.path.join(train_ap_path,name)\n",
        "    shutil.copy(src_path,dst_path)\n"
      ],
      "metadata": {
        "id": "EhN10KhIFTu3"
      },
      "execution_count": null,
      "outputs": []
    },
    {
      "cell_type": "code",
      "source": [
        "\n",
        "\n",
        "print('ap:',ap)\n",
        "print('lateral',lateral)"
      ],
      "metadata": {
        "colab": {
          "base_uri": "https://localhost:8080/"
        },
        "id": "qjRyR_kmLUiU",
        "outputId": "08d0bc9f-814c-451d-9498-b9edf8145dbf"
      },
      "execution_count": null,
      "outputs": [
        {
          "output_type": "stream",
          "name": "stdout",
          "text": [
            "ap: 107\n",
            "lateral 83\n"
          ]
        }
      ]
    }
  ]
}